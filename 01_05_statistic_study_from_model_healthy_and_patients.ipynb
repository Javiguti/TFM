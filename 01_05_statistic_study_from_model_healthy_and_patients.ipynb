{
 "cells": [
  {
   "cell_type": "code",
   "execution_count": 13,
   "id": "ef99570f",
   "metadata": {
    "scrolled": true
   },
   "outputs": [],
   "source": [
    "from scipy import stats\n",
    "import numpy as np\n",
    "from scipy.stats import mannwhitneyu\n"
   ]
  },
  {
   "cell_type": "markdown",
   "id": "825f3d14",
   "metadata": {},
   "source": [
    "# DATA"
   ]
  },
  {
   "cell_type": "code",
   "execution_count": 2,
   "id": "4dbc2237",
   "metadata": {},
   "outputs": [],
   "source": [
    "import numpy as np\n",
    "\n",
    "# Data for each column\n",
    "patients_1 = [0.619251434, 0.54, 0.665067597, 0.133333333, 0.379857797, \n",
    "          1.017760926, 0.296033156, 0.912635858, 2.633674282, 0.993549344]\n",
    "\n",
    "patients_2 = [0.081959749, 0.586666667, 7.762756215, 0.826666667, 0.087659492, \n",
    "          7.333865496, 0.118413262, 1.908238613, 9.370980584, 2.031585972]\n",
    "\n",
    "patients_3 = [1.502595392, 0.333333333, 8.057130397, 1.233333333, 0.185058927, \n",
    "          7.48353622, 0.485494375, 2.007798888, 9.450603295, 2.67665159]\n"
   ]
  },
  {
   "cell_type": "code",
   "execution_count": 3,
   "id": "7c226ef6",
   "metadata": {},
   "outputs": [],
   "source": [
    "healthies_1 = [2.019018743, 0.390952248, 1.605411132, 0.173658715, 0.167582162,\n",
    "          1.007049345, 1.753859991, 1.627604167, 2.399723375, 0.342442758]\n",
    "\n",
    "healthies_2 = [1.460859978, 0.223401285, 1.735799853, 3.244675989, 0.325854204,\n",
    "          0.161127895, 0.134912307, 1.085069444, 2.55186722, 0.235009736]\n",
    "\n",
    "healthies_3 = [1.660694598, 0.432839989, 2.094368837, 3.793071931, 0.744809608,\n",
    "          0.322255791, 1.379103583, 0.29296875, 2.85615491, 0.597596186]"
   ]
  },
  {
   "cell_type": "markdown",
   "id": "b381e3a2",
   "metadata": {},
   "source": [
    "# ALL TOGETHER"
   ]
  },
  {
   "cell_type": "markdown",
   "id": "1a647170",
   "metadata": {},
   "source": [
    "## CHECK NORMALITIES"
   ]
  },
  {
   "cell_type": "markdown",
   "id": "c4a11cbf",
   "metadata": {},
   "source": [
    "### PATIENTS"
   ]
  },
  {
   "cell_type": "code",
   "execution_count": 4,
   "id": "4471202f",
   "metadata": {},
   "outputs": [
    {
     "name": "stdout",
     "output_type": "stream",
     "text": [
      "Shapiro-Wilk Test:\n",
      "Test Statistic: 0.703513503074646\n",
      "p-value: 1.7558179479237879e-06\n",
      "Sample does not look Gaussian (reject H0)\n",
      "\n",
      "Kolmogorov-Smirnov Test:\n",
      "Test Statistic: 0.5326606393150366\n",
      "p-value: 1.780892786110672e-08\n",
      "Sample does not look Gaussian (reject H0)\n",
      "\n",
      "D'Agostino and Pearson Test:\n",
      "Test Statistic: 9.89482246524114\n",
      "p-value: 0.007101769983017378\n",
      "Sample does not look Gaussian (reject H0)\n"
     ]
    }
   ],
   "source": [
    "# Generate some sample data\n",
    "data = patients_1+patients_2+patients_3\n",
    "\n",
    "# Shapiro-Wilk Test\n",
    "shapiro_stat, shapiro_p = stats.shapiro(data)\n",
    "print(\"Shapiro-Wilk Test:\")\n",
    "print(\"Test Statistic:\", shapiro_stat)\n",
    "print(\"p-value:\", shapiro_p)\n",
    "if shapiro_p > 0.05:\n",
    "    print(\"Sample looks Gaussian (fail to reject H0)\")\n",
    "else:\n",
    "    print(\"Sample does not look Gaussian (reject H0)\")\n",
    "\n",
    "# Kolmogorov-Smirnov Test\n",
    "kstest_stat, kstest_p = stats.kstest(data, 'norm')\n",
    "print(\"\\nKolmogorov-Smirnov Test:\")\n",
    "print(\"Test Statistic:\", kstest_stat)\n",
    "print(\"p-value:\", kstest_p)\n",
    "if kstest_p > 0.05:\n",
    "    print(\"Sample looks Gaussian (fail to reject H0)\")\n",
    "else:\n",
    "    print(\"Sample does not look Gaussian (reject H0)\")\n",
    "\n",
    "# D'Agostino and Pearson Test\n",
    "dagostino_stat, dagostino_p = stats.normaltest(data)\n",
    "print(\"\\nD'Agostino and Pearson Test:\")\n",
    "print(\"Test Statistic:\", dagostino_stat)\n",
    "print(\"p-value:\", dagostino_p)\n",
    "if dagostino_p > 0.05:\n",
    "    print(\"Sample looks Gaussian (fail to reject H0)\")\n",
    "else:\n",
    "    print(\"Sample does not look Gaussian (reject H0)\")\n"
   ]
  },
  {
   "cell_type": "code",
   "execution_count": 5,
   "id": "78a5bf8f",
   "metadata": {},
   "outputs": [
    {
     "name": "stdout",
     "output_type": "stream",
     "text": [
      "Shapiro-Wilk Test:\n",
      "Test Statistic: 0.8911949992179871\n",
      "p-value: 0.005149817559868097\n",
      "Sample does not look Gaussian (reject H0)\n",
      "\n",
      "Kolmogorov-Smirnov Test:\n",
      "Test Statistic: 0.5536593955314734\n",
      "p-value: 3.5580347502742338e-09\n",
      "Sample does not look Gaussian (reject H0)\n",
      "\n",
      "D'Agostino and Pearson Test:\n",
      "Test Statistic: 3.463257936629363\n",
      "p-value: 0.17699585437112134\n",
      "Sample looks Gaussian (fail to reject H0)\n"
     ]
    }
   ],
   "source": [
    "# Generate some sample data\n",
    "data = healthies_1+healthies_2+healthies_3\n",
    "\n",
    "# Shapiro-Wilk Test\n",
    "shapiro_stat, shapiro_p = stats.shapiro(data)\n",
    "print(\"Shapiro-Wilk Test:\")\n",
    "print(\"Test Statistic:\", shapiro_stat)\n",
    "print(\"p-value:\", shapiro_p)\n",
    "if shapiro_p > 0.05:\n",
    "    print(\"Sample looks Gaussian (fail to reject H0)\")\n",
    "else:\n",
    "    print(\"Sample does not look Gaussian (reject H0)\")\n",
    "\n",
    "# Kolmogorov-Smirnov Test\n",
    "kstest_stat, kstest_p = stats.kstest(data, 'norm')\n",
    "print(\"\\nKolmogorov-Smirnov Test:\")\n",
    "print(\"Test Statistic:\", kstest_stat)\n",
    "print(\"p-value:\", kstest_p)\n",
    "if kstest_p > 0.05:\n",
    "    print(\"Sample looks Gaussian (fail to reject H0)\")\n",
    "else:\n",
    "    print(\"Sample does not look Gaussian (reject H0)\")\n",
    "\n",
    "# D'Agostino and Pearson Test\n",
    "dagostino_stat, dagostino_p = stats.normaltest(data)\n",
    "print(\"\\nD'Agostino and Pearson Test:\")\n",
    "print(\"Test Statistic:\", dagostino_stat)\n",
    "print(\"p-value:\", dagostino_p)\n",
    "if dagostino_p > 0.05:\n",
    "    print(\"Sample looks Gaussian (fail to reject H0)\")\n",
    "else:\n",
    "    print(\"Sample does not look Gaussian (reject H0)\")\n"
   ]
  },
  {
   "cell_type": "markdown",
   "id": "402d907b",
   "metadata": {},
   "source": [
    "THEY ARE NOT GAUSSIAN BUT WE HAVE MORE THAN 10 SAMPLES IN EACH CASE SO WE CAN AVOID THIS ASSUMTION"
   ]
  },
  {
   "cell_type": "markdown",
   "id": "b57e5cdb",
   "metadata": {},
   "source": [
    "## VARIANCE CHECK"
   ]
  },
  {
   "cell_type": "code",
   "execution_count": 6,
   "id": "3a8faf80",
   "metadata": {},
   "outputs": [],
   "source": [
    "patients = patients_1+patients_2+patients_3\n",
    "healthy = healthies_1+healthies_2+healthies_3"
   ]
  },
  {
   "cell_type": "code",
   "execution_count": 7,
   "id": "ee719e87",
   "metadata": {},
   "outputs": [
    {
     "name": "stdout",
     "output_type": "stream",
     "text": [
      "Levene's Test:\n",
      "Test Statistic: 4.6987795466192654\n",
      "p-value: 0.03430148771630319\n",
      "The variances are not equal (reject H0)\n"
     ]
    }
   ],
   "source": [
    "# Perform Levene's test\n",
    "levene_stat, levene_p = stats.levene(patients, healthy)\n",
    "\n",
    "print(\"Levene's Test:\")\n",
    "print(\"Test Statistic:\", levene_stat)\n",
    "print(\"p-value:\", levene_p)\n",
    "\n",
    "if levene_p > 0.05:\n",
    "    print(\"The variances are equal (fail to reject H0)\")\n",
    "else:\n",
    "    print(\"The variances are not equal (reject H0)\")\n"
   ]
  },
  {
   "cell_type": "markdown",
   "id": "83d44c5c",
   "metadata": {},
   "source": [
    "SINCE VARIANCES ARE NOT THE SAME, WE HAVE TO USE THE WELTCH'S T-TEST"
   ]
  },
  {
   "cell_type": "markdown",
   "id": "a8a52733",
   "metadata": {},
   "source": [
    "## T-TEST"
   ]
  },
  {
   "cell_type": "code",
   "execution_count": 8,
   "id": "d4d7a284",
   "metadata": {},
   "outputs": [
    {
     "name": "stdout",
     "output_type": "stream",
     "text": [
      "Two-Sample T-Test:\n",
      "Test Statistic: 1.9588050455841428\n",
      "p-value: 0.05805208077110886\n",
      "There is no significant difference between the means (fail to reject H0)\n"
     ]
    }
   ],
   "source": [
    "\n",
    "\n",
    "# Perform two-sample t-test assuming equal variances\n",
    "t_stat, t_p = stats.ttest_ind(patients, healthy, equal_var=False)\n",
    "\n",
    "print(\"Two-Sample T-Test:\")\n",
    "print(\"Test Statistic:\", t_stat)\n",
    "print(\"p-value:\", t_p)\n",
    "\n",
    "if t_p > 0.05:\n",
    "    print(\"There is no significant difference between the means (fail to reject H0)\")\n",
    "else:\n",
    "    print(\"There is a significant difference between the means (reject H0)\")\n"
   ]
  },
  {
   "cell_type": "code",
   "execution_count": null,
   "id": "1db4f0a7",
   "metadata": {},
   "outputs": [],
   "source": []
  },
  {
   "cell_type": "markdown",
   "id": "7c983b6a",
   "metadata": {},
   "source": [
    "# MODEL 1"
   ]
  },
  {
   "cell_type": "markdown",
   "id": "99e6eaf2",
   "metadata": {},
   "source": [
    "## CHECK NORMALITIES"
   ]
  },
  {
   "cell_type": "markdown",
   "id": "22656e8a",
   "metadata": {},
   "source": [
    "### PATIENTS"
   ]
  },
  {
   "cell_type": "code",
   "execution_count": 9,
   "id": "9f8dc2f7",
   "metadata": {},
   "outputs": [
    {
     "name": "stdout",
     "output_type": "stream",
     "text": [
      "Shapiro-Wilk Test:\n",
      "Test Statistic: 0.7700233459472656\n",
      "p-value: 0.006257914938032627\n",
      "Sample does not look Gaussian (reject H0)\n",
      "\n",
      "Kolmogorov-Smirnov Test:\n",
      "Test Statistic: 0.55303511649181\n",
      "p-value: 0.0021063292500086254\n",
      "Sample does not look Gaussian (reject H0)\n",
      "\n",
      "D'Agostino and Pearson Test:\n",
      "Test Statistic: 15.924287766059955\n",
      "p-value: 0.0003484053758381269\n",
      "Sample does not look Gaussian (reject H0)\n"
     ]
    },
    {
     "name": "stderr",
     "output_type": "stream",
     "text": [
      "C:\\Users\\Javi\\anaconda3\\lib\\site-packages\\scipy\\stats\\_stats_py.py:1769: UserWarning: kurtosistest only valid for n>=20 ... continuing anyway, n=10\n",
      "  warnings.warn(\"kurtosistest only valid for n>=20 ... continuing \"\n"
     ]
    }
   ],
   "source": [
    "# Generate some sample data\n",
    "data = patients_1\n",
    "\n",
    "# Shapiro-Wilk Test\n",
    "shapiro_stat, shapiro_p = stats.shapiro(data)\n",
    "print(\"Shapiro-Wilk Test:\")\n",
    "print(\"Test Statistic:\", shapiro_stat)\n",
    "print(\"p-value:\", shapiro_p)\n",
    "if shapiro_p > 0.05:\n",
    "    print(\"Sample looks Gaussian (fail to reject H0)\")\n",
    "else:\n",
    "    print(\"Sample does not look Gaussian (reject H0)\")\n",
    "\n",
    "# Kolmogorov-Smirnov Test\n",
    "kstest_stat, kstest_p = stats.kstest(data, 'norm')\n",
    "print(\"\\nKolmogorov-Smirnov Test:\")\n",
    "print(\"Test Statistic:\", kstest_stat)\n",
    "print(\"p-value:\", kstest_p)\n",
    "if kstest_p > 0.05:\n",
    "    print(\"Sample looks Gaussian (fail to reject H0)\")\n",
    "else:\n",
    "    print(\"Sample does not look Gaussian (reject H0)\")\n",
    "\n",
    "# D'Agostino and Pearson Test\n",
    "dagostino_stat, dagostino_p = stats.normaltest(data)\n",
    "print(\"\\nD'Agostino and Pearson Test:\")\n",
    "print(\"Test Statistic:\", dagostino_stat)\n",
    "print(\"p-value:\", dagostino_p)\n",
    "if dagostino_p > 0.05:\n",
    "    print(\"Sample looks Gaussian (fail to reject H0)\")\n",
    "else:\n",
    "    print(\"Sample does not look Gaussian (reject H0)\")\n"
   ]
  },
  {
   "cell_type": "code",
   "execution_count": 10,
   "id": "a13e0e8c",
   "metadata": {
    "scrolled": true
   },
   "outputs": [
    {
     "name": "stdout",
     "output_type": "stream",
     "text": [
      "Shapiro-Wilk Test:\n",
      "Test Statistic: 0.8908300399780273\n",
      "p-value: 0.1732628345489502\n",
      "Sample looks Gaussian (fail to reject H0)\n",
      "\n",
      "Kolmogorov-Smirnov Test:\n",
      "Test Statistic: 0.5665439973065065\n",
      "p-value: 0.0014679829320498427\n",
      "Sample does not look Gaussian (reject H0)\n",
      "\n",
      "D'Agostino and Pearson Test:\n",
      "Test Statistic: 2.9996954120349737\n",
      "p-value: 0.2231641441168489\n",
      "Sample looks Gaussian (fail to reject H0)\n"
     ]
    }
   ],
   "source": [
    "# Generate some sample data\n",
    "data = healthies_1\n",
    "\n",
    "# Shapiro-Wilk Test\n",
    "shapiro_stat, shapiro_p = stats.shapiro(data)\n",
    "print(\"Shapiro-Wilk Test:\")\n",
    "print(\"Test Statistic:\", shapiro_stat)\n",
    "print(\"p-value:\", shapiro_p)\n",
    "if shapiro_p > 0.05:\n",
    "    print(\"Sample looks Gaussian (fail to reject H0)\")\n",
    "else:\n",
    "    print(\"Sample does not look Gaussian (reject H0)\")\n",
    "\n",
    "# Kolmogorov-Smirnov Test\n",
    "kstest_stat, kstest_p = stats.kstest(data, 'norm')\n",
    "print(\"\\nKolmogorov-Smirnov Test:\")\n",
    "print(\"Test Statistic:\", kstest_stat)\n",
    "print(\"p-value:\", kstest_p)\n",
    "if kstest_p > 0.05:\n",
    "    print(\"Sample looks Gaussian (fail to reject H0)\")\n",
    "else:\n",
    "    print(\"Sample does not look Gaussian (reject H0)\")\n",
    "\n",
    "# D'Agostino and Pearson Test\n",
    "dagostino_stat, dagostino_p = stats.normaltest(data)\n",
    "print(\"\\nD'Agostino and Pearson Test:\")\n",
    "print(\"Test Statistic:\", dagostino_stat)\n",
    "print(\"p-value:\", dagostino_p)\n",
    "if dagostino_p > 0.05:\n",
    "    print(\"Sample looks Gaussian (fail to reject H0)\")\n",
    "else:\n",
    "    print(\"Sample does not look Gaussian (reject H0)\")\n"
   ]
  },
  {
   "cell_type": "markdown",
   "id": "47cfc3d3",
   "metadata": {},
   "source": [
    "### NON PARAMETRIC TEST"
   ]
  },
  {
   "cell_type": "code",
   "execution_count": 11,
   "id": "0ebf13fd",
   "metadata": {},
   "outputs": [],
   "source": [
    "patients = patients_1\n",
    "healthy = healthies_1"
   ]
  },
  {
   "cell_type": "code",
   "execution_count": 14,
   "id": "e8395426",
   "metadata": {},
   "outputs": [
    {
     "name": "stdout",
     "output_type": "stream",
     "text": [
      "Mann-Whitney U statistic: 40.0\n",
      "p-value: 0.47267559351158717\n",
      "Fail to reject the null hypothesis: the samples may come from the same distribution.\n"
     ]
    }
   ],
   "source": [
    "\n",
    "\n",
    "# Perform the Mann-Whitney U test\n",
    "statistic, p_value = mannwhitneyu(patients, healthy)\n",
    "\n",
    "# Print the test statistic and p-value\n",
    "print(\"Mann-Whitney U statistic:\", statistic)\n",
    "print(\"p-value:\", p_value)\n",
    "\n",
    "# Interpret the results\n",
    "alpha = 0.05\n",
    "if p_value < alpha:\n",
    "    print(\"Reject the null hypothesis: the samples do not come from the same distribution.\")\n",
    "else:\n",
    "    print(\"Fail to reject the null hypothesis: the samples may come from the same distribution.\")\n"
   ]
  },
  {
   "cell_type": "markdown",
   "id": "0e8b6355",
   "metadata": {},
   "source": [
    "THEY ARE NOT GAUSSIAN BUT WE HAVE MORE THAN 10 SAMPLES IN EACH CASE SO WE CAN AVOID THIS ASSUMTION"
   ]
  },
  {
   "cell_type": "markdown",
   "id": "51c9a205",
   "metadata": {},
   "source": [
    "## VARIANCE CHECK"
   ]
  },
  {
   "cell_type": "code",
   "execution_count": 15,
   "id": "eabe7f9c",
   "metadata": {},
   "outputs": [],
   "source": [
    "patients = patients_1\n",
    "healthy = healthies_1"
   ]
  },
  {
   "cell_type": "code",
   "execution_count": 16,
   "id": "80b2852a",
   "metadata": {},
   "outputs": [
    {
     "name": "stdout",
     "output_type": "stream",
     "text": [
      "Levene's Test:\n",
      "Test Statistic: 2.0577975896976946\n",
      "p-value: 0.16857523391623\n",
      "The variances are equal (fail to reject H0)\n"
     ]
    }
   ],
   "source": [
    "# Perform Levene's test\n",
    "levene_stat, levene_p = stats.levene(patients, healthy)\n",
    "\n",
    "print(\"Levene's Test:\")\n",
    "print(\"Test Statistic:\", levene_stat)\n",
    "print(\"p-value:\", levene_p)\n",
    "\n",
    "if levene_p > 0.05:\n",
    "    print(\"The variances are equal (fail to reject H0)\")\n",
    "else:\n",
    "    print(\"The variances are not equal (reject H0)\")\n"
   ]
  },
  {
   "cell_type": "markdown",
   "id": "21f38ce5",
   "metadata": {},
   "source": [
    "SINCE VARIANCES ARE THE SAME, WE CAN USE REGULAR T-TEST"
   ]
  },
  {
   "cell_type": "markdown",
   "id": "e2b1103d",
   "metadata": {},
   "source": [
    "## T-TEST"
   ]
  },
  {
   "cell_type": "code",
   "execution_count": 17,
   "id": "a75ed11a",
   "metadata": {},
   "outputs": [
    {
     "name": "stdout",
     "output_type": "stream",
     "text": [
      "Two-Sample T-Test:\n",
      "Test Statistic: -0.954435899375925\n",
      "p-value: 0.35250605596631157\n",
      "There is no significant difference between the means (fail to reject H0)\n"
     ]
    }
   ],
   "source": [
    "\n",
    "\n",
    "# Perform two-sample t-test assuming equal variances\n",
    "t_stat, t_p = stats.ttest_ind(patients, healthy, equal_var=True)\n",
    "\n",
    "print(\"Two-Sample T-Test:\")\n",
    "print(\"Test Statistic:\", t_stat)\n",
    "print(\"p-value:\", t_p)\n",
    "\n",
    "if t_p > 0.05:\n",
    "    print(\"There is no significant difference between the means (fail to reject H0)\")\n",
    "else:\n",
    "    print(\"There is a significant difference between the means (reject H0)\")\n"
   ]
  },
  {
   "cell_type": "code",
   "execution_count": null,
   "id": "564b6e5a",
   "metadata": {},
   "outputs": [],
   "source": []
  },
  {
   "cell_type": "code",
   "execution_count": null,
   "id": "9a95c940",
   "metadata": {},
   "outputs": [],
   "source": []
  },
  {
   "cell_type": "markdown",
   "id": "ba506922",
   "metadata": {},
   "source": [
    "# MODEL 2"
   ]
  },
  {
   "cell_type": "markdown",
   "id": "c15ab3a9",
   "metadata": {},
   "source": [
    "## CHECK NORMALITIES"
   ]
  },
  {
   "cell_type": "markdown",
   "id": "f6019eca",
   "metadata": {},
   "source": [
    "### PATIENTS"
   ]
  },
  {
   "cell_type": "code",
   "execution_count": 18,
   "id": "3cf3e003",
   "metadata": {},
   "outputs": [
    {
     "name": "stdout",
     "output_type": "stream",
     "text": [
      "Shapiro-Wilk Test:\n",
      "Test Statistic: 0.7712432146072388\n",
      "p-value: 0.0064757647924125195\n",
      "Sample does not look Gaussian (reject H0)\n",
      "\n",
      "Kolmogorov-Smirnov Test:\n",
      "Test Statistic: 0.5326606393150366\n",
      "p-value: 0.003550394781684693\n",
      "Sample does not look Gaussian (reject H0)\n",
      "\n",
      "D'Agostino and Pearson Test:\n",
      "Test Statistic: 2.55175617748711\n",
      "p-value: 0.279185710728292\n",
      "Sample looks Gaussian (fail to reject H0)\n"
     ]
    }
   ],
   "source": [
    "# Generate some sample data\n",
    "data = patients_2\n",
    "\n",
    "# Shapiro-Wilk Test\n",
    "shapiro_stat, shapiro_p = stats.shapiro(data)\n",
    "print(\"Shapiro-Wilk Test:\")\n",
    "print(\"Test Statistic:\", shapiro_stat)\n",
    "print(\"p-value:\", shapiro_p)\n",
    "if shapiro_p > 0.05:\n",
    "    print(\"Sample looks Gaussian (fail to reject H0)\")\n",
    "else:\n",
    "    print(\"Sample does not look Gaussian (reject H0)\")\n",
    "\n",
    "# Kolmogorov-Smirnov Test\n",
    "kstest_stat, kstest_p = stats.kstest(data, 'norm')\n",
    "print(\"\\nKolmogorov-Smirnov Test:\")\n",
    "print(\"Test Statistic:\", kstest_stat)\n",
    "print(\"p-value:\", kstest_p)\n",
    "if kstest_p > 0.05:\n",
    "    print(\"Sample looks Gaussian (fail to reject H0)\")\n",
    "else:\n",
    "    print(\"Sample does not look Gaussian (reject H0)\")\n",
    "\n",
    "# D'Agostino and Pearson Test\n",
    "dagostino_stat, dagostino_p = stats.normaltest(data)\n",
    "print(\"\\nD'Agostino and Pearson Test:\")\n",
    "print(\"Test Statistic:\", dagostino_stat)\n",
    "print(\"p-value:\", dagostino_p)\n",
    "if dagostino_p > 0.05:\n",
    "    print(\"Sample looks Gaussian (fail to reject H0)\")\n",
    "else:\n",
    "    print(\"Sample does not look Gaussian (reject H0)\")\n"
   ]
  },
  {
   "cell_type": "code",
   "execution_count": 19,
   "id": "6e0e317f",
   "metadata": {},
   "outputs": [
    {
     "name": "stdout",
     "output_type": "stream",
     "text": [
      "Shapiro-Wilk Test:\n",
      "Test Statistic: 0.8470377326011658\n",
      "p-value: 0.05355590209364891\n",
      "Sample looks Gaussian (fail to reject H0)\n",
      "\n",
      "Kolmogorov-Smirnov Test:\n",
      "Test Statistic: 0.5536593955314734\n",
      "p-value: 0.002072032255850155\n",
      "Sample does not look Gaussian (reject H0)\n",
      "\n",
      "D'Agostino and Pearson Test:\n",
      "Test Statistic: 1.86187085219576\n",
      "p-value: 0.3941848071016772\n",
      "Sample looks Gaussian (fail to reject H0)\n"
     ]
    }
   ],
   "source": [
    "# Generate some sample data\n",
    "data = healthies_2\n",
    "\n",
    "# Shapiro-Wilk Test\n",
    "shapiro_stat, shapiro_p = stats.shapiro(data)\n",
    "print(\"Shapiro-Wilk Test:\")\n",
    "print(\"Test Statistic:\", shapiro_stat)\n",
    "print(\"p-value:\", shapiro_p)\n",
    "if shapiro_p > 0.05:\n",
    "    print(\"Sample looks Gaussian (fail to reject H0)\")\n",
    "else:\n",
    "    print(\"Sample does not look Gaussian (reject H0)\")\n",
    "\n",
    "# Kolmogorov-Smirnov Test\n",
    "kstest_stat, kstest_p = stats.kstest(data, 'norm')\n",
    "print(\"\\nKolmogorov-Smirnov Test:\")\n",
    "print(\"Test Statistic:\", kstest_stat)\n",
    "print(\"p-value:\", kstest_p)\n",
    "if kstest_p > 0.05:\n",
    "    print(\"Sample looks Gaussian (fail to reject H0)\")\n",
    "else:\n",
    "    print(\"Sample does not look Gaussian (reject H0)\")\n",
    "\n",
    "# D'Agostino and Pearson Test\n",
    "dagostino_stat, dagostino_p = stats.normaltest(data)\n",
    "print(\"\\nD'Agostino and Pearson Test:\")\n",
    "print(\"Test Statistic:\", dagostino_stat)\n",
    "print(\"p-value:\", dagostino_p)\n",
    "if dagostino_p > 0.05:\n",
    "    print(\"Sample looks Gaussian (fail to reject H0)\")\n",
    "else:\n",
    "    print(\"Sample does not look Gaussian (reject H0)\")\n"
   ]
  },
  {
   "cell_type": "markdown",
   "id": "08d5bb1f",
   "metadata": {},
   "source": [
    "THEY ARE NOT GAUSSIAN BUT WE HAVE MORE THAN 10 SAMPLES IN EACH CASE SO WE CAN AVOID THIS ASSUMTION"
   ]
  },
  {
   "cell_type": "markdown",
   "id": "e9b8cac4",
   "metadata": {},
   "source": [
    "### NON PARAMETRIC TEST"
   ]
  },
  {
   "cell_type": "code",
   "execution_count": 20,
   "id": "5bfa66bd",
   "metadata": {},
   "outputs": [],
   "source": [
    "patients = patients_2\n",
    "healthy = healthies_2"
   ]
  },
  {
   "cell_type": "code",
   "execution_count": 21,
   "id": "d8f02e51",
   "metadata": {},
   "outputs": [
    {
     "name": "stdout",
     "output_type": "stream",
     "text": [
      "Mann-Whitney U statistic: 56.0\n",
      "p-value: 0.6775849579524755\n",
      "Fail to reject the null hypothesis: the samples may come from the same distribution.\n"
     ]
    }
   ],
   "source": [
    "\n",
    "\n",
    "# Perform the Mann-Whitney U test\n",
    "statistic, p_value = mannwhitneyu(patients, healthy)\n",
    "\n",
    "# Print the test statistic and p-value\n",
    "print(\"Mann-Whitney U statistic:\", statistic)\n",
    "print(\"p-value:\", p_value)\n",
    "\n",
    "# Interpret the results\n",
    "alpha = 0.05\n",
    "if p_value < alpha:\n",
    "    print(\"Reject the null hypothesis: the samples do not come from the same distribution.\")\n",
    "else:\n",
    "    print(\"Fail to reject the null hypothesis: the samples may come from the same distribution.\")\n"
   ]
  },
  {
   "cell_type": "markdown",
   "id": "b9b0f9ec",
   "metadata": {},
   "source": [
    "## VARIANCE CHECK"
   ]
  },
  {
   "cell_type": "code",
   "execution_count": 22,
   "id": "762b7745",
   "metadata": {},
   "outputs": [],
   "source": [
    "patients = patients_2\n",
    "healthy = healthies_2"
   ]
  },
  {
   "cell_type": "code",
   "execution_count": 23,
   "id": "67bb6a55",
   "metadata": {},
   "outputs": [
    {
     "name": "stdout",
     "output_type": "stream",
     "text": [
      "Levene's Test:\n",
      "Test Statistic: 3.506889024449369\n",
      "p-value: 0.07745014401593901\n",
      "The variances are equal (fail to reject H0)\n"
     ]
    }
   ],
   "source": [
    "# Perform Levene's test\n",
    "levene_stat, levene_p = stats.levene(patients, healthy)\n",
    "\n",
    "print(\"Levene's Test:\")\n",
    "print(\"Test Statistic:\", levene_stat)\n",
    "print(\"p-value:\", levene_p)\n",
    "\n",
    "if levene_p > 0.05:\n",
    "    print(\"The variances are equal (fail to reject H0)\")\n",
    "else:\n",
    "    print(\"The variances are not equal (reject H0)\")\n"
   ]
  },
  {
   "cell_type": "markdown",
   "id": "a08845b0",
   "metadata": {},
   "source": [
    "SINCE VARIANCES ARE THE SAME, WE CAN USE REGULAR T-TEST"
   ]
  },
  {
   "cell_type": "markdown",
   "id": "ec03f39d",
   "metadata": {},
   "source": [
    "## T-TEST"
   ]
  },
  {
   "cell_type": "code",
   "execution_count": 24,
   "id": "2e7f83f5",
   "metadata": {},
   "outputs": [
    {
     "name": "stdout",
     "output_type": "stream",
     "text": [
      "Two-Sample T-Test:\n",
      "Test Statistic: 1.5695226685666448\n",
      "p-value: 0.13393796088893353\n",
      "There is no significant difference between the means (fail to reject H0)\n"
     ]
    }
   ],
   "source": [
    "\n",
    "\n",
    "# Perform two-sample t-test assuming equal variances\n",
    "t_stat, t_p = stats.ttest_ind(patients, healthy, equal_var=True)\n",
    "\n",
    "print(\"Two-Sample T-Test:\")\n",
    "print(\"Test Statistic:\", t_stat)\n",
    "print(\"p-value:\", t_p)\n",
    "\n",
    "if t_p > 0.05:\n",
    "    print(\"There is no significant difference between the means (fail to reject H0)\")\n",
    "else:\n",
    "    print(\"There is a significant difference between the means (reject H0)\")\n"
   ]
  },
  {
   "cell_type": "code",
   "execution_count": null,
   "id": "10c5e87a",
   "metadata": {},
   "outputs": [],
   "source": []
  },
  {
   "cell_type": "code",
   "execution_count": null,
   "id": "1d67ff28",
   "metadata": {},
   "outputs": [],
   "source": []
  },
  {
   "cell_type": "markdown",
   "id": "eecf0131",
   "metadata": {},
   "source": [
    "# MODEL 3"
   ]
  },
  {
   "cell_type": "markdown",
   "id": "7d1465a1",
   "metadata": {},
   "source": [
    "## CHECK NORMALITIES"
   ]
  },
  {
   "cell_type": "markdown",
   "id": "d3f7eb86",
   "metadata": {},
   "source": [
    "## PATIENTS"
   ]
  },
  {
   "cell_type": "code",
   "execution_count": 25,
   "id": "fdaf27c7",
   "metadata": {},
   "outputs": [
    {
     "name": "stdout",
     "output_type": "stream",
     "text": [
      "Shapiro-Wilk Test:\n",
      "Test Statistic: 0.8012109398841858\n",
      "p-value: 0.01499820128083229\n",
      "Sample does not look Gaussian (reject H0)\n",
      "\n",
      "Kolmogorov-Smirnov Test:\n",
      "Test Statistic: 0.5912742867252527\n",
      "p-value: 0.0007334478420161856\n",
      "Sample does not look Gaussian (reject H0)\n",
      "\n",
      "D'Agostino and Pearson Test:\n",
      "Test Statistic: 2.4454585721753297\n",
      "p-value: 0.2944254979222238\n",
      "Sample looks Gaussian (fail to reject H0)\n"
     ]
    }
   ],
   "source": [
    "# Generate some sample data\n",
    "data = patients_3\n",
    "\n",
    "# Shapiro-Wilk Test\n",
    "shapiro_stat, shapiro_p = stats.shapiro(data)\n",
    "print(\"Shapiro-Wilk Test:\")\n",
    "print(\"Test Statistic:\", shapiro_stat)\n",
    "print(\"p-value:\", shapiro_p)\n",
    "if shapiro_p > 0.05:\n",
    "    print(\"Sample looks Gaussian (fail to reject H0)\")\n",
    "else:\n",
    "    print(\"Sample does not look Gaussian (reject H0)\")\n",
    "\n",
    "# Kolmogorov-Smirnov Test\n",
    "kstest_stat, kstest_p = stats.kstest(data, 'norm')\n",
    "print(\"\\nKolmogorov-Smirnov Test:\")\n",
    "print(\"Test Statistic:\", kstest_stat)\n",
    "print(\"p-value:\", kstest_p)\n",
    "if kstest_p > 0.05:\n",
    "    print(\"Sample looks Gaussian (fail to reject H0)\")\n",
    "else:\n",
    "    print(\"Sample does not look Gaussian (reject H0)\")\n",
    "\n",
    "# D'Agostino and Pearson Test\n",
    "dagostino_stat, dagostino_p = stats.normaltest(data)\n",
    "print(\"\\nD'Agostino and Pearson Test:\")\n",
    "print(\"Test Statistic:\", dagostino_stat)\n",
    "print(\"p-value:\", dagostino_p)\n",
    "if dagostino_p > 0.05:\n",
    "    print(\"Sample looks Gaussian (fail to reject H0)\")\n",
    "else:\n",
    "    print(\"Sample does not look Gaussian (reject H0)\")\n"
   ]
  },
  {
   "cell_type": "code",
   "execution_count": 26,
   "id": "4d6abac4",
   "metadata": {},
   "outputs": [
    {
     "name": "stdout",
     "output_type": "stream",
     "text": [
      "Shapiro-Wilk Test:\n",
      "Test Statistic: 0.8793904185295105\n",
      "p-value: 0.12840606272220612\n",
      "Sample looks Gaussian (fail to reject H0)\n",
      "\n",
      "Kolmogorov-Smirnov Test:\n",
      "Test Statistic: 0.61522698096772\n",
      "p-value: 0.00035902772438812646\n",
      "Sample does not look Gaussian (reject H0)\n",
      "\n",
      "D'Agostino and Pearson Test:\n",
      "Test Statistic: 2.22623294782666\n",
      "p-value: 0.32853349791466496\n",
      "Sample looks Gaussian (fail to reject H0)\n"
     ]
    }
   ],
   "source": [
    "# Generate some sample data\n",
    "data = healthies_3\n",
    "\n",
    "# Shapiro-Wilk Test\n",
    "shapiro_stat, shapiro_p = stats.shapiro(data)\n",
    "print(\"Shapiro-Wilk Test:\")\n",
    "print(\"Test Statistic:\", shapiro_stat)\n",
    "print(\"p-value:\", shapiro_p)\n",
    "if shapiro_p > 0.05:\n",
    "    print(\"Sample looks Gaussian (fail to reject H0)\")\n",
    "else:\n",
    "    print(\"Sample does not look Gaussian (reject H0)\")\n",
    "\n",
    "# Kolmogorov-Smirnov Test\n",
    "kstest_stat, kstest_p = stats.kstest(data, 'norm')\n",
    "print(\"\\nKolmogorov-Smirnov Test:\")\n",
    "print(\"Test Statistic:\", kstest_stat)\n",
    "print(\"p-value:\", kstest_p)\n",
    "if kstest_p > 0.05:\n",
    "    print(\"Sample looks Gaussian (fail to reject H0)\")\n",
    "else:\n",
    "    print(\"Sample does not look Gaussian (reject H0)\")\n",
    "\n",
    "# D'Agostino and Pearson Test\n",
    "dagostino_stat, dagostino_p = stats.normaltest(data)\n",
    "print(\"\\nD'Agostino and Pearson Test:\")\n",
    "print(\"Test Statistic:\", dagostino_stat)\n",
    "print(\"p-value:\", dagostino_p)\n",
    "if dagostino_p > 0.05:\n",
    "    print(\"Sample looks Gaussian (fail to reject H0)\")\n",
    "else:\n",
    "    print(\"Sample does not look Gaussian (reject H0)\")\n"
   ]
  },
  {
   "cell_type": "markdown",
   "id": "a1742c21",
   "metadata": {},
   "source": [
    "THEY ARE NOT GAUSSIAN BUT WE HAVE MORE THAN 10 SAMPLES IN EACH CASE SO WE CAN AVOID THIS ASSUMTION"
   ]
  },
  {
   "cell_type": "markdown",
   "id": "ad04db11",
   "metadata": {},
   "source": [
    "### NON PARAMETRIC TEST"
   ]
  },
  {
   "cell_type": "code",
   "execution_count": 27,
   "id": "cb826a50",
   "metadata": {},
   "outputs": [],
   "source": [
    "patients = patients_3\n",
    "healthy = healthies_3"
   ]
  },
  {
   "cell_type": "code",
   "execution_count": 28,
   "id": "c52c3395",
   "metadata": {},
   "outputs": [
    {
     "name": "stdout",
     "output_type": "stream",
     "text": [
      "Mann-Whitney U statistic: 61.0\n",
      "p-value: 0.4273553138978077\n",
      "Fail to reject the null hypothesis: the samples may come from the same distribution.\n"
     ]
    }
   ],
   "source": [
    "\n",
    "\n",
    "# Perform the Mann-Whitney U test\n",
    "statistic, p_value = mannwhitneyu(patients, healthy)\n",
    "\n",
    "# Print the test statistic and p-value\n",
    "print(\"Mann-Whitney U statistic:\", statistic)\n",
    "print(\"p-value:\", p_value)\n",
    "\n",
    "# Interpret the results\n",
    "alpha = 0.05\n",
    "if p_value < alpha:\n",
    "    print(\"Reject the null hypothesis: the samples do not come from the same distribution.\")\n",
    "else:\n",
    "    print(\"Fail to reject the null hypothesis: the samples may come from the same distribution.\")\n"
   ]
  },
  {
   "cell_type": "markdown",
   "id": "3f83d7a9",
   "metadata": {},
   "source": [
    "## VARIANCE CHECK"
   ]
  },
  {
   "cell_type": "code",
   "execution_count": 29,
   "id": "f0560096",
   "metadata": {},
   "outputs": [
    {
     "name": "stdout",
     "output_type": "stream",
     "text": [
      "Levene's Test:\n",
      "Test Statistic: 3.196273868475992\n",
      "p-value: 0.090654368500147\n",
      "The variances are equal (fail to reject H0)\n"
     ]
    }
   ],
   "source": [
    "# Perform Levene's test\n",
    "levene_stat, levene_p = stats.levene(patients, healthy)\n",
    "\n",
    "print(\"Levene's Test:\")\n",
    "print(\"Test Statistic:\", levene_stat)\n",
    "print(\"p-value:\", levene_p)\n",
    "\n",
    "if levene_p > 0.05:\n",
    "    print(\"The variances are equal (fail to reject H0)\")\n",
    "else:\n",
    "    print(\"The variances are not equal (reject H0)\")\n"
   ]
  },
  {
   "cell_type": "markdown",
   "id": "2a1a4304",
   "metadata": {},
   "source": [
    "SINCE VARIANCES ARE THE SAME, WE CAN USE REGULAR T-TEST"
   ]
  },
  {
   "cell_type": "markdown",
   "id": "3fc0cb9b",
   "metadata": {},
   "source": [
    "## T-TEST"
   ]
  },
  {
   "cell_type": "code",
   "execution_count": 30,
   "id": "b2ce8be7",
   "metadata": {},
   "outputs": [
    {
     "name": "stdout",
     "output_type": "stream",
     "text": [
      "Two-Sample T-Test:\n",
      "Test Statistic: 1.6215868656817691\n",
      "p-value: 0.12227674372245088\n",
      "There is no significant difference between the means (fail to reject H0)\n"
     ]
    }
   ],
   "source": [
    "\n",
    "\n",
    "# Perform two-sample t-test assuming equal variances\n",
    "t_stat, t_p = stats.ttest_ind(patients, healthy, equal_var=True)\n",
    "\n",
    "print(\"Two-Sample T-Test:\")\n",
    "print(\"Test Statistic:\", t_stat)\n",
    "print(\"p-value:\", t_p)\n",
    "\n",
    "if t_p > 0.05:\n",
    "    print(\"There is no significant difference between the means (fail to reject H0)\")\n",
    "else:\n",
    "    print(\"There is a significant difference between the means (reject H0)\")\n"
   ]
  },
  {
   "cell_type": "code",
   "execution_count": null,
   "id": "a0bd219e",
   "metadata": {},
   "outputs": [],
   "source": []
  }
 ],
 "metadata": {
  "kernelspec": {
   "display_name": "Python 3 (ipykernel)",
   "language": "python",
   "name": "python3"
  },
  "language_info": {
   "codemirror_mode": {
    "name": "ipython",
    "version": 3
   },
   "file_extension": ".py",
   "mimetype": "text/x-python",
   "name": "python",
   "nbconvert_exporter": "python",
   "pygments_lexer": "ipython3",
   "version": "3.9.13"
  }
 },
 "nbformat": 4,
 "nbformat_minor": 5
}
