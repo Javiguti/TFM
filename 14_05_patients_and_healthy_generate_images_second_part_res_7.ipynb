{
 "cells": [
  {
   "cell_type": "code",
   "execution_count": null,
   "id": "6b00bd8c",
   "metadata": {},
   "outputs": [],
   "source": [
    "#DONE"
   ]
  },
  {
   "cell_type": "code",
   "execution_count": 1,
   "id": "fc000ca5",
   "metadata": {},
   "outputs": [
    {
     "name": "stderr",
     "output_type": "stream",
     "text": [
      "C:\\Users\\Javi\\anaconda3\\lib\\site-packages\\scipy\\__init__.py:155: UserWarning: A NumPy version >=1.18.5 and <1.25.0 is required for this version of SciPy (detected version 1.26.1\n",
      "  warnings.warn(f\"A NumPy version >={np_minversion} and <{np_maxversion}\"\n"
     ]
    }
   ],
   "source": [
    "import pandas as pd\n",
    "import os\n",
    "import time\n",
    "import numpy as np\n",
    "import tensorflow as tf\n",
    "from tensorflow import keras\n",
    "from tensorflow.keras import layers\n",
    "from tensorflow.keras.preprocessing.image import load_img, img_to_array\n",
    "from tensorflow.keras.models import load_model\n",
    "from tensorflow.keras.applications import ResNet50\n",
    "from tensorflow.keras.models import Sequential\n",
    "from tensorflow.keras.layers import Dense, Flatten\n",
    "from tensorflow.keras.utils import to_categorical\n",
    "from tensorflow.keras.callbacks import EarlyStopping\n",
    "from sklearn.model_selection import train_test_split\n",
    "import time\n",
    "from sklearn.metrics import confusion_matrix, accuracy_score, precision_score, recall_score, f1_score, roc_auc_score, roc_curve, auc\n"
   ]
  },
  {
   "cell_type": "code",
   "execution_count": 2,
   "id": "99753c9c",
   "metadata": {},
   "outputs": [],
   "source": [
    "import random\n",
    "\n",
    "def replace_ambiguous_bases(sequence):\n",
    "    def resolve_ambiguity(code):\n",
    "        if code == 'R':\n",
    "            return random.choice(['A', 'G'])\n",
    "        elif code == 'Y':\n",
    "            return random.choice(['C', 'T'])\n",
    "        elif code == 'S':\n",
    "            return random.choice(['G', 'C'])\n",
    "        elif code == 'W':\n",
    "            return random.choice(['A', 'T'])\n",
    "        elif code == 'K':\n",
    "            return random.choice(['G', 'T'])\n",
    "        elif code == 'M':\n",
    "            return random.choice(['A', 'C'])\n",
    "        elif code == 'B':\n",
    "            return random.choice(['C', 'G', 'T'])\n",
    "        elif code == 'D':\n",
    "            return random.choice(['A', 'G', 'T'])\n",
    "        elif code == 'H':\n",
    "            return random.choice(['A', 'C', 'T'])\n",
    "        elif code == 'V':\n",
    "            return random.choice(['A', 'C', 'G'])\n",
    "        elif code == 'N':\n",
    "            return random.choice(['A', 'T', 'C', 'G'])\n",
    "        else:\n",
    "            return code  # If the code is not an ambiguity code, return the same code\n",
    "    \n",
    "    resolved_sequence = ''.join(resolve_ambiguity(base) for base in sequence)\n",
    "    return resolved_sequence"
   ]
  },
  {
   "cell_type": "code",
   "execution_count": 3,
   "id": "c3e28e46",
   "metadata": {},
   "outputs": [],
   "source": [
    "def reverse_complement(sequence):\n",
    "    complement = {'A': 'T', 'T': 'A', 'C': 'G', 'G': 'C'}\n",
    "    reverse_seq = sequence[::-1]  # Reverse the sequence\n",
    "    reverse_complement_seq = ''.join(complement[base] for base in reverse_seq)\n",
    "    return reverse_complement_seq\n",
    "\n",
    "def reverse_complement_list(sequence_list):\n",
    "    reverse_complements = []\n",
    "    for seq in sequence_list:\n",
    "        reverse_complements.append(reverse_complement(seq))\n",
    "    return reverse_complements"
   ]
  },
  {
   "cell_type": "code",
   "execution_count": 4,
   "id": "84052336",
   "metadata": {},
   "outputs": [],
   "source": [
    "#This function gets the cgr for the sequences\n",
    "def easy_cgr(dna_sequence):\n",
    "  nucleotide_map = {\n",
    "    \"A\": (1, 1),\n",
    "    \"T\": (-1, -1),\n",
    "    \"C\": (1, -1),\n",
    "    \"G\": (-1, 1),\n",
    "}\n",
    "  values=[]\n",
    "  point=(0,0)\n",
    "  for nucleotide in dna_sequence:\n",
    "        next_point=nucleotide_map[nucleotide]\n",
    "        point=((point[0]+next_point[0])/2,(point[1]+next_point[1])/2)\n",
    "        values.append(point)\n",
    "  return values"
   ]
  },
  {
   "cell_type": "code",
   "execution_count": 5,
   "id": "5b62f47b",
   "metadata": {},
   "outputs": [],
   "source": [
    "#This function has input:\n",
    "#sequence to plot that is the easy_cgr(sequence)\n",
    "# plot id that is the name\n",
    "# resolution that is the resolution\n",
    "import matplotlib.pyplot as plt\n",
    "import numpy as np\n",
    "from matplotlib.colors import LinearSegmentedColormap\n",
    "\n",
    "def plotting_cgr(sequence_to_plot,id_to_plot,resolution):\n",
    "\n",
    "  # Define the resolution\n",
    "  num_bins = resolution\n",
    "\n",
    "  # Create a grid for the histogram\n",
    "  xedges = np.linspace(-1, 1, num_bins + 1)\n",
    "  yedges = np.linspace(-1, 1, num_bins + 1)\n",
    "\n",
    "  # Create a 2D histogram\n",
    "  hist, _, _ = np.histogram2d([p[0] for p in sequence_to_plot], [p[1] for p in sequence_to_plot], bins=[xedges, yedges])\n",
    "\n",
    "  # Create a custom colormap spanning from light gray to dark gray\n",
    "  colors = [(1, 1, 1), (0.2, 0.2, 0.2)]  # Light gray to dark gray\n",
    "  cmap_name = \"custom_gray\"\n",
    "  custom_cmap = LinearSegmentedColormap.from_list(cmap_name, colors, N=len(sequence_to_plot) + 1)\n",
    "\n",
    "  # Create a figure\n",
    "  plt.figure()\n",
    "\n",
    "  # Display the 2D histogram with the custom colormap\n",
    "  plt.imshow(hist.T, cmap=custom_cmap, extent=[-1, 1, -1, 1], origin='lower', interpolation='nearest', aspect='auto')\n",
    "\n",
    "  # Calculate coordinates for labels\n",
    "  plt.xticks([])\n",
    "  plt.yticks([])\n",
    "  x_margin, y_margin = 0.05, 0.05\n",
    "  label_coordinates = {\n",
    "      \"A\": (1+ x_margin, 1 +y_margin),\n",
    "      \"T\": (-1 - x_margin, -1-y_margin),\n",
    "      \"C\": (1 + x_margin, -1 -y_margin),\n",
    "      \"G\": (-1 - x_margin, 1 + y_margin),\n",
    "  }\n",
    "\n",
    "  # Add labels outside the grid\n",
    "  for letter, (x, y) in label_coordinates.items():\n",
    "      plt.text(x, y, letter, ha='center', va='center', fontsize=15, color='black')\n",
    "  # Show the plot\n",
    "  plt.title('CGR for '+id_to_plot)\n",
    "  plt.grid(False)  # Turn off grid lines\n",
    "  plt.show()"
   ]
  },
  {
   "cell_type": "code",
   "execution_count": 6,
   "id": "e0dffef1",
   "metadata": {},
   "outputs": [],
   "source": [
    "#This function reads the file when usingantibiotic resistance genes\n",
    "import re\n",
    "\n",
    "def read_antibiotic_resistance_genes(fasta_file_path):\n",
    "    # Initialize lists to store sequence data\n",
    "    sequence_ids = []\n",
    "    sequences = []\n",
    "    terms_inside_brackets = []  # Initialize a list to store terms inside brackets\n",
    "\n",
    "    # Define a regular expression pattern to match text inside square brackets\n",
    "    pattern = r'\\[([^]]+)\\]'\n",
    "\n",
    "    # Open the FASTA file for reading\n",
    "    with open(fasta_file_path, \"r\") as file:\n",
    "        for line in file:\n",
    "            line = line.strip()  # Remove leading/trailing whitespace\n",
    "\n",
    "            # Check if the line is an ID line (starts with '>')\n",
    "            if line.startswith(\">\"):\n",
    "                # If it's not the first sequence, process the previous one\n",
    "                if sequence_ids:\n",
    "                    term_inside_brackets = re.search(pattern, sequence_ids[-1]).group(1)\n",
    "                    terms_inside_brackets.append(term_inside_brackets)  # Append to the list\n",
    "                # Extract the sequence ID from the ID line\n",
    "                sequence_ids.append(line[1:])\n",
    "                sequences.append(\"\")  # Reset the sequence\n",
    "            else:\n",
    "                # Append the line to the sequence\n",
    "                sequences[-1] += line\n",
    "\n",
    "    # Process the last sequence in the file\n",
    "    if sequence_ids:\n",
    "        term_inside_brackets = re.search(pattern, sequence_ids[-1]).group(1)\n",
    "        terms_inside_brackets.append(term_inside_brackets)\n",
    "\n",
    "    return sequences, terms_inside_brackets"
   ]
  },
  {
   "cell_type": "code",
   "execution_count": 7,
   "id": "53b0ad99",
   "metadata": {},
   "outputs": [],
   "source": [
    "from Bio import SeqIO\n",
    "\n",
    "def read_fasta_patients(file_path):\n",
    "    sequence_ids = []\n",
    "    sequences = []\n",
    "    \n",
    "    try:\n",
    "        with open(file_path, \"r\") as fasta_file:\n",
    "            fasta_sequences = SeqIO.parse(fasta_file, \"fasta\")\n",
    "            \n",
    "            for seq_record in fasta_sequences:\n",
    "                sequence_ids.append(seq_record.id)\n",
    "                sequences.append(str(seq_record.seq))\n",
    "    except FileNotFoundError:\n",
    "        print(\"File not found. Please provide a valid file path.\")\n",
    "    \n",
    "    return sequences, sequence_ids\n"
   ]
  },
  {
   "cell_type": "code",
   "execution_count": 8,
   "id": "ec94d0bd",
   "metadata": {},
   "outputs": [],
   "source": [
    "#This function has input:\n",
    "#sequence to plot that is the easy_cgr(sequence)\n",
    "# plot id that is the name\n",
    "# resolution that is the resolution\n",
    "import matplotlib.pyplot as plt\n",
    "import numpy as np\n",
    "from matplotlib.colors import LinearSegmentedColormap\n",
    "\n",
    "def plotting_cgr(sequence_to_plot,id_to_plot,resolution):\n",
    "\n",
    "  # Define the resolution\n",
    "  num_bins = resolution\n",
    "\n",
    "  # Create a grid for the histogram\n",
    "  xedges = np.linspace(-1, 1, num_bins + 1)\n",
    "  yedges = np.linspace(-1, 1, num_bins + 1)\n",
    "\n",
    "  # Create a 2D histogram\n",
    "  hist, _, _ = np.histogram2d([p[0] for p in sequence_to_plot], [p[1] for p in sequence_to_plot], bins=[xedges, yedges])\n",
    "\n",
    "  # Create a custom colormap spanning from light gray to dark gray\n",
    "  colors = [(1, 1, 1), (0.2, 0.2, 0.2)]  # Light gray to dark gray\n",
    "  cmap_name = \"custom_gray\"\n",
    "  custom_cmap = LinearSegmentedColormap.from_list(cmap_name, colors, N=len(sequence_to_plot) + 1)\n",
    "\n",
    "  # Create a figure\n",
    "  plt.figure()\n",
    "\n",
    "  # Display the 2D histogram with the custom colormap\n",
    "  plt.imshow(hist.T, cmap=custom_cmap, extent=[-1, 1, -1, 1], origin='lower', interpolation='nearest', aspect='auto')\n",
    "\n",
    "  # Calculate coordinates for labels\n",
    "  plt.xticks([])\n",
    "  plt.yticks([])\n",
    "  x_margin, y_margin = 0.05, 0.05\n",
    "  label_coordinates = {\n",
    "      \"A\": (1+ x_margin, 1 +y_margin),\n",
    "      \"T\": (-1 - x_margin, -1-y_margin),\n",
    "      \"C\": (1 + x_margin, -1 -y_margin),\n",
    "      \"G\": (-1 - x_margin, 1 + y_margin),\n",
    "  }\n",
    "\n",
    "  # Add labels outside the grid\n",
    "  for letter, (x, y) in label_coordinates.items():\n",
    "      plt.text(x, y, letter, ha='center', va='center', fontsize=15, color='black')\n",
    "  # Show the plot\n",
    "  plt.title('CGR for '+id_to_plot)\n",
    "  plt.grid(False)  # Turn off grid lines\n",
    "  plt.show()\n"
   ]
  },
  {
   "cell_type": "code",
   "execution_count": 9,
   "id": "c1d1f0d7",
   "metadata": {},
   "outputs": [],
   "source": [
    "import random\n",
    "\n",
    "def replace_ambiguous_bases(sequence):\n",
    "    def resolve_ambiguity(code):\n",
    "        if code == 'R':\n",
    "            return random.choice(['A', 'G'])\n",
    "        elif code == 'Y':\n",
    "            return random.choice(['C', 'T'])\n",
    "        elif code == 'S':\n",
    "            return random.choice(['G', 'C'])\n",
    "        elif code == 'W':\n",
    "            return random.choice(['A', 'T'])\n",
    "        elif code == 'K':\n",
    "            return random.choice(['G', 'T'])\n",
    "        elif code == 'M':\n",
    "            return random.choice(['A', 'C'])\n",
    "        elif code == 'B':\n",
    "            return random.choice(['C', 'G', 'T'])\n",
    "        elif code == 'D':\n",
    "            return random.choice(['A', 'G', 'T'])\n",
    "        elif code == 'H':\n",
    "            return random.choice(['A', 'C', 'T'])\n",
    "        elif code == 'V':\n",
    "            return random.choice(['A', 'C', 'G'])\n",
    "        elif code == 'N':\n",
    "            return random.choice(['A', 'T', 'C', 'G'])\n",
    "        else:\n",
    "            return code  # If the code is not an ambiguity code, return the same code\n",
    "    \n",
    "    resolved_sequence = ''.join(resolve_ambiguity(base) for base in sequence)\n",
    "    return resolved_sequence"
   ]
  },
  {
   "cell_type": "code",
   "execution_count": 10,
   "id": "d26dbe36",
   "metadata": {},
   "outputs": [],
   "source": [
    "import numpy as np\n",
    "import matplotlib.pyplot as plt\n",
    "from matplotlib.colors import LinearSegmentedColormap\n",
    "\n",
    "def generate_cgr_and_save(sequence_to_plot, kmeres, output_filename):\n",
    "    # Define the resolution\n",
    "    num_bins = 2 ** kmeres\n",
    "\n",
    "    # Create a grid for the histogram\n",
    "    xedges = np.linspace(-1, 1, num_bins + 1)\n",
    "    yedges = np.linspace(-1, 1, num_bins + 1)\n",
    "\n",
    "    # Create a 2D histogram\n",
    "    hist, _, _ = np.histogram2d(\n",
    "        [p[0] for p in sequence_to_plot],\n",
    "        [p[1] for p in sequence_to_plot],\n",
    "        bins=[xedges, yedges]\n",
    "    )\n",
    "\n",
    "    # Create a custom colormap spanning from light gray to dark gray\n",
    "    colors = [(1, 1, 1), (0.2, 0.2, 0.2)]  # Light gray to dark gray\n",
    "    cmap_name = \"custom_gray\"\n",
    "    custom_cmap = LinearSegmentedColormap.from_list(cmap_name, colors, N=len(sequence_to_plot) + 1)\n",
    "\n",
    "    # Create a square figure with the desired size in inches\n",
    "    dpi = 100\n",
    "    fig, ax = plt.subplots(figsize=(84 / dpi, 84 / dpi), dpi=dpi)\n",
    "\n",
    "    # Plot the histogram using imshow and set the extent to specify the image size\n",
    "    ax.imshow(\n",
    "        hist.T,\n",
    "        cmap=custom_cmap,\n",
    "        origin='lower',\n",
    "        extent=[-1, 1, -1, 1],  # Setting extent to create a 100x100 pixel image\n",
    "        interpolation='nearest'  # Optional: adjust the interpolation method\n",
    "    )\n",
    "\n",
    "    # Turn off the axis\n",
    "    ax.axis('off')\n",
    "\n",
    "    # Save the figure directly as an image using matplotlib.pyplot.savefig\n",
    "    plt.savefig(output_filename, bbox_inches='tight', pad_inches=0, dpi=dpi)\n",
    "    plt.close()\n",
    "\n",
    "# Your remaining function remains unchanged\n",
    "def generate_and_save_cgr_images(sequences, ids, output_dir, kmeres):\n",
    "    # Create the output directory if it doesn't exist\n",
    "    \n",
    "\n",
    "    for i, (sequence, label) in enumerate(zip(sequences, ids)):\n",
    "        # Generate the image filename based on the class label and sequence index\n",
    "        image_filename = os.path.join(output_dir, f\"{i}_{label}.png\")\n",
    "\n",
    "        # Generate and save the CGR image\n",
    "        generate_cgr_and_save(sequence, kmeres, image_filename)"
   ]
  },
  {
   "cell_type": "code",
   "execution_count": 11,
   "id": "0e3947ce",
   "metadata": {},
   "outputs": [],
   "source": [
    "\n",
    "def read_fasta_ARG(file_name):\n",
    "    sequences = []\n",
    "    with open(file_name, 'r') as file:\n",
    "        sequence_id = ''\n",
    "        sequence = ''\n",
    "        for line in file:\n",
    "            line = line.strip()\n",
    "            if line.startswith('>'):\n",
    "                if sequence_id != '':\n",
    "                    sequences.append(sequence_id.split('|') + [sequence])\n",
    "                sequence_id = line[1:]\n",
    "                sequence = ''\n",
    "            else:\n",
    "                sequence += line\n",
    "        if sequence_id != '':\n",
    "            sequences.append(sequence_id.split('|') + [sequence])\n",
    "    return sequences"
   ]
  },
  {
   "cell_type": "code",
   "execution_count": 12,
   "id": "6517138b",
   "metadata": {},
   "outputs": [],
   "source": [
    "import numpy as np\n",
    "import matplotlib.pyplot as plt\n",
    "from matplotlib.colors import LinearSegmentedColormap\n",
    "\n",
    "def generate_cgr_and_save(sequence_to_plot, kmeres, output_filename):\n",
    "    # Define the resolution\n",
    "    num_bins = 2 ** kmeres\n",
    "\n",
    "    # Create a grid for the histogram\n",
    "    xedges = np.linspace(-1, 1, num_bins + 1)\n",
    "    yedges = np.linspace(-1, 1, num_bins + 1)\n",
    "\n",
    "    # Create a 2D histogram\n",
    "    hist, _, _ = np.histogram2d(\n",
    "        [p[0] for p in sequence_to_plot],\n",
    "        [p[1] for p in sequence_to_plot],\n",
    "        bins=[xedges, yedges]\n",
    "    )\n",
    "\n",
    "    # Create a custom colormap spanning from light gray to dark gray\n",
    "    colors = [(1, 1, 1), (0.2, 0.2, 0.2)]  # Light gray to dark gray\n",
    "    cmap_name = \"custom_gray\"\n",
    "    custom_cmap = LinearSegmentedColormap.from_list(cmap_name, colors, N=len(sequence_to_plot) + 1)\n",
    "\n",
    "    # Create a square figure with the desired size in inches\n",
    "    dpi = 100\n",
    "    fig, ax = plt.subplots(figsize=(100 / dpi, 100 / dpi), dpi=dpi)\n",
    "\n",
    "    # Plot the histogram using imshow and set the extent to specify the image size\n",
    "    ax.imshow(\n",
    "        hist.T,\n",
    "        cmap=custom_cmap,\n",
    "        origin='lower',\n",
    "        extent=[-1, 1, -1, 1],  # Setting extent to create a 100x100 pixel image\n",
    "        interpolation='nearest'  # Optional: adjust the interpolation method\n",
    "    )\n",
    "\n",
    "    # Turn off the axis\n",
    "    ax.axis('off')\n",
    "\n",
    "    # Save the figure directly as an image using matplotlib.pyplot.savefig\n",
    "    plt.savefig(output_filename, bbox_inches='tight', pad_inches=0, dpi=dpi)\n",
    "    plt.close()\n",
    "\n",
    "# Your remaining function remains unchanged\n",
    "def generate_and_save_cgr_images_label(sequences, class_labels, output_dir, kmeres):\n",
    "    # Create the output directory if it doesn't exist\n",
    "    os.makedirs(output_dir, exist_ok=True)\n",
    "\n",
    "    for i, (sequence, label) in enumerate(zip(sequences, class_labels)):\n",
    "        # Generate the image filename based on the class label and sequence index\n",
    "        image_filename = os.path.join(output_dir, f\"{label}.png\")\n",
    "\n",
    "        # Generate and save the CGR image\n",
    "        generate_cgr_and_save(sequence, kmeres, image_filename)"
   ]
  },
  {
   "cell_type": "markdown",
   "id": "a8e7cbef",
   "metadata": {},
   "source": [
    "###  Patient 14"
   ]
  },
  {
   "cell_type": "code",
   "execution_count": 13,
   "id": "0964a21c",
   "metadata": {
    "scrolled": true
   },
   "outputs": [],
   "source": [
    "import pandas as pd\n",
    "\n",
    "file_name = \"Patient14.contigs.fa\"\n",
    "fasta_sequences = read_fasta_ARG(file_name)"
   ]
  },
  {
   "cell_type": "code",
   "execution_count": 14,
   "id": "dcd59256",
   "metadata": {},
   "outputs": [],
   "source": [
    "# Convert to DataFrame\n",
    "patient_14 = pd.DataFrame(fasta_sequences, columns=[ 'ids', 'seq'])\n"
   ]
  },
  {
   "cell_type": "code",
   "execution_count": 15,
   "id": "5a31b73f",
   "metadata": {},
   "outputs": [
    {
     "data": {
      "text/html": [
       "<div>\n",
       "<style scoped>\n",
       "    .dataframe tbody tr th:only-of-type {\n",
       "        vertical-align: middle;\n",
       "    }\n",
       "\n",
       "    .dataframe tbody tr th {\n",
       "        vertical-align: top;\n",
       "    }\n",
       "\n",
       "    .dataframe thead th {\n",
       "        text-align: right;\n",
       "    }\n",
       "</style>\n",
       "<table border=\"1\" class=\"dataframe\">\n",
       "  <thead>\n",
       "    <tr style=\"text-align: right;\">\n",
       "      <th></th>\n",
       "      <th>ids</th>\n",
       "      <th>seq</th>\n",
       "    </tr>\n",
       "  </thead>\n",
       "  <tbody>\n",
       "    <tr>\n",
       "      <th>0</th>\n",
       "      <td>k127_20391 flag=0 multi=4.0000 len=2562</td>\n",
       "      <td>GCAGAAGCAGTGAAGACCGCTGGGTATGACAGCCTGGATGCTGCAA...</td>\n",
       "    </tr>\n",
       "    <tr>\n",
       "      <th>1</th>\n",
       "      <td>k127_81555 flag=1 multi=4.0000 len=3470</td>\n",
       "      <td>ATCTAGGGCCGATCCAGGGGCATAATATCCCGACGATGGTACGTGC...</td>\n",
       "    </tr>\n",
       "    <tr>\n",
       "      <th>2</th>\n",
       "      <td>k127_61173 flag=1 multi=4.0000 len=2617</td>\n",
       "      <td>ATCTTTCAGTCCCAGACGATAAAAAAATTCTTCTGTATCTGCTCCA...</td>\n",
       "    </tr>\n",
       "    <tr>\n",
       "      <th>3</th>\n",
       "      <td>k127_20396 flag=0 multi=9.9554 len=4163</td>\n",
       "      <td>AAATTTTATTTATGTGGGTATCGATTTACACAAAGAAACCCACACA...</td>\n",
       "    </tr>\n",
       "    <tr>\n",
       "      <th>4</th>\n",
       "      <td>k127_5 flag=0 multi=12.9834 len=7343</td>\n",
       "      <td>TTTTCATGAAAAATAACCTCTTTACAAATATAAGCTTGACATAAGT...</td>\n",
       "    </tr>\n",
       "    <tr>\n",
       "      <th>...</th>\n",
       "      <td>...</td>\n",
       "      <td>...</td>\n",
       "    </tr>\n",
       "    <tr>\n",
       "      <th>16322</th>\n",
       "      <td>k127_162953 flag=3 multi=9.0027 len=3419</td>\n",
       "      <td>AGCCTTCATGCTAAAATCACCGTACACCAAACAAACTATCTAATGA...</td>\n",
       "    </tr>\n",
       "    <tr>\n",
       "      <th>16323</th>\n",
       "      <td>k127_162955 flag=3 multi=25.0050 len=5148</td>\n",
       "      <td>CAGGTTTACAGCTTAGAGATATTTGTAGAGGTGTTATTAGCAAAGA...</td>\n",
       "    </tr>\n",
       "    <tr>\n",
       "      <th>16324</th>\n",
       "      <td>k127_162959 flag=3 multi=22.0074 len=3103</td>\n",
       "      <td>GGCTTGCAGGCTAAAATGAACAGTACCGCTGCGCGCGAACGATACA...</td>\n",
       "    </tr>\n",
       "    <tr>\n",
       "      <th>16325</th>\n",
       "      <td>k127_162960 flag=3 multi=322.0543 len=6060</td>\n",
       "      <td>CGCTTTTCGTAAGGGCTGAAATCGTATTTTGCGCATGTCCATATGT...</td>\n",
       "    </tr>\n",
       "    <tr>\n",
       "      <th>16326</th>\n",
       "      <td>k127_162969 flag=3 multi=11.0036 len=3210</td>\n",
       "      <td>AGCTTTTACTTTACGCTCAATCATTCCAAAATCAAGCATTCCCTCA...</td>\n",
       "    </tr>\n",
       "  </tbody>\n",
       "</table>\n",
       "<p>16327 rows × 2 columns</p>\n",
       "</div>"
      ],
      "text/plain": [
       "                                              ids  \\\n",
       "0         k127_20391 flag=0 multi=4.0000 len=2562   \n",
       "1         k127_81555 flag=1 multi=4.0000 len=3470   \n",
       "2         k127_61173 flag=1 multi=4.0000 len=2617   \n",
       "3         k127_20396 flag=0 multi=9.9554 len=4163   \n",
       "4            k127_5 flag=0 multi=12.9834 len=7343   \n",
       "...                                           ...   \n",
       "16322    k127_162953 flag=3 multi=9.0027 len=3419   \n",
       "16323   k127_162955 flag=3 multi=25.0050 len=5148   \n",
       "16324   k127_162959 flag=3 multi=22.0074 len=3103   \n",
       "16325  k127_162960 flag=3 multi=322.0543 len=6060   \n",
       "16326   k127_162969 flag=3 multi=11.0036 len=3210   \n",
       "\n",
       "                                                     seq  \n",
       "0      GCAGAAGCAGTGAAGACCGCTGGGTATGACAGCCTGGATGCTGCAA...  \n",
       "1      ATCTAGGGCCGATCCAGGGGCATAATATCCCGACGATGGTACGTGC...  \n",
       "2      ATCTTTCAGTCCCAGACGATAAAAAAATTCTTCTGTATCTGCTCCA...  \n",
       "3      AAATTTTATTTATGTGGGTATCGATTTACACAAAGAAACCCACACA...  \n",
       "4      TTTTCATGAAAAATAACCTCTTTACAAATATAAGCTTGACATAAGT...  \n",
       "...                                                  ...  \n",
       "16322  AGCCTTCATGCTAAAATCACCGTACACCAAACAAACTATCTAATGA...  \n",
       "16323  CAGGTTTACAGCTTAGAGATATTTGTAGAGGTGTTATTAGCAAAGA...  \n",
       "16324  GGCTTGCAGGCTAAAATGAACAGTACCGCTGCGCGCGAACGATACA...  \n",
       "16325  CGCTTTTCGTAAGGGCTGAAATCGTATTTTGCGCATGTCCATATGT...  \n",
       "16326  AGCTTTTACTTTACGCTCAATCATTCCAAAATCAAGCATTCCCTCA...  \n",
       "\n",
       "[16327 rows x 2 columns]"
      ]
     },
     "execution_count": 15,
     "metadata": {},
     "output_type": "execute_result"
    }
   ],
   "source": [
    "patient_14"
   ]
  },
  {
   "cell_type": "code",
   "execution_count": 16,
   "id": "20fcb20e",
   "metadata": {
    "scrolled": false
   },
   "outputs": [],
   "source": [
    "# Define a function to extract the desired pattern\n",
    "def extract_id_14(string):\n",
    "    match = re.search(r'(k127_\\d+)', string)\n",
    "    if match:\n",
    "        return match.group(1) + '_14'\n",
    "    else:\n",
    "        return None\n",
    "\n",
    "# Apply the function to the 'ids' column\n",
    "patient_14['ids'] = patient_14['ids'].apply(extract_id_14)\n",
    "\n"
   ]
  },
  {
   "cell_type": "code",
   "execution_count": 17,
   "id": "56ca0f6f",
   "metadata": {},
   "outputs": [
    {
     "data": {
      "text/html": [
       "<div>\n",
       "<style scoped>\n",
       "    .dataframe tbody tr th:only-of-type {\n",
       "        vertical-align: middle;\n",
       "    }\n",
       "\n",
       "    .dataframe tbody tr th {\n",
       "        vertical-align: top;\n",
       "    }\n",
       "\n",
       "    .dataframe thead th {\n",
       "        text-align: right;\n",
       "    }\n",
       "</style>\n",
       "<table border=\"1\" class=\"dataframe\">\n",
       "  <thead>\n",
       "    <tr style=\"text-align: right;\">\n",
       "      <th></th>\n",
       "      <th>ids</th>\n",
       "      <th>seq</th>\n",
       "    </tr>\n",
       "  </thead>\n",
       "  <tbody>\n",
       "    <tr>\n",
       "      <th>0</th>\n",
       "      <td>k127_20391_14</td>\n",
       "      <td>GCAGAAGCAGTGAAGACCGCTGGGTATGACAGCCTGGATGCTGCAA...</td>\n",
       "    </tr>\n",
       "    <tr>\n",
       "      <th>1</th>\n",
       "      <td>k127_81555_14</td>\n",
       "      <td>ATCTAGGGCCGATCCAGGGGCATAATATCCCGACGATGGTACGTGC...</td>\n",
       "    </tr>\n",
       "    <tr>\n",
       "      <th>2</th>\n",
       "      <td>k127_61173_14</td>\n",
       "      <td>ATCTTTCAGTCCCAGACGATAAAAAAATTCTTCTGTATCTGCTCCA...</td>\n",
       "    </tr>\n",
       "    <tr>\n",
       "      <th>3</th>\n",
       "      <td>k127_20396_14</td>\n",
       "      <td>AAATTTTATTTATGTGGGTATCGATTTACACAAAGAAACCCACACA...</td>\n",
       "    </tr>\n",
       "    <tr>\n",
       "      <th>4</th>\n",
       "      <td>k127_5_14</td>\n",
       "      <td>TTTTCATGAAAAATAACCTCTTTACAAATATAAGCTTGACATAAGT...</td>\n",
       "    </tr>\n",
       "    <tr>\n",
       "      <th>...</th>\n",
       "      <td>...</td>\n",
       "      <td>...</td>\n",
       "    </tr>\n",
       "    <tr>\n",
       "      <th>16322</th>\n",
       "      <td>k127_162953_14</td>\n",
       "      <td>AGCCTTCATGCTAAAATCACCGTACACCAAACAAACTATCTAATGA...</td>\n",
       "    </tr>\n",
       "    <tr>\n",
       "      <th>16323</th>\n",
       "      <td>k127_162955_14</td>\n",
       "      <td>CAGGTTTACAGCTTAGAGATATTTGTAGAGGTGTTATTAGCAAAGA...</td>\n",
       "    </tr>\n",
       "    <tr>\n",
       "      <th>16324</th>\n",
       "      <td>k127_162959_14</td>\n",
       "      <td>GGCTTGCAGGCTAAAATGAACAGTACCGCTGCGCGCGAACGATACA...</td>\n",
       "    </tr>\n",
       "    <tr>\n",
       "      <th>16325</th>\n",
       "      <td>k127_162960_14</td>\n",
       "      <td>CGCTTTTCGTAAGGGCTGAAATCGTATTTTGCGCATGTCCATATGT...</td>\n",
       "    </tr>\n",
       "    <tr>\n",
       "      <th>16326</th>\n",
       "      <td>k127_162969_14</td>\n",
       "      <td>AGCTTTTACTTTACGCTCAATCATTCCAAAATCAAGCATTCCCTCA...</td>\n",
       "    </tr>\n",
       "  </tbody>\n",
       "</table>\n",
       "<p>16327 rows × 2 columns</p>\n",
       "</div>"
      ],
      "text/plain": [
       "                  ids                                                seq\n",
       "0       k127_20391_14  GCAGAAGCAGTGAAGACCGCTGGGTATGACAGCCTGGATGCTGCAA...\n",
       "1       k127_81555_14  ATCTAGGGCCGATCCAGGGGCATAATATCCCGACGATGGTACGTGC...\n",
       "2       k127_61173_14  ATCTTTCAGTCCCAGACGATAAAAAAATTCTTCTGTATCTGCTCCA...\n",
       "3       k127_20396_14  AAATTTTATTTATGTGGGTATCGATTTACACAAAGAAACCCACACA...\n",
       "4           k127_5_14  TTTTCATGAAAAATAACCTCTTTACAAATATAAGCTTGACATAAGT...\n",
       "...               ...                                                ...\n",
       "16322  k127_162953_14  AGCCTTCATGCTAAAATCACCGTACACCAAACAAACTATCTAATGA...\n",
       "16323  k127_162955_14  CAGGTTTACAGCTTAGAGATATTTGTAGAGGTGTTATTAGCAAAGA...\n",
       "16324  k127_162959_14  GGCTTGCAGGCTAAAATGAACAGTACCGCTGCGCGCGAACGATACA...\n",
       "16325  k127_162960_14  CGCTTTTCGTAAGGGCTGAAATCGTATTTTGCGCATGTCCATATGT...\n",
       "16326  k127_162969_14  AGCTTTTACTTTACGCTCAATCATTCCAAAATCAAGCATTCCCTCA...\n",
       "\n",
       "[16327 rows x 2 columns]"
      ]
     },
     "execution_count": 17,
     "metadata": {},
     "output_type": "execute_result"
    }
   ],
   "source": [
    "patient_14"
   ]
  },
  {
   "cell_type": "code",
   "execution_count": 18,
   "id": "95834220",
   "metadata": {},
   "outputs": [
    {
     "name": "stdout",
     "output_type": "stream",
     "text": [
      "There are no duplicate seq in the DataFrame.\n"
     ]
    }
   ],
   "source": [
    "# Assuming df_antibiotics_and_conjugate is your DataFrame\n",
    "# You can replace it with the name of your actual DataFrame\n",
    "\n",
    "# Check for duplicates in the \"ids\" column\n",
    "duplicates = patient_14[patient_14.duplicated('seq')]\n",
    "\n",
    "# If there are duplicates, duplicates DataFrame will contain those rows\n",
    "# If duplicates is empty, it means there are no duplicate ids\n",
    "if not duplicates.empty:\n",
    "    print(\"There are duplicate seq in the DataFrame:\")\n",
    "    print(duplicates)\n",
    "else:\n",
    "    print(\"There are no duplicate seq in the DataFrame.\")\n"
   ]
  },
  {
   "cell_type": "code",
   "execution_count": 19,
   "id": "61ed4981",
   "metadata": {},
   "outputs": [],
   "source": [
    "patient_ids = patient_14['ids'].tolist()\n",
    "patient_list = patient_14['seq'].tolist()\n"
   ]
  },
  {
   "cell_type": "code",
   "execution_count": 20,
   "id": "8a5e8940",
   "metadata": {},
   "outputs": [
    {
     "data": {
      "text/plain": [
       "16327"
      ]
     },
     "execution_count": 20,
     "metadata": {},
     "output_type": "execute_result"
    }
   ],
   "source": [
    "len(patient_ids)\n"
   ]
  },
  {
   "cell_type": "code",
   "execution_count": 21,
   "id": "3249cf73",
   "metadata": {},
   "outputs": [
    {
     "data": {
      "text/plain": [
       "16327"
      ]
     },
     "execution_count": 21,
     "metadata": {},
     "output_type": "execute_result"
    }
   ],
   "source": [
    "len(patient_list)"
   ]
  },
  {
   "cell_type": "code",
   "execution_count": null,
   "id": "c68efde5",
   "metadata": {},
   "outputs": [],
   "source": [
    "\n"
   ]
  },
  {
   "cell_type": "code",
   "execution_count": 22,
   "id": "55d78d3d",
   "metadata": {},
   "outputs": [
    {
     "name": "stdout",
     "output_type": "stream",
     "text": [
      "Time to generate images: 2094.450616836548 seconds\n"
     ]
    }
   ],
   "source": [
    "import time\n",
    "start_time = time.time()\n",
    "seq_num=[]\n",
    "\n",
    "\n",
    "all_seq = patient_list\n",
    "all_seq = [replace_ambiguous_bases(seq) for seq in all_seq]\n",
    "for sequence in all_seq:\n",
    "        seq_cgr = easy_cgr(sequence)\n",
    "        seq_num.append(seq_cgr)\n",
    "sequences = seq_num\n",
    "class_labels = patient_ids \n",
    "output_directory = \"patient_14_res_7\"\n",
    "kmeres=7\n",
    "\n",
    "if not os.path.exists(output_directory):\n",
    "    os.makedirs(output_directory)\n",
    "\n",
    "# Call the function to generate and save CGR images\n",
    "generate_and_save_cgr_images_label(sequences, class_labels, output_directory,kmeres)\n",
    "\n",
    "end_time = time.time()\n",
    "elapsed_time = end_time - start_time\n",
    "\n",
    "# Print the time taken\n",
    "print(f\"Time to generate images: {elapsed_time} seconds\")"
   ]
  },
  {
   "cell_type": "code",
   "execution_count": null,
   "id": "c75f58f8",
   "metadata": {},
   "outputs": [],
   "source": []
  },
  {
   "cell_type": "code",
   "execution_count": null,
   "id": "b3e2ebf0",
   "metadata": {},
   "outputs": [],
   "source": []
  },
  {
   "cell_type": "markdown",
   "id": "07d43e7c",
   "metadata": {},
   "source": [
    "###  Patient 15"
   ]
  },
  {
   "cell_type": "code",
   "execution_count": 23,
   "id": "061bc157",
   "metadata": {
    "scrolled": true
   },
   "outputs": [],
   "source": [
    "import pandas as pd\n",
    "\n",
    "file_name = \"Patient15.contigs.fa\"\n",
    "fasta_sequences = read_fasta_ARG(file_name)"
   ]
  },
  {
   "cell_type": "code",
   "execution_count": 24,
   "id": "3bf66e7c",
   "metadata": {},
   "outputs": [],
   "source": [
    "# Convert to DataFrame\n",
    "patient_15 = pd.DataFrame(fasta_sequences, columns=[ 'ids', 'seq'])\n"
   ]
  },
  {
   "cell_type": "code",
   "execution_count": 25,
   "id": "48b7892e",
   "metadata": {},
   "outputs": [
    {
     "data": {
      "text/html": [
       "<div>\n",
       "<style scoped>\n",
       "    .dataframe tbody tr th:only-of-type {\n",
       "        vertical-align: middle;\n",
       "    }\n",
       "\n",
       "    .dataframe tbody tr th {\n",
       "        vertical-align: top;\n",
       "    }\n",
       "\n",
       "    .dataframe thead th {\n",
       "        text-align: right;\n",
       "    }\n",
       "</style>\n",
       "<table border=\"1\" class=\"dataframe\">\n",
       "  <thead>\n",
       "    <tr style=\"text-align: right;\">\n",
       "      <th></th>\n",
       "      <th>ids</th>\n",
       "      <th>seq</th>\n",
       "    </tr>\n",
       "  </thead>\n",
       "  <tbody>\n",
       "    <tr>\n",
       "      <th>0</th>\n",
       "      <td>k127_18421 flag=1 multi=5.0000 len=2775</td>\n",
       "      <td>ATTTTCATTCTTGAAAGGGGGGTTCGATTCCCCCACGGGCTACAAT...</td>\n",
       "    </tr>\n",
       "    <tr>\n",
       "      <th>1</th>\n",
       "      <td>k127_128939 flag=1 multi=4.0000 len=2558</td>\n",
       "      <td>TGGCGGACCTGCGCCGCTGCCTGGAGGACGCCAGGGCCTCCGGCTG...</td>\n",
       "    </tr>\n",
       "    <tr>\n",
       "      <th>2</th>\n",
       "      <td>k127_36846 flag=1 multi=5.0000 len=2670</td>\n",
       "      <td>GTAAACTTCTTCCTTATCTGGGTTTTTATGGCGATGAGGGGGTAAA...</td>\n",
       "    </tr>\n",
       "    <tr>\n",
       "      <th>3</th>\n",
       "      <td>k127_55260 flag=1 multi=7.0000 len=5387</td>\n",
       "      <td>AGTCGTATTGACCTGAGCGCAGGTGGGCGGCTCGCTGTTGTCGGCA...</td>\n",
       "    </tr>\n",
       "    <tr>\n",
       "      <th>4</th>\n",
       "      <td>k127_55263 flag=1 multi=16.0000 len=3916</td>\n",
       "      <td>GCCCACCCCCACCCCGCGTCCCTCGCTCAGCTTTACCTACGGCGAT...</td>\n",
       "    </tr>\n",
       "    <tr>\n",
       "      <th>...</th>\n",
       "      <td>...</td>\n",
       "      <td>...</td>\n",
       "    </tr>\n",
       "    <tr>\n",
       "      <th>13482</th>\n",
       "      <td>k127_55227 flag=1 multi=6.0000 len=4027</td>\n",
       "      <td>ATATATTGACACACCCCTGGGTTTCCTCGTATAGTTTAGGGGCGAA...</td>\n",
       "    </tr>\n",
       "    <tr>\n",
       "      <th>13483</th>\n",
       "      <td>k127_55237 flag=1 multi=10.0000 len=20113</td>\n",
       "      <td>AAACTGTATCCTGACGCCGCATGTCGCGGGCGTGAGCTTCGGCCAC...</td>\n",
       "    </tr>\n",
       "    <tr>\n",
       "      <th>13484</th>\n",
       "      <td>k127_55240 flag=1 multi=7.0000 len=4970</td>\n",
       "      <td>GATGAGCCGGATACCGTTCCCATCAGGCCGGAGCTGACTACCGCGA...</td>\n",
       "    </tr>\n",
       "    <tr>\n",
       "      <th>13485</th>\n",
       "      <td>k127_55255 flag=1 multi=9.0000 len=47451</td>\n",
       "      <td>ATCCAAAGACTCTGGGAAATCTACCGTTTTCAAGCATAGTCATATT...</td>\n",
       "    </tr>\n",
       "    <tr>\n",
       "      <th>13486</th>\n",
       "      <td>k127_55258 flag=1 multi=5.0000 len=2964</td>\n",
       "      <td>GCCGCGTGCTGCGTGTCGAACGCGCCGACGCCGCGGCGGCGAGCCA...</td>\n",
       "    </tr>\n",
       "  </tbody>\n",
       "</table>\n",
       "<p>13487 rows × 2 columns</p>\n",
       "</div>"
      ],
      "text/plain": [
       "                                             ids  \\\n",
       "0        k127_18421 flag=1 multi=5.0000 len=2775   \n",
       "1       k127_128939 flag=1 multi=4.0000 len=2558   \n",
       "2        k127_36846 flag=1 multi=5.0000 len=2670   \n",
       "3        k127_55260 flag=1 multi=7.0000 len=5387   \n",
       "4       k127_55263 flag=1 multi=16.0000 len=3916   \n",
       "...                                          ...   \n",
       "13482    k127_55227 flag=1 multi=6.0000 len=4027   \n",
       "13483  k127_55237 flag=1 multi=10.0000 len=20113   \n",
       "13484    k127_55240 flag=1 multi=7.0000 len=4970   \n",
       "13485   k127_55255 flag=1 multi=9.0000 len=47451   \n",
       "13486    k127_55258 flag=1 multi=5.0000 len=2964   \n",
       "\n",
       "                                                     seq  \n",
       "0      ATTTTCATTCTTGAAAGGGGGGTTCGATTCCCCCACGGGCTACAAT...  \n",
       "1      TGGCGGACCTGCGCCGCTGCCTGGAGGACGCCAGGGCCTCCGGCTG...  \n",
       "2      GTAAACTTCTTCCTTATCTGGGTTTTTATGGCGATGAGGGGGTAAA...  \n",
       "3      AGTCGTATTGACCTGAGCGCAGGTGGGCGGCTCGCTGTTGTCGGCA...  \n",
       "4      GCCCACCCCCACCCCGCGTCCCTCGCTCAGCTTTACCTACGGCGAT...  \n",
       "...                                                  ...  \n",
       "13482  ATATATTGACACACCCCTGGGTTTCCTCGTATAGTTTAGGGGCGAA...  \n",
       "13483  AAACTGTATCCTGACGCCGCATGTCGCGGGCGTGAGCTTCGGCCAC...  \n",
       "13484  GATGAGCCGGATACCGTTCCCATCAGGCCGGAGCTGACTACCGCGA...  \n",
       "13485  ATCCAAAGACTCTGGGAAATCTACCGTTTTCAAGCATAGTCATATT...  \n",
       "13486  GCCGCGTGCTGCGTGTCGAACGCGCCGACGCCGCGGCGGCGAGCCA...  \n",
       "\n",
       "[13487 rows x 2 columns]"
      ]
     },
     "execution_count": 25,
     "metadata": {},
     "output_type": "execute_result"
    }
   ],
   "source": [
    "patient_15"
   ]
  },
  {
   "cell_type": "code",
   "execution_count": 26,
   "id": "0baaf626",
   "metadata": {
    "scrolled": false
   },
   "outputs": [],
   "source": [
    "# Define a function to extract the desired pattern\n",
    "def extract_id_15(string):\n",
    "    match = re.search(r'(k127_\\d+)', string)\n",
    "    if match:\n",
    "        return match.group(1) + '_15'\n",
    "    else:\n",
    "        return None\n",
    "\n",
    "# Apply the function to the 'ids' column\n",
    "patient_15['ids'] = patient_15['ids'].apply(extract_id_15)\n",
    "\n"
   ]
  },
  {
   "cell_type": "code",
   "execution_count": 27,
   "id": "b11bc8fb",
   "metadata": {},
   "outputs": [
    {
     "data": {
      "text/html": [
       "<div>\n",
       "<style scoped>\n",
       "    .dataframe tbody tr th:only-of-type {\n",
       "        vertical-align: middle;\n",
       "    }\n",
       "\n",
       "    .dataframe tbody tr th {\n",
       "        vertical-align: top;\n",
       "    }\n",
       "\n",
       "    .dataframe thead th {\n",
       "        text-align: right;\n",
       "    }\n",
       "</style>\n",
       "<table border=\"1\" class=\"dataframe\">\n",
       "  <thead>\n",
       "    <tr style=\"text-align: right;\">\n",
       "      <th></th>\n",
       "      <th>ids</th>\n",
       "      <th>seq</th>\n",
       "    </tr>\n",
       "  </thead>\n",
       "  <tbody>\n",
       "    <tr>\n",
       "      <th>0</th>\n",
       "      <td>k127_18421_15</td>\n",
       "      <td>ATTTTCATTCTTGAAAGGGGGGTTCGATTCCCCCACGGGCTACAAT...</td>\n",
       "    </tr>\n",
       "    <tr>\n",
       "      <th>1</th>\n",
       "      <td>k127_128939_15</td>\n",
       "      <td>TGGCGGACCTGCGCCGCTGCCTGGAGGACGCCAGGGCCTCCGGCTG...</td>\n",
       "    </tr>\n",
       "    <tr>\n",
       "      <th>2</th>\n",
       "      <td>k127_36846_15</td>\n",
       "      <td>GTAAACTTCTTCCTTATCTGGGTTTTTATGGCGATGAGGGGGTAAA...</td>\n",
       "    </tr>\n",
       "    <tr>\n",
       "      <th>3</th>\n",
       "      <td>k127_55260_15</td>\n",
       "      <td>AGTCGTATTGACCTGAGCGCAGGTGGGCGGCTCGCTGTTGTCGGCA...</td>\n",
       "    </tr>\n",
       "    <tr>\n",
       "      <th>4</th>\n",
       "      <td>k127_55263_15</td>\n",
       "      <td>GCCCACCCCCACCCCGCGTCCCTCGCTCAGCTTTACCTACGGCGAT...</td>\n",
       "    </tr>\n",
       "    <tr>\n",
       "      <th>...</th>\n",
       "      <td>...</td>\n",
       "      <td>...</td>\n",
       "    </tr>\n",
       "    <tr>\n",
       "      <th>13482</th>\n",
       "      <td>k127_55227_15</td>\n",
       "      <td>ATATATTGACACACCCCTGGGTTTCCTCGTATAGTTTAGGGGCGAA...</td>\n",
       "    </tr>\n",
       "    <tr>\n",
       "      <th>13483</th>\n",
       "      <td>k127_55237_15</td>\n",
       "      <td>AAACTGTATCCTGACGCCGCATGTCGCGGGCGTGAGCTTCGGCCAC...</td>\n",
       "    </tr>\n",
       "    <tr>\n",
       "      <th>13484</th>\n",
       "      <td>k127_55240_15</td>\n",
       "      <td>GATGAGCCGGATACCGTTCCCATCAGGCCGGAGCTGACTACCGCGA...</td>\n",
       "    </tr>\n",
       "    <tr>\n",
       "      <th>13485</th>\n",
       "      <td>k127_55255_15</td>\n",
       "      <td>ATCCAAAGACTCTGGGAAATCTACCGTTTTCAAGCATAGTCATATT...</td>\n",
       "    </tr>\n",
       "    <tr>\n",
       "      <th>13486</th>\n",
       "      <td>k127_55258_15</td>\n",
       "      <td>GCCGCGTGCTGCGTGTCGAACGCGCCGACGCCGCGGCGGCGAGCCA...</td>\n",
       "    </tr>\n",
       "  </tbody>\n",
       "</table>\n",
       "<p>13487 rows × 2 columns</p>\n",
       "</div>"
      ],
      "text/plain": [
       "                  ids                                                seq\n",
       "0       k127_18421_15  ATTTTCATTCTTGAAAGGGGGGTTCGATTCCCCCACGGGCTACAAT...\n",
       "1      k127_128939_15  TGGCGGACCTGCGCCGCTGCCTGGAGGACGCCAGGGCCTCCGGCTG...\n",
       "2       k127_36846_15  GTAAACTTCTTCCTTATCTGGGTTTTTATGGCGATGAGGGGGTAAA...\n",
       "3       k127_55260_15  AGTCGTATTGACCTGAGCGCAGGTGGGCGGCTCGCTGTTGTCGGCA...\n",
       "4       k127_55263_15  GCCCACCCCCACCCCGCGTCCCTCGCTCAGCTTTACCTACGGCGAT...\n",
       "...               ...                                                ...\n",
       "13482   k127_55227_15  ATATATTGACACACCCCTGGGTTTCCTCGTATAGTTTAGGGGCGAA...\n",
       "13483   k127_55237_15  AAACTGTATCCTGACGCCGCATGTCGCGGGCGTGAGCTTCGGCCAC...\n",
       "13484   k127_55240_15  GATGAGCCGGATACCGTTCCCATCAGGCCGGAGCTGACTACCGCGA...\n",
       "13485   k127_55255_15  ATCCAAAGACTCTGGGAAATCTACCGTTTTCAAGCATAGTCATATT...\n",
       "13486   k127_55258_15  GCCGCGTGCTGCGTGTCGAACGCGCCGACGCCGCGGCGGCGAGCCA...\n",
       "\n",
       "[13487 rows x 2 columns]"
      ]
     },
     "execution_count": 27,
     "metadata": {},
     "output_type": "execute_result"
    }
   ],
   "source": [
    "patient_15"
   ]
  },
  {
   "cell_type": "code",
   "execution_count": 28,
   "id": "0ea715ba",
   "metadata": {},
   "outputs": [
    {
     "name": "stdout",
     "output_type": "stream",
     "text": [
      "There are no duplicate seq in the DataFrame.\n"
     ]
    }
   ],
   "source": [
    "# Assuming df_antibiotics_and_conjugate is your DataFrame\n",
    "# You can replace it with the name of your actual DataFrame\n",
    "\n",
    "# Check for duplicates in the \"ids\" column\n",
    "duplicates = patient_15[patient_15.duplicated('seq')]\n",
    "\n",
    "# If there are duplicates, duplicates DataFrame will contain those rows\n",
    "# If duplicates is empty, it means there are no duplicate ids\n",
    "if not duplicates.empty:\n",
    "    print(\"There are duplicate seq in the DataFrame:\")\n",
    "    print(duplicates)\n",
    "else:\n",
    "    print(\"There are no duplicate seq in the DataFrame.\")\n"
   ]
  },
  {
   "cell_type": "code",
   "execution_count": 29,
   "id": "d4cc529d",
   "metadata": {},
   "outputs": [],
   "source": [
    "patient_ids = patient_15['ids'].tolist()\n",
    "patient_list = patient_15['seq'].tolist()\n"
   ]
  },
  {
   "cell_type": "code",
   "execution_count": 30,
   "id": "661f347b",
   "metadata": {},
   "outputs": [
    {
     "data": {
      "text/plain": [
       "13487"
      ]
     },
     "execution_count": 30,
     "metadata": {},
     "output_type": "execute_result"
    }
   ],
   "source": [
    "len(patient_ids)\n"
   ]
  },
  {
   "cell_type": "code",
   "execution_count": 31,
   "id": "bbb1afa2",
   "metadata": {},
   "outputs": [
    {
     "data": {
      "text/plain": [
       "13487"
      ]
     },
     "execution_count": 31,
     "metadata": {},
     "output_type": "execute_result"
    }
   ],
   "source": [
    "len(patient_list)"
   ]
  },
  {
   "cell_type": "code",
   "execution_count": 32,
   "id": "07d7405a",
   "metadata": {},
   "outputs": [
    {
     "name": "stdout",
     "output_type": "stream",
     "text": [
      "Time to generate images: 2072.1546075344086 seconds\n"
     ]
    }
   ],
   "source": [
    "import time\n",
    "start_time = time.time()\n",
    "seq_num=[]\n",
    "\n",
    "\n",
    "all_seq = patient_list\n",
    "all_seq = [replace_ambiguous_bases(seq) for seq in all_seq]\n",
    "for sequence in all_seq:\n",
    "        seq_cgr = easy_cgr(sequence)\n",
    "        seq_num.append(seq_cgr)\n",
    "sequences = seq_num\n",
    "class_labels = patient_ids \n",
    "output_directory = \"patient_15_res_7\"\n",
    "kmeres=7\n",
    "\n",
    "if not os.path.exists(output_directory):\n",
    "    os.makedirs(output_directory)\n",
    "\n",
    "# Call the function to generate and save CGR images\n",
    "generate_and_save_cgr_images_label(sequences, class_labels, output_directory,kmeres)\n",
    "\n",
    "end_time = time.time()\n",
    "elapsed_time = end_time - start_time\n",
    "\n",
    "# Print the time taken\n",
    "print(f\"Time to generate images: {elapsed_time} seconds\")"
   ]
  },
  {
   "cell_type": "code",
   "execution_count": null,
   "id": "d0c154b5",
   "metadata": {},
   "outputs": [],
   "source": []
  },
  {
   "cell_type": "code",
   "execution_count": null,
   "id": "56e9e6bd",
   "metadata": {},
   "outputs": [],
   "source": []
  },
  {
   "cell_type": "code",
   "execution_count": null,
   "id": "0bc20979",
   "metadata": {},
   "outputs": [],
   "source": []
  },
  {
   "cell_type": "markdown",
   "id": "cb3bd479",
   "metadata": {},
   "source": [
    "###  Healthy 19"
   ]
  },
  {
   "cell_type": "code",
   "execution_count": 33,
   "id": "546721b1",
   "metadata": {
    "scrolled": true
   },
   "outputs": [],
   "source": [
    "import pandas as pd\n",
    "\n",
    "file_name = \"Healthy19.contigs.fa\"\n",
    "fasta_sequences = read_fasta_ARG(file_name)"
   ]
  },
  {
   "cell_type": "code",
   "execution_count": 34,
   "id": "1b4aa256",
   "metadata": {},
   "outputs": [],
   "source": [
    "# Convert to DataFrame\n",
    "healthy_19 = pd.DataFrame(fasta_sequences, columns=[ 'ids', 'seq'])\n"
   ]
  },
  {
   "cell_type": "code",
   "execution_count": 35,
   "id": "b3e03a28",
   "metadata": {},
   "outputs": [
    {
     "data": {
      "text/html": [
       "<div>\n",
       "<style scoped>\n",
       "    .dataframe tbody tr th:only-of-type {\n",
       "        vertical-align: middle;\n",
       "    }\n",
       "\n",
       "    .dataframe tbody tr th {\n",
       "        vertical-align: top;\n",
       "    }\n",
       "\n",
       "    .dataframe thead th {\n",
       "        text-align: right;\n",
       "    }\n",
       "</style>\n",
       "<table border=\"1\" class=\"dataframe\">\n",
       "  <thead>\n",
       "    <tr style=\"text-align: right;\">\n",
       "      <th></th>\n",
       "      <th>ids</th>\n",
       "      <th>seq</th>\n",
       "    </tr>\n",
       "  </thead>\n",
       "  <tbody>\n",
       "    <tr>\n",
       "      <th>0</th>\n",
       "      <td>k127_82980 flag=1 multi=5.0000 len=2774</td>\n",
       "      <td>TGGAAGTGCAGACGGGCTTCTTGCTTTCTGTAAAGGAATTCAGGCT...</td>\n",
       "    </tr>\n",
       "    <tr>\n",
       "      <th>1</th>\n",
       "      <td>k127_128619 flag=0 multi=18.1557 len=3351</td>\n",
       "      <td>GGGGAAGCAGCGCCGTAGGCGCTGCACATTGATCCCTGCACCGTGC...</td>\n",
       "    </tr>\n",
       "    <tr>\n",
       "      <th>2</th>\n",
       "      <td>k127_53939 flag=1 multi=5.0000 len=3742</td>\n",
       "      <td>ACCGCCCCTGTTTCCTCCGGTTCTTCCTCCAGTCGTTTCCGCGTCC...</td>\n",
       "    </tr>\n",
       "    <tr>\n",
       "      <th>3</th>\n",
       "      <td>k127_120322 flag=1 multi=7.0000 len=4239</td>\n",
       "      <td>GGCATGAGGACAGAAAAACGGCGGTATTTTCAAGTTACGGTGAATA...</td>\n",
       "    </tr>\n",
       "    <tr>\n",
       "      <th>4</th>\n",
       "      <td>k127_103725 flag=1 multi=10.0000 len=5480</td>\n",
       "      <td>TTAATATATGGAATATATGGAAGTTAAAAAATTGGTAAGTTTTTTG...</td>\n",
       "    </tr>\n",
       "    <tr>\n",
       "      <th>...</th>\n",
       "      <td>...</td>\n",
       "      <td>...</td>\n",
       "    </tr>\n",
       "    <tr>\n",
       "      <th>14455</th>\n",
       "      <td>k127_165823 flag=3 multi=91.0169 len=5525</td>\n",
       "      <td>ATTCGAGGATTGGACATGGTAGAGCAATATGAAATATATTGGGTGG...</td>\n",
       "    </tr>\n",
       "    <tr>\n",
       "      <th>14456</th>\n",
       "      <td>k127_165825 flag=3 multi=17.9814 len=8846</td>\n",
       "      <td>CTTCGAGCTGCACCGTCCATGCAGAAAGCCCCTGATCCACTCTGGT...</td>\n",
       "    </tr>\n",
       "    <tr>\n",
       "      <th>14457</th>\n",
       "      <td>k127_165827 flag=3 multi=21.0033 len=6436</td>\n",
       "      <td>GACGAGTCGCAGACCTATAAAATGTGTTGGAAACATGTTAAAAAGT...</td>\n",
       "    </tr>\n",
       "    <tr>\n",
       "      <th>14458</th>\n",
       "      <td>k127_165837 flag=3 multi=29.0046 len=6496</td>\n",
       "      <td>CTGAAGATCCCGGCTCCATTCGGCCTTCATCTTCTCAAGCCGTTCA...</td>\n",
       "    </tr>\n",
       "    <tr>\n",
       "      <th>14459</th>\n",
       "      <td>k127_165848 flag=3 multi=140.5478 len=2911</td>\n",
       "      <td>ATGTAACCCCCCCCCGCCCCCAAAGGGGGAGCGACCAAACGGCAGC...</td>\n",
       "    </tr>\n",
       "  </tbody>\n",
       "</table>\n",
       "<p>14460 rows × 2 columns</p>\n",
       "</div>"
      ],
      "text/plain": [
       "                                              ids  \\\n",
       "0         k127_82980 flag=1 multi=5.0000 len=2774   \n",
       "1       k127_128619 flag=0 multi=18.1557 len=3351   \n",
       "2         k127_53939 flag=1 multi=5.0000 len=3742   \n",
       "3        k127_120322 flag=1 multi=7.0000 len=4239   \n",
       "4       k127_103725 flag=1 multi=10.0000 len=5480   \n",
       "...                                           ...   \n",
       "14455   k127_165823 flag=3 multi=91.0169 len=5525   \n",
       "14456   k127_165825 flag=3 multi=17.9814 len=8846   \n",
       "14457   k127_165827 flag=3 multi=21.0033 len=6436   \n",
       "14458   k127_165837 flag=3 multi=29.0046 len=6496   \n",
       "14459  k127_165848 flag=3 multi=140.5478 len=2911   \n",
       "\n",
       "                                                     seq  \n",
       "0      TGGAAGTGCAGACGGGCTTCTTGCTTTCTGTAAAGGAATTCAGGCT...  \n",
       "1      GGGGAAGCAGCGCCGTAGGCGCTGCACATTGATCCCTGCACCGTGC...  \n",
       "2      ACCGCCCCTGTTTCCTCCGGTTCTTCCTCCAGTCGTTTCCGCGTCC...  \n",
       "3      GGCATGAGGACAGAAAAACGGCGGTATTTTCAAGTTACGGTGAATA...  \n",
       "4      TTAATATATGGAATATATGGAAGTTAAAAAATTGGTAAGTTTTTTG...  \n",
       "...                                                  ...  \n",
       "14455  ATTCGAGGATTGGACATGGTAGAGCAATATGAAATATATTGGGTGG...  \n",
       "14456  CTTCGAGCTGCACCGTCCATGCAGAAAGCCCCTGATCCACTCTGGT...  \n",
       "14457  GACGAGTCGCAGACCTATAAAATGTGTTGGAAACATGTTAAAAAGT...  \n",
       "14458  CTGAAGATCCCGGCTCCATTCGGCCTTCATCTTCTCAAGCCGTTCA...  \n",
       "14459  ATGTAACCCCCCCCCGCCCCCAAAGGGGGAGCGACCAAACGGCAGC...  \n",
       "\n",
       "[14460 rows x 2 columns]"
      ]
     },
     "execution_count": 35,
     "metadata": {},
     "output_type": "execute_result"
    }
   ],
   "source": [
    "healthy_19"
   ]
  },
  {
   "cell_type": "code",
   "execution_count": 36,
   "id": "33d16fdf",
   "metadata": {
    "scrolled": false
   },
   "outputs": [],
   "source": [
    "# Define a function to extract the desired pattern\n",
    "def extract_id_19(string):\n",
    "    match = re.search(r'(k127_\\d+)', string)\n",
    "    if match:\n",
    "        return match.group(1) + '_19'\n",
    "    else:\n",
    "        return None\n",
    "\n",
    "# Apply the function to the 'ids' column\n",
    "healthy_19['ids'] = healthy_19['ids'].apply(extract_id_19)\n",
    "\n"
   ]
  },
  {
   "cell_type": "code",
   "execution_count": 37,
   "id": "4ec721c3",
   "metadata": {},
   "outputs": [
    {
     "data": {
      "text/html": [
       "<div>\n",
       "<style scoped>\n",
       "    .dataframe tbody tr th:only-of-type {\n",
       "        vertical-align: middle;\n",
       "    }\n",
       "\n",
       "    .dataframe tbody tr th {\n",
       "        vertical-align: top;\n",
       "    }\n",
       "\n",
       "    .dataframe thead th {\n",
       "        text-align: right;\n",
       "    }\n",
       "</style>\n",
       "<table border=\"1\" class=\"dataframe\">\n",
       "  <thead>\n",
       "    <tr style=\"text-align: right;\">\n",
       "      <th></th>\n",
       "      <th>ids</th>\n",
       "      <th>seq</th>\n",
       "    </tr>\n",
       "  </thead>\n",
       "  <tbody>\n",
       "    <tr>\n",
       "      <th>0</th>\n",
       "      <td>k127_82980_19</td>\n",
       "      <td>TGGAAGTGCAGACGGGCTTCTTGCTTTCTGTAAAGGAATTCAGGCT...</td>\n",
       "    </tr>\n",
       "    <tr>\n",
       "      <th>1</th>\n",
       "      <td>k127_128619_19</td>\n",
       "      <td>GGGGAAGCAGCGCCGTAGGCGCTGCACATTGATCCCTGCACCGTGC...</td>\n",
       "    </tr>\n",
       "    <tr>\n",
       "      <th>2</th>\n",
       "      <td>k127_53939_19</td>\n",
       "      <td>ACCGCCCCTGTTTCCTCCGGTTCTTCCTCCAGTCGTTTCCGCGTCC...</td>\n",
       "    </tr>\n",
       "    <tr>\n",
       "      <th>3</th>\n",
       "      <td>k127_120322_19</td>\n",
       "      <td>GGCATGAGGACAGAAAAACGGCGGTATTTTCAAGTTACGGTGAATA...</td>\n",
       "    </tr>\n",
       "    <tr>\n",
       "      <th>4</th>\n",
       "      <td>k127_103725_19</td>\n",
       "      <td>TTAATATATGGAATATATGGAAGTTAAAAAATTGGTAAGTTTTTTG...</td>\n",
       "    </tr>\n",
       "    <tr>\n",
       "      <th>...</th>\n",
       "      <td>...</td>\n",
       "      <td>...</td>\n",
       "    </tr>\n",
       "    <tr>\n",
       "      <th>14455</th>\n",
       "      <td>k127_165823_19</td>\n",
       "      <td>ATTCGAGGATTGGACATGGTAGAGCAATATGAAATATATTGGGTGG...</td>\n",
       "    </tr>\n",
       "    <tr>\n",
       "      <th>14456</th>\n",
       "      <td>k127_165825_19</td>\n",
       "      <td>CTTCGAGCTGCACCGTCCATGCAGAAAGCCCCTGATCCACTCTGGT...</td>\n",
       "    </tr>\n",
       "    <tr>\n",
       "      <th>14457</th>\n",
       "      <td>k127_165827_19</td>\n",
       "      <td>GACGAGTCGCAGACCTATAAAATGTGTTGGAAACATGTTAAAAAGT...</td>\n",
       "    </tr>\n",
       "    <tr>\n",
       "      <th>14458</th>\n",
       "      <td>k127_165837_19</td>\n",
       "      <td>CTGAAGATCCCGGCTCCATTCGGCCTTCATCTTCTCAAGCCGTTCA...</td>\n",
       "    </tr>\n",
       "    <tr>\n",
       "      <th>14459</th>\n",
       "      <td>k127_165848_19</td>\n",
       "      <td>ATGTAACCCCCCCCCGCCCCCAAAGGGGGAGCGACCAAACGGCAGC...</td>\n",
       "    </tr>\n",
       "  </tbody>\n",
       "</table>\n",
       "<p>14460 rows × 2 columns</p>\n",
       "</div>"
      ],
      "text/plain": [
       "                  ids                                                seq\n",
       "0       k127_82980_19  TGGAAGTGCAGACGGGCTTCTTGCTTTCTGTAAAGGAATTCAGGCT...\n",
       "1      k127_128619_19  GGGGAAGCAGCGCCGTAGGCGCTGCACATTGATCCCTGCACCGTGC...\n",
       "2       k127_53939_19  ACCGCCCCTGTTTCCTCCGGTTCTTCCTCCAGTCGTTTCCGCGTCC...\n",
       "3      k127_120322_19  GGCATGAGGACAGAAAAACGGCGGTATTTTCAAGTTACGGTGAATA...\n",
       "4      k127_103725_19  TTAATATATGGAATATATGGAAGTTAAAAAATTGGTAAGTTTTTTG...\n",
       "...               ...                                                ...\n",
       "14455  k127_165823_19  ATTCGAGGATTGGACATGGTAGAGCAATATGAAATATATTGGGTGG...\n",
       "14456  k127_165825_19  CTTCGAGCTGCACCGTCCATGCAGAAAGCCCCTGATCCACTCTGGT...\n",
       "14457  k127_165827_19  GACGAGTCGCAGACCTATAAAATGTGTTGGAAACATGTTAAAAAGT...\n",
       "14458  k127_165837_19  CTGAAGATCCCGGCTCCATTCGGCCTTCATCTTCTCAAGCCGTTCA...\n",
       "14459  k127_165848_19  ATGTAACCCCCCCCCGCCCCCAAAGGGGGAGCGACCAAACGGCAGC...\n",
       "\n",
       "[14460 rows x 2 columns]"
      ]
     },
     "execution_count": 37,
     "metadata": {},
     "output_type": "execute_result"
    }
   ],
   "source": [
    "healthy_19"
   ]
  },
  {
   "cell_type": "code",
   "execution_count": 38,
   "id": "56ded77d",
   "metadata": {},
   "outputs": [
    {
     "name": "stdout",
     "output_type": "stream",
     "text": [
      "There are no duplicate seq in the DataFrame.\n"
     ]
    }
   ],
   "source": [
    "# Assuming df_antibiotics_and_conjugate is your DataFrame\n",
    "# You can replace it with the name of your actual DataFrame\n",
    "\n",
    "# Check for duplicates in the \"ids\" column\n",
    "duplicates = healthy_19[healthy_19.duplicated('seq')]\n",
    "\n",
    "# If there are duplicates, duplicates DataFrame will contain those rows\n",
    "# If duplicates is empty, it means there are no duplicate ids\n",
    "if not duplicates.empty:\n",
    "    print(\"There are duplicate seq in the DataFrame:\")\n",
    "    print(duplicates)\n",
    "else:\n",
    "    print(\"There are no duplicate seq in the DataFrame.\")\n"
   ]
  },
  {
   "cell_type": "code",
   "execution_count": 39,
   "id": "5687d3bc",
   "metadata": {},
   "outputs": [],
   "source": [
    "healthy_ids = healthy_19['ids'].tolist()\n",
    "healthy_list = healthy_19['seq'].tolist()\n"
   ]
  },
  {
   "cell_type": "code",
   "execution_count": 40,
   "id": "45205df9",
   "metadata": {},
   "outputs": [
    {
     "data": {
      "text/plain": [
       "14460"
      ]
     },
     "execution_count": 40,
     "metadata": {},
     "output_type": "execute_result"
    }
   ],
   "source": [
    "len(healthy_ids)\n"
   ]
  },
  {
   "cell_type": "code",
   "execution_count": 41,
   "id": "6f28bdee",
   "metadata": {},
   "outputs": [
    {
     "data": {
      "text/plain": [
       "14460"
      ]
     },
     "execution_count": 41,
     "metadata": {},
     "output_type": "execute_result"
    }
   ],
   "source": [
    "len(healthy_list)"
   ]
  },
  {
   "cell_type": "code",
   "execution_count": 42,
   "id": "306bae01",
   "metadata": {},
   "outputs": [
    {
     "name": "stdout",
     "output_type": "stream",
     "text": [
      "Time to generate images: 2140.036254644394 seconds\n"
     ]
    }
   ],
   "source": [
    "import time\n",
    "start_time = time.time()\n",
    "seq_num=[]\n",
    "\n",
    "\n",
    "all_seq = healthy_list\n",
    "all_seq = [replace_ambiguous_bases(seq) for seq in all_seq]\n",
    "for sequence in all_seq:\n",
    "        seq_cgr = easy_cgr(sequence)\n",
    "        seq_num.append(seq_cgr)\n",
    "sequences = seq_num\n",
    "class_labels = healthy_ids \n",
    "output_directory = \"healthy_19_res_7\"\n",
    "kmeres=7\n",
    "\n",
    "if not os.path.exists(output_directory):\n",
    "    os.makedirs(output_directory)\n",
    "\n",
    "# Call the function to generate and save CGR images\n",
    "generate_and_save_cgr_images_label(sequences, class_labels, output_directory,kmeres)\n",
    "\n",
    "end_time = time.time()\n",
    "elapsed_time = end_time - start_time\n",
    "\n",
    "# Print the time taken\n",
    "print(f\"Time to generate images: {elapsed_time} seconds\")"
   ]
  },
  {
   "cell_type": "code",
   "execution_count": null,
   "id": "2e66e14c",
   "metadata": {},
   "outputs": [],
   "source": []
  },
  {
   "cell_type": "code",
   "execution_count": null,
   "id": "8777d118",
   "metadata": {},
   "outputs": [],
   "source": []
  },
  {
   "cell_type": "markdown",
   "id": "264487bb",
   "metadata": {},
   "source": [
    "###  Healthy 20"
   ]
  },
  {
   "cell_type": "code",
   "execution_count": 43,
   "id": "90f8aea1",
   "metadata": {
    "scrolled": true
   },
   "outputs": [],
   "source": [
    "import pandas as pd\n",
    "\n",
    "file_name = \"Healthy20.contigs.fa\"\n",
    "fasta_sequences = read_fasta_ARG(file_name)"
   ]
  },
  {
   "cell_type": "code",
   "execution_count": 44,
   "id": "abc9cb71",
   "metadata": {},
   "outputs": [],
   "source": [
    "# Convert to DataFrame\n",
    "healthy_20 = pd.DataFrame(fasta_sequences, columns=[ 'ids', 'seq'])\n"
   ]
  },
  {
   "cell_type": "code",
   "execution_count": 45,
   "id": "b05c7bf1",
   "metadata": {},
   "outputs": [
    {
     "data": {
      "text/html": [
       "<div>\n",
       "<style scoped>\n",
       "    .dataframe tbody tr th:only-of-type {\n",
       "        vertical-align: middle;\n",
       "    }\n",
       "\n",
       "    .dataframe tbody tr th {\n",
       "        vertical-align: top;\n",
       "    }\n",
       "\n",
       "    .dataframe thead th {\n",
       "        text-align: right;\n",
       "    }\n",
       "</style>\n",
       "<table border=\"1\" class=\"dataframe\">\n",
       "  <thead>\n",
       "    <tr style=\"text-align: right;\">\n",
       "      <th></th>\n",
       "      <th>ids</th>\n",
       "      <th>seq</th>\n",
       "    </tr>\n",
       "  </thead>\n",
       "  <tbody>\n",
       "    <tr>\n",
       "      <th>0</th>\n",
       "      <td>k127_30519 flag=1 multi=3.3628 len=2875</td>\n",
       "      <td>ATATATATGTATGCCCTATGCACTACACAGTATCATTAGAAAGACA...</td>\n",
       "    </tr>\n",
       "    <tr>\n",
       "      <th>1</th>\n",
       "      <td>k127_54251 flag=0 multi=8.0000 len=3052</td>\n",
       "      <td>AGATGCTTACAAGGAATTAAATCCGGCAGATGTAGCTTACTATGAT...</td>\n",
       "    </tr>\n",
       "    <tr>\n",
       "      <th>2</th>\n",
       "      <td>k127_91540 flag=1 multi=6.0000 len=2527</td>\n",
       "      <td>CCTTATTGTTTAACGATGAAAAGAATATTGACAATCGTATAGGAGA...</td>\n",
       "    </tr>\n",
       "    <tr>\n",
       "      <th>3</th>\n",
       "      <td>k127_98319 flag=1 multi=8.0000 len=2713</td>\n",
       "      <td>GTCCCACACCGGGGTCAGGCTAGTCTGCCGCTGTTCCCCGCTGCGG...</td>\n",
       "    </tr>\n",
       "    <tr>\n",
       "      <th>4</th>\n",
       "      <td>k127_10173 flag=0 multi=5.0757 len=2689</td>\n",
       "      <td>GGATATGATGGAGCTGGCCCAGGAGTACCGCACCAAGCTGCTGGAC...</td>\n",
       "    </tr>\n",
       "    <tr>\n",
       "      <th>...</th>\n",
       "      <td>...</td>\n",
       "      <td>...</td>\n",
       "    </tr>\n",
       "    <tr>\n",
       "      <th>14888</th>\n",
       "      <td>k127_30435 flag=1 multi=7.7513 len=3814</td>\n",
       "      <td>TCATGCAGTTTGGGCCTTCCTTACTGCATCTTCGGTCAATCATATC...</td>\n",
       "    </tr>\n",
       "    <tr>\n",
       "      <th>14889</th>\n",
       "      <td>k127_30436 flag=1 multi=6.0000 len=4065</td>\n",
       "      <td>CTTATCATTCGGCTGTACTCCGACTTGTTCTATATAGCTGTGCGGA...</td>\n",
       "    </tr>\n",
       "    <tr>\n",
       "      <th>14890</th>\n",
       "      <td>k127_30446 flag=1 multi=6.0000 len=6206</td>\n",
       "      <td>CCGATAAAACCGGACAATGTGCGTTACAGAGCAAAACGACTGTTAC...</td>\n",
       "    </tr>\n",
       "    <tr>\n",
       "      <th>14891</th>\n",
       "      <td>k127_30447 flag=1 multi=8.0000 len=4350</td>\n",
       "      <td>ATATATAGACATTTACTCTCTGGGAATTTGGAGCTTAGTTCTAATT...</td>\n",
       "    </tr>\n",
       "    <tr>\n",
       "      <th>14892</th>\n",
       "      <td>k127_30515 flag=1 multi=10.9972 len=15774</td>\n",
       "      <td>GGTATGAAAAATACCGAGCAAAAATATAATGTTTCACGTGAAACAC...</td>\n",
       "    </tr>\n",
       "  </tbody>\n",
       "</table>\n",
       "<p>14893 rows × 2 columns</p>\n",
       "</div>"
      ],
      "text/plain": [
       "                                             ids  \\\n",
       "0        k127_30519 flag=1 multi=3.3628 len=2875   \n",
       "1        k127_54251 flag=0 multi=8.0000 len=3052   \n",
       "2        k127_91540 flag=1 multi=6.0000 len=2527   \n",
       "3        k127_98319 flag=1 multi=8.0000 len=2713   \n",
       "4        k127_10173 flag=0 multi=5.0757 len=2689   \n",
       "...                                          ...   \n",
       "14888    k127_30435 flag=1 multi=7.7513 len=3814   \n",
       "14889    k127_30436 flag=1 multi=6.0000 len=4065   \n",
       "14890    k127_30446 flag=1 multi=6.0000 len=6206   \n",
       "14891    k127_30447 flag=1 multi=8.0000 len=4350   \n",
       "14892  k127_30515 flag=1 multi=10.9972 len=15774   \n",
       "\n",
       "                                                     seq  \n",
       "0      ATATATATGTATGCCCTATGCACTACACAGTATCATTAGAAAGACA...  \n",
       "1      AGATGCTTACAAGGAATTAAATCCGGCAGATGTAGCTTACTATGAT...  \n",
       "2      CCTTATTGTTTAACGATGAAAAGAATATTGACAATCGTATAGGAGA...  \n",
       "3      GTCCCACACCGGGGTCAGGCTAGTCTGCCGCTGTTCCCCGCTGCGG...  \n",
       "4      GGATATGATGGAGCTGGCCCAGGAGTACCGCACCAAGCTGCTGGAC...  \n",
       "...                                                  ...  \n",
       "14888  TCATGCAGTTTGGGCCTTCCTTACTGCATCTTCGGTCAATCATATC...  \n",
       "14889  CTTATCATTCGGCTGTACTCCGACTTGTTCTATATAGCTGTGCGGA...  \n",
       "14890  CCGATAAAACCGGACAATGTGCGTTACAGAGCAAAACGACTGTTAC...  \n",
       "14891  ATATATAGACATTTACTCTCTGGGAATTTGGAGCTTAGTTCTAATT...  \n",
       "14892  GGTATGAAAAATACCGAGCAAAAATATAATGTTTCACGTGAAACAC...  \n",
       "\n",
       "[14893 rows x 2 columns]"
      ]
     },
     "execution_count": 45,
     "metadata": {},
     "output_type": "execute_result"
    }
   ],
   "source": [
    "healthy_20"
   ]
  },
  {
   "cell_type": "code",
   "execution_count": 46,
   "id": "b44b78db",
   "metadata": {
    "scrolled": false
   },
   "outputs": [],
   "source": [
    "# Define a function to extract the desired pattern\n",
    "def extract_id_20(string):\n",
    "    match = re.search(r'(k127_\\d+)', string)\n",
    "    if match:\n",
    "        return match.group(1) + '_20'\n",
    "    else:\n",
    "        return None\n",
    "\n",
    "# Apply the function to the 'ids' column\n",
    "healthy_20['ids'] = healthy_20['ids'].apply(extract_id_20)\n",
    "\n"
   ]
  },
  {
   "cell_type": "code",
   "execution_count": 47,
   "id": "c3ad361c",
   "metadata": {},
   "outputs": [
    {
     "data": {
      "text/html": [
       "<div>\n",
       "<style scoped>\n",
       "    .dataframe tbody tr th:only-of-type {\n",
       "        vertical-align: middle;\n",
       "    }\n",
       "\n",
       "    .dataframe tbody tr th {\n",
       "        vertical-align: top;\n",
       "    }\n",
       "\n",
       "    .dataframe thead th {\n",
       "        text-align: right;\n",
       "    }\n",
       "</style>\n",
       "<table border=\"1\" class=\"dataframe\">\n",
       "  <thead>\n",
       "    <tr style=\"text-align: right;\">\n",
       "      <th></th>\n",
       "      <th>ids</th>\n",
       "      <th>seq</th>\n",
       "    </tr>\n",
       "  </thead>\n",
       "  <tbody>\n",
       "    <tr>\n",
       "      <th>0</th>\n",
       "      <td>k127_30519_20</td>\n",
       "      <td>ATATATATGTATGCCCTATGCACTACACAGTATCATTAGAAAGACA...</td>\n",
       "    </tr>\n",
       "    <tr>\n",
       "      <th>1</th>\n",
       "      <td>k127_54251_20</td>\n",
       "      <td>AGATGCTTACAAGGAATTAAATCCGGCAGATGTAGCTTACTATGAT...</td>\n",
       "    </tr>\n",
       "    <tr>\n",
       "      <th>2</th>\n",
       "      <td>k127_91540_20</td>\n",
       "      <td>CCTTATTGTTTAACGATGAAAAGAATATTGACAATCGTATAGGAGA...</td>\n",
       "    </tr>\n",
       "    <tr>\n",
       "      <th>3</th>\n",
       "      <td>k127_98319_20</td>\n",
       "      <td>GTCCCACACCGGGGTCAGGCTAGTCTGCCGCTGTTCCCCGCTGCGG...</td>\n",
       "    </tr>\n",
       "    <tr>\n",
       "      <th>4</th>\n",
       "      <td>k127_10173_20</td>\n",
       "      <td>GGATATGATGGAGCTGGCCCAGGAGTACCGCACCAAGCTGCTGGAC...</td>\n",
       "    </tr>\n",
       "    <tr>\n",
       "      <th>...</th>\n",
       "      <td>...</td>\n",
       "      <td>...</td>\n",
       "    </tr>\n",
       "    <tr>\n",
       "      <th>14888</th>\n",
       "      <td>k127_30435_20</td>\n",
       "      <td>TCATGCAGTTTGGGCCTTCCTTACTGCATCTTCGGTCAATCATATC...</td>\n",
       "    </tr>\n",
       "    <tr>\n",
       "      <th>14889</th>\n",
       "      <td>k127_30436_20</td>\n",
       "      <td>CTTATCATTCGGCTGTACTCCGACTTGTTCTATATAGCTGTGCGGA...</td>\n",
       "    </tr>\n",
       "    <tr>\n",
       "      <th>14890</th>\n",
       "      <td>k127_30446_20</td>\n",
       "      <td>CCGATAAAACCGGACAATGTGCGTTACAGAGCAAAACGACTGTTAC...</td>\n",
       "    </tr>\n",
       "    <tr>\n",
       "      <th>14891</th>\n",
       "      <td>k127_30447_20</td>\n",
       "      <td>ATATATAGACATTTACTCTCTGGGAATTTGGAGCTTAGTTCTAATT...</td>\n",
       "    </tr>\n",
       "    <tr>\n",
       "      <th>14892</th>\n",
       "      <td>k127_30515_20</td>\n",
       "      <td>GGTATGAAAAATACCGAGCAAAAATATAATGTTTCACGTGAAACAC...</td>\n",
       "    </tr>\n",
       "  </tbody>\n",
       "</table>\n",
       "<p>14893 rows × 2 columns</p>\n",
       "</div>"
      ],
      "text/plain": [
       "                 ids                                                seq\n",
       "0      k127_30519_20  ATATATATGTATGCCCTATGCACTACACAGTATCATTAGAAAGACA...\n",
       "1      k127_54251_20  AGATGCTTACAAGGAATTAAATCCGGCAGATGTAGCTTACTATGAT...\n",
       "2      k127_91540_20  CCTTATTGTTTAACGATGAAAAGAATATTGACAATCGTATAGGAGA...\n",
       "3      k127_98319_20  GTCCCACACCGGGGTCAGGCTAGTCTGCCGCTGTTCCCCGCTGCGG...\n",
       "4      k127_10173_20  GGATATGATGGAGCTGGCCCAGGAGTACCGCACCAAGCTGCTGGAC...\n",
       "...              ...                                                ...\n",
       "14888  k127_30435_20  TCATGCAGTTTGGGCCTTCCTTACTGCATCTTCGGTCAATCATATC...\n",
       "14889  k127_30436_20  CTTATCATTCGGCTGTACTCCGACTTGTTCTATATAGCTGTGCGGA...\n",
       "14890  k127_30446_20  CCGATAAAACCGGACAATGTGCGTTACAGAGCAAAACGACTGTTAC...\n",
       "14891  k127_30447_20  ATATATAGACATTTACTCTCTGGGAATTTGGAGCTTAGTTCTAATT...\n",
       "14892  k127_30515_20  GGTATGAAAAATACCGAGCAAAAATATAATGTTTCACGTGAAACAC...\n",
       "\n",
       "[14893 rows x 2 columns]"
      ]
     },
     "execution_count": 47,
     "metadata": {},
     "output_type": "execute_result"
    }
   ],
   "source": [
    "healthy_20"
   ]
  },
  {
   "cell_type": "code",
   "execution_count": 48,
   "id": "d882ff4c",
   "metadata": {},
   "outputs": [
    {
     "name": "stdout",
     "output_type": "stream",
     "text": [
      "There are no duplicate seq in the DataFrame.\n"
     ]
    }
   ],
   "source": [
    "# Assuming df_antibiotics_and_conjugate is your DataFrame\n",
    "# You can replace it with the name of your actual DataFrame\n",
    "\n",
    "# Check for duplicates in the \"ids\" column\n",
    "duplicates = healthy_20[healthy_20.duplicated('seq')]\n",
    "\n",
    "# If there are duplicates, duplicates DataFrame will contain those rows\n",
    "# If duplicates is empty, it means there are no duplicate ids\n",
    "if not duplicates.empty:\n",
    "    print(\"There are duplicate seq in the DataFrame:\")\n",
    "    print(duplicates)\n",
    "else:\n",
    "    print(\"There are no duplicate seq in the DataFrame.\")\n"
   ]
  },
  {
   "cell_type": "code",
   "execution_count": 49,
   "id": "556ae37a",
   "metadata": {},
   "outputs": [],
   "source": [
    "healthy_ids = healthy_20['ids'].tolist()\n",
    "healthy_list = healthy_20['seq'].tolist()\n"
   ]
  },
  {
   "cell_type": "code",
   "execution_count": 50,
   "id": "7581ff28",
   "metadata": {},
   "outputs": [
    {
     "data": {
      "text/plain": [
       "14893"
      ]
     },
     "execution_count": 50,
     "metadata": {},
     "output_type": "execute_result"
    }
   ],
   "source": [
    "len(healthy_ids)\n"
   ]
  },
  {
   "cell_type": "code",
   "execution_count": 51,
   "id": "e715bb60",
   "metadata": {},
   "outputs": [
    {
     "data": {
      "text/plain": [
       "14893"
      ]
     },
     "execution_count": 51,
     "metadata": {},
     "output_type": "execute_result"
    }
   ],
   "source": [
    "len(healthy_list)"
   ]
  },
  {
   "cell_type": "code",
   "execution_count": 52,
   "id": "c10c9f04",
   "metadata": {},
   "outputs": [
    {
     "name": "stdout",
     "output_type": "stream",
     "text": [
      "Time to generate images: 3299.8517866134644 seconds\n"
     ]
    }
   ],
   "source": [
    "## import time\n",
    "start_time = time.time()\n",
    "seq_num=[]\n",
    "\n",
    "\n",
    "all_seq = healthy_list\n",
    "all_seq = [replace_ambiguous_bases(seq) for seq in all_seq]\n",
    "for sequence in all_seq:\n",
    "        seq_cgr = easy_cgr(sequence)\n",
    "        seq_num.append(seq_cgr)\n",
    "sequences = seq_num\n",
    "class_labels = healthy_ids \n",
    "output_directory = \"healthy_20_res_7\"\n",
    "kmeres=7\n",
    "\n",
    "if not os.path.exists(output_directory):\n",
    "    os.makedirs(output_directory)\n",
    "\n",
    "# Call the function to generate and save CGR images\n",
    "generate_and_save_cgr_images_label(sequences, class_labels, output_directory,kmeres)\n",
    "\n",
    "end_time = time.time()\n",
    "elapsed_time = end_time - start_time\n",
    "\n",
    "# Print the time taken\n",
    "print(f\"Time to generate images: {elapsed_time} seconds\")"
   ]
  },
  {
   "cell_type": "code",
   "execution_count": null,
   "id": "14f3cf4d",
   "metadata": {},
   "outputs": [],
   "source": []
  },
  {
   "cell_type": "code",
   "execution_count": null,
   "id": "46f90e4f",
   "metadata": {},
   "outputs": [],
   "source": []
  },
  {
   "cell_type": "code",
   "execution_count": null,
   "id": "fdef0a6e",
   "metadata": {},
   "outputs": [],
   "source": []
  }
 ],
 "metadata": {
  "kernelspec": {
   "display_name": "Python 3 (ipykernel)",
   "language": "python",
   "name": "python3"
  },
  "language_info": {
   "codemirror_mode": {
    "name": "ipython",
    "version": 3
   },
   "file_extension": ".py",
   "mimetype": "text/x-python",
   "name": "python",
   "nbconvert_exporter": "python",
   "pygments_lexer": "ipython3",
   "version": "3.9.13"
  }
 },
 "nbformat": 4,
 "nbformat_minor": 5
}
