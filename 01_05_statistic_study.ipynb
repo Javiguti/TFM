{
 "cells": [
  {
   "cell_type": "code",
   "execution_count": null,
   "id": "ef99570f",
   "metadata": {},
   "outputs": [],
   "source": [
    "from scipy import stats\n",
    "import numpy as np"
   ]
  },
  {
   "cell_type": "markdown",
   "id": "825f3d14",
   "metadata": {},
   "source": [
    "# DATA"
   ]
  },
  {
   "cell_type": "code",
   "execution_count": 2,
   "id": "4dbc2237",
   "metadata": {},
   "outputs": [],
   "source": [
    "generic_model_1_patients= [0.29141244,\n",
    "        0.42,\n",
    "        0.65416485,\n",
    "        0.346666667,\n",
    "        0.886334859,\n",
    "        1.7561365,\n",
    "        0.509177028,\n",
    "        2.497303576,\n",
    "        3.350278679,\n",
    "        1.468080374]\n",
    "\n",
    "generic_model_2_patients = [0.692104544,\n",
    "                                 0.746666667,\n",
    "                                 1.362843437,\n",
    "                                 0.46,\n",
    "                                 0.097399435,\n",
    "                                 0.299341449,\n",
    "                                 0.047365305,\n",
    "                                 0.149340413,\n",
    "                                 2.05181601,\n",
    "                                 1.075109365]\n",
    "generic_model_3_patients = [0.546398324,\n",
    "                                 0.4,\n",
    "                                 6.43262102,\n",
    "                                 0.393333333,\n",
    "                                 0.321418136,\n",
    "                                 4.589902215,\n",
    "                                 0.224985198,\n",
    "                                 1.012196134,\n",
    "                                 4.850860538,\n",
    "                                 0.94906206]\n"
   ]
  },
  {
   "cell_type": "code",
   "execution_count": 3,
   "id": "7c226ef6",
   "metadata": {},
   "outputs": [],
   "source": [
    "generic_model_1_healthy = [0.075799338,\n",
    "                                0.01396258,\n",
    "                                0.138538016,\n",
    "                                0.127959053,\n",
    "                                0.446885765,\n",
    "                                0.483383686,\n",
    "                                2.353470244,\n",
    "                                0.716145833,\n",
    "                                0.760719225,\n",
    "                                0.248438864]\n",
    "generic_model_2_healthy = [2.191289967,\n",
    "                                1.242669645,\n",
    "                                3.414554641,\n",
    "                                4.222648752,\n",
    "                                0.204822642,\n",
    "                                0.181268882,\n",
    "                                0.119922051,\n",
    "                                0.1953125,\n",
    "                                4.170124481,\n",
    "                                0.812462231]\n",
    "generic_model_3_healthy= [0.441014333,\n",
    "                                0.209438704,\n",
    "                                0.081492951,\n",
    "                                2.129604241,\n",
    "                                0.363094684,\n",
    "                                0.402819738,\n",
    "                                0.119922051,\n",
    "                                0.726996528,\n",
    "                                0.062240664,\n",
    "                                0.053716511]"
   ]
  },
  {
   "cell_type": "markdown",
   "id": "1a647170",
   "metadata": {},
   "source": [
    "## CHECK NORMALITIES"
   ]
  },
  {
   "cell_type": "markdown",
   "id": "c4a11cbf",
   "metadata": {},
   "source": [
    "### PATIENTS"
   ]
  },
  {
   "cell_type": "code",
   "execution_count": 4,
   "id": "4471202f",
   "metadata": {},
   "outputs": [
    {
     "name": "stdout",
     "output_type": "stream",
     "text": [
      "Shapiro-Wilk Test:\n",
      "Test Statistic: 0.7201294898986816\n",
      "p-value: 3.1048914479470113e-06\n",
      "Sample does not look Gaussian (reject H0)\n",
      "\n",
      "Kolmogorov-Smirnov Test:\n",
      "Test Statistic: 0.5188889597156018\n",
      "p-value: 4.890785406302395e-08\n",
      "Sample does not look Gaussian (reject H0)\n",
      "\n",
      "D'Agostino and Pearson Test:\n",
      "Test Statistic: 21.931555348905125\n",
      "p-value: 1.728316460568932e-05\n",
      "Sample does not look Gaussian (reject H0)\n"
     ]
    }
   ],
   "source": [
    "# Generate some sample data\n",
    "data = generic_model_1_patients+generic_model_2_patients+generic_model_3_patients\n",
    "\n",
    "# Shapiro-Wilk Test\n",
    "shapiro_stat, shapiro_p = stats.shapiro(data)\n",
    "print(\"Shapiro-Wilk Test:\")\n",
    "print(\"Test Statistic:\", shapiro_stat)\n",
    "print(\"p-value:\", shapiro_p)\n",
    "if shapiro_p > 0.05:\n",
    "    print(\"Sample looks Gaussian (fail to reject H0)\")\n",
    "else:\n",
    "    print(\"Sample does not look Gaussian (reject H0)\")\n",
    "\n",
    "# Kolmogorov-Smirnov Test\n",
    "kstest_stat, kstest_p = stats.kstest(data, 'norm')\n",
    "print(\"\\nKolmogorov-Smirnov Test:\")\n",
    "print(\"Test Statistic:\", kstest_stat)\n",
    "print(\"p-value:\", kstest_p)\n",
    "if kstest_p > 0.05:\n",
    "    print(\"Sample looks Gaussian (fail to reject H0)\")\n",
    "else:\n",
    "    print(\"Sample does not look Gaussian (reject H0)\")\n",
    "\n",
    "# D'Agostino and Pearson Test\n",
    "dagostino_stat, dagostino_p = stats.normaltest(data)\n",
    "print(\"\\nD'Agostino and Pearson Test:\")\n",
    "print(\"Test Statistic:\", dagostino_stat)\n",
    "print(\"p-value:\", dagostino_p)\n",
    "if dagostino_p > 0.05:\n",
    "    print(\"Sample looks Gaussian (fail to reject H0)\")\n",
    "else:\n",
    "    print(\"Sample does not look Gaussian (reject H0)\")\n"
   ]
  },
  {
   "cell_type": "code",
   "execution_count": 5,
   "id": "78a5bf8f",
   "metadata": {},
   "outputs": [
    {
     "name": "stdout",
     "output_type": "stream",
     "text": [
      "Shapiro-Wilk Test:\n",
      "Test Statistic: 0.6964221000671387\n",
      "p-value: 1.384528104608762e-06\n",
      "Sample does not look Gaussian (reject H0)\n",
      "\n",
      "Kolmogorov-Smirnov Test:\n",
      "Test Statistic: 0.5055700825202555\n",
      "p-value: 1.2565140607180196e-07\n",
      "Sample does not look Gaussian (reject H0)\n",
      "\n",
      "D'Agostino and Pearson Test:\n",
      "Test Statistic: 17.105343802012317\n",
      "p-value: 0.00019302865646150515\n",
      "Sample does not look Gaussian (reject H0)\n"
     ]
    }
   ],
   "source": [
    "# Generate some sample data\n",
    "data = generic_model_1_healthy+generic_model_2_healthy+generic_model_3_healthy\n",
    "\n",
    "# Shapiro-Wilk Test\n",
    "shapiro_stat, shapiro_p = stats.shapiro(data)\n",
    "print(\"Shapiro-Wilk Test:\")\n",
    "print(\"Test Statistic:\", shapiro_stat)\n",
    "print(\"p-value:\", shapiro_p)\n",
    "if shapiro_p > 0.05:\n",
    "    print(\"Sample looks Gaussian (fail to reject H0)\")\n",
    "else:\n",
    "    print(\"Sample does not look Gaussian (reject H0)\")\n",
    "\n",
    "# Kolmogorov-Smirnov Test\n",
    "kstest_stat, kstest_p = stats.kstest(data, 'norm')\n",
    "print(\"\\nKolmogorov-Smirnov Test:\")\n",
    "print(\"Test Statistic:\", kstest_stat)\n",
    "print(\"p-value:\", kstest_p)\n",
    "if kstest_p > 0.05:\n",
    "    print(\"Sample looks Gaussian (fail to reject H0)\")\n",
    "else:\n",
    "    print(\"Sample does not look Gaussian (reject H0)\")\n",
    "\n",
    "# D'Agostino and Pearson Test\n",
    "dagostino_stat, dagostino_p = stats.normaltest(data)\n",
    "print(\"\\nD'Agostino and Pearson Test:\")\n",
    "print(\"Test Statistic:\", dagostino_stat)\n",
    "print(\"p-value:\", dagostino_p)\n",
    "if dagostino_p > 0.05:\n",
    "    print(\"Sample looks Gaussian (fail to reject H0)\")\n",
    "else:\n",
    "    print(\"Sample does not look Gaussian (reject H0)\")\n"
   ]
  },
  {
   "cell_type": "markdown",
   "id": "402d907b",
   "metadata": {},
   "source": [
    "THEY ARE NOT GAUSSIAN BUT WE HAVE MORE THAN 10 SAMPLES IN EACH CASE SO WE CAN AVOID THIS ASSUMTION"
   ]
  },
  {
   "cell_type": "markdown",
   "id": "b57e5cdb",
   "metadata": {},
   "source": [
    "## VARIANCE CHECK"
   ]
  },
  {
   "cell_type": "code",
   "execution_count": 6,
   "id": "3a8faf80",
   "metadata": {},
   "outputs": [],
   "source": [
    "patients = generic_model_1_patients+generic_model_2_patients+generic_model_3_patients\n",
    "healthy = generic_model_1_healthy+generic_model_2_healthy+generic_model_3_healthy"
   ]
  },
  {
   "cell_type": "code",
   "execution_count": 7,
   "id": "ee719e87",
   "metadata": {},
   "outputs": [
    {
     "name": "stdout",
     "output_type": "stream",
     "text": [
      "Levene's Test:\n",
      "Test Statistic: 0.4183325584847387\n",
      "p-value: 0.5203217321959388\n",
      "The variances are equal (fail to reject H0)\n"
     ]
    }
   ],
   "source": [
    "# Perform Levene's test\n",
    "levene_stat, levene_p = stats.levene(patients, healthy)\n",
    "\n",
    "print(\"Levene's Test:\")\n",
    "print(\"Test Statistic:\", levene_stat)\n",
    "print(\"p-value:\", levene_p)\n",
    "\n",
    "if levene_p > 0.05:\n",
    "    print(\"The variances are equal (fail to reject H0)\")\n",
    "else:\n",
    "    print(\"The variances are not equal (reject H0)\")\n"
   ]
  },
  {
   "cell_type": "markdown",
   "id": "83d44c5c",
   "metadata": {},
   "source": [
    "SINCE VARIANCES ARE THE SAME, WE CAN USE A T-TEST"
   ]
  },
  {
   "cell_type": "markdown",
   "id": "a8a52733",
   "metadata": {},
   "source": [
    "## T-TEST"
   ]
  },
  {
   "cell_type": "code",
   "execution_count": 8,
   "id": "d4d7a284",
   "metadata": {},
   "outputs": [
    {
     "name": "stdout",
     "output_type": "stream",
     "text": [
      "Two-Sample T-Test:\n",
      "Test Statistic: 1.118627359547584\n",
      "p-value: 0.2679108211373674\n",
      "There is no significant difference between the means (fail to reject H0)\n"
     ]
    }
   ],
   "source": [
    "\n",
    "\n",
    "# Perform two-sample t-test assuming equal variances\n",
    "t_stat, t_p = stats.ttest_ind(patients, healthy, equal_var=True)\n",
    "\n",
    "print(\"Two-Sample T-Test:\")\n",
    "print(\"Test Statistic:\", t_stat)\n",
    "print(\"p-value:\", t_p)\n",
    "\n",
    "if t_p > 0.05:\n",
    "    print(\"There is no significant difference between the means (fail to reject H0)\")\n",
    "else:\n",
    "    print(\"There is a significant difference between the means (reject H0)\")\n"
   ]
  },
  {
   "cell_type": "code",
   "execution_count": null,
   "id": "1db4f0a7",
   "metadata": {},
   "outputs": [],
   "source": []
  }
 ],
 "metadata": {
  "kernelspec": {
   "display_name": "Python 3 (ipykernel)",
   "language": "python",
   "name": "python3"
  },
  "language_info": {
   "codemirror_mode": {
    "name": "ipython",
    "version": 3
   },
   "file_extension": ".py",
   "mimetype": "text/x-python",
   "name": "python",
   "nbconvert_exporter": "python",
   "pygments_lexer": "ipython3",
   "version": "3.9.13"
  }
 },
 "nbformat": 4,
 "nbformat_minor": 5
}
