{
 "cells": [
  {
   "cell_type": "code",
   "execution_count": 1,
   "id": "fc000ca5",
   "metadata": {},
   "outputs": [
    {
     "name": "stderr",
     "output_type": "stream",
     "text": [
      "C:\\Users\\Javi\\anaconda3\\lib\\site-packages\\scipy\\__init__.py:155: UserWarning: A NumPy version >=1.18.5 and <1.25.0 is required for this version of SciPy (detected version 1.26.1\n",
      "  warnings.warn(f\"A NumPy version >={np_minversion} and <{np_maxversion}\"\n"
     ]
    }
   ],
   "source": [
    "import pandas as pd\n",
    "import os\n",
    "import time\n",
    "import numpy as np\n",
    "import tensorflow as tf\n",
    "from tensorflow import keras\n",
    "from tensorflow.keras import layers\n",
    "from tensorflow.keras.preprocessing.image import load_img, img_to_array\n",
    "from tensorflow.keras.models import load_model\n",
    "from tensorflow.keras.applications import ResNet50\n",
    "from tensorflow.keras.models import Sequential\n",
    "from tensorflow.keras.layers import Dense, Flatten\n",
    "from tensorflow.keras.utils import to_categorical\n",
    "from tensorflow.keras.callbacks import EarlyStopping\n",
    "from sklearn.model_selection import train_test_split\n",
    "import time\n",
    "from sklearn.metrics import confusion_matrix, accuracy_score, precision_score, recall_score, f1_score, roc_auc_score, roc_curve, auc\n"
   ]
  },
  {
   "cell_type": "code",
   "execution_count": 2,
   "id": "99753c9c",
   "metadata": {},
   "outputs": [],
   "source": [
    "import random\n",
    "\n",
    "def replace_ambiguous_bases(sequence):\n",
    "    def resolve_ambiguity(code):\n",
    "        if code == 'R':\n",
    "            return random.choice(['A', 'G'])\n",
    "        elif code == 'Y':\n",
    "            return random.choice(['C', 'T'])\n",
    "        elif code == 'S':\n",
    "            return random.choice(['G', 'C'])\n",
    "        elif code == 'W':\n",
    "            return random.choice(['A', 'T'])\n",
    "        elif code == 'K':\n",
    "            return random.choice(['G', 'T'])\n",
    "        elif code == 'M':\n",
    "            return random.choice(['A', 'C'])\n",
    "        elif code == 'B':\n",
    "            return random.choice(['C', 'G', 'T'])\n",
    "        elif code == 'D':\n",
    "            return random.choice(['A', 'G', 'T'])\n",
    "        elif code == 'H':\n",
    "            return random.choice(['A', 'C', 'T'])\n",
    "        elif code == 'V':\n",
    "            return random.choice(['A', 'C', 'G'])\n",
    "        elif code == 'N':\n",
    "            return random.choice(['A', 'T', 'C', 'G'])\n",
    "        else:\n",
    "            return code  # If the code is not an ambiguity code, return the same code\n",
    "    \n",
    "    resolved_sequence = ''.join(resolve_ambiguity(base) for base in sequence)\n",
    "    return resolved_sequence"
   ]
  },
  {
   "cell_type": "code",
   "execution_count": 3,
   "id": "c3e28e46",
   "metadata": {},
   "outputs": [],
   "source": [
    "def reverse_complement(sequence):\n",
    "    complement = {'A': 'T', 'T': 'A', 'C': 'G', 'G': 'C'}\n",
    "    reverse_seq = sequence[::-1]  # Reverse the sequence\n",
    "    reverse_complement_seq = ''.join(complement[base] for base in reverse_seq)\n",
    "    return reverse_complement_seq\n",
    "\n",
    "def reverse_complement_list(sequence_list):\n",
    "    reverse_complements = []\n",
    "    for seq in sequence_list:\n",
    "        reverse_complements.append(reverse_complement(seq))\n",
    "    return reverse_complements"
   ]
  },
  {
   "cell_type": "code",
   "execution_count": 4,
   "id": "84052336",
   "metadata": {},
   "outputs": [],
   "source": [
    "#This function gets the cgr for the sequences\n",
    "def easy_cgr(dna_sequence):\n",
    "  nucleotide_map = {\n",
    "    \"A\": (1, 1),\n",
    "    \"T\": (-1, -1),\n",
    "    \"C\": (1, -1),\n",
    "    \"G\": (-1, 1),\n",
    "}\n",
    "  values=[]\n",
    "  point=(0,0)\n",
    "  for nucleotide in dna_sequence:\n",
    "        next_point=nucleotide_map[nucleotide]\n",
    "        point=((point[0]+next_point[0])/2,(point[1]+next_point[1])/2)\n",
    "        values.append(point)\n",
    "  return values"
   ]
  },
  {
   "cell_type": "code",
   "execution_count": 5,
   "id": "5b62f47b",
   "metadata": {},
   "outputs": [],
   "source": [
    "#This function has input:\n",
    "#sequence to plot that is the easy_cgr(sequence)\n",
    "# plot id that is the name\n",
    "# resolution that is the resolution\n",
    "import matplotlib.pyplot as plt\n",
    "import numpy as np\n",
    "from matplotlib.colors import LinearSegmentedColormap\n",
    "\n",
    "def plotting_cgr(sequence_to_plot,id_to_plot,resolution):\n",
    "\n",
    "  # Define the resolution\n",
    "  num_bins = resolution\n",
    "\n",
    "  # Create a grid for the histogram\n",
    "  xedges = np.linspace(-1, 1, num_bins + 1)\n",
    "  yedges = np.linspace(-1, 1, num_bins + 1)\n",
    "\n",
    "  # Create a 2D histogram\n",
    "  hist, _, _ = np.histogram2d([p[0] for p in sequence_to_plot], [p[1] for p in sequence_to_plot], bins=[xedges, yedges])\n",
    "\n",
    "  # Create a custom colormap spanning from light gray to dark gray\n",
    "  colors = [(1, 1, 1), (0.2, 0.2, 0.2)]  # Light gray to dark gray\n",
    "  cmap_name = \"custom_gray\"\n",
    "  custom_cmap = LinearSegmentedColormap.from_list(cmap_name, colors, N=len(sequence_to_plot) + 1)\n",
    "\n",
    "  # Create a figure\n",
    "  plt.figure()\n",
    "\n",
    "  # Display the 2D histogram with the custom colormap\n",
    "  plt.imshow(hist.T, cmap=custom_cmap, extent=[-1, 1, -1, 1], origin='lower', interpolation='nearest', aspect='auto')\n",
    "\n",
    "  # Calculate coordinates for labels\n",
    "  plt.xticks([])\n",
    "  plt.yticks([])\n",
    "  x_margin, y_margin = 0.05, 0.05\n",
    "  label_coordinates = {\n",
    "      \"A\": (1+ x_margin, 1 +y_margin),\n",
    "      \"T\": (-1 - x_margin, -1-y_margin),\n",
    "      \"C\": (1 + x_margin, -1 -y_margin),\n",
    "      \"G\": (-1 - x_margin, 1 + y_margin),\n",
    "  }\n",
    "\n",
    "  # Add labels outside the grid\n",
    "  for letter, (x, y) in label_coordinates.items():\n",
    "      plt.text(x, y, letter, ha='center', va='center', fontsize=15, color='black')\n",
    "  # Show the plot\n",
    "  plt.title('CGR for '+id_to_plot)\n",
    "  plt.grid(False)  # Turn off grid lines\n",
    "  plt.show()"
   ]
  },
  {
   "cell_type": "code",
   "execution_count": 6,
   "id": "e0dffef1",
   "metadata": {},
   "outputs": [],
   "source": [
    "#This function reads the file when usingantibiotic resistance genes\n",
    "import re\n",
    "\n",
    "def read_antibiotic_resistance_genes(fasta_file_path):\n",
    "    # Initialize lists to store sequence data\n",
    "    sequence_ids = []\n",
    "    sequences = []\n",
    "    terms_inside_brackets = []  # Initialize a list to store terms inside brackets\n",
    "\n",
    "    # Define a regular expression pattern to match text inside square brackets\n",
    "    pattern = r'\\[([^]]+)\\]'\n",
    "\n",
    "    # Open the FASTA file for reading\n",
    "    with open(fasta_file_path, \"r\") as file:\n",
    "        for line in file:\n",
    "            line = line.strip()  # Remove leading/trailing whitespace\n",
    "\n",
    "            # Check if the line is an ID line (starts with '>')\n",
    "            if line.startswith(\">\"):\n",
    "                # If it's not the first sequence, process the previous one\n",
    "                if sequence_ids:\n",
    "                    term_inside_brackets = re.search(pattern, sequence_ids[-1]).group(1)\n",
    "                    terms_inside_brackets.append(term_inside_brackets)  # Append to the list\n",
    "                # Extract the sequence ID from the ID line\n",
    "                sequence_ids.append(line[1:])\n",
    "                sequences.append(\"\")  # Reset the sequence\n",
    "            else:\n",
    "                # Append the line to the sequence\n",
    "                sequences[-1] += line\n",
    "\n",
    "    # Process the last sequence in the file\n",
    "    if sequence_ids:\n",
    "        term_inside_brackets = re.search(pattern, sequence_ids[-1]).group(1)\n",
    "        terms_inside_brackets.append(term_inside_brackets)\n",
    "\n",
    "    return sequences, terms_inside_brackets"
   ]
  },
  {
   "cell_type": "code",
   "execution_count": 7,
   "id": "53b0ad99",
   "metadata": {},
   "outputs": [],
   "source": [
    "from Bio import SeqIO\n",
    "\n",
    "def read_fasta_patients(file_path):\n",
    "    sequence_ids = []\n",
    "    sequences = []\n",
    "    \n",
    "    try:\n",
    "        with open(file_path, \"r\") as fasta_file:\n",
    "            fasta_sequences = SeqIO.parse(fasta_file, \"fasta\")\n",
    "            \n",
    "            for seq_record in fasta_sequences:\n",
    "                sequence_ids.append(seq_record.id)\n",
    "                sequences.append(str(seq_record.seq))\n",
    "    except FileNotFoundError:\n",
    "        print(\"File not found. Please provide a valid file path.\")\n",
    "    \n",
    "    return sequences, sequence_ids\n"
   ]
  },
  {
   "cell_type": "code",
   "execution_count": 8,
   "id": "ec94d0bd",
   "metadata": {},
   "outputs": [],
   "source": [
    "#This function has input:\n",
    "#sequence to plot that is the easy_cgr(sequence)\n",
    "# plot id that is the name\n",
    "# resolution that is the resolution\n",
    "import matplotlib.pyplot as plt\n",
    "import numpy as np\n",
    "from matplotlib.colors import LinearSegmentedColormap\n",
    "\n",
    "def plotting_cgr(sequence_to_plot,id_to_plot,resolution):\n",
    "\n",
    "  # Define the resolution\n",
    "  num_bins = resolution\n",
    "\n",
    "  # Create a grid for the histogram\n",
    "  xedges = np.linspace(-1, 1, num_bins + 1)\n",
    "  yedges = np.linspace(-1, 1, num_bins + 1)\n",
    "\n",
    "  # Create a 2D histogram\n",
    "  hist, _, _ = np.histogram2d([p[0] for p in sequence_to_plot], [p[1] for p in sequence_to_plot], bins=[xedges, yedges])\n",
    "\n",
    "  # Create a custom colormap spanning from light gray to dark gray\n",
    "  colors = [(1, 1, 1), (0.2, 0.2, 0.2)]  # Light gray to dark gray\n",
    "  cmap_name = \"custom_gray\"\n",
    "  custom_cmap = LinearSegmentedColormap.from_list(cmap_name, colors, N=len(sequence_to_plot) + 1)\n",
    "\n",
    "  # Create a figure\n",
    "  plt.figure()\n",
    "\n",
    "  # Display the 2D histogram with the custom colormap\n",
    "  plt.imshow(hist.T, cmap=custom_cmap, extent=[-1, 1, -1, 1], origin='lower', interpolation='nearest', aspect='auto')\n",
    "\n",
    "  # Calculate coordinates for labels\n",
    "  plt.xticks([])\n",
    "  plt.yticks([])\n",
    "  x_margin, y_margin = 0.05, 0.05\n",
    "  label_coordinates = {\n",
    "      \"A\": (1+ x_margin, 1 +y_margin),\n",
    "      \"T\": (-1 - x_margin, -1-y_margin),\n",
    "      \"C\": (1 + x_margin, -1 -y_margin),\n",
    "      \"G\": (-1 - x_margin, 1 + y_margin),\n",
    "  }\n",
    "\n",
    "  # Add labels outside the grid\n",
    "  for letter, (x, y) in label_coordinates.items():\n",
    "      plt.text(x, y, letter, ha='center', va='center', fontsize=15, color='black')\n",
    "  # Show the plot\n",
    "  plt.title('CGR for '+id_to_plot)\n",
    "  plt.grid(False)  # Turn off grid lines\n",
    "  plt.show()\n"
   ]
  },
  {
   "cell_type": "code",
   "execution_count": 9,
   "id": "c1d1f0d7",
   "metadata": {},
   "outputs": [],
   "source": [
    "import random\n",
    "\n",
    "def replace_ambiguous_bases(sequence):\n",
    "    def resolve_ambiguity(code):\n",
    "        if code == 'R':\n",
    "            return random.choice(['A', 'G'])\n",
    "        elif code == 'Y':\n",
    "            return random.choice(['C', 'T'])\n",
    "        elif code == 'S':\n",
    "            return random.choice(['G', 'C'])\n",
    "        elif code == 'W':\n",
    "            return random.choice(['A', 'T'])\n",
    "        elif code == 'K':\n",
    "            return random.choice(['G', 'T'])\n",
    "        elif code == 'M':\n",
    "            return random.choice(['A', 'C'])\n",
    "        elif code == 'B':\n",
    "            return random.choice(['C', 'G', 'T'])\n",
    "        elif code == 'D':\n",
    "            return random.choice(['A', 'G', 'T'])\n",
    "        elif code == 'H':\n",
    "            return random.choice(['A', 'C', 'T'])\n",
    "        elif code == 'V':\n",
    "            return random.choice(['A', 'C', 'G'])\n",
    "        elif code == 'N':\n",
    "            return random.choice(['A', 'T', 'C', 'G'])\n",
    "        else:\n",
    "            return code  # If the code is not an ambiguity code, return the same code\n",
    "    \n",
    "    resolved_sequence = ''.join(resolve_ambiguity(base) for base in sequence)\n",
    "    return resolved_sequence"
   ]
  },
  {
   "cell_type": "code",
   "execution_count": 10,
   "id": "d26dbe36",
   "metadata": {},
   "outputs": [],
   "source": [
    "import numpy as np\n",
    "import matplotlib.pyplot as plt\n",
    "from matplotlib.colors import LinearSegmentedColormap\n",
    "\n",
    "def generate_cgr_and_save(sequence_to_plot, kmeres, output_filename):\n",
    "    # Define the resolution\n",
    "    num_bins = 2 ** kmeres\n",
    "\n",
    "    # Create a grid for the histogram\n",
    "    xedges = np.linspace(-1, 1, num_bins + 1)\n",
    "    yedges = np.linspace(-1, 1, num_bins + 1)\n",
    "\n",
    "    # Create a 2D histogram\n",
    "    hist, _, _ = np.histogram2d(\n",
    "        [p[0] for p in sequence_to_plot],\n",
    "        [p[1] for p in sequence_to_plot],\n",
    "        bins=[xedges, yedges]\n",
    "    )\n",
    "\n",
    "    # Create a custom colormap spanning from light gray to dark gray\n",
    "    colors = [(1, 1, 1), (0.2, 0.2, 0.2)]  # Light gray to dark gray\n",
    "    cmap_name = \"custom_gray\"\n",
    "    custom_cmap = LinearSegmentedColormap.from_list(cmap_name, colors, N=len(sequence_to_plot) + 1)\n",
    "\n",
    "    # Create a square figure with the desired size in inches\n",
    "    dpi = 100\n",
    "    fig, ax = plt.subplots(figsize=(84 / dpi, 84 / dpi), dpi=dpi)\n",
    "\n",
    "    # Plot the histogram using imshow and set the extent to specify the image size\n",
    "    ax.imshow(\n",
    "        hist.T,\n",
    "        cmap=custom_cmap,\n",
    "        origin='lower',\n",
    "        extent=[-1, 1, -1, 1],  # Setting extent to create a 100x100 pixel image\n",
    "        interpolation='nearest'  # Optional: adjust the interpolation method\n",
    "    )\n",
    "\n",
    "    # Turn off the axis\n",
    "    ax.axis('off')\n",
    "\n",
    "    # Save the figure directly as an image using matplotlib.pyplot.savefig\n",
    "    plt.savefig(output_filename, bbox_inches='tight', pad_inches=0, dpi=dpi)\n",
    "    plt.close()\n",
    "\n",
    "# Your remaining function remains unchanged\n",
    "def generate_and_save_cgr_images(sequences, ids, output_dir, kmeres):\n",
    "    # Create the output directory if it doesn't exist\n",
    "    \n",
    "\n",
    "    for i, (sequence, label) in enumerate(zip(sequences, ids)):\n",
    "        # Generate the image filename based on the class label and sequence index\n",
    "        image_filename = os.path.join(output_dir, f\"{i}_{label}.png\")\n",
    "\n",
    "        # Generate and save the CGR image\n",
    "        generate_cgr_and_save(sequence, kmeres, image_filename)"
   ]
  },
  {
   "cell_type": "code",
   "execution_count": 11,
   "id": "0e3947ce",
   "metadata": {},
   "outputs": [],
   "source": [
    "\n",
    "def read_fasta_ARG(file_name):\n",
    "    sequences = []\n",
    "    with open(file_name, 'r') as file:\n",
    "        sequence_id = ''\n",
    "        sequence = ''\n",
    "        for line in file:\n",
    "            line = line.strip()\n",
    "            if line.startswith('>'):\n",
    "                if sequence_id != '':\n",
    "                    sequences.append(sequence_id.split('|') + [sequence])\n",
    "                sequence_id = line[1:]\n",
    "                sequence = ''\n",
    "            else:\n",
    "                sequence += line\n",
    "        if sequence_id != '':\n",
    "            sequences.append(sequence_id.split('|') + [sequence])\n",
    "    return sequences"
   ]
  },
  {
   "cell_type": "code",
   "execution_count": 12,
   "id": "6517138b",
   "metadata": {},
   "outputs": [],
   "source": [
    "import numpy as np\n",
    "import matplotlib.pyplot as plt\n",
    "from matplotlib.colors import LinearSegmentedColormap\n",
    "\n",
    "def generate_cgr_and_save(sequence_to_plot, kmeres, output_filename):\n",
    "    # Define the resolution\n",
    "    num_bins = 2 ** kmeres\n",
    "\n",
    "    # Create a grid for the histogram\n",
    "    xedges = np.linspace(-1, 1, num_bins + 1)\n",
    "    yedges = np.linspace(-1, 1, num_bins + 1)\n",
    "\n",
    "    # Create a 2D histogram\n",
    "    hist, _, _ = np.histogram2d(\n",
    "        [p[0] for p in sequence_to_plot],\n",
    "        [p[1] for p in sequence_to_plot],\n",
    "        bins=[xedges, yedges]\n",
    "    )\n",
    "\n",
    "    # Create a custom colormap spanning from light gray to dark gray\n",
    "    colors = [(1, 1, 1), (0.2, 0.2, 0.2)]  # Light gray to dark gray\n",
    "    cmap_name = \"custom_gray\"\n",
    "    custom_cmap = LinearSegmentedColormap.from_list(cmap_name, colors, N=len(sequence_to_plot) + 1)\n",
    "\n",
    "    # Create a square figure with the desired size in inches\n",
    "    dpi = 100\n",
    "    fig, ax = plt.subplots(figsize=(100 / dpi, 100 / dpi), dpi=dpi)\n",
    "\n",
    "    # Plot the histogram using imshow and set the extent to specify the image size\n",
    "    ax.imshow(\n",
    "        hist.T,\n",
    "        cmap=custom_cmap,\n",
    "        origin='lower',\n",
    "        extent=[-1, 1, -1, 1],  # Setting extent to create a 100x100 pixel image\n",
    "        interpolation='nearest'  # Optional: adjust the interpolation method\n",
    "    )\n",
    "\n",
    "    # Turn off the axis\n",
    "    ax.axis('off')\n",
    "\n",
    "    # Save the figure directly as an image using matplotlib.pyplot.savefig\n",
    "    plt.savefig(output_filename, bbox_inches='tight', pad_inches=0, dpi=dpi)\n",
    "    plt.close()\n",
    "\n",
    "# Your remaining function remains unchanged\n",
    "def generate_and_save_cgr_images_label(sequences, class_labels, output_dir, kmeres):\n",
    "    # Create the output directory if it doesn't exist\n",
    "    os.makedirs(output_dir, exist_ok=True)\n",
    "\n",
    "    for i, (sequence, label) in enumerate(zip(sequences, class_labels)):\n",
    "        # Generate the image filename based on the class label and sequence index\n",
    "        image_filename = os.path.join(output_dir, f\"{label}.png\")\n",
    "\n",
    "        # Generate and save the CGR image\n",
    "        generate_cgr_and_save(sequence, kmeres, image_filename)"
   ]
  },
  {
   "cell_type": "markdown",
   "id": "a8e7cbef",
   "metadata": {},
   "source": [
    "###  Patient 1"
   ]
  },
  {
   "cell_type": "code",
   "execution_count": 13,
   "id": "0964a21c",
   "metadata": {
    "scrolled": true
   },
   "outputs": [],
   "source": [
    "import pandas as pd\n",
    "\n",
    "file_name = \"Patient1.contigs.fa\"\n",
    "fasta_sequences = read_fasta_ARG(file_name)"
   ]
  },
  {
   "cell_type": "code",
   "execution_count": 14,
   "id": "dcd59256",
   "metadata": {},
   "outputs": [],
   "source": [
    "# Convert to DataFrame\n",
    "patient_1 = pd.DataFrame(fasta_sequences, columns=[ 'ids', 'seq'])\n"
   ]
  },
  {
   "cell_type": "code",
   "execution_count": 15,
   "id": "5a31b73f",
   "metadata": {},
   "outputs": [
    {
     "data": {
      "text/html": [
       "<div>\n",
       "<style scoped>\n",
       "    .dataframe tbody tr th:only-of-type {\n",
       "        vertical-align: middle;\n",
       "    }\n",
       "\n",
       "    .dataframe tbody tr th {\n",
       "        vertical-align: top;\n",
       "    }\n",
       "\n",
       "    .dataframe thead th {\n",
       "        text-align: right;\n",
       "    }\n",
       "</style>\n",
       "<table border=\"1\" class=\"dataframe\">\n",
       "  <thead>\n",
       "    <tr style=\"text-align: right;\">\n",
       "      <th></th>\n",
       "      <th>ids</th>\n",
       "      <th>seq</th>\n",
       "    </tr>\n",
       "  </thead>\n",
       "  <tbody>\n",
       "    <tr>\n",
       "      <th>0</th>\n",
       "      <td>k127_137511 flag=1 multi=6.0000 len=2500</td>\n",
       "      <td>AGATCGCAGTCATCACCGATCGGGACAACTGCGTGGCCGTCACCGG...</td>\n",
       "    </tr>\n",
       "    <tr>\n",
       "      <th>1</th>\n",
       "      <td>k127_34380 flag=1 multi=10.0000 len=3007</td>\n",
       "      <td>ACTTTGCGGCGAAGGTGCCCGCACGGCGCATCAAAGTGTCTAGGCC...</td>\n",
       "    </tr>\n",
       "    <tr>\n",
       "      <th>2</th>\n",
       "      <td>k127_133694 flag=1 multi=9.0000 len=2536</td>\n",
       "      <td>CGGCACGCTGACAGAAATCCAGAAGCATGACATACTGGAGCTGATT...</td>\n",
       "    </tr>\n",
       "    <tr>\n",
       "      <th>3</th>\n",
       "      <td>k127_145156 flag=1 multi=50.9495 len=3571</td>\n",
       "      <td>TTGAGTTTTTAAATTTATAAATTTAAAGTTTTTCTATTATGAACAA...</td>\n",
       "    </tr>\n",
       "    <tr>\n",
       "      <th>4</th>\n",
       "      <td>k127_95506 flag=1 multi=6.0000 len=3937</td>\n",
       "      <td>TCAGAAAGTTTCTCCTCCCCCTCCCCAATGCTTCAATTATTTACCG...</td>\n",
       "    </tr>\n",
       "    <tr>\n",
       "      <th>...</th>\n",
       "      <td>...</td>\n",
       "      <td>...</td>\n",
       "    </tr>\n",
       "    <tr>\n",
       "      <th>10976</th>\n",
       "      <td>k127_53427 flag=0 multi=91.9979 len=442537</td>\n",
       "      <td>ATAAGTATGACGGCATTGAGCGTATGCATCAGGATTATGAAAGAGA...</td>\n",
       "    </tr>\n",
       "    <tr>\n",
       "      <th>10977</th>\n",
       "      <td>k127_26723 flag=1 multi=10.1277 len=8637</td>\n",
       "      <td>GGTTTACTAAGATATCAAATGTGTCTGCCCAGGCAATAAGTTCCTC...</td>\n",
       "    </tr>\n",
       "    <tr>\n",
       "      <th>10978</th>\n",
       "      <td>k127_53473 flag=1 multi=6.0000 len=3090</td>\n",
       "      <td>TGCCAATATCATGCAGCACCGCCGCTACGTAGATCAGTTCCTTATC...</td>\n",
       "    </tr>\n",
       "    <tr>\n",
       "      <th>10979</th>\n",
       "      <td>k127_26733 flag=1 multi=16.9993 len=49484</td>\n",
       "      <td>GAGGTGTTTTGGCATGAATATGCCAAAATCCCGAGACATACAAGCC...</td>\n",
       "    </tr>\n",
       "    <tr>\n",
       "      <th>10980</th>\n",
       "      <td>k127_26735 flag=0 multi=46.9098 len=10328</td>\n",
       "      <td>CGTACCGCCGCCCTTGACCATTTGCGCCCTGCCTGCTGGAAAGTAA...</td>\n",
       "    </tr>\n",
       "  </tbody>\n",
       "</table>\n",
       "<p>10981 rows × 2 columns</p>\n",
       "</div>"
      ],
      "text/plain": [
       "                                              ids  \\\n",
       "0        k127_137511 flag=1 multi=6.0000 len=2500   \n",
       "1        k127_34380 flag=1 multi=10.0000 len=3007   \n",
       "2        k127_133694 flag=1 multi=9.0000 len=2536   \n",
       "3       k127_145156 flag=1 multi=50.9495 len=3571   \n",
       "4         k127_95506 flag=1 multi=6.0000 len=3937   \n",
       "...                                           ...   \n",
       "10976  k127_53427 flag=0 multi=91.9979 len=442537   \n",
       "10977    k127_26723 flag=1 multi=10.1277 len=8637   \n",
       "10978     k127_53473 flag=1 multi=6.0000 len=3090   \n",
       "10979   k127_26733 flag=1 multi=16.9993 len=49484   \n",
       "10980   k127_26735 flag=0 multi=46.9098 len=10328   \n",
       "\n",
       "                                                     seq  \n",
       "0      AGATCGCAGTCATCACCGATCGGGACAACTGCGTGGCCGTCACCGG...  \n",
       "1      ACTTTGCGGCGAAGGTGCCCGCACGGCGCATCAAAGTGTCTAGGCC...  \n",
       "2      CGGCACGCTGACAGAAATCCAGAAGCATGACATACTGGAGCTGATT...  \n",
       "3      TTGAGTTTTTAAATTTATAAATTTAAAGTTTTTCTATTATGAACAA...  \n",
       "4      TCAGAAAGTTTCTCCTCCCCCTCCCCAATGCTTCAATTATTTACCG...  \n",
       "...                                                  ...  \n",
       "10976  ATAAGTATGACGGCATTGAGCGTATGCATCAGGATTATGAAAGAGA...  \n",
       "10977  GGTTTACTAAGATATCAAATGTGTCTGCCCAGGCAATAAGTTCCTC...  \n",
       "10978  TGCCAATATCATGCAGCACCGCCGCTACGTAGATCAGTTCCTTATC...  \n",
       "10979  GAGGTGTTTTGGCATGAATATGCCAAAATCCCGAGACATACAAGCC...  \n",
       "10980  CGTACCGCCGCCCTTGACCATTTGCGCCCTGCCTGCTGGAAAGTAA...  \n",
       "\n",
       "[10981 rows x 2 columns]"
      ]
     },
     "execution_count": 15,
     "metadata": {},
     "output_type": "execute_result"
    }
   ],
   "source": [
    "patient_1"
   ]
  },
  {
   "cell_type": "code",
   "execution_count": 16,
   "id": "20fcb20e",
   "metadata": {
    "scrolled": false
   },
   "outputs": [],
   "source": [
    "# Define a function to extract the desired pattern\n",
    "def extract_id_1(string):\n",
    "    match = re.search(r'(k127_\\d+)', string)\n",
    "    if match:\n",
    "        return match.group(1) + '_1'\n",
    "    else:\n",
    "        return None\n",
    "\n",
    "# Apply the function to the 'ids' column\n",
    "patient_1['ids'] = patient_1['ids'].apply(extract_id_1)\n",
    "\n"
   ]
  },
  {
   "cell_type": "code",
   "execution_count": 17,
   "id": "56ca0f6f",
   "metadata": {},
   "outputs": [
    {
     "data": {
      "text/html": [
       "<div>\n",
       "<style scoped>\n",
       "    .dataframe tbody tr th:only-of-type {\n",
       "        vertical-align: middle;\n",
       "    }\n",
       "\n",
       "    .dataframe tbody tr th {\n",
       "        vertical-align: top;\n",
       "    }\n",
       "\n",
       "    .dataframe thead th {\n",
       "        text-align: right;\n",
       "    }\n",
       "</style>\n",
       "<table border=\"1\" class=\"dataframe\">\n",
       "  <thead>\n",
       "    <tr style=\"text-align: right;\">\n",
       "      <th></th>\n",
       "      <th>ids</th>\n",
       "      <th>seq</th>\n",
       "    </tr>\n",
       "  </thead>\n",
       "  <tbody>\n",
       "    <tr>\n",
       "      <th>0</th>\n",
       "      <td>k127_137511_1</td>\n",
       "      <td>AGATCGCAGTCATCACCGATCGGGACAACTGCGTGGCCGTCACCGG...</td>\n",
       "    </tr>\n",
       "    <tr>\n",
       "      <th>1</th>\n",
       "      <td>k127_34380_1</td>\n",
       "      <td>ACTTTGCGGCGAAGGTGCCCGCACGGCGCATCAAAGTGTCTAGGCC...</td>\n",
       "    </tr>\n",
       "    <tr>\n",
       "      <th>2</th>\n",
       "      <td>k127_133694_1</td>\n",
       "      <td>CGGCACGCTGACAGAAATCCAGAAGCATGACATACTGGAGCTGATT...</td>\n",
       "    </tr>\n",
       "    <tr>\n",
       "      <th>3</th>\n",
       "      <td>k127_145156_1</td>\n",
       "      <td>TTGAGTTTTTAAATTTATAAATTTAAAGTTTTTCTATTATGAACAA...</td>\n",
       "    </tr>\n",
       "    <tr>\n",
       "      <th>4</th>\n",
       "      <td>k127_95506_1</td>\n",
       "      <td>TCAGAAAGTTTCTCCTCCCCCTCCCCAATGCTTCAATTATTTACCG...</td>\n",
       "    </tr>\n",
       "    <tr>\n",
       "      <th>...</th>\n",
       "      <td>...</td>\n",
       "      <td>...</td>\n",
       "    </tr>\n",
       "    <tr>\n",
       "      <th>10976</th>\n",
       "      <td>k127_53427_1</td>\n",
       "      <td>ATAAGTATGACGGCATTGAGCGTATGCATCAGGATTATGAAAGAGA...</td>\n",
       "    </tr>\n",
       "    <tr>\n",
       "      <th>10977</th>\n",
       "      <td>k127_26723_1</td>\n",
       "      <td>GGTTTACTAAGATATCAAATGTGTCTGCCCAGGCAATAAGTTCCTC...</td>\n",
       "    </tr>\n",
       "    <tr>\n",
       "      <th>10978</th>\n",
       "      <td>k127_53473_1</td>\n",
       "      <td>TGCCAATATCATGCAGCACCGCCGCTACGTAGATCAGTTCCTTATC...</td>\n",
       "    </tr>\n",
       "    <tr>\n",
       "      <th>10979</th>\n",
       "      <td>k127_26733_1</td>\n",
       "      <td>GAGGTGTTTTGGCATGAATATGCCAAAATCCCGAGACATACAAGCC...</td>\n",
       "    </tr>\n",
       "    <tr>\n",
       "      <th>10980</th>\n",
       "      <td>k127_26735_1</td>\n",
       "      <td>CGTACCGCCGCCCTTGACCATTTGCGCCCTGCCTGCTGGAAAGTAA...</td>\n",
       "    </tr>\n",
       "  </tbody>\n",
       "</table>\n",
       "<p>10981 rows × 2 columns</p>\n",
       "</div>"
      ],
      "text/plain": [
       "                 ids                                                seq\n",
       "0      k127_137511_1  AGATCGCAGTCATCACCGATCGGGACAACTGCGTGGCCGTCACCGG...\n",
       "1       k127_34380_1  ACTTTGCGGCGAAGGTGCCCGCACGGCGCATCAAAGTGTCTAGGCC...\n",
       "2      k127_133694_1  CGGCACGCTGACAGAAATCCAGAAGCATGACATACTGGAGCTGATT...\n",
       "3      k127_145156_1  TTGAGTTTTTAAATTTATAAATTTAAAGTTTTTCTATTATGAACAA...\n",
       "4       k127_95506_1  TCAGAAAGTTTCTCCTCCCCCTCCCCAATGCTTCAATTATTTACCG...\n",
       "...              ...                                                ...\n",
       "10976   k127_53427_1  ATAAGTATGACGGCATTGAGCGTATGCATCAGGATTATGAAAGAGA...\n",
       "10977   k127_26723_1  GGTTTACTAAGATATCAAATGTGTCTGCCCAGGCAATAAGTTCCTC...\n",
       "10978   k127_53473_1  TGCCAATATCATGCAGCACCGCCGCTACGTAGATCAGTTCCTTATC...\n",
       "10979   k127_26733_1  GAGGTGTTTTGGCATGAATATGCCAAAATCCCGAGACATACAAGCC...\n",
       "10980   k127_26735_1  CGTACCGCCGCCCTTGACCATTTGCGCCCTGCCTGCTGGAAAGTAA...\n",
       "\n",
       "[10981 rows x 2 columns]"
      ]
     },
     "execution_count": 17,
     "metadata": {},
     "output_type": "execute_result"
    }
   ],
   "source": [
    "patient_1"
   ]
  },
  {
   "cell_type": "code",
   "execution_count": 18,
   "id": "95834220",
   "metadata": {},
   "outputs": [
    {
     "name": "stdout",
     "output_type": "stream",
     "text": [
      "There are no duplicate seq in the DataFrame.\n"
     ]
    }
   ],
   "source": [
    "# Assuming df_antibiotics_and_conjugate is your DataFrame\n",
    "# You can replace it with the name of your actual DataFrame\n",
    "\n",
    "# Check for duplicates in the \"ids\" column\n",
    "duplicates = patient_1[patient_1.duplicated('seq')]\n",
    "\n",
    "# If there are duplicates, duplicates DataFrame will contain those rows\n",
    "# If duplicates is empty, it means there are no duplicate ids\n",
    "if not duplicates.empty:\n",
    "    print(\"There are duplicate seq in the DataFrame:\")\n",
    "    print(duplicates)\n",
    "else:\n",
    "    print(\"There are no duplicate seq in the DataFrame.\")\n"
   ]
  },
  {
   "cell_type": "code",
   "execution_count": 19,
   "id": "61ed4981",
   "metadata": {},
   "outputs": [],
   "source": [
    "patient_ids = patient_1['ids'].tolist()\n",
    "patient_list = patient_1['seq'].tolist()\n"
   ]
  },
  {
   "cell_type": "code",
   "execution_count": 20,
   "id": "8a5e8940",
   "metadata": {},
   "outputs": [
    {
     "data": {
      "text/plain": [
       "10981"
      ]
     },
     "execution_count": 20,
     "metadata": {},
     "output_type": "execute_result"
    }
   ],
   "source": [
    "len(patient_ids)\n"
   ]
  },
  {
   "cell_type": "code",
   "execution_count": 21,
   "id": "3249cf73",
   "metadata": {},
   "outputs": [
    {
     "data": {
      "text/plain": [
       "10981"
      ]
     },
     "execution_count": 21,
     "metadata": {},
     "output_type": "execute_result"
    }
   ],
   "source": [
    "len(patient_list)"
   ]
  },
  {
   "cell_type": "code",
   "execution_count": null,
   "id": "c68efde5",
   "metadata": {},
   "outputs": [],
   "source": [
    "\n"
   ]
  },
  {
   "cell_type": "code",
   "execution_count": 22,
   "id": "55d78d3d",
   "metadata": {},
   "outputs": [
    {
     "name": "stdout",
     "output_type": "stream",
     "text": [
      "Time to generate images: 789.2033243179321 seconds\n"
     ]
    }
   ],
   "source": [
    "import time\n",
    "start_time = time.time()\n",
    "seq_num=[]\n",
    "\n",
    "\n",
    "all_seq = patient_list\n",
    "all_seq = [replace_ambiguous_bases(seq) for seq in all_seq]\n",
    "for sequence in all_seq:\n",
    "        seq_cgr = easy_cgr(sequence)\n",
    "        seq_num.append(seq_cgr)\n",
    "sequences = seq_num\n",
    "class_labels = patient_ids \n",
    "output_directory = \"patient_1_res_7\"\n",
    "kmeres=7\n",
    "\n",
    "if not os.path.exists(output_directory):\n",
    "    os.makedirs(output_directory)\n",
    "\n",
    "# Call the function to generate and save CGR images\n",
    "generate_and_save_cgr_images_label(sequences, class_labels, output_directory,kmeres)\n",
    "\n",
    "end_time = time.time()\n",
    "elapsed_time = end_time - start_time\n",
    "\n",
    "# Print the time taken\n",
    "print(f\"Time to generate images: {elapsed_time} seconds\")"
   ]
  },
  {
   "cell_type": "code",
   "execution_count": null,
   "id": "c75f58f8",
   "metadata": {},
   "outputs": [],
   "source": []
  },
  {
   "cell_type": "code",
   "execution_count": null,
   "id": "b3e2ebf0",
   "metadata": {},
   "outputs": [],
   "source": []
  },
  {
   "cell_type": "markdown",
   "id": "07d43e7c",
   "metadata": {},
   "source": [
    "###  Patient 2"
   ]
  },
  {
   "cell_type": "code",
   "execution_count": 23,
   "id": "061bc157",
   "metadata": {
    "scrolled": true
   },
   "outputs": [],
   "source": [
    "import pandas as pd\n",
    "\n",
    "file_name = \"Patient2.contigs.fa\"\n",
    "fasta_sequences = read_fasta_ARG(file_name)"
   ]
  },
  {
   "cell_type": "code",
   "execution_count": 24,
   "id": "3bf66e7c",
   "metadata": {},
   "outputs": [],
   "source": [
    "# Convert to DataFrame\n",
    "patient_2 = pd.DataFrame(fasta_sequences, columns=[ 'ids', 'seq'])\n"
   ]
  },
  {
   "cell_type": "code",
   "execution_count": 25,
   "id": "48b7892e",
   "metadata": {},
   "outputs": [
    {
     "data": {
      "text/html": [
       "<div>\n",
       "<style scoped>\n",
       "    .dataframe tbody tr th:only-of-type {\n",
       "        vertical-align: middle;\n",
       "    }\n",
       "\n",
       "    .dataframe tbody tr th {\n",
       "        vertical-align: top;\n",
       "    }\n",
       "\n",
       "    .dataframe thead th {\n",
       "        text-align: right;\n",
       "    }\n",
       "</style>\n",
       "<table border=\"1\" class=\"dataframe\">\n",
       "  <thead>\n",
       "    <tr style=\"text-align: right;\">\n",
       "      <th></th>\n",
       "      <th>ids</th>\n",
       "      <th>seq</th>\n",
       "    </tr>\n",
       "  </thead>\n",
       "  <tbody>\n",
       "    <tr>\n",
       "      <th>0</th>\n",
       "      <td>k127_276195 flag=1 multi=6.0000 len=2555</td>\n",
       "      <td>GTAGGGAACCAGATCAAATCCACAACTTCTCGATCAGGAGAATCAT...</td>\n",
       "    </tr>\n",
       "    <tr>\n",
       "      <th>1</th>\n",
       "      <td>k127_165721 flag=0 multi=17.6825 len=2817</td>\n",
       "      <td>GCCTCGTCGGAGTGGGCCATGTAGTTGATGCCCAGACAGATGACGT...</td>\n",
       "    </tr>\n",
       "    <tr>\n",
       "      <th>2</th>\n",
       "      <td>k127_276197 flag=1 multi=5.0000 len=3067</td>\n",
       "      <td>CCACATGACATGGCGCATAATGTAATGTGGTTGCACACACCTCCAC...</td>\n",
       "    </tr>\n",
       "    <tr>\n",
       "      <th>3</th>\n",
       "      <td>k127_138108 flag=1 multi=10.0000 len=2946</td>\n",
       "      <td>TTTCTATGGTACGGTATATGGTACCGGGAATGTATTGCTCTCTGGA...</td>\n",
       "    </tr>\n",
       "    <tr>\n",
       "      <th>4</th>\n",
       "      <td>k127_193343 flag=1 multi=10.8173 len=4671</td>\n",
       "      <td>GCAGTAGTTCATGTAGAACCCGATCAGCTCCCGGGAAGCCCAGCCG...</td>\n",
       "    </tr>\n",
       "    <tr>\n",
       "      <th>...</th>\n",
       "      <td>...</td>\n",
       "      <td>...</td>\n",
       "    </tr>\n",
       "    <tr>\n",
       "      <th>21706</th>\n",
       "      <td>k127_27537 flag=1 multi=12.0000 len=7006</td>\n",
       "      <td>CCGCTTCTCTATAATATAAAAATGAATGCCTATAACCCGCAGAGAG...</td>\n",
       "    </tr>\n",
       "    <tr>\n",
       "      <th>21707</th>\n",
       "      <td>k127_27551 flag=0 multi=5.9799 len=3117</td>\n",
       "      <td>TCTTTGAAGGTTACGCAACGCGCAGAAGGATAATGCAGTAGATAAC...</td>\n",
       "    </tr>\n",
       "    <tr>\n",
       "      <th>21708</th>\n",
       "      <td>k127_27563 flag=0 multi=14.3318 len=5034</td>\n",
       "      <td>CCTTGCGGCGCACGCCCAGACGGCTCACCAGCTCACCGCCGCCCTT...</td>\n",
       "    </tr>\n",
       "    <tr>\n",
       "      <th>21709</th>\n",
       "      <td>k127_27575 flag=1 multi=8.0000 len=2562</td>\n",
       "      <td>AATAATAGCAGGGAAATAGCAACTATTAACAAAGTTATCAGTATAG...</td>\n",
       "    </tr>\n",
       "    <tr>\n",
       "      <th>21710</th>\n",
       "      <td>k127_27617 flag=0 multi=15.9498 len=6100</td>\n",
       "      <td>CTTTAATGCTAAAATAAAGAACTTTCGTGCGCAGTTCAGGGGAGTT...</td>\n",
       "    </tr>\n",
       "  </tbody>\n",
       "</table>\n",
       "<p>21711 rows × 2 columns</p>\n",
       "</div>"
      ],
      "text/plain": [
       "                                             ids  \\\n",
       "0       k127_276195 flag=1 multi=6.0000 len=2555   \n",
       "1      k127_165721 flag=0 multi=17.6825 len=2817   \n",
       "2       k127_276197 flag=1 multi=5.0000 len=3067   \n",
       "3      k127_138108 flag=1 multi=10.0000 len=2946   \n",
       "4      k127_193343 flag=1 multi=10.8173 len=4671   \n",
       "...                                          ...   \n",
       "21706   k127_27537 flag=1 multi=12.0000 len=7006   \n",
       "21707    k127_27551 flag=0 multi=5.9799 len=3117   \n",
       "21708   k127_27563 flag=0 multi=14.3318 len=5034   \n",
       "21709    k127_27575 flag=1 multi=8.0000 len=2562   \n",
       "21710   k127_27617 flag=0 multi=15.9498 len=6100   \n",
       "\n",
       "                                                     seq  \n",
       "0      GTAGGGAACCAGATCAAATCCACAACTTCTCGATCAGGAGAATCAT...  \n",
       "1      GCCTCGTCGGAGTGGGCCATGTAGTTGATGCCCAGACAGATGACGT...  \n",
       "2      CCACATGACATGGCGCATAATGTAATGTGGTTGCACACACCTCCAC...  \n",
       "3      TTTCTATGGTACGGTATATGGTACCGGGAATGTATTGCTCTCTGGA...  \n",
       "4      GCAGTAGTTCATGTAGAACCCGATCAGCTCCCGGGAAGCCCAGCCG...  \n",
       "...                                                  ...  \n",
       "21706  CCGCTTCTCTATAATATAAAAATGAATGCCTATAACCCGCAGAGAG...  \n",
       "21707  TCTTTGAAGGTTACGCAACGCGCAGAAGGATAATGCAGTAGATAAC...  \n",
       "21708  CCTTGCGGCGCACGCCCAGACGGCTCACCAGCTCACCGCCGCCCTT...  \n",
       "21709  AATAATAGCAGGGAAATAGCAACTATTAACAAAGTTATCAGTATAG...  \n",
       "21710  CTTTAATGCTAAAATAAAGAACTTTCGTGCGCAGTTCAGGGGAGTT...  \n",
       "\n",
       "[21711 rows x 2 columns]"
      ]
     },
     "execution_count": 25,
     "metadata": {},
     "output_type": "execute_result"
    }
   ],
   "source": [
    "patient_2"
   ]
  },
  {
   "cell_type": "code",
   "execution_count": 26,
   "id": "0baaf626",
   "metadata": {
    "scrolled": false
   },
   "outputs": [],
   "source": [
    "# Define a function to extract the desired pattern\n",
    "def extract_id_2(string):\n",
    "    match = re.search(r'(k127_\\d+)', string)\n",
    "    if match:\n",
    "        return match.group(1) + '_2'\n",
    "    else:\n",
    "        return None\n",
    "\n",
    "# Apply the function to the 'ids' column\n",
    "patient_2['ids'] = patient_2['ids'].apply(extract_id_2)\n",
    "\n"
   ]
  },
  {
   "cell_type": "code",
   "execution_count": 27,
   "id": "b11bc8fb",
   "metadata": {},
   "outputs": [
    {
     "data": {
      "text/html": [
       "<div>\n",
       "<style scoped>\n",
       "    .dataframe tbody tr th:only-of-type {\n",
       "        vertical-align: middle;\n",
       "    }\n",
       "\n",
       "    .dataframe tbody tr th {\n",
       "        vertical-align: top;\n",
       "    }\n",
       "\n",
       "    .dataframe thead th {\n",
       "        text-align: right;\n",
       "    }\n",
       "</style>\n",
       "<table border=\"1\" class=\"dataframe\">\n",
       "  <thead>\n",
       "    <tr style=\"text-align: right;\">\n",
       "      <th></th>\n",
       "      <th>ids</th>\n",
       "      <th>seq</th>\n",
       "    </tr>\n",
       "  </thead>\n",
       "  <tbody>\n",
       "    <tr>\n",
       "      <th>0</th>\n",
       "      <td>k127_276195_2</td>\n",
       "      <td>GTAGGGAACCAGATCAAATCCACAACTTCTCGATCAGGAGAATCAT...</td>\n",
       "    </tr>\n",
       "    <tr>\n",
       "      <th>1</th>\n",
       "      <td>k127_165721_2</td>\n",
       "      <td>GCCTCGTCGGAGTGGGCCATGTAGTTGATGCCCAGACAGATGACGT...</td>\n",
       "    </tr>\n",
       "    <tr>\n",
       "      <th>2</th>\n",
       "      <td>k127_276197_2</td>\n",
       "      <td>CCACATGACATGGCGCATAATGTAATGTGGTTGCACACACCTCCAC...</td>\n",
       "    </tr>\n",
       "    <tr>\n",
       "      <th>3</th>\n",
       "      <td>k127_138108_2</td>\n",
       "      <td>TTTCTATGGTACGGTATATGGTACCGGGAATGTATTGCTCTCTGGA...</td>\n",
       "    </tr>\n",
       "    <tr>\n",
       "      <th>4</th>\n",
       "      <td>k127_193343_2</td>\n",
       "      <td>GCAGTAGTTCATGTAGAACCCGATCAGCTCCCGGGAAGCCCAGCCG...</td>\n",
       "    </tr>\n",
       "    <tr>\n",
       "      <th>...</th>\n",
       "      <td>...</td>\n",
       "      <td>...</td>\n",
       "    </tr>\n",
       "    <tr>\n",
       "      <th>21706</th>\n",
       "      <td>k127_27537_2</td>\n",
       "      <td>CCGCTTCTCTATAATATAAAAATGAATGCCTATAACCCGCAGAGAG...</td>\n",
       "    </tr>\n",
       "    <tr>\n",
       "      <th>21707</th>\n",
       "      <td>k127_27551_2</td>\n",
       "      <td>TCTTTGAAGGTTACGCAACGCGCAGAAGGATAATGCAGTAGATAAC...</td>\n",
       "    </tr>\n",
       "    <tr>\n",
       "      <th>21708</th>\n",
       "      <td>k127_27563_2</td>\n",
       "      <td>CCTTGCGGCGCACGCCCAGACGGCTCACCAGCTCACCGCCGCCCTT...</td>\n",
       "    </tr>\n",
       "    <tr>\n",
       "      <th>21709</th>\n",
       "      <td>k127_27575_2</td>\n",
       "      <td>AATAATAGCAGGGAAATAGCAACTATTAACAAAGTTATCAGTATAG...</td>\n",
       "    </tr>\n",
       "    <tr>\n",
       "      <th>21710</th>\n",
       "      <td>k127_27617_2</td>\n",
       "      <td>CTTTAATGCTAAAATAAAGAACTTTCGTGCGCAGTTCAGGGGAGTT...</td>\n",
       "    </tr>\n",
       "  </tbody>\n",
       "</table>\n",
       "<p>21711 rows × 2 columns</p>\n",
       "</div>"
      ],
      "text/plain": [
       "                 ids                                                seq\n",
       "0      k127_276195_2  GTAGGGAACCAGATCAAATCCACAACTTCTCGATCAGGAGAATCAT...\n",
       "1      k127_165721_2  GCCTCGTCGGAGTGGGCCATGTAGTTGATGCCCAGACAGATGACGT...\n",
       "2      k127_276197_2  CCACATGACATGGCGCATAATGTAATGTGGTTGCACACACCTCCAC...\n",
       "3      k127_138108_2  TTTCTATGGTACGGTATATGGTACCGGGAATGTATTGCTCTCTGGA...\n",
       "4      k127_193343_2  GCAGTAGTTCATGTAGAACCCGATCAGCTCCCGGGAAGCCCAGCCG...\n",
       "...              ...                                                ...\n",
       "21706   k127_27537_2  CCGCTTCTCTATAATATAAAAATGAATGCCTATAACCCGCAGAGAG...\n",
       "21707   k127_27551_2  TCTTTGAAGGTTACGCAACGCGCAGAAGGATAATGCAGTAGATAAC...\n",
       "21708   k127_27563_2  CCTTGCGGCGCACGCCCAGACGGCTCACCAGCTCACCGCCGCCCTT...\n",
       "21709   k127_27575_2  AATAATAGCAGGGAAATAGCAACTATTAACAAAGTTATCAGTATAG...\n",
       "21710   k127_27617_2  CTTTAATGCTAAAATAAAGAACTTTCGTGCGCAGTTCAGGGGAGTT...\n",
       "\n",
       "[21711 rows x 2 columns]"
      ]
     },
     "execution_count": 27,
     "metadata": {},
     "output_type": "execute_result"
    }
   ],
   "source": [
    "patient_2"
   ]
  },
  {
   "cell_type": "code",
   "execution_count": 28,
   "id": "0ea715ba",
   "metadata": {},
   "outputs": [
    {
     "name": "stdout",
     "output_type": "stream",
     "text": [
      "There are no duplicate seq in the DataFrame.\n"
     ]
    }
   ],
   "source": [
    "# Assuming df_antibiotics_and_conjugate is your DataFrame\n",
    "# You can replace it with the name of your actual DataFrame\n",
    "\n",
    "# Check for duplicates in the \"ids\" column\n",
    "duplicates = patient_2[patient_2.duplicated('seq')]\n",
    "\n",
    "# If there are duplicates, duplicates DataFrame will contain those rows\n",
    "# If duplicates is empty, it means there are no duplicate ids\n",
    "if not duplicates.empty:\n",
    "    print(\"There are duplicate seq in the DataFrame:\")\n",
    "    print(duplicates)\n",
    "else:\n",
    "    print(\"There are no duplicate seq in the DataFrame.\")\n"
   ]
  },
  {
   "cell_type": "code",
   "execution_count": 29,
   "id": "d4cc529d",
   "metadata": {},
   "outputs": [],
   "source": [
    "patient_ids = patient_2['ids'].tolist()[:15000]\n",
    "patient_list = patient_2['seq'].tolist()[:15000]\n",
    "\n"
   ]
  },
  {
   "cell_type": "code",
   "execution_count": 30,
   "id": "661f347b",
   "metadata": {},
   "outputs": [
    {
     "data": {
      "text/plain": [
       "15000"
      ]
     },
     "execution_count": 30,
     "metadata": {},
     "output_type": "execute_result"
    }
   ],
   "source": [
    "len(patient_ids)\n"
   ]
  },
  {
   "cell_type": "code",
   "execution_count": 31,
   "id": "bbb1afa2",
   "metadata": {},
   "outputs": [
    {
     "data": {
      "text/plain": [
       "15000"
      ]
     },
     "execution_count": 31,
     "metadata": {},
     "output_type": "execute_result"
    }
   ],
   "source": [
    "len(patient_list)"
   ]
  },
  {
   "cell_type": "code",
   "execution_count": 32,
   "id": "07d7405a",
   "metadata": {},
   "outputs": [
    {
     "name": "stdout",
     "output_type": "stream",
     "text": [
      "Time to generate images: 1561.3771016597748 seconds\n"
     ]
    }
   ],
   "source": [
    "import time\n",
    "start_time = time.time()\n",
    "seq_num=[]\n",
    "\n",
    "\n",
    "all_seq = patient_list\n",
    "all_seq = [replace_ambiguous_bases(seq) for seq in all_seq]\n",
    "for sequence in all_seq:\n",
    "        seq_cgr = easy_cgr(sequence)\n",
    "        seq_num.append(seq_cgr)\n",
    "sequences = seq_num\n",
    "class_labels = patient_ids \n",
    "output_directory = \"patient_2_res_7\"\n",
    "kmeres=7\n",
    "\n",
    "if not os.path.exists(output_directory):\n",
    "    os.makedirs(output_directory)\n",
    "\n",
    "# Call the function to generate and save CGR images\n",
    "generate_and_save_cgr_images_label(sequences, class_labels, output_directory,kmeres)\n",
    "\n",
    "end_time = time.time()\n",
    "elapsed_time = end_time - start_time\n",
    "\n",
    "# Print the time taken\n",
    "print(f\"Time to generate images: {elapsed_time} seconds\")"
   ]
  },
  {
   "cell_type": "code",
   "execution_count": null,
   "id": "d0c154b5",
   "metadata": {},
   "outputs": [],
   "source": []
  },
  {
   "cell_type": "code",
   "execution_count": null,
   "id": "56e9e6bd",
   "metadata": {},
   "outputs": [],
   "source": []
  },
  {
   "cell_type": "markdown",
   "id": "fbe7307b",
   "metadata": {},
   "source": [
    "###  Patient 4"
   ]
  },
  {
   "cell_type": "code",
   "execution_count": 33,
   "id": "6ebbb5c0",
   "metadata": {
    "scrolled": true
   },
   "outputs": [],
   "source": [
    "import pandas as pd\n",
    "\n",
    "file_name = \"Patient4.contigs.fa\"\n",
    "fasta_sequences = read_fasta_ARG(file_name)"
   ]
  },
  {
   "cell_type": "code",
   "execution_count": 34,
   "id": "a7a3cf19",
   "metadata": {},
   "outputs": [],
   "source": [
    "# Convert to DataFrame\n",
    "patient_4 = pd.DataFrame(fasta_sequences, columns=[ 'ids', 'seq'])\n"
   ]
  },
  {
   "cell_type": "code",
   "execution_count": 35,
   "id": "79119f2b",
   "metadata": {},
   "outputs": [
    {
     "data": {
      "text/html": [
       "<div>\n",
       "<style scoped>\n",
       "    .dataframe tbody tr th:only-of-type {\n",
       "        vertical-align: middle;\n",
       "    }\n",
       "\n",
       "    .dataframe tbody tr th {\n",
       "        vertical-align: top;\n",
       "    }\n",
       "\n",
       "    .dataframe thead th {\n",
       "        text-align: right;\n",
       "    }\n",
       "</style>\n",
       "<table border=\"1\" class=\"dataframe\">\n",
       "  <thead>\n",
       "    <tr style=\"text-align: right;\">\n",
       "      <th></th>\n",
       "      <th>ids</th>\n",
       "      <th>seq</th>\n",
       "    </tr>\n",
       "  </thead>\n",
       "  <tbody>\n",
       "    <tr>\n",
       "      <th>0</th>\n",
       "      <td>k127_92563 flag=1 multi=6.0000 len=3073</td>\n",
       "      <td>CACCTGGTCCAGATACACCCACATTAATTACACAATCGGCTTCACC...</td>\n",
       "    </tr>\n",
       "    <tr>\n",
       "      <th>1</th>\n",
       "      <td>k127_102849 flag=0 multi=11.7480 len=3671</td>\n",
       "      <td>CCATCGTTCCTTCCGTAGCAGAAAAGAAAGCTCCTGGCTCCAACGT...</td>\n",
       "    </tr>\n",
       "    <tr>\n",
       "      <th>2</th>\n",
       "      <td>k127_51425 flag=1 multi=6.9888 len=2634</td>\n",
       "      <td>GGGCATCATTGCTGGTAAGAGCAACACCAAGTTCGTTCCGAACGAA...</td>\n",
       "    </tr>\n",
       "    <tr>\n",
       "      <th>3</th>\n",
       "      <td>k127_102856 flag=1 multi=4.0000 len=2875</td>\n",
       "      <td>GTGCAAAGGTACAAATCATTTTTAATTCTGCAAACTTCCTTTCTCT...</td>\n",
       "    </tr>\n",
       "    <tr>\n",
       "      <th>4</th>\n",
       "      <td>k127_113139 flag=0 multi=6.9879 len=5104</td>\n",
       "      <td>TCCAAACAGAAGGCGTTTGCGTTATTTCTTCTGAATTTTCAACCGC...</td>\n",
       "    </tr>\n",
       "    <tr>\n",
       "      <th>...</th>\n",
       "      <td>...</td>\n",
       "      <td>...</td>\n",
       "    </tr>\n",
       "    <tr>\n",
       "      <th>9167</th>\n",
       "      <td>k127_102771 flag=1 multi=6.0000 len=2617</td>\n",
       "      <td>CTATCATACCCTGCATGATATACAAACAAAATACTTTTCACAAACA...</td>\n",
       "    </tr>\n",
       "    <tr>\n",
       "      <th>9168</th>\n",
       "      <td>k127_61701 flag=1 multi=78.0000 len=74253</td>\n",
       "      <td>GTGTATAATACATTGTCCCAATATTATTTTTTTTTAGATAAAGAAA...</td>\n",
       "    </tr>\n",
       "    <tr>\n",
       "      <th>9169</th>\n",
       "      <td>k127_102786 flag=0 multi=45.9470 len=40013</td>\n",
       "      <td>CGAAATGGTATGGAAAAGAGATAATAAAAATTGATAAATTTTATCC...</td>\n",
       "    </tr>\n",
       "    <tr>\n",
       "      <th>9170</th>\n",
       "      <td>k127_102798 flag=1 multi=9.0000 len=13154</td>\n",
       "      <td>ACTAATTAAATAATACAATATTTTTGAAAAAATAGCAAGTTTTTAG...</td>\n",
       "    </tr>\n",
       "    <tr>\n",
       "      <th>9171</th>\n",
       "      <td>k127_102816 flag=1 multi=14.0000 len=7981</td>\n",
       "      <td>CATAACTGGTTTTTGTCTTATAAATATTATTTGCAGAAATACTTAT...</td>\n",
       "    </tr>\n",
       "  </tbody>\n",
       "</table>\n",
       "<p>9172 rows × 2 columns</p>\n",
       "</div>"
      ],
      "text/plain": [
       "                                             ids  \\\n",
       "0        k127_92563 flag=1 multi=6.0000 len=3073   \n",
       "1      k127_102849 flag=0 multi=11.7480 len=3671   \n",
       "2        k127_51425 flag=1 multi=6.9888 len=2634   \n",
       "3       k127_102856 flag=1 multi=4.0000 len=2875   \n",
       "4       k127_113139 flag=0 multi=6.9879 len=5104   \n",
       "...                                          ...   \n",
       "9167    k127_102771 flag=1 multi=6.0000 len=2617   \n",
       "9168   k127_61701 flag=1 multi=78.0000 len=74253   \n",
       "9169  k127_102786 flag=0 multi=45.9470 len=40013   \n",
       "9170   k127_102798 flag=1 multi=9.0000 len=13154   \n",
       "9171   k127_102816 flag=1 multi=14.0000 len=7981   \n",
       "\n",
       "                                                    seq  \n",
       "0     CACCTGGTCCAGATACACCCACATTAATTACACAATCGGCTTCACC...  \n",
       "1     CCATCGTTCCTTCCGTAGCAGAAAAGAAAGCTCCTGGCTCCAACGT...  \n",
       "2     GGGCATCATTGCTGGTAAGAGCAACACCAAGTTCGTTCCGAACGAA...  \n",
       "3     GTGCAAAGGTACAAATCATTTTTAATTCTGCAAACTTCCTTTCTCT...  \n",
       "4     TCCAAACAGAAGGCGTTTGCGTTATTTCTTCTGAATTTTCAACCGC...  \n",
       "...                                                 ...  \n",
       "9167  CTATCATACCCTGCATGATATACAAACAAAATACTTTTCACAAACA...  \n",
       "9168  GTGTATAATACATTGTCCCAATATTATTTTTTTTTAGATAAAGAAA...  \n",
       "9169  CGAAATGGTATGGAAAAGAGATAATAAAAATTGATAAATTTTATCC...  \n",
       "9170  ACTAATTAAATAATACAATATTTTTGAAAAAATAGCAAGTTTTTAG...  \n",
       "9171  CATAACTGGTTTTTGTCTTATAAATATTATTTGCAGAAATACTTAT...  \n",
       "\n",
       "[9172 rows x 2 columns]"
      ]
     },
     "execution_count": 35,
     "metadata": {},
     "output_type": "execute_result"
    }
   ],
   "source": [
    "patient_4"
   ]
  },
  {
   "cell_type": "code",
   "execution_count": 36,
   "id": "40418741",
   "metadata": {
    "scrolled": false
   },
   "outputs": [],
   "source": [
    "# Define a function to extract the desired pattern\n",
    "def extract_id_4(string):\n",
    "    match = re.search(r'(k127_\\d+)', string)\n",
    "    if match:\n",
    "        return match.group(1) + '_4'\n",
    "    else:\n",
    "        return None\n",
    "\n",
    "# Apply the function to the 'ids' column\n",
    "patient_4['ids'] = patient_4['ids'].apply(extract_id_4)\n",
    "\n"
   ]
  },
  {
   "cell_type": "code",
   "execution_count": 37,
   "id": "fcacb6eb",
   "metadata": {},
   "outputs": [
    {
     "data": {
      "text/html": [
       "<div>\n",
       "<style scoped>\n",
       "    .dataframe tbody tr th:only-of-type {\n",
       "        vertical-align: middle;\n",
       "    }\n",
       "\n",
       "    .dataframe tbody tr th {\n",
       "        vertical-align: top;\n",
       "    }\n",
       "\n",
       "    .dataframe thead th {\n",
       "        text-align: right;\n",
       "    }\n",
       "</style>\n",
       "<table border=\"1\" class=\"dataframe\">\n",
       "  <thead>\n",
       "    <tr style=\"text-align: right;\">\n",
       "      <th></th>\n",
       "      <th>ids</th>\n",
       "      <th>seq</th>\n",
       "    </tr>\n",
       "  </thead>\n",
       "  <tbody>\n",
       "    <tr>\n",
       "      <th>0</th>\n",
       "      <td>k127_92563_4</td>\n",
       "      <td>CACCTGGTCCAGATACACCCACATTAATTACACAATCGGCTTCACC...</td>\n",
       "    </tr>\n",
       "    <tr>\n",
       "      <th>1</th>\n",
       "      <td>k127_102849_4</td>\n",
       "      <td>CCATCGTTCCTTCCGTAGCAGAAAAGAAAGCTCCTGGCTCCAACGT...</td>\n",
       "    </tr>\n",
       "    <tr>\n",
       "      <th>2</th>\n",
       "      <td>k127_51425_4</td>\n",
       "      <td>GGGCATCATTGCTGGTAAGAGCAACACCAAGTTCGTTCCGAACGAA...</td>\n",
       "    </tr>\n",
       "    <tr>\n",
       "      <th>3</th>\n",
       "      <td>k127_102856_4</td>\n",
       "      <td>GTGCAAAGGTACAAATCATTTTTAATTCTGCAAACTTCCTTTCTCT...</td>\n",
       "    </tr>\n",
       "    <tr>\n",
       "      <th>4</th>\n",
       "      <td>k127_113139_4</td>\n",
       "      <td>TCCAAACAGAAGGCGTTTGCGTTATTTCTTCTGAATTTTCAACCGC...</td>\n",
       "    </tr>\n",
       "    <tr>\n",
       "      <th>...</th>\n",
       "      <td>...</td>\n",
       "      <td>...</td>\n",
       "    </tr>\n",
       "    <tr>\n",
       "      <th>9167</th>\n",
       "      <td>k127_102771_4</td>\n",
       "      <td>CTATCATACCCTGCATGATATACAAACAAAATACTTTTCACAAACA...</td>\n",
       "    </tr>\n",
       "    <tr>\n",
       "      <th>9168</th>\n",
       "      <td>k127_61701_4</td>\n",
       "      <td>GTGTATAATACATTGTCCCAATATTATTTTTTTTTAGATAAAGAAA...</td>\n",
       "    </tr>\n",
       "    <tr>\n",
       "      <th>9169</th>\n",
       "      <td>k127_102786_4</td>\n",
       "      <td>CGAAATGGTATGGAAAAGAGATAATAAAAATTGATAAATTTTATCC...</td>\n",
       "    </tr>\n",
       "    <tr>\n",
       "      <th>9170</th>\n",
       "      <td>k127_102798_4</td>\n",
       "      <td>ACTAATTAAATAATACAATATTTTTGAAAAAATAGCAAGTTTTTAG...</td>\n",
       "    </tr>\n",
       "    <tr>\n",
       "      <th>9171</th>\n",
       "      <td>k127_102816_4</td>\n",
       "      <td>CATAACTGGTTTTTGTCTTATAAATATTATTTGCAGAAATACTTAT...</td>\n",
       "    </tr>\n",
       "  </tbody>\n",
       "</table>\n",
       "<p>9172 rows × 2 columns</p>\n",
       "</div>"
      ],
      "text/plain": [
       "                ids                                                seq\n",
       "0      k127_92563_4  CACCTGGTCCAGATACACCCACATTAATTACACAATCGGCTTCACC...\n",
       "1     k127_102849_4  CCATCGTTCCTTCCGTAGCAGAAAAGAAAGCTCCTGGCTCCAACGT...\n",
       "2      k127_51425_4  GGGCATCATTGCTGGTAAGAGCAACACCAAGTTCGTTCCGAACGAA...\n",
       "3     k127_102856_4  GTGCAAAGGTACAAATCATTTTTAATTCTGCAAACTTCCTTTCTCT...\n",
       "4     k127_113139_4  TCCAAACAGAAGGCGTTTGCGTTATTTCTTCTGAATTTTCAACCGC...\n",
       "...             ...                                                ...\n",
       "9167  k127_102771_4  CTATCATACCCTGCATGATATACAAACAAAATACTTTTCACAAACA...\n",
       "9168   k127_61701_4  GTGTATAATACATTGTCCCAATATTATTTTTTTTTAGATAAAGAAA...\n",
       "9169  k127_102786_4  CGAAATGGTATGGAAAAGAGATAATAAAAATTGATAAATTTTATCC...\n",
       "9170  k127_102798_4  ACTAATTAAATAATACAATATTTTTGAAAAAATAGCAAGTTTTTAG...\n",
       "9171  k127_102816_4  CATAACTGGTTTTTGTCTTATAAATATTATTTGCAGAAATACTTAT...\n",
       "\n",
       "[9172 rows x 2 columns]"
      ]
     },
     "execution_count": 37,
     "metadata": {},
     "output_type": "execute_result"
    }
   ],
   "source": [
    "patient_4"
   ]
  },
  {
   "cell_type": "code",
   "execution_count": 38,
   "id": "0ffed206",
   "metadata": {},
   "outputs": [
    {
     "name": "stdout",
     "output_type": "stream",
     "text": [
      "There are no duplicate seq in the DataFrame.\n"
     ]
    }
   ],
   "source": [
    "# Assuming df_antibiotics_and_conjugate is your DataFrame\n",
    "# You can replace it with the name of your actual DataFrame\n",
    "\n",
    "# Check for duplicates in the \"ids\" column\n",
    "duplicates = patient_4[patient_4.duplicated('seq')]\n",
    "\n",
    "# If there are duplicates, duplicates DataFrame will contain those rows\n",
    "# If duplicates is empty, it means there are no duplicate ids\n",
    "if not duplicates.empty:\n",
    "    print(\"There are duplicate seq in the DataFrame:\")\n",
    "    print(duplicates)\n",
    "else:\n",
    "    print(\"There are no duplicate seq in the DataFrame.\")\n"
   ]
  },
  {
   "cell_type": "code",
   "execution_count": 39,
   "id": "ad63d4e1",
   "metadata": {},
   "outputs": [],
   "source": [
    "patient_ids = patient_4['ids'].tolist()\n",
    "patient_list = patient_4['seq'].tolist()\n"
   ]
  },
  {
   "cell_type": "code",
   "execution_count": 40,
   "id": "aa003fc6",
   "metadata": {},
   "outputs": [
    {
     "data": {
      "text/plain": [
       "9172"
      ]
     },
     "execution_count": 40,
     "metadata": {},
     "output_type": "execute_result"
    }
   ],
   "source": [
    "len(patient_ids)\n"
   ]
  },
  {
   "cell_type": "code",
   "execution_count": 41,
   "id": "0e937b2e",
   "metadata": {},
   "outputs": [
    {
     "data": {
      "text/plain": [
       "9172"
      ]
     },
     "execution_count": 41,
     "metadata": {},
     "output_type": "execute_result"
    }
   ],
   "source": [
    "len(patient_list)"
   ]
  },
  {
   "cell_type": "code",
   "execution_count": 42,
   "id": "5e6ce449",
   "metadata": {},
   "outputs": [
    {
     "name": "stdout",
     "output_type": "stream",
     "text": [
      "Time to generate images: 956.8253862857819 seconds\n"
     ]
    }
   ],
   "source": [
    "import time\n",
    "start_time = time.time()\n",
    "seq_num=[]\n",
    "\n",
    "\n",
    "all_seq = patient_list\n",
    "all_seq = [replace_ambiguous_bases(seq) for seq in all_seq]\n",
    "for sequence in all_seq:\n",
    "        seq_cgr = easy_cgr(sequence)\n",
    "        seq_num.append(seq_cgr)\n",
    "sequences = seq_num\n",
    "class_labels = patient_ids \n",
    "output_directory = \"patient_4_res_7\"\n",
    "kmeres=7\n",
    "\n",
    "if not os.path.exists(output_directory):\n",
    "    os.makedirs(output_directory)\n",
    "\n",
    "# Call the function to generate and save CGR images\n",
    "generate_and_save_cgr_images_label(sequences, class_labels, output_directory,kmeres)\n",
    "\n",
    "end_time = time.time()\n",
    "elapsed_time = end_time - start_time\n",
    "\n",
    "# Print the time taken\n",
    "print(f\"Time to generate images: {elapsed_time} seconds\")"
   ]
  },
  {
   "cell_type": "code",
   "execution_count": null,
   "id": "0aebd931",
   "metadata": {},
   "outputs": [],
   "source": []
  },
  {
   "cell_type": "code",
   "execution_count": null,
   "id": "0bc20979",
   "metadata": {},
   "outputs": [],
   "source": []
  },
  {
   "cell_type": "markdown",
   "id": "3610ed44",
   "metadata": {},
   "source": [
    "###  Patient 5"
   ]
  },
  {
   "cell_type": "code",
   "execution_count": 43,
   "id": "3ceb84c9",
   "metadata": {
    "scrolled": true
   },
   "outputs": [],
   "source": [
    "import pandas as pd\n",
    "\n",
    "file_name = \"Patient5.contigs.fa\"\n",
    "fasta_sequences = read_fasta_ARG(file_name)"
   ]
  },
  {
   "cell_type": "code",
   "execution_count": 44,
   "id": "86eac427",
   "metadata": {},
   "outputs": [],
   "source": [
    "# Convert to DataFrame\n",
    "patient_5 = pd.DataFrame(fasta_sequences, columns=[ 'ids', 'seq'])\n"
   ]
  },
  {
   "cell_type": "code",
   "execution_count": 45,
   "id": "982498a9",
   "metadata": {},
   "outputs": [
    {
     "data": {
      "text/html": [
       "<div>\n",
       "<style scoped>\n",
       "    .dataframe tbody tr th:only-of-type {\n",
       "        vertical-align: middle;\n",
       "    }\n",
       "\n",
       "    .dataframe tbody tr th {\n",
       "        vertical-align: top;\n",
       "    }\n",
       "\n",
       "    .dataframe thead th {\n",
       "        text-align: right;\n",
       "    }\n",
       "</style>\n",
       "<table border=\"1\" class=\"dataframe\">\n",
       "  <thead>\n",
       "    <tr style=\"text-align: right;\">\n",
       "      <th></th>\n",
       "      <th>ids</th>\n",
       "      <th>seq</th>\n",
       "    </tr>\n",
       "  </thead>\n",
       "  <tbody>\n",
       "    <tr>\n",
       "      <th>0</th>\n",
       "      <td>k127_137157 flag=0 multi=33.0000 len=4132</td>\n",
       "      <td>GTTTATAATGGCTAAGCGGGGAACGCTGTAAGCGTTATCCCGGTTT...</td>\n",
       "    </tr>\n",
       "    <tr>\n",
       "      <th>1</th>\n",
       "      <td>k127_201702 flag=1 multi=4.0000 len=2824</td>\n",
       "      <td>GCATTGCAAAGACCAAAGAAGAAGCAAGAGAACGCTGCATGAGTAT...</td>\n",
       "    </tr>\n",
       "    <tr>\n",
       "      <th>2</th>\n",
       "      <td>k127_145225 flag=0 multi=17.5053 len=4829</td>\n",
       "      <td>CACTCCGTTTACAGTAACACGCTTCGCGATGCACAGAAATCATGCT...</td>\n",
       "    </tr>\n",
       "    <tr>\n",
       "      <th>3</th>\n",
       "      <td>k127_185568 flag=1 multi=8.0000 len=2762</td>\n",
       "      <td>GTTCTGCGCGGTCTTGGTCGCGATGACCCTCACACGCTTTTTAGCG...</td>\n",
       "    </tr>\n",
       "    <tr>\n",
       "      <th>4</th>\n",
       "      <td>k127_225909 flag=1 multi=7.0000 len=2983</td>\n",
       "      <td>CGGCCAGCTTCCGGTTCAATTCCTGCTTGATCTCGCTGGCGATCTG...</td>\n",
       "    </tr>\n",
       "    <tr>\n",
       "      <th>...</th>\n",
       "      <td>...</td>\n",
       "      <td>...</td>\n",
       "    </tr>\n",
       "    <tr>\n",
       "      <th>25249</th>\n",
       "      <td>k127_177427 flag=1 multi=9.0000 len=2665</td>\n",
       "      <td>GACTAGATATAAAGTTTACGATATAATCACATTTATTAGAGGAGGA...</td>\n",
       "    </tr>\n",
       "    <tr>\n",
       "      <th>25250</th>\n",
       "      <td>k127_177445 flag=1 multi=10.0000 len=4746</td>\n",
       "      <td>CTTATAAATAAAGGGTGGCAGAAGAGATTTTCAAATGATTCTGCAC...</td>\n",
       "    </tr>\n",
       "    <tr>\n",
       "      <th>25251</th>\n",
       "      <td>k127_177453 flag=0 multi=50.9933 len=74422</td>\n",
       "      <td>CTCCTACTCCTACTCCTCTACCCTCCCTTCCGGACTTCTCCGACAC...</td>\n",
       "    </tr>\n",
       "    <tr>\n",
       "      <th>25252</th>\n",
       "      <td>k127_177464 flag=1 multi=11.0000 len=12795</td>\n",
       "      <td>TTAAGGTGATACTGATTATAATTAGAAAGATTGATTTTTAGATACT...</td>\n",
       "    </tr>\n",
       "    <tr>\n",
       "      <th>25253</th>\n",
       "      <td>k127_177470 flag=1 multi=9.0000 len=4115</td>\n",
       "      <td>ACCTATTTTACATCCACGAGACAATTCGCTATCCTAAAGTTGAAAA...</td>\n",
       "    </tr>\n",
       "  </tbody>\n",
       "</table>\n",
       "<p>25254 rows × 2 columns</p>\n",
       "</div>"
      ],
      "text/plain": [
       "                                              ids  \\\n",
       "0       k127_137157 flag=0 multi=33.0000 len=4132   \n",
       "1        k127_201702 flag=1 multi=4.0000 len=2824   \n",
       "2       k127_145225 flag=0 multi=17.5053 len=4829   \n",
       "3        k127_185568 flag=1 multi=8.0000 len=2762   \n",
       "4        k127_225909 flag=1 multi=7.0000 len=2983   \n",
       "...                                           ...   \n",
       "25249    k127_177427 flag=1 multi=9.0000 len=2665   \n",
       "25250   k127_177445 flag=1 multi=10.0000 len=4746   \n",
       "25251  k127_177453 flag=0 multi=50.9933 len=74422   \n",
       "25252  k127_177464 flag=1 multi=11.0000 len=12795   \n",
       "25253    k127_177470 flag=1 multi=9.0000 len=4115   \n",
       "\n",
       "                                                     seq  \n",
       "0      GTTTATAATGGCTAAGCGGGGAACGCTGTAAGCGTTATCCCGGTTT...  \n",
       "1      GCATTGCAAAGACCAAAGAAGAAGCAAGAGAACGCTGCATGAGTAT...  \n",
       "2      CACTCCGTTTACAGTAACACGCTTCGCGATGCACAGAAATCATGCT...  \n",
       "3      GTTCTGCGCGGTCTTGGTCGCGATGACCCTCACACGCTTTTTAGCG...  \n",
       "4      CGGCCAGCTTCCGGTTCAATTCCTGCTTGATCTCGCTGGCGATCTG...  \n",
       "...                                                  ...  \n",
       "25249  GACTAGATATAAAGTTTACGATATAATCACATTTATTAGAGGAGGA...  \n",
       "25250  CTTATAAATAAAGGGTGGCAGAAGAGATTTTCAAATGATTCTGCAC...  \n",
       "25251  CTCCTACTCCTACTCCTCTACCCTCCCTTCCGGACTTCTCCGACAC...  \n",
       "25252  TTAAGGTGATACTGATTATAATTAGAAAGATTGATTTTTAGATACT...  \n",
       "25253  ACCTATTTTACATCCACGAGACAATTCGCTATCCTAAAGTTGAAAA...  \n",
       "\n",
       "[25254 rows x 2 columns]"
      ]
     },
     "execution_count": 45,
     "metadata": {},
     "output_type": "execute_result"
    }
   ],
   "source": [
    "patient_5"
   ]
  },
  {
   "cell_type": "code",
   "execution_count": 46,
   "id": "d13b58be",
   "metadata": {
    "scrolled": false
   },
   "outputs": [],
   "source": [
    "# Define a function to extract the desired pattern\n",
    "def extract_id_5(string):\n",
    "    match = re.search(r'(k127_\\d+)', string)\n",
    "    if match:\n",
    "        return match.group(1) + '_5'\n",
    "    else:\n",
    "        return None\n",
    "\n",
    "# Apply the function to the 'ids' column\n",
    "patient_5['ids'] = patient_5['ids'].apply(extract_id_5)\n",
    "\n"
   ]
  },
  {
   "cell_type": "code",
   "execution_count": 47,
   "id": "81acc29a",
   "metadata": {},
   "outputs": [
    {
     "data": {
      "text/html": [
       "<div>\n",
       "<style scoped>\n",
       "    .dataframe tbody tr th:only-of-type {\n",
       "        vertical-align: middle;\n",
       "    }\n",
       "\n",
       "    .dataframe tbody tr th {\n",
       "        vertical-align: top;\n",
       "    }\n",
       "\n",
       "    .dataframe thead th {\n",
       "        text-align: right;\n",
       "    }\n",
       "</style>\n",
       "<table border=\"1\" class=\"dataframe\">\n",
       "  <thead>\n",
       "    <tr style=\"text-align: right;\">\n",
       "      <th></th>\n",
       "      <th>ids</th>\n",
       "      <th>seq</th>\n",
       "    </tr>\n",
       "  </thead>\n",
       "  <tbody>\n",
       "    <tr>\n",
       "      <th>0</th>\n",
       "      <td>k127_137157_5</td>\n",
       "      <td>GTTTATAATGGCTAAGCGGGGAACGCTGTAAGCGTTATCCCGGTTT...</td>\n",
       "    </tr>\n",
       "    <tr>\n",
       "      <th>1</th>\n",
       "      <td>k127_201702_5</td>\n",
       "      <td>GCATTGCAAAGACCAAAGAAGAAGCAAGAGAACGCTGCATGAGTAT...</td>\n",
       "    </tr>\n",
       "    <tr>\n",
       "      <th>2</th>\n",
       "      <td>k127_145225_5</td>\n",
       "      <td>CACTCCGTTTACAGTAACACGCTTCGCGATGCACAGAAATCATGCT...</td>\n",
       "    </tr>\n",
       "    <tr>\n",
       "      <th>3</th>\n",
       "      <td>k127_185568_5</td>\n",
       "      <td>GTTCTGCGCGGTCTTGGTCGCGATGACCCTCACACGCTTTTTAGCG...</td>\n",
       "    </tr>\n",
       "    <tr>\n",
       "      <th>4</th>\n",
       "      <td>k127_225909_5</td>\n",
       "      <td>CGGCCAGCTTCCGGTTCAATTCCTGCTTGATCTCGCTGGCGATCTG...</td>\n",
       "    </tr>\n",
       "    <tr>\n",
       "      <th>...</th>\n",
       "      <td>...</td>\n",
       "      <td>...</td>\n",
       "    </tr>\n",
       "    <tr>\n",
       "      <th>25249</th>\n",
       "      <td>k127_177427_5</td>\n",
       "      <td>GACTAGATATAAAGTTTACGATATAATCACATTTATTAGAGGAGGA...</td>\n",
       "    </tr>\n",
       "    <tr>\n",
       "      <th>25250</th>\n",
       "      <td>k127_177445_5</td>\n",
       "      <td>CTTATAAATAAAGGGTGGCAGAAGAGATTTTCAAATGATTCTGCAC...</td>\n",
       "    </tr>\n",
       "    <tr>\n",
       "      <th>25251</th>\n",
       "      <td>k127_177453_5</td>\n",
       "      <td>CTCCTACTCCTACTCCTCTACCCTCCCTTCCGGACTTCTCCGACAC...</td>\n",
       "    </tr>\n",
       "    <tr>\n",
       "      <th>25252</th>\n",
       "      <td>k127_177464_5</td>\n",
       "      <td>TTAAGGTGATACTGATTATAATTAGAAAGATTGATTTTTAGATACT...</td>\n",
       "    </tr>\n",
       "    <tr>\n",
       "      <th>25253</th>\n",
       "      <td>k127_177470_5</td>\n",
       "      <td>ACCTATTTTACATCCACGAGACAATTCGCTATCCTAAAGTTGAAAA...</td>\n",
       "    </tr>\n",
       "  </tbody>\n",
       "</table>\n",
       "<p>25254 rows × 2 columns</p>\n",
       "</div>"
      ],
      "text/plain": [
       "                 ids                                                seq\n",
       "0      k127_137157_5  GTTTATAATGGCTAAGCGGGGAACGCTGTAAGCGTTATCCCGGTTT...\n",
       "1      k127_201702_5  GCATTGCAAAGACCAAAGAAGAAGCAAGAGAACGCTGCATGAGTAT...\n",
       "2      k127_145225_5  CACTCCGTTTACAGTAACACGCTTCGCGATGCACAGAAATCATGCT...\n",
       "3      k127_185568_5  GTTCTGCGCGGTCTTGGTCGCGATGACCCTCACACGCTTTTTAGCG...\n",
       "4      k127_225909_5  CGGCCAGCTTCCGGTTCAATTCCTGCTTGATCTCGCTGGCGATCTG...\n",
       "...              ...                                                ...\n",
       "25249  k127_177427_5  GACTAGATATAAAGTTTACGATATAATCACATTTATTAGAGGAGGA...\n",
       "25250  k127_177445_5  CTTATAAATAAAGGGTGGCAGAAGAGATTTTCAAATGATTCTGCAC...\n",
       "25251  k127_177453_5  CTCCTACTCCTACTCCTCTACCCTCCCTTCCGGACTTCTCCGACAC...\n",
       "25252  k127_177464_5  TTAAGGTGATACTGATTATAATTAGAAAGATTGATTTTTAGATACT...\n",
       "25253  k127_177470_5  ACCTATTTTACATCCACGAGACAATTCGCTATCCTAAAGTTGAAAA...\n",
       "\n",
       "[25254 rows x 2 columns]"
      ]
     },
     "execution_count": 47,
     "metadata": {},
     "output_type": "execute_result"
    }
   ],
   "source": [
    "patient_5"
   ]
  },
  {
   "cell_type": "code",
   "execution_count": 48,
   "id": "fb9f7a71",
   "metadata": {},
   "outputs": [
    {
     "name": "stdout",
     "output_type": "stream",
     "text": [
      "There are no duplicate seq in the DataFrame.\n"
     ]
    }
   ],
   "source": [
    "# Assuming df_antibiotics_and_conjugate is your DataFrame\n",
    "# You can replace it with the name of your actual DataFrame\n",
    "\n",
    "# Check for duplicates in the \"ids\" column\n",
    "duplicates = patient_5[patient_5.duplicated('seq')]\n",
    "\n",
    "# If there are duplicates, duplicates DataFrame will contain those rows\n",
    "# If duplicates is empty, it means there are no duplicate ids\n",
    "if not duplicates.empty:\n",
    "    print(\"There are duplicate seq in the DataFrame:\")\n",
    "    print(duplicates)\n",
    "else:\n",
    "    print(\"There are no duplicate seq in the DataFrame.\")\n"
   ]
  },
  {
   "cell_type": "code",
   "execution_count": 49,
   "id": "b4c65b28",
   "metadata": {},
   "outputs": [],
   "source": [
    "patient_ids = patient_5['ids'].tolist()[:15000]\n",
    "patient_list = patient_5['seq'].tolist()[:15000]\n",
    "\n"
   ]
  },
  {
   "cell_type": "code",
   "execution_count": 50,
   "id": "1ac86f29",
   "metadata": {},
   "outputs": [
    {
     "data": {
      "text/plain": [
       "15000"
      ]
     },
     "execution_count": 50,
     "metadata": {},
     "output_type": "execute_result"
    }
   ],
   "source": [
    "len(patient_ids)\n"
   ]
  },
  {
   "cell_type": "code",
   "execution_count": 51,
   "id": "5f3a0151",
   "metadata": {},
   "outputs": [
    {
     "data": {
      "text/plain": [
       "15000"
      ]
     },
     "execution_count": 51,
     "metadata": {},
     "output_type": "execute_result"
    }
   ],
   "source": [
    "len(patient_list)"
   ]
  },
  {
   "cell_type": "code",
   "execution_count": 52,
   "id": "c818bc2e",
   "metadata": {},
   "outputs": [
    {
     "name": "stdout",
     "output_type": "stream",
     "text": [
      "Time to generate images: 2124.975835084915 seconds\n"
     ]
    }
   ],
   "source": [
    "import time\n",
    "start_time = time.time()\n",
    "seq_num=[]\n",
    "\n",
    "\n",
    "all_seq = patient_list\n",
    "all_seq = [replace_ambiguous_bases(seq) for seq in all_seq]\n",
    "for sequence in all_seq:\n",
    "        seq_cgr = easy_cgr(sequence)\n",
    "        seq_num.append(seq_cgr)\n",
    "sequences = seq_num\n",
    "class_labels = patient_ids \n",
    "output_directory = \"patient_5_res_7\"\n",
    "kmeres=7\n",
    "\n",
    "if not os.path.exists(output_directory):\n",
    "    os.makedirs(output_directory)\n",
    "\n",
    "# Call the function to generate and save CGR images\n",
    "generate_and_save_cgr_images_label(sequences, class_labels, output_directory,kmeres)\n",
    "\n",
    "end_time = time.time()\n",
    "elapsed_time = end_time - start_time\n",
    "\n",
    "# Print the time taken\n",
    "print(f\"Time to generate images: {elapsed_time} seconds\")"
   ]
  },
  {
   "cell_type": "code",
   "execution_count": null,
   "id": "24c72836",
   "metadata": {},
   "outputs": [],
   "source": []
  },
  {
   "cell_type": "markdown",
   "id": "a743f2e2",
   "metadata": {},
   "source": [
    "###  Patient 6"
   ]
  },
  {
   "cell_type": "code",
   "execution_count": 53,
   "id": "271e213e",
   "metadata": {
    "scrolled": true
   },
   "outputs": [],
   "source": [
    "import pandas as pd\n",
    "\n",
    "file_name = \"Patient6.contigs.fa\"\n",
    "fasta_sequences = read_fasta_ARG(file_name)"
   ]
  },
  {
   "cell_type": "code",
   "execution_count": 54,
   "id": "eca007b6",
   "metadata": {},
   "outputs": [],
   "source": [
    "# Convert to DataFrame\n",
    "patient_6 = pd.DataFrame(fasta_sequences, columns=[ 'ids', 'seq'])\n"
   ]
  },
  {
   "cell_type": "code",
   "execution_count": 55,
   "id": "bc145792",
   "metadata": {},
   "outputs": [
    {
     "data": {
      "text/html": [
       "<div>\n",
       "<style scoped>\n",
       "    .dataframe tbody tr th:only-of-type {\n",
       "        vertical-align: middle;\n",
       "    }\n",
       "\n",
       "    .dataframe tbody tr th {\n",
       "        vertical-align: top;\n",
       "    }\n",
       "\n",
       "    .dataframe thead th {\n",
       "        text-align: right;\n",
       "    }\n",
       "</style>\n",
       "<table border=\"1\" class=\"dataframe\">\n",
       "  <thead>\n",
       "    <tr style=\"text-align: right;\">\n",
       "      <th></th>\n",
       "      <th>ids</th>\n",
       "      <th>seq</th>\n",
       "    </tr>\n",
       "  </thead>\n",
       "  <tbody>\n",
       "    <tr>\n",
       "      <th>0</th>\n",
       "      <td>k127_13742 flag=1 multi=9.0000 len=2833</td>\n",
       "      <td>TTACCATACTAGTCTAGTTCTAATGATTATTACACTAGTTTATTGA...</td>\n",
       "    </tr>\n",
       "    <tr>\n",
       "      <th>1</th>\n",
       "      <td>k127_6873 flag=1 multi=5.0000 len=2721</td>\n",
       "      <td>GATATACAGTTCCTTCTGCTCCGGACAGTAGAGCGTCGCGAACACC...</td>\n",
       "    </tr>\n",
       "    <tr>\n",
       "      <th>2</th>\n",
       "      <td>k127_73262 flag=1 multi=5.0000 len=2941</td>\n",
       "      <td>GCTGTAATCGCTGCTTTGAAGGCAGTGCCGAATTCTTTTTATTATA...</td>\n",
       "    </tr>\n",
       "    <tr>\n",
       "      <th>3</th>\n",
       "      <td>k127_9161 flag=0 multi=28.0000 len=3883</td>\n",
       "      <td>GATGTTACTTTTGTTACTGCTACTGATGGTAACCACGGTAGAGGTG...</td>\n",
       "    </tr>\n",
       "    <tr>\n",
       "      <th>4</th>\n",
       "      <td>k127_20612 flag=1 multi=11.0000 len=3881</td>\n",
       "      <td>GTATAAGGTTCTCCCTCATGTATATATAACTCATCTATACCCCCTT...</td>\n",
       "    </tr>\n",
       "    <tr>\n",
       "      <th>...</th>\n",
       "      <td>...</td>\n",
       "      <td>...</td>\n",
       "    </tr>\n",
       "    <tr>\n",
       "      <th>10262</th>\n",
       "      <td>k127_57202 flag=0 multi=11.4622 len=3288</td>\n",
       "      <td>GAGTTACCTGGCTTATGGGATGTCTTTATTGGAAAGATGAGTTTTG...</td>\n",
       "    </tr>\n",
       "    <tr>\n",
       "      <th>10263</th>\n",
       "      <td>k127_57212 flag=1 multi=5.0000 len=2774</td>\n",
       "      <td>GTATATTGACTCATTTCAATACATGGGTTATAATATACAAAAATCT...</td>\n",
       "    </tr>\n",
       "    <tr>\n",
       "      <th>10264</th>\n",
       "      <td>k127_57213 flag=0 multi=7.0344 len=2886</td>\n",
       "      <td>GAAGGAACTGTTATTAAGAGACAGAACGGTGGAGCAAAAGAAACTT...</td>\n",
       "    </tr>\n",
       "    <tr>\n",
       "      <th>10265</th>\n",
       "      <td>k127_57219 flag=0 multi=18.3776 len=4986</td>\n",
       "      <td>TGTATGGACAATCTACAGAAACGGCTATCCGGGCAGGAGTCATTCG...</td>\n",
       "    </tr>\n",
       "    <tr>\n",
       "      <th>10266</th>\n",
       "      <td>k127_57225 flag=1 multi=8.0000 len=4231</td>\n",
       "      <td>GTGCTACGCCGGAAAAGTATGTGCAAATCATTGAAGAACAACTTCT...</td>\n",
       "    </tr>\n",
       "  </tbody>\n",
       "</table>\n",
       "<p>10267 rows × 2 columns</p>\n",
       "</div>"
      ],
      "text/plain": [
       "                                            ids  \\\n",
       "0       k127_13742 flag=1 multi=9.0000 len=2833   \n",
       "1        k127_6873 flag=1 multi=5.0000 len=2721   \n",
       "2       k127_73262 flag=1 multi=5.0000 len=2941   \n",
       "3       k127_9161 flag=0 multi=28.0000 len=3883   \n",
       "4      k127_20612 flag=1 multi=11.0000 len=3881   \n",
       "...                                         ...   \n",
       "10262  k127_57202 flag=0 multi=11.4622 len=3288   \n",
       "10263   k127_57212 flag=1 multi=5.0000 len=2774   \n",
       "10264   k127_57213 flag=0 multi=7.0344 len=2886   \n",
       "10265  k127_57219 flag=0 multi=18.3776 len=4986   \n",
       "10266   k127_57225 flag=1 multi=8.0000 len=4231   \n",
       "\n",
       "                                                     seq  \n",
       "0      TTACCATACTAGTCTAGTTCTAATGATTATTACACTAGTTTATTGA...  \n",
       "1      GATATACAGTTCCTTCTGCTCCGGACAGTAGAGCGTCGCGAACACC...  \n",
       "2      GCTGTAATCGCTGCTTTGAAGGCAGTGCCGAATTCTTTTTATTATA...  \n",
       "3      GATGTTACTTTTGTTACTGCTACTGATGGTAACCACGGTAGAGGTG...  \n",
       "4      GTATAAGGTTCTCCCTCATGTATATATAACTCATCTATACCCCCTT...  \n",
       "...                                                  ...  \n",
       "10262  GAGTTACCTGGCTTATGGGATGTCTTTATTGGAAAGATGAGTTTTG...  \n",
       "10263  GTATATTGACTCATTTCAATACATGGGTTATAATATACAAAAATCT...  \n",
       "10264  GAAGGAACTGTTATTAAGAGACAGAACGGTGGAGCAAAAGAAACTT...  \n",
       "10265  TGTATGGACAATCTACAGAAACGGCTATCCGGGCAGGAGTCATTCG...  \n",
       "10266  GTGCTACGCCGGAAAAGTATGTGCAAATCATTGAAGAACAACTTCT...  \n",
       "\n",
       "[10267 rows x 2 columns]"
      ]
     },
     "execution_count": 55,
     "metadata": {},
     "output_type": "execute_result"
    }
   ],
   "source": [
    "patient_6"
   ]
  },
  {
   "cell_type": "code",
   "execution_count": 56,
   "id": "adb6ff8e",
   "metadata": {
    "scrolled": false
   },
   "outputs": [],
   "source": [
    "# Define a function to extract the desired pattern\n",
    "def extract_id_6(string):\n",
    "    match = re.search(r'(k127_\\d+)', string)\n",
    "    if match:\n",
    "        return match.group(1) + '_6'\n",
    "    else:\n",
    "        return None\n",
    "\n",
    "# Apply the function to the 'ids' column\n",
    "patient_6['ids'] = patient_6['ids'].apply(extract_id_6)\n",
    "\n"
   ]
  },
  {
   "cell_type": "code",
   "execution_count": 57,
   "id": "ab7ac90c",
   "metadata": {},
   "outputs": [
    {
     "data": {
      "text/html": [
       "<div>\n",
       "<style scoped>\n",
       "    .dataframe tbody tr th:only-of-type {\n",
       "        vertical-align: middle;\n",
       "    }\n",
       "\n",
       "    .dataframe tbody tr th {\n",
       "        vertical-align: top;\n",
       "    }\n",
       "\n",
       "    .dataframe thead th {\n",
       "        text-align: right;\n",
       "    }\n",
       "</style>\n",
       "<table border=\"1\" class=\"dataframe\">\n",
       "  <thead>\n",
       "    <tr style=\"text-align: right;\">\n",
       "      <th></th>\n",
       "      <th>ids</th>\n",
       "      <th>seq</th>\n",
       "    </tr>\n",
       "  </thead>\n",
       "  <tbody>\n",
       "    <tr>\n",
       "      <th>0</th>\n",
       "      <td>k127_13742_6</td>\n",
       "      <td>TTACCATACTAGTCTAGTTCTAATGATTATTACACTAGTTTATTGA...</td>\n",
       "    </tr>\n",
       "    <tr>\n",
       "      <th>1</th>\n",
       "      <td>k127_6873_6</td>\n",
       "      <td>GATATACAGTTCCTTCTGCTCCGGACAGTAGAGCGTCGCGAACACC...</td>\n",
       "    </tr>\n",
       "    <tr>\n",
       "      <th>2</th>\n",
       "      <td>k127_73262_6</td>\n",
       "      <td>GCTGTAATCGCTGCTTTGAAGGCAGTGCCGAATTCTTTTTATTATA...</td>\n",
       "    </tr>\n",
       "    <tr>\n",
       "      <th>3</th>\n",
       "      <td>k127_9161_6</td>\n",
       "      <td>GATGTTACTTTTGTTACTGCTACTGATGGTAACCACGGTAGAGGTG...</td>\n",
       "    </tr>\n",
       "    <tr>\n",
       "      <th>4</th>\n",
       "      <td>k127_20612_6</td>\n",
       "      <td>GTATAAGGTTCTCCCTCATGTATATATAACTCATCTATACCCCCTT...</td>\n",
       "    </tr>\n",
       "    <tr>\n",
       "      <th>...</th>\n",
       "      <td>...</td>\n",
       "      <td>...</td>\n",
       "    </tr>\n",
       "    <tr>\n",
       "      <th>10262</th>\n",
       "      <td>k127_57202_6</td>\n",
       "      <td>GAGTTACCTGGCTTATGGGATGTCTTTATTGGAAAGATGAGTTTTG...</td>\n",
       "    </tr>\n",
       "    <tr>\n",
       "      <th>10263</th>\n",
       "      <td>k127_57212_6</td>\n",
       "      <td>GTATATTGACTCATTTCAATACATGGGTTATAATATACAAAAATCT...</td>\n",
       "    </tr>\n",
       "    <tr>\n",
       "      <th>10264</th>\n",
       "      <td>k127_57213_6</td>\n",
       "      <td>GAAGGAACTGTTATTAAGAGACAGAACGGTGGAGCAAAAGAAACTT...</td>\n",
       "    </tr>\n",
       "    <tr>\n",
       "      <th>10265</th>\n",
       "      <td>k127_57219_6</td>\n",
       "      <td>TGTATGGACAATCTACAGAAACGGCTATCCGGGCAGGAGTCATTCG...</td>\n",
       "    </tr>\n",
       "    <tr>\n",
       "      <th>10266</th>\n",
       "      <td>k127_57225_6</td>\n",
       "      <td>GTGCTACGCCGGAAAAGTATGTGCAAATCATTGAAGAACAACTTCT...</td>\n",
       "    </tr>\n",
       "  </tbody>\n",
       "</table>\n",
       "<p>10267 rows × 2 columns</p>\n",
       "</div>"
      ],
      "text/plain": [
       "                ids                                                seq\n",
       "0      k127_13742_6  TTACCATACTAGTCTAGTTCTAATGATTATTACACTAGTTTATTGA...\n",
       "1       k127_6873_6  GATATACAGTTCCTTCTGCTCCGGACAGTAGAGCGTCGCGAACACC...\n",
       "2      k127_73262_6  GCTGTAATCGCTGCTTTGAAGGCAGTGCCGAATTCTTTTTATTATA...\n",
       "3       k127_9161_6  GATGTTACTTTTGTTACTGCTACTGATGGTAACCACGGTAGAGGTG...\n",
       "4      k127_20612_6  GTATAAGGTTCTCCCTCATGTATATATAACTCATCTATACCCCCTT...\n",
       "...             ...                                                ...\n",
       "10262  k127_57202_6  GAGTTACCTGGCTTATGGGATGTCTTTATTGGAAAGATGAGTTTTG...\n",
       "10263  k127_57212_6  GTATATTGACTCATTTCAATACATGGGTTATAATATACAAAAATCT...\n",
       "10264  k127_57213_6  GAAGGAACTGTTATTAAGAGACAGAACGGTGGAGCAAAAGAAACTT...\n",
       "10265  k127_57219_6  TGTATGGACAATCTACAGAAACGGCTATCCGGGCAGGAGTCATTCG...\n",
       "10266  k127_57225_6  GTGCTACGCCGGAAAAGTATGTGCAAATCATTGAAGAACAACTTCT...\n",
       "\n",
       "[10267 rows x 2 columns]"
      ]
     },
     "execution_count": 57,
     "metadata": {},
     "output_type": "execute_result"
    }
   ],
   "source": [
    "patient_6"
   ]
  },
  {
   "cell_type": "code",
   "execution_count": 58,
   "id": "08a0141a",
   "metadata": {},
   "outputs": [
    {
     "name": "stdout",
     "output_type": "stream",
     "text": [
      "There are no duplicate seq in the DataFrame.\n"
     ]
    }
   ],
   "source": [
    "# Assuming df_antibiotics_and_conjugate is your DataFrame\n",
    "# You can replace it with the name of your actual DataFrame\n",
    "\n",
    "# Check for duplicates in the \"ids\" column\n",
    "duplicates = patient_6[patient_6.duplicated('seq')]\n",
    "\n",
    "# If there are duplicates, duplicates DataFrame will contain those rows\n",
    "# If duplicates is empty, it means there are no duplicate ids\n",
    "if not duplicates.empty:\n",
    "    print(\"There are duplicate seq in the DataFrame:\")\n",
    "    print(duplicates)\n",
    "else:\n",
    "    print(\"There are no duplicate seq in the DataFrame.\")\n"
   ]
  },
  {
   "cell_type": "code",
   "execution_count": 59,
   "id": "0031da43",
   "metadata": {},
   "outputs": [],
   "source": [
    "patient_ids = patient_6['ids'].tolist()\n",
    "patient_list = patient_6['seq'].tolist()\n"
   ]
  },
  {
   "cell_type": "code",
   "execution_count": 60,
   "id": "92cb66f1",
   "metadata": {},
   "outputs": [
    {
     "data": {
      "text/plain": [
       "10267"
      ]
     },
     "execution_count": 60,
     "metadata": {},
     "output_type": "execute_result"
    }
   ],
   "source": [
    "len(patient_ids)\n"
   ]
  },
  {
   "cell_type": "code",
   "execution_count": 61,
   "id": "4916937c",
   "metadata": {},
   "outputs": [
    {
     "data": {
      "text/plain": [
       "10267"
      ]
     },
     "execution_count": 61,
     "metadata": {},
     "output_type": "execute_result"
    }
   ],
   "source": [
    "len(patient_list)"
   ]
  },
  {
   "cell_type": "code",
   "execution_count": 62,
   "id": "13f3026a",
   "metadata": {},
   "outputs": [
    {
     "name": "stdout",
     "output_type": "stream",
     "text": [
      "Time to generate images: 1397.5441434383392 seconds\n"
     ]
    }
   ],
   "source": [
    "import time\n",
    "start_time = time.time()\n",
    "seq_num=[]\n",
    "\n",
    "\n",
    "all_seq = patient_list\n",
    "all_seq = [replace_ambiguous_bases(seq) for seq in all_seq]\n",
    "for sequence in all_seq:\n",
    "        seq_cgr = easy_cgr(sequence)\n",
    "        seq_num.append(seq_cgr)\n",
    "sequences = seq_num\n",
    "class_labels = patient_ids \n",
    "output_directory = \"patient_6_res_7\"\n",
    "kmeres=7\n",
    "\n",
    "if not os.path.exists(output_directory):\n",
    "    os.makedirs(output_directory)\n",
    "\n",
    "# Call the function to generate and save CGR images\n",
    "generate_and_save_cgr_images_label(sequences, class_labels, output_directory,kmeres)\n",
    "\n",
    "end_time = time.time()\n",
    "elapsed_time = end_time - start_time\n",
    "\n",
    "# Print the time taken\n",
    "print(f\"Time to generate images: {elapsed_time} seconds\")"
   ]
  },
  {
   "cell_type": "code",
   "execution_count": null,
   "id": "e4d0cba3",
   "metadata": {},
   "outputs": [],
   "source": []
  },
  {
   "cell_type": "markdown",
   "id": "cb3bd479",
   "metadata": {},
   "source": [
    "###  Healthy 14"
   ]
  },
  {
   "cell_type": "code",
   "execution_count": 63,
   "id": "546721b1",
   "metadata": {
    "scrolled": true
   },
   "outputs": [],
   "source": [
    "import pandas as pd\n",
    "\n",
    "file_name = \"Healthy14.contigs.fa\"\n",
    "fasta_sequences = read_fasta_ARG(file_name)"
   ]
  },
  {
   "cell_type": "code",
   "execution_count": 64,
   "id": "1b4aa256",
   "metadata": {},
   "outputs": [],
   "source": [
    "# Convert to DataFrame\n",
    "healthy_14 = pd.DataFrame(fasta_sequences, columns=[ 'ids', 'seq'])\n"
   ]
  },
  {
   "cell_type": "code",
   "execution_count": 65,
   "id": "b3e03a28",
   "metadata": {},
   "outputs": [
    {
     "data": {
      "text/html": [
       "<div>\n",
       "<style scoped>\n",
       "    .dataframe tbody tr th:only-of-type {\n",
       "        vertical-align: middle;\n",
       "    }\n",
       "\n",
       "    .dataframe tbody tr th {\n",
       "        vertical-align: top;\n",
       "    }\n",
       "\n",
       "    .dataframe thead th {\n",
       "        text-align: right;\n",
       "    }\n",
       "</style>\n",
       "<table border=\"1\" class=\"dataframe\">\n",
       "  <thead>\n",
       "    <tr style=\"text-align: right;\">\n",
       "      <th></th>\n",
       "      <th>ids</th>\n",
       "      <th>seq</th>\n",
       "    </tr>\n",
       "  </thead>\n",
       "  <tbody>\n",
       "    <tr>\n",
       "      <th>0</th>\n",
       "      <td>k127_26544 flag=0 multi=8.6856 len=4414</td>\n",
       "      <td>GGATATGGTCATATATGGACAGGACATCACAAGCAAAATTCTGAAC...</td>\n",
       "    </tr>\n",
       "    <tr>\n",
       "      <th>1</th>\n",
       "      <td>k127_66360 flag=1 multi=4.0000 len=2985</td>\n",
       "      <td>AAATCCCAACTTATCATGTCTATGACCGCAAGACCATGTCAGGTGG...</td>\n",
       "    </tr>\n",
       "    <tr>\n",
       "      <th>2</th>\n",
       "      <td>k127_92900 flag=1 multi=6.0000 len=4968</td>\n",
       "      <td>GCCTTTTTTATTTGATTAAATTTGGTTATTTACCACGAAATCACAT...</td>\n",
       "    </tr>\n",
       "    <tr>\n",
       "      <th>3</th>\n",
       "      <td>k127_53088 flag=1 multi=5.0000 len=4849</td>\n",
       "      <td>GTTGTATGCGGAGATGTCAGACAGAGAGTCGCAGCTTTCCGAGGAA...</td>\n",
       "    </tr>\n",
       "    <tr>\n",
       "      <th>4</th>\n",
       "      <td>k127_39823 flag=0 multi=4.9892 len=3847</td>\n",
       "      <td>GATCGCTTTTCTTTTCCTCACCCATGATGACACGCATCATATCGAG...</td>\n",
       "    </tr>\n",
       "    <tr>\n",
       "      <th>...</th>\n",
       "      <td>...</td>\n",
       "      <td>...</td>\n",
       "    </tr>\n",
       "    <tr>\n",
       "      <th>10936</th>\n",
       "      <td>k127_13271 flag=1 multi=5.0000 len=2751</td>\n",
       "      <td>GGCTGAAAGACCGGAATGCCGTGCGCGAGGGCAAGCTCCTTGACCG...</td>\n",
       "    </tr>\n",
       "    <tr>\n",
       "      <th>10937</th>\n",
       "      <td>k127_26526 flag=1 multi=4.0000 len=3180</td>\n",
       "      <td>GCTTCATGAGGTCGAATGCGGAATTACCGGTTTCGGCAATTTCGGC...</td>\n",
       "    </tr>\n",
       "    <tr>\n",
       "      <th>10938</th>\n",
       "      <td>k127_26532 flag=1 multi=5.9875 len=4126</td>\n",
       "      <td>TGCAGCATCAGCATCTGAATCAGCAGCGTTACAATATTTAGCGCCT...</td>\n",
       "    </tr>\n",
       "    <tr>\n",
       "      <th>10939</th>\n",
       "      <td>k127_26534 flag=1 multi=91.9340 len=27697</td>\n",
       "      <td>ATCAAAGTAGTCTAAAGTGCCTTCAGGAAGAAGAAGGCGATAACCG...</td>\n",
       "    </tr>\n",
       "    <tr>\n",
       "      <th>10940</th>\n",
       "      <td>k127_26535 flag=1 multi=5.0000 len=4009</td>\n",
       "      <td>GCCCTGGACGACAAGCACCTGGTGGCTTACATGTCCATCTACATCG...</td>\n",
       "    </tr>\n",
       "  </tbody>\n",
       "</table>\n",
       "<p>10941 rows × 2 columns</p>\n",
       "</div>"
      ],
      "text/plain": [
       "                                             ids  \\\n",
       "0        k127_26544 flag=0 multi=8.6856 len=4414   \n",
       "1        k127_66360 flag=1 multi=4.0000 len=2985   \n",
       "2        k127_92900 flag=1 multi=6.0000 len=4968   \n",
       "3        k127_53088 flag=1 multi=5.0000 len=4849   \n",
       "4        k127_39823 flag=0 multi=4.9892 len=3847   \n",
       "...                                          ...   \n",
       "10936    k127_13271 flag=1 multi=5.0000 len=2751   \n",
       "10937    k127_26526 flag=1 multi=4.0000 len=3180   \n",
       "10938    k127_26532 flag=1 multi=5.9875 len=4126   \n",
       "10939  k127_26534 flag=1 multi=91.9340 len=27697   \n",
       "10940    k127_26535 flag=1 multi=5.0000 len=4009   \n",
       "\n",
       "                                                     seq  \n",
       "0      GGATATGGTCATATATGGACAGGACATCACAAGCAAAATTCTGAAC...  \n",
       "1      AAATCCCAACTTATCATGTCTATGACCGCAAGACCATGTCAGGTGG...  \n",
       "2      GCCTTTTTTATTTGATTAAATTTGGTTATTTACCACGAAATCACAT...  \n",
       "3      GTTGTATGCGGAGATGTCAGACAGAGAGTCGCAGCTTTCCGAGGAA...  \n",
       "4      GATCGCTTTTCTTTTCCTCACCCATGATGACACGCATCATATCGAG...  \n",
       "...                                                  ...  \n",
       "10936  GGCTGAAAGACCGGAATGCCGTGCGCGAGGGCAAGCTCCTTGACCG...  \n",
       "10937  GCTTCATGAGGTCGAATGCGGAATTACCGGTTTCGGCAATTTCGGC...  \n",
       "10938  TGCAGCATCAGCATCTGAATCAGCAGCGTTACAATATTTAGCGCCT...  \n",
       "10939  ATCAAAGTAGTCTAAAGTGCCTTCAGGAAGAAGAAGGCGATAACCG...  \n",
       "10940  GCCCTGGACGACAAGCACCTGGTGGCTTACATGTCCATCTACATCG...  \n",
       "\n",
       "[10941 rows x 2 columns]"
      ]
     },
     "execution_count": 65,
     "metadata": {},
     "output_type": "execute_result"
    }
   ],
   "source": [
    "healthy_14"
   ]
  },
  {
   "cell_type": "code",
   "execution_count": 66,
   "id": "33d16fdf",
   "metadata": {
    "scrolled": false
   },
   "outputs": [],
   "source": [
    "# Define a function to extract the desired pattern\n",
    "def extract_id_14(string):\n",
    "    match = re.search(r'(k127_\\d+)', string)\n",
    "    if match:\n",
    "        return match.group(1) + '_14'\n",
    "    else:\n",
    "        return None\n",
    "\n",
    "# Apply the function to the 'ids' column\n",
    "healthy_14['ids'] = healthy_14['ids'].apply(extract_id_14)\n",
    "\n"
   ]
  },
  {
   "cell_type": "code",
   "execution_count": 67,
   "id": "4ec721c3",
   "metadata": {},
   "outputs": [
    {
     "data": {
      "text/html": [
       "<div>\n",
       "<style scoped>\n",
       "    .dataframe tbody tr th:only-of-type {\n",
       "        vertical-align: middle;\n",
       "    }\n",
       "\n",
       "    .dataframe tbody tr th {\n",
       "        vertical-align: top;\n",
       "    }\n",
       "\n",
       "    .dataframe thead th {\n",
       "        text-align: right;\n",
       "    }\n",
       "</style>\n",
       "<table border=\"1\" class=\"dataframe\">\n",
       "  <thead>\n",
       "    <tr style=\"text-align: right;\">\n",
       "      <th></th>\n",
       "      <th>ids</th>\n",
       "      <th>seq</th>\n",
       "    </tr>\n",
       "  </thead>\n",
       "  <tbody>\n",
       "    <tr>\n",
       "      <th>0</th>\n",
       "      <td>k127_26544_14</td>\n",
       "      <td>GGATATGGTCATATATGGACAGGACATCACAAGCAAAATTCTGAAC...</td>\n",
       "    </tr>\n",
       "    <tr>\n",
       "      <th>1</th>\n",
       "      <td>k127_66360_14</td>\n",
       "      <td>AAATCCCAACTTATCATGTCTATGACCGCAAGACCATGTCAGGTGG...</td>\n",
       "    </tr>\n",
       "    <tr>\n",
       "      <th>2</th>\n",
       "      <td>k127_92900_14</td>\n",
       "      <td>GCCTTTTTTATTTGATTAAATTTGGTTATTTACCACGAAATCACAT...</td>\n",
       "    </tr>\n",
       "    <tr>\n",
       "      <th>3</th>\n",
       "      <td>k127_53088_14</td>\n",
       "      <td>GTTGTATGCGGAGATGTCAGACAGAGAGTCGCAGCTTTCCGAGGAA...</td>\n",
       "    </tr>\n",
       "    <tr>\n",
       "      <th>4</th>\n",
       "      <td>k127_39823_14</td>\n",
       "      <td>GATCGCTTTTCTTTTCCTCACCCATGATGACACGCATCATATCGAG...</td>\n",
       "    </tr>\n",
       "    <tr>\n",
       "      <th>...</th>\n",
       "      <td>...</td>\n",
       "      <td>...</td>\n",
       "    </tr>\n",
       "    <tr>\n",
       "      <th>10936</th>\n",
       "      <td>k127_13271_14</td>\n",
       "      <td>GGCTGAAAGACCGGAATGCCGTGCGCGAGGGCAAGCTCCTTGACCG...</td>\n",
       "    </tr>\n",
       "    <tr>\n",
       "      <th>10937</th>\n",
       "      <td>k127_26526_14</td>\n",
       "      <td>GCTTCATGAGGTCGAATGCGGAATTACCGGTTTCGGCAATTTCGGC...</td>\n",
       "    </tr>\n",
       "    <tr>\n",
       "      <th>10938</th>\n",
       "      <td>k127_26532_14</td>\n",
       "      <td>TGCAGCATCAGCATCTGAATCAGCAGCGTTACAATATTTAGCGCCT...</td>\n",
       "    </tr>\n",
       "    <tr>\n",
       "      <th>10939</th>\n",
       "      <td>k127_26534_14</td>\n",
       "      <td>ATCAAAGTAGTCTAAAGTGCCTTCAGGAAGAAGAAGGCGATAACCG...</td>\n",
       "    </tr>\n",
       "    <tr>\n",
       "      <th>10940</th>\n",
       "      <td>k127_26535_14</td>\n",
       "      <td>GCCCTGGACGACAAGCACCTGGTGGCTTACATGTCCATCTACATCG...</td>\n",
       "    </tr>\n",
       "  </tbody>\n",
       "</table>\n",
       "<p>10941 rows × 2 columns</p>\n",
       "</div>"
      ],
      "text/plain": [
       "                 ids                                                seq\n",
       "0      k127_26544_14  GGATATGGTCATATATGGACAGGACATCACAAGCAAAATTCTGAAC...\n",
       "1      k127_66360_14  AAATCCCAACTTATCATGTCTATGACCGCAAGACCATGTCAGGTGG...\n",
       "2      k127_92900_14  GCCTTTTTTATTTGATTAAATTTGGTTATTTACCACGAAATCACAT...\n",
       "3      k127_53088_14  GTTGTATGCGGAGATGTCAGACAGAGAGTCGCAGCTTTCCGAGGAA...\n",
       "4      k127_39823_14  GATCGCTTTTCTTTTCCTCACCCATGATGACACGCATCATATCGAG...\n",
       "...              ...                                                ...\n",
       "10936  k127_13271_14  GGCTGAAAGACCGGAATGCCGTGCGCGAGGGCAAGCTCCTTGACCG...\n",
       "10937  k127_26526_14  GCTTCATGAGGTCGAATGCGGAATTACCGGTTTCGGCAATTTCGGC...\n",
       "10938  k127_26532_14  TGCAGCATCAGCATCTGAATCAGCAGCGTTACAATATTTAGCGCCT...\n",
       "10939  k127_26534_14  ATCAAAGTAGTCTAAAGTGCCTTCAGGAAGAAGAAGGCGATAACCG...\n",
       "10940  k127_26535_14  GCCCTGGACGACAAGCACCTGGTGGCTTACATGTCCATCTACATCG...\n",
       "\n",
       "[10941 rows x 2 columns]"
      ]
     },
     "execution_count": 67,
     "metadata": {},
     "output_type": "execute_result"
    }
   ],
   "source": [
    "healthy_14"
   ]
  },
  {
   "cell_type": "code",
   "execution_count": 68,
   "id": "56ded77d",
   "metadata": {},
   "outputs": [
    {
     "name": "stdout",
     "output_type": "stream",
     "text": [
      "There are no duplicate seq in the DataFrame.\n"
     ]
    }
   ],
   "source": [
    "# Assuming df_antibiotics_and_conjugate is your DataFrame\n",
    "# You can replace it with the name of your actual DataFrame\n",
    "\n",
    "# Check for duplicates in the \"ids\" column\n",
    "duplicates = healthy_14[healthy_14.duplicated('seq')]\n",
    "\n",
    "# If there are duplicates, duplicates DataFrame will contain those rows\n",
    "# If duplicates is empty, it means there are no duplicate ids\n",
    "if not duplicates.empty:\n",
    "    print(\"There are duplicate seq in the DataFrame:\")\n",
    "    print(duplicates)\n",
    "else:\n",
    "    print(\"There are no duplicate seq in the DataFrame.\")\n"
   ]
  },
  {
   "cell_type": "code",
   "execution_count": 69,
   "id": "5687d3bc",
   "metadata": {},
   "outputs": [],
   "source": [
    "healthy_ids = healthy_14['ids'].tolist()\n",
    "healthy_list = healthy_14['seq'].tolist()\n"
   ]
  },
  {
   "cell_type": "code",
   "execution_count": 70,
   "id": "45205df9",
   "metadata": {},
   "outputs": [
    {
     "data": {
      "text/plain": [
       "10941"
      ]
     },
     "execution_count": 70,
     "metadata": {},
     "output_type": "execute_result"
    }
   ],
   "source": [
    "len(healthy_ids)\n"
   ]
  },
  {
   "cell_type": "code",
   "execution_count": 71,
   "id": "6f28bdee",
   "metadata": {},
   "outputs": [
    {
     "data": {
      "text/plain": [
       "10941"
      ]
     },
     "execution_count": 71,
     "metadata": {},
     "output_type": "execute_result"
    }
   ],
   "source": [
    "len(healthy_list)"
   ]
  },
  {
   "cell_type": "code",
   "execution_count": 72,
   "id": "306bae01",
   "metadata": {},
   "outputs": [
    {
     "name": "stdout",
     "output_type": "stream",
     "text": [
      "Time to generate images: 1291.4193758964539 seconds\n"
     ]
    }
   ],
   "source": [
    "import time\n",
    "start_time = time.time()\n",
    "seq_num=[]\n",
    "\n",
    "\n",
    "all_seq = healthy_list\n",
    "all_seq = [replace_ambiguous_bases(seq) for seq in all_seq]\n",
    "for sequence in all_seq:\n",
    "        seq_cgr = easy_cgr(sequence)\n",
    "        seq_num.append(seq_cgr)\n",
    "sequences = seq_num\n",
    "class_labels = healthy_ids \n",
    "output_directory = \"healthy_14_res_7\"\n",
    "kmeres=7\n",
    "\n",
    "if not os.path.exists(output_directory):\n",
    "    os.makedirs(output_directory)\n",
    "\n",
    "# Call the function to generate and save CGR images\n",
    "generate_and_save_cgr_images_label(sequences, class_labels, output_directory,kmeres)\n",
    "\n",
    "end_time = time.time()\n",
    "elapsed_time = end_time - start_time\n",
    "\n",
    "# Print the time taken\n",
    "print(f\"Time to generate images: {elapsed_time} seconds\")"
   ]
  },
  {
   "cell_type": "code",
   "execution_count": null,
   "id": "2e66e14c",
   "metadata": {},
   "outputs": [],
   "source": []
  },
  {
   "cell_type": "code",
   "execution_count": null,
   "id": "8777d118",
   "metadata": {},
   "outputs": [],
   "source": []
  },
  {
   "cell_type": "markdown",
   "id": "264487bb",
   "metadata": {},
   "source": [
    "###  Healthy 15"
   ]
  },
  {
   "cell_type": "code",
   "execution_count": 73,
   "id": "90f8aea1",
   "metadata": {
    "scrolled": true
   },
   "outputs": [],
   "source": [
    "import pandas as pd\n",
    "\n",
    "file_name = \"Healthy15.contigs.fa\"\n",
    "fasta_sequences = read_fasta_ARG(file_name)"
   ]
  },
  {
   "cell_type": "code",
   "execution_count": 74,
   "id": "abc9cb71",
   "metadata": {},
   "outputs": [],
   "source": [
    "# Convert to DataFrame\n",
    "healthy_15 = pd.DataFrame(fasta_sequences, columns=[ 'ids', 'seq'])\n"
   ]
  },
  {
   "cell_type": "code",
   "execution_count": 75,
   "id": "b05c7bf1",
   "metadata": {},
   "outputs": [
    {
     "data": {
      "text/html": [
       "<div>\n",
       "<style scoped>\n",
       "    .dataframe tbody tr th:only-of-type {\n",
       "        vertical-align: middle;\n",
       "    }\n",
       "\n",
       "    .dataframe tbody tr th {\n",
       "        vertical-align: top;\n",
       "    }\n",
       "\n",
       "    .dataframe thead th {\n",
       "        text-align: right;\n",
       "    }\n",
       "</style>\n",
       "<table border=\"1\" class=\"dataframe\">\n",
       "  <thead>\n",
       "    <tr style=\"text-align: right;\">\n",
       "      <th></th>\n",
       "      <th>ids</th>\n",
       "      <th>seq</th>\n",
       "    </tr>\n",
       "  </thead>\n",
       "  <tbody>\n",
       "    <tr>\n",
       "      <th>0</th>\n",
       "      <td>k127_60849 flag=1 multi=5.0000 len=3488</td>\n",
       "      <td>TTTCTAAATAAGCTTCGTCTCCTCCAACTTCTCTGTAAACTCATCA...</td>\n",
       "    </tr>\n",
       "    <tr>\n",
       "      <th>1</th>\n",
       "      <td>k127_85185 flag=0 multi=32.6564 len=7298</td>\n",
       "      <td>AAGAAACAATATATAACGAAAAAATCTCTAAATAAGAGAATTTACA...</td>\n",
       "    </tr>\n",
       "    <tr>\n",
       "      <th>2</th>\n",
       "      <td>k127_73020 flag=1 multi=8.0000 len=3888</td>\n",
       "      <td>CAATATGAACAGGTAAAAACGGCCTACGAAGCAACCCAAGCACGCT...</td>\n",
       "    </tr>\n",
       "    <tr>\n",
       "      <th>3</th>\n",
       "      <td>k127_12172 flag=0 multi=54.8638 len=8057</td>\n",
       "      <td>CACAGTAACGTAGCCAAAATTCATTCCAGATTGCCTGCGGCAATGG...</td>\n",
       "    </tr>\n",
       "    <tr>\n",
       "      <th>4</th>\n",
       "      <td>k127_36522 flag=0 multi=7.9459 len=2842</td>\n",
       "      <td>TCTGGCAGGAATATCTCGATTTGGTCGAACATTTGAGAAAAACCGA...</td>\n",
       "    </tr>\n",
       "    <tr>\n",
       "      <th>...</th>\n",
       "      <td>...</td>\n",
       "      <td>...</td>\n",
       "    </tr>\n",
       "    <tr>\n",
       "      <th>10736</th>\n",
       "      <td>k127_36447 flag=1 multi=8.0000 len=26058</td>\n",
       "      <td>CCCCCAATCCAGCTAATACAATACTTTGACATCTCATCCGTGACCT...</td>\n",
       "    </tr>\n",
       "    <tr>\n",
       "      <th>10737</th>\n",
       "      <td>k127_36474 flag=1 multi=9.0000 len=14046</td>\n",
       "      <td>TTTTATCGTAACAAACCCGCCATACGGAGAGCGTTTAGAGGATAAG...</td>\n",
       "    </tr>\n",
       "    <tr>\n",
       "      <th>10738</th>\n",
       "      <td>k127_36481 flag=0 multi=11.0923 len=3930</td>\n",
       "      <td>CTTTGATTTTGAGTTTGGCTTGCGACACCATTCTCATCATATCACA...</td>\n",
       "    </tr>\n",
       "    <tr>\n",
       "      <th>10739</th>\n",
       "      <td>k127_36491 flag=1 multi=15.9921 len=32530</td>\n",
       "      <td>TCCTAATCATCATTATAATTCTCAGACCAGCACTGGTGTGGTGGTC...</td>\n",
       "    </tr>\n",
       "    <tr>\n",
       "      <th>10740</th>\n",
       "      <td>k127_36494 flag=1 multi=4.0000 len=2872</td>\n",
       "      <td>CAGTGGGAAAGTATGACTCATATCAAACCATTGAAGGATCTTGTGG...</td>\n",
       "    </tr>\n",
       "  </tbody>\n",
       "</table>\n",
       "<p>10741 rows × 2 columns</p>\n",
       "</div>"
      ],
      "text/plain": [
       "                                             ids  \\\n",
       "0        k127_60849 flag=1 multi=5.0000 len=3488   \n",
       "1       k127_85185 flag=0 multi=32.6564 len=7298   \n",
       "2        k127_73020 flag=1 multi=8.0000 len=3888   \n",
       "3       k127_12172 flag=0 multi=54.8638 len=8057   \n",
       "4        k127_36522 flag=0 multi=7.9459 len=2842   \n",
       "...                                          ...   \n",
       "10736   k127_36447 flag=1 multi=8.0000 len=26058   \n",
       "10737   k127_36474 flag=1 multi=9.0000 len=14046   \n",
       "10738   k127_36481 flag=0 multi=11.0923 len=3930   \n",
       "10739  k127_36491 flag=1 multi=15.9921 len=32530   \n",
       "10740    k127_36494 flag=1 multi=4.0000 len=2872   \n",
       "\n",
       "                                                     seq  \n",
       "0      TTTCTAAATAAGCTTCGTCTCCTCCAACTTCTCTGTAAACTCATCA...  \n",
       "1      AAGAAACAATATATAACGAAAAAATCTCTAAATAAGAGAATTTACA...  \n",
       "2      CAATATGAACAGGTAAAAACGGCCTACGAAGCAACCCAAGCACGCT...  \n",
       "3      CACAGTAACGTAGCCAAAATTCATTCCAGATTGCCTGCGGCAATGG...  \n",
       "4      TCTGGCAGGAATATCTCGATTTGGTCGAACATTTGAGAAAAACCGA...  \n",
       "...                                                  ...  \n",
       "10736  CCCCCAATCCAGCTAATACAATACTTTGACATCTCATCCGTGACCT...  \n",
       "10737  TTTTATCGTAACAAACCCGCCATACGGAGAGCGTTTAGAGGATAAG...  \n",
       "10738  CTTTGATTTTGAGTTTGGCTTGCGACACCATTCTCATCATATCACA...  \n",
       "10739  TCCTAATCATCATTATAATTCTCAGACCAGCACTGGTGTGGTGGTC...  \n",
       "10740  CAGTGGGAAAGTATGACTCATATCAAACCATTGAAGGATCTTGTGG...  \n",
       "\n",
       "[10741 rows x 2 columns]"
      ]
     },
     "execution_count": 75,
     "metadata": {},
     "output_type": "execute_result"
    }
   ],
   "source": [
    "healthy_15"
   ]
  },
  {
   "cell_type": "code",
   "execution_count": 76,
   "id": "b44b78db",
   "metadata": {
    "scrolled": false
   },
   "outputs": [],
   "source": [
    "# Define a function to extract the desired pattern\n",
    "def extract_id_15(string):\n",
    "    match = re.search(r'(k127_\\d+)', string)\n",
    "    if match:\n",
    "        return match.group(1) + '_15'\n",
    "    else:\n",
    "        return None\n",
    "\n",
    "# Apply the function to the 'ids' column\n",
    "healthy_15['ids'] = healthy_15['ids'].apply(extract_id_15)\n",
    "\n"
   ]
  },
  {
   "cell_type": "code",
   "execution_count": 77,
   "id": "c3ad361c",
   "metadata": {},
   "outputs": [
    {
     "data": {
      "text/html": [
       "<div>\n",
       "<style scoped>\n",
       "    .dataframe tbody tr th:only-of-type {\n",
       "        vertical-align: middle;\n",
       "    }\n",
       "\n",
       "    .dataframe tbody tr th {\n",
       "        vertical-align: top;\n",
       "    }\n",
       "\n",
       "    .dataframe thead th {\n",
       "        text-align: right;\n",
       "    }\n",
       "</style>\n",
       "<table border=\"1\" class=\"dataframe\">\n",
       "  <thead>\n",
       "    <tr style=\"text-align: right;\">\n",
       "      <th></th>\n",
       "      <th>ids</th>\n",
       "      <th>seq</th>\n",
       "    </tr>\n",
       "  </thead>\n",
       "  <tbody>\n",
       "    <tr>\n",
       "      <th>0</th>\n",
       "      <td>k127_60849_15</td>\n",
       "      <td>TTTCTAAATAAGCTTCGTCTCCTCCAACTTCTCTGTAAACTCATCA...</td>\n",
       "    </tr>\n",
       "    <tr>\n",
       "      <th>1</th>\n",
       "      <td>k127_85185_15</td>\n",
       "      <td>AAGAAACAATATATAACGAAAAAATCTCTAAATAAGAGAATTTACA...</td>\n",
       "    </tr>\n",
       "    <tr>\n",
       "      <th>2</th>\n",
       "      <td>k127_73020_15</td>\n",
       "      <td>CAATATGAACAGGTAAAAACGGCCTACGAAGCAACCCAAGCACGCT...</td>\n",
       "    </tr>\n",
       "    <tr>\n",
       "      <th>3</th>\n",
       "      <td>k127_12172_15</td>\n",
       "      <td>CACAGTAACGTAGCCAAAATTCATTCCAGATTGCCTGCGGCAATGG...</td>\n",
       "    </tr>\n",
       "    <tr>\n",
       "      <th>4</th>\n",
       "      <td>k127_36522_15</td>\n",
       "      <td>TCTGGCAGGAATATCTCGATTTGGTCGAACATTTGAGAAAAACCGA...</td>\n",
       "    </tr>\n",
       "    <tr>\n",
       "      <th>...</th>\n",
       "      <td>...</td>\n",
       "      <td>...</td>\n",
       "    </tr>\n",
       "    <tr>\n",
       "      <th>10736</th>\n",
       "      <td>k127_36447_15</td>\n",
       "      <td>CCCCCAATCCAGCTAATACAATACTTTGACATCTCATCCGTGACCT...</td>\n",
       "    </tr>\n",
       "    <tr>\n",
       "      <th>10737</th>\n",
       "      <td>k127_36474_15</td>\n",
       "      <td>TTTTATCGTAACAAACCCGCCATACGGAGAGCGTTTAGAGGATAAG...</td>\n",
       "    </tr>\n",
       "    <tr>\n",
       "      <th>10738</th>\n",
       "      <td>k127_36481_15</td>\n",
       "      <td>CTTTGATTTTGAGTTTGGCTTGCGACACCATTCTCATCATATCACA...</td>\n",
       "    </tr>\n",
       "    <tr>\n",
       "      <th>10739</th>\n",
       "      <td>k127_36491_15</td>\n",
       "      <td>TCCTAATCATCATTATAATTCTCAGACCAGCACTGGTGTGGTGGTC...</td>\n",
       "    </tr>\n",
       "    <tr>\n",
       "      <th>10740</th>\n",
       "      <td>k127_36494_15</td>\n",
       "      <td>CAGTGGGAAAGTATGACTCATATCAAACCATTGAAGGATCTTGTGG...</td>\n",
       "    </tr>\n",
       "  </tbody>\n",
       "</table>\n",
       "<p>10741 rows × 2 columns</p>\n",
       "</div>"
      ],
      "text/plain": [
       "                 ids                                                seq\n",
       "0      k127_60849_15  TTTCTAAATAAGCTTCGTCTCCTCCAACTTCTCTGTAAACTCATCA...\n",
       "1      k127_85185_15  AAGAAACAATATATAACGAAAAAATCTCTAAATAAGAGAATTTACA...\n",
       "2      k127_73020_15  CAATATGAACAGGTAAAAACGGCCTACGAAGCAACCCAAGCACGCT...\n",
       "3      k127_12172_15  CACAGTAACGTAGCCAAAATTCATTCCAGATTGCCTGCGGCAATGG...\n",
       "4      k127_36522_15  TCTGGCAGGAATATCTCGATTTGGTCGAACATTTGAGAAAAACCGA...\n",
       "...              ...                                                ...\n",
       "10736  k127_36447_15  CCCCCAATCCAGCTAATACAATACTTTGACATCTCATCCGTGACCT...\n",
       "10737  k127_36474_15  TTTTATCGTAACAAACCCGCCATACGGAGAGCGTTTAGAGGATAAG...\n",
       "10738  k127_36481_15  CTTTGATTTTGAGTTTGGCTTGCGACACCATTCTCATCATATCACA...\n",
       "10739  k127_36491_15  TCCTAATCATCATTATAATTCTCAGACCAGCACTGGTGTGGTGGTC...\n",
       "10740  k127_36494_15  CAGTGGGAAAGTATGACTCATATCAAACCATTGAAGGATCTTGTGG...\n",
       "\n",
       "[10741 rows x 2 columns]"
      ]
     },
     "execution_count": 77,
     "metadata": {},
     "output_type": "execute_result"
    }
   ],
   "source": [
    "healthy_15"
   ]
  },
  {
   "cell_type": "code",
   "execution_count": 78,
   "id": "d882ff4c",
   "metadata": {},
   "outputs": [
    {
     "name": "stdout",
     "output_type": "stream",
     "text": [
      "There are no duplicate seq in the DataFrame.\n"
     ]
    }
   ],
   "source": [
    "# Assuming df_antibiotics_and_conjugate is your DataFrame\n",
    "# You can replace it with the name of your actual DataFrame\n",
    "\n",
    "# Check for duplicates in the \"ids\" column\n",
    "duplicates = healthy_15[healthy_15.duplicated('seq')]\n",
    "\n",
    "# If there are duplicates, duplicates DataFrame will contain those rows\n",
    "# If duplicates is empty, it means there are no duplicate ids\n",
    "if not duplicates.empty:\n",
    "    print(\"There are duplicate seq in the DataFrame:\")\n",
    "    print(duplicates)\n",
    "else:\n",
    "    print(\"There are no duplicate seq in the DataFrame.\")\n"
   ]
  },
  {
   "cell_type": "code",
   "execution_count": 79,
   "id": "556ae37a",
   "metadata": {},
   "outputs": [],
   "source": [
    "healthy_ids = healthy_15['ids'].tolist()\n",
    "healthy_list = healthy_15['seq'].tolist()\n"
   ]
  },
  {
   "cell_type": "code",
   "execution_count": 80,
   "id": "7581ff28",
   "metadata": {},
   "outputs": [
    {
     "data": {
      "text/plain": [
       "10741"
      ]
     },
     "execution_count": 80,
     "metadata": {},
     "output_type": "execute_result"
    }
   ],
   "source": [
    "len(healthy_ids)\n"
   ]
  },
  {
   "cell_type": "code",
   "execution_count": 81,
   "id": "e715bb60",
   "metadata": {},
   "outputs": [
    {
     "data": {
      "text/plain": [
       "10741"
      ]
     },
     "execution_count": 81,
     "metadata": {},
     "output_type": "execute_result"
    }
   ],
   "source": [
    "len(healthy_list)"
   ]
  },
  {
   "cell_type": "code",
   "execution_count": 82,
   "id": "053db067",
   "metadata": {},
   "outputs": [
    {
     "name": "stdout",
     "output_type": "stream",
     "text": [
      "Time to generate images: 1624.939656496048 seconds\n"
     ]
    }
   ],
   "source": [
    "import time\n",
    "start_time = time.time()\n",
    "seq_num=[]\n",
    "\n",
    "\n",
    "all_seq = healthy_list\n",
    "all_seq = [replace_ambiguous_bases(seq) for seq in all_seq]\n",
    "for sequence in all_seq:\n",
    "        seq_cgr = easy_cgr(sequence)\n",
    "        seq_num.append(seq_cgr)\n",
    "sequences = seq_num\n",
    "class_labels = healthy_ids \n",
    "output_directory = \"healthy_15_res_7\"\n",
    "kmeres=7\n",
    "\n",
    "if not os.path.exists(output_directory):\n",
    "    os.makedirs(output_directory)\n",
    "\n",
    "# Call the function to generate and save CGR images\n",
    "generate_and_save_cgr_images_label(sequences, class_labels, output_directory,kmeres)\n",
    "\n",
    "end_time = time.time()\n",
    "elapsed_time = end_time - start_time\n",
    "\n",
    "# Print the time taken\n",
    "print(f\"Time to generate images: {elapsed_time} seconds\")"
   ]
  },
  {
   "cell_type": "code",
   "execution_count": null,
   "id": "14f3cf4d",
   "metadata": {},
   "outputs": [],
   "source": []
  },
  {
   "cell_type": "code",
   "execution_count": null,
   "id": "46f90e4f",
   "metadata": {},
   "outputs": [],
   "source": []
  },
  {
   "cell_type": "markdown",
   "id": "15f91347",
   "metadata": {},
   "source": [
    "###  Healthy 16"
   ]
  },
  {
   "cell_type": "code",
   "execution_count": 83,
   "id": "935d6708",
   "metadata": {
    "scrolled": true
   },
   "outputs": [],
   "source": [
    "import pandas as pd\n",
    "\n",
    "file_name = \"Healthy16.contigs.fa\"\n",
    "fasta_sequences = read_fasta_ARG(file_name)"
   ]
  },
  {
   "cell_type": "code",
   "execution_count": 84,
   "id": "54d79f87",
   "metadata": {},
   "outputs": [],
   "source": [
    "# Convert to DataFrame\n",
    "healthy_16 = pd.DataFrame(fasta_sequences, columns=[ 'ids', 'seq'])\n"
   ]
  },
  {
   "cell_type": "code",
   "execution_count": 85,
   "id": "e3399b01",
   "metadata": {},
   "outputs": [
    {
     "data": {
      "text/html": [
       "<div>\n",
       "<style scoped>\n",
       "    .dataframe tbody tr th:only-of-type {\n",
       "        vertical-align: middle;\n",
       "    }\n",
       "\n",
       "    .dataframe tbody tr th {\n",
       "        vertical-align: top;\n",
       "    }\n",
       "\n",
       "    .dataframe thead th {\n",
       "        text-align: right;\n",
       "    }\n",
       "</style>\n",
       "<table border=\"1\" class=\"dataframe\">\n",
       "  <thead>\n",
       "    <tr style=\"text-align: right;\">\n",
       "      <th></th>\n",
       "      <th>ids</th>\n",
       "      <th>seq</th>\n",
       "    </tr>\n",
       "  </thead>\n",
       "  <tbody>\n",
       "    <tr>\n",
       "      <th>0</th>\n",
       "      <td>k127_6161 flag=0 multi=6.7088 len=4014</td>\n",
       "      <td>TTTTGTTTTACACGGCAGTTTCCCTTTAGCAGTAACCGCGGATAAG...</td>\n",
       "    </tr>\n",
       "    <tr>\n",
       "      <th>1</th>\n",
       "      <td>k127_12327 flag=1 multi=6.0000 len=3523</td>\n",
       "      <td>ATGGAAGACTCTTATATTGATTATGCAATGAGCGTTATTGCCTCCC...</td>\n",
       "    </tr>\n",
       "    <tr>\n",
       "      <th>2</th>\n",
       "      <td>k127_30808 flag=1 multi=4.0000 len=2985</td>\n",
       "      <td>TCTCCAGATAGCGGTAGGGATTGTAGGCCGAGGGGTTGTTGGTGAT...</td>\n",
       "    </tr>\n",
       "    <tr>\n",
       "      <th>3</th>\n",
       "      <td>k127_43132 flag=1 multi=5.0000 len=2761</td>\n",
       "      <td>ACGGCGAGCAATAATTTTTAGCGCAGCAATATTATGCGTTTTACGC...</td>\n",
       "    </tr>\n",
       "    <tr>\n",
       "      <th>4</th>\n",
       "      <td>k127_36974 flag=1 multi=8.0000 len=4585</td>\n",
       "      <td>GGGTAAAGCAGTCGGTTCGTCATTCAATTCGAAAGCAGCTTCGGCG...</td>\n",
       "    </tr>\n",
       "    <tr>\n",
       "      <th>...</th>\n",
       "      <td>...</td>\n",
       "      <td>...</td>\n",
       "    </tr>\n",
       "    <tr>\n",
       "      <th>4960</th>\n",
       "      <td>k127_30800 flag=1 multi=6.0000 len=8008</td>\n",
       "      <td>AGACCAGATCGTTTTCCGTTAAATCAACGAATTCCGTATGACCATC...</td>\n",
       "    </tr>\n",
       "    <tr>\n",
       "      <th>4961</th>\n",
       "      <td>k127_30803 flag=1 multi=7.0000 len=2929</td>\n",
       "      <td>GGAGTTTCAATAAAATATTTTGACATTTTTTTATACTATTTTATCC...</td>\n",
       "    </tr>\n",
       "    <tr>\n",
       "      <th>4962</th>\n",
       "      <td>k127_6111 flag=0 multi=11.9410 len=23984</td>\n",
       "      <td>TATGCAAGTGACATTTTCTGACTCGCCTTCGGCAAAGCCTTTACCG...</td>\n",
       "    </tr>\n",
       "    <tr>\n",
       "      <th>4963</th>\n",
       "      <td>k127_6140 flag=0 multi=18.8130 len=7920</td>\n",
       "      <td>AAGCTCGGTGTCAGGGATGCGATCTCATCCATGATCTGAGCAGAAG...</td>\n",
       "    </tr>\n",
       "    <tr>\n",
       "      <th>4964</th>\n",
       "      <td>k127_6142 flag=1 multi=7.0000 len=9569</td>\n",
       "      <td>GTTCACAAAGCTGTACTCTCCGGCGGTAAAGTGAACGCCGCGCACC...</td>\n",
       "    </tr>\n",
       "  </tbody>\n",
       "</table>\n",
       "<p>4965 rows × 2 columns</p>\n",
       "</div>"
      ],
      "text/plain": [
       "                                           ids  \\\n",
       "0       k127_6161 flag=0 multi=6.7088 len=4014   \n",
       "1      k127_12327 flag=1 multi=6.0000 len=3523   \n",
       "2      k127_30808 flag=1 multi=4.0000 len=2985   \n",
       "3      k127_43132 flag=1 multi=5.0000 len=2761   \n",
       "4      k127_36974 flag=1 multi=8.0000 len=4585   \n",
       "...                                        ...   \n",
       "4960   k127_30800 flag=1 multi=6.0000 len=8008   \n",
       "4961   k127_30803 flag=1 multi=7.0000 len=2929   \n",
       "4962  k127_6111 flag=0 multi=11.9410 len=23984   \n",
       "4963   k127_6140 flag=0 multi=18.8130 len=7920   \n",
       "4964    k127_6142 flag=1 multi=7.0000 len=9569   \n",
       "\n",
       "                                                    seq  \n",
       "0     TTTTGTTTTACACGGCAGTTTCCCTTTAGCAGTAACCGCGGATAAG...  \n",
       "1     ATGGAAGACTCTTATATTGATTATGCAATGAGCGTTATTGCCTCCC...  \n",
       "2     TCTCCAGATAGCGGTAGGGATTGTAGGCCGAGGGGTTGTTGGTGAT...  \n",
       "3     ACGGCGAGCAATAATTTTTAGCGCAGCAATATTATGCGTTTTACGC...  \n",
       "4     GGGTAAAGCAGTCGGTTCGTCATTCAATTCGAAAGCAGCTTCGGCG...  \n",
       "...                                                 ...  \n",
       "4960  AGACCAGATCGTTTTCCGTTAAATCAACGAATTCCGTATGACCATC...  \n",
       "4961  GGAGTTTCAATAAAATATTTTGACATTTTTTTATACTATTTTATCC...  \n",
       "4962  TATGCAAGTGACATTTTCTGACTCGCCTTCGGCAAAGCCTTTACCG...  \n",
       "4963  AAGCTCGGTGTCAGGGATGCGATCTCATCCATGATCTGAGCAGAAG...  \n",
       "4964  GTTCACAAAGCTGTACTCTCCGGCGGTAAAGTGAACGCCGCGCACC...  \n",
       "\n",
       "[4965 rows x 2 columns]"
      ]
     },
     "execution_count": 85,
     "metadata": {},
     "output_type": "execute_result"
    }
   ],
   "source": [
    "healthy_16"
   ]
  },
  {
   "cell_type": "code",
   "execution_count": 86,
   "id": "3d3165ce",
   "metadata": {
    "scrolled": false
   },
   "outputs": [],
   "source": [
    "# Define a function to extract the desired pattern\n",
    "def extract_id_16(string):\n",
    "    match = re.search(r'(k127_\\d+)', string)\n",
    "    if match:\n",
    "        return match.group(1) + '_16'\n",
    "    else:\n",
    "        return None\n",
    "\n",
    "# Apply the function to the 'ids' column\n",
    "healthy_16['ids'] = healthy_16['ids'].apply(extract_id_16)\n",
    "\n"
   ]
  },
  {
   "cell_type": "code",
   "execution_count": 87,
   "id": "acb9da27",
   "metadata": {},
   "outputs": [
    {
     "data": {
      "text/html": [
       "<div>\n",
       "<style scoped>\n",
       "    .dataframe tbody tr th:only-of-type {\n",
       "        vertical-align: middle;\n",
       "    }\n",
       "\n",
       "    .dataframe tbody tr th {\n",
       "        vertical-align: top;\n",
       "    }\n",
       "\n",
       "    .dataframe thead th {\n",
       "        text-align: right;\n",
       "    }\n",
       "</style>\n",
       "<table border=\"1\" class=\"dataframe\">\n",
       "  <thead>\n",
       "    <tr style=\"text-align: right;\">\n",
       "      <th></th>\n",
       "      <th>ids</th>\n",
       "      <th>seq</th>\n",
       "    </tr>\n",
       "  </thead>\n",
       "  <tbody>\n",
       "    <tr>\n",
       "      <th>0</th>\n",
       "      <td>k127_6161_16</td>\n",
       "      <td>TTTTGTTTTACACGGCAGTTTCCCTTTAGCAGTAACCGCGGATAAG...</td>\n",
       "    </tr>\n",
       "    <tr>\n",
       "      <th>1</th>\n",
       "      <td>k127_12327_16</td>\n",
       "      <td>ATGGAAGACTCTTATATTGATTATGCAATGAGCGTTATTGCCTCCC...</td>\n",
       "    </tr>\n",
       "    <tr>\n",
       "      <th>2</th>\n",
       "      <td>k127_30808_16</td>\n",
       "      <td>TCTCCAGATAGCGGTAGGGATTGTAGGCCGAGGGGTTGTTGGTGAT...</td>\n",
       "    </tr>\n",
       "    <tr>\n",
       "      <th>3</th>\n",
       "      <td>k127_43132_16</td>\n",
       "      <td>ACGGCGAGCAATAATTTTTAGCGCAGCAATATTATGCGTTTTACGC...</td>\n",
       "    </tr>\n",
       "    <tr>\n",
       "      <th>4</th>\n",
       "      <td>k127_36974_16</td>\n",
       "      <td>GGGTAAAGCAGTCGGTTCGTCATTCAATTCGAAAGCAGCTTCGGCG...</td>\n",
       "    </tr>\n",
       "    <tr>\n",
       "      <th>...</th>\n",
       "      <td>...</td>\n",
       "      <td>...</td>\n",
       "    </tr>\n",
       "    <tr>\n",
       "      <th>4960</th>\n",
       "      <td>k127_30800_16</td>\n",
       "      <td>AGACCAGATCGTTTTCCGTTAAATCAACGAATTCCGTATGACCATC...</td>\n",
       "    </tr>\n",
       "    <tr>\n",
       "      <th>4961</th>\n",
       "      <td>k127_30803_16</td>\n",
       "      <td>GGAGTTTCAATAAAATATTTTGACATTTTTTTATACTATTTTATCC...</td>\n",
       "    </tr>\n",
       "    <tr>\n",
       "      <th>4962</th>\n",
       "      <td>k127_6111_16</td>\n",
       "      <td>TATGCAAGTGACATTTTCTGACTCGCCTTCGGCAAAGCCTTTACCG...</td>\n",
       "    </tr>\n",
       "    <tr>\n",
       "      <th>4963</th>\n",
       "      <td>k127_6140_16</td>\n",
       "      <td>AAGCTCGGTGTCAGGGATGCGATCTCATCCATGATCTGAGCAGAAG...</td>\n",
       "    </tr>\n",
       "    <tr>\n",
       "      <th>4964</th>\n",
       "      <td>k127_6142_16</td>\n",
       "      <td>GTTCACAAAGCTGTACTCTCCGGCGGTAAAGTGAACGCCGCGCACC...</td>\n",
       "    </tr>\n",
       "  </tbody>\n",
       "</table>\n",
       "<p>4965 rows × 2 columns</p>\n",
       "</div>"
      ],
      "text/plain": [
       "                ids                                                seq\n",
       "0      k127_6161_16  TTTTGTTTTACACGGCAGTTTCCCTTTAGCAGTAACCGCGGATAAG...\n",
       "1     k127_12327_16  ATGGAAGACTCTTATATTGATTATGCAATGAGCGTTATTGCCTCCC...\n",
       "2     k127_30808_16  TCTCCAGATAGCGGTAGGGATTGTAGGCCGAGGGGTTGTTGGTGAT...\n",
       "3     k127_43132_16  ACGGCGAGCAATAATTTTTAGCGCAGCAATATTATGCGTTTTACGC...\n",
       "4     k127_36974_16  GGGTAAAGCAGTCGGTTCGTCATTCAATTCGAAAGCAGCTTCGGCG...\n",
       "...             ...                                                ...\n",
       "4960  k127_30800_16  AGACCAGATCGTTTTCCGTTAAATCAACGAATTCCGTATGACCATC...\n",
       "4961  k127_30803_16  GGAGTTTCAATAAAATATTTTGACATTTTTTTATACTATTTTATCC...\n",
       "4962   k127_6111_16  TATGCAAGTGACATTTTCTGACTCGCCTTCGGCAAAGCCTTTACCG...\n",
       "4963   k127_6140_16  AAGCTCGGTGTCAGGGATGCGATCTCATCCATGATCTGAGCAGAAG...\n",
       "4964   k127_6142_16  GTTCACAAAGCTGTACTCTCCGGCGGTAAAGTGAACGCCGCGCACC...\n",
       "\n",
       "[4965 rows x 2 columns]"
      ]
     },
     "execution_count": 87,
     "metadata": {},
     "output_type": "execute_result"
    }
   ],
   "source": [
    "healthy_16"
   ]
  },
  {
   "cell_type": "code",
   "execution_count": 88,
   "id": "91d8223f",
   "metadata": {},
   "outputs": [
    {
     "name": "stdout",
     "output_type": "stream",
     "text": [
      "There are no duplicate seq in the DataFrame.\n"
     ]
    }
   ],
   "source": [
    "# Assuming df_antibiotics_and_conjugate is your DataFrame\n",
    "# You can replace it with the name of your actual DataFrame\n",
    "\n",
    "# Check for duplicates in the \"ids\" column\n",
    "duplicates = healthy_16[healthy_16.duplicated('seq')]\n",
    "\n",
    "# If there are duplicates, duplicates DataFrame will contain those rows\n",
    "# If duplicates is empty, it means there are no duplicate ids\n",
    "if not duplicates.empty:\n",
    "    print(\"There are duplicate seq in the DataFrame:\")\n",
    "    print(duplicates)\n",
    "else:\n",
    "    print(\"There are no duplicate seq in the DataFrame.\")\n"
   ]
  },
  {
   "cell_type": "code",
   "execution_count": 89,
   "id": "63948630",
   "metadata": {},
   "outputs": [],
   "source": [
    "healthy_ids = healthy_16['ids'].tolist()\n",
    "healthy_list = healthy_16['seq'].tolist()\n"
   ]
  },
  {
   "cell_type": "code",
   "execution_count": 90,
   "id": "e7aee595",
   "metadata": {},
   "outputs": [
    {
     "data": {
      "text/plain": [
       "4965"
      ]
     },
     "execution_count": 90,
     "metadata": {},
     "output_type": "execute_result"
    }
   ],
   "source": [
    "len(healthy_ids)\n"
   ]
  },
  {
   "cell_type": "code",
   "execution_count": 91,
   "id": "3c329d36",
   "metadata": {},
   "outputs": [
    {
     "data": {
      "text/plain": [
       "4965"
      ]
     },
     "execution_count": 91,
     "metadata": {},
     "output_type": "execute_result"
    }
   ],
   "source": [
    "len(healthy_list)"
   ]
  },
  {
   "cell_type": "code",
   "execution_count": 92,
   "id": "ee912442",
   "metadata": {},
   "outputs": [
    {
     "name": "stdout",
     "output_type": "stream",
     "text": [
      "Time to generate images: 697.9979186058044 seconds\n"
     ]
    }
   ],
   "source": [
    "import time\n",
    "start_time = time.time()\n",
    "seq_num=[]\n",
    "\n",
    "\n",
    "all_seq = healthy_list\n",
    "all_seq = [replace_ambiguous_bases(seq) for seq in all_seq]\n",
    "for sequence in all_seq:\n",
    "        seq_cgr = easy_cgr(sequence)\n",
    "        seq_num.append(seq_cgr)\n",
    "sequences = seq_num\n",
    "class_labels = healthy_ids \n",
    "output_directory = \"healthy_16_res_7\"\n",
    "kmeres=7\n",
    "\n",
    "if not os.path.exists(output_directory):\n",
    "    os.makedirs(output_directory)\n",
    "\n",
    "# Call the function to generate and save CGR images\n",
    "generate_and_save_cgr_images_label(sequences, class_labels, output_directory,kmeres)\n",
    "\n",
    "end_time = time.time()\n",
    "elapsed_time = end_time - start_time\n",
    "\n",
    "# Print the time taken\n",
    "print(f\"Time to generate images: {elapsed_time} seconds\")"
   ]
  },
  {
   "cell_type": "code",
   "execution_count": null,
   "id": "fdef0a6e",
   "metadata": {},
   "outputs": [],
   "source": []
  },
  {
   "cell_type": "code",
   "execution_count": null,
   "id": "70ae8dcb",
   "metadata": {},
   "outputs": [],
   "source": []
  },
  {
   "cell_type": "markdown",
   "id": "df801629",
   "metadata": {},
   "source": [
    "###  Healthy 17"
   ]
  },
  {
   "cell_type": "code",
   "execution_count": 93,
   "id": "4e586132",
   "metadata": {
    "scrolled": true
   },
   "outputs": [],
   "source": [
    "import pandas as pd\n",
    "\n",
    "file_name = \"Healthy17.contigs.fa\"\n",
    "fasta_sequences = read_fasta_ARG(file_name)"
   ]
  },
  {
   "cell_type": "code",
   "execution_count": 94,
   "id": "aa24ec8a",
   "metadata": {},
   "outputs": [],
   "source": [
    "# Convert to DataFrame\n",
    "healthy_17 = pd.DataFrame(fasta_sequences, columns=[ 'ids', 'seq'])\n"
   ]
  },
  {
   "cell_type": "code",
   "execution_count": 95,
   "id": "047ff175",
   "metadata": {},
   "outputs": [
    {
     "data": {
      "text/html": [
       "<div>\n",
       "<style scoped>\n",
       "    .dataframe tbody tr th:only-of-type {\n",
       "        vertical-align: middle;\n",
       "    }\n",
       "\n",
       "    .dataframe tbody tr th {\n",
       "        vertical-align: top;\n",
       "    }\n",
       "\n",
       "    .dataframe thead th {\n",
       "        text-align: right;\n",
       "    }\n",
       "</style>\n",
       "<table border=\"1\" class=\"dataframe\">\n",
       "  <thead>\n",
       "    <tr style=\"text-align: right;\">\n",
       "      <th></th>\n",
       "      <th>ids</th>\n",
       "      <th>seq</th>\n",
       "    </tr>\n",
       "  </thead>\n",
       "  <tbody>\n",
       "    <tr>\n",
       "      <th>0</th>\n",
       "      <td>k127_31361 flag=0 multi=6.9561 len=2858</td>\n",
       "      <td>AAAGATTTCCTGCTGGCATTTACAGCGGATGGAAGGAATAAGAACT...</td>\n",
       "    </tr>\n",
       "    <tr>\n",
       "      <th>1</th>\n",
       "      <td>k127_13442 flag=1 multi=7.0000 len=3341</td>\n",
       "      <td>TAATAGGAAGTGAAACGCTTTTTCAAAGTTAAAATAATATAGAAAG...</td>\n",
       "    </tr>\n",
       "    <tr>\n",
       "      <th>2</th>\n",
       "      <td>k127_44801 flag=1 multi=6.0000 len=3749</td>\n",
       "      <td>TTGCTGTACAGATGTTTATTTAAGAACATGATCAATGTCATGGTCG...</td>\n",
       "    </tr>\n",
       "    <tr>\n",
       "      <th>3</th>\n",
       "      <td>k127_40322 flag=1 multi=6.0000 len=4452</td>\n",
       "      <td>GCCCTCATCGCTCTGGCAGCATTCATCCTGATACGCAGCCAGGTGA...</td>\n",
       "    </tr>\n",
       "    <tr>\n",
       "      <th>4</th>\n",
       "      <td>k127_31369 flag=1 multi=6.0000 len=2690</td>\n",
       "      <td>TACACTACATTACGTATAAATCCACATATATGCCTAAATAGATAGC...</td>\n",
       "    </tr>\n",
       "    <tr>\n",
       "      <th>...</th>\n",
       "      <td>...</td>\n",
       "      <td>...</td>\n",
       "    </tr>\n",
       "    <tr>\n",
       "      <th>6666</th>\n",
       "      <td>k127_40294 flag=1 multi=27.0000 len=17187</td>\n",
       "      <td>AAGTATAGAGATAACTTTTATTTCTATGAAAACTGTGAAAAAGATG...</td>\n",
       "    </tr>\n",
       "    <tr>\n",
       "      <th>6667</th>\n",
       "      <td>k127_44776 flag=1 multi=6.0000 len=4195</td>\n",
       "      <td>ATTCCAGACGGAGAGGAGAGGACTTTCTATGTAATCGGAAAGAATT...</td>\n",
       "    </tr>\n",
       "    <tr>\n",
       "      <th>6668</th>\n",
       "      <td>k127_40298 flag=1 multi=6.9188 len=14678</td>\n",
       "      <td>GGGAAATCGGTAAAAGTGTATTATTTTGAGAGAGTTAAATCAATTA...</td>\n",
       "    </tr>\n",
       "    <tr>\n",
       "      <th>6669</th>\n",
       "      <td>k127_40308 flag=1 multi=4.0000 len=2563</td>\n",
       "      <td>AATAGGATTTTATTCGGTTTTGCGATAAAATATATTTATCTTTTTA...</td>\n",
       "    </tr>\n",
       "    <tr>\n",
       "      <th>6670</th>\n",
       "      <td>k127_40311 flag=1 multi=6.0000 len=4517</td>\n",
       "      <td>AATTTTTTAATAAAAAGTTTTCAATTTCTGTAAAGGAAGGAAAATA...</td>\n",
       "    </tr>\n",
       "  </tbody>\n",
       "</table>\n",
       "<p>6671 rows × 2 columns</p>\n",
       "</div>"
      ],
      "text/plain": [
       "                                            ids  \\\n",
       "0       k127_31361 flag=0 multi=6.9561 len=2858   \n",
       "1       k127_13442 flag=1 multi=7.0000 len=3341   \n",
       "2       k127_44801 flag=1 multi=6.0000 len=3749   \n",
       "3       k127_40322 flag=1 multi=6.0000 len=4452   \n",
       "4       k127_31369 flag=1 multi=6.0000 len=2690   \n",
       "...                                         ...   \n",
       "6666  k127_40294 flag=1 multi=27.0000 len=17187   \n",
       "6667    k127_44776 flag=1 multi=6.0000 len=4195   \n",
       "6668   k127_40298 flag=1 multi=6.9188 len=14678   \n",
       "6669    k127_40308 flag=1 multi=4.0000 len=2563   \n",
       "6670    k127_40311 flag=1 multi=6.0000 len=4517   \n",
       "\n",
       "                                                    seq  \n",
       "0     AAAGATTTCCTGCTGGCATTTACAGCGGATGGAAGGAATAAGAACT...  \n",
       "1     TAATAGGAAGTGAAACGCTTTTTCAAAGTTAAAATAATATAGAAAG...  \n",
       "2     TTGCTGTACAGATGTTTATTTAAGAACATGATCAATGTCATGGTCG...  \n",
       "3     GCCCTCATCGCTCTGGCAGCATTCATCCTGATACGCAGCCAGGTGA...  \n",
       "4     TACACTACATTACGTATAAATCCACATATATGCCTAAATAGATAGC...  \n",
       "...                                                 ...  \n",
       "6666  AAGTATAGAGATAACTTTTATTTCTATGAAAACTGTGAAAAAGATG...  \n",
       "6667  ATTCCAGACGGAGAGGAGAGGACTTTCTATGTAATCGGAAAGAATT...  \n",
       "6668  GGGAAATCGGTAAAAGTGTATTATTTTGAGAGAGTTAAATCAATTA...  \n",
       "6669  AATAGGATTTTATTCGGTTTTGCGATAAAATATATTTATCTTTTTA...  \n",
       "6670  AATTTTTTAATAAAAAGTTTTCAATTTCTGTAAAGGAAGGAAAATA...  \n",
       "\n",
       "[6671 rows x 2 columns]"
      ]
     },
     "execution_count": 95,
     "metadata": {},
     "output_type": "execute_result"
    }
   ],
   "source": [
    "healthy_17"
   ]
  },
  {
   "cell_type": "code",
   "execution_count": 96,
   "id": "10bf6494",
   "metadata": {
    "scrolled": false
   },
   "outputs": [],
   "source": [
    "# Define a function to extract the desired pattern\n",
    "def extract_id_17(string):\n",
    "    match = re.search(r'(k127_\\d+)', string)\n",
    "    if match:\n",
    "        return match.group(1) + '_17'\n",
    "    else:\n",
    "        return None\n",
    "\n",
    "# Apply the function to the 'ids' column\n",
    "healthy_17['ids'] = healthy_17['ids'].apply(extract_id_17)\n",
    "\n"
   ]
  },
  {
   "cell_type": "code",
   "execution_count": 97,
   "id": "97377982",
   "metadata": {},
   "outputs": [
    {
     "data": {
      "text/html": [
       "<div>\n",
       "<style scoped>\n",
       "    .dataframe tbody tr th:only-of-type {\n",
       "        vertical-align: middle;\n",
       "    }\n",
       "\n",
       "    .dataframe tbody tr th {\n",
       "        vertical-align: top;\n",
       "    }\n",
       "\n",
       "    .dataframe thead th {\n",
       "        text-align: right;\n",
       "    }\n",
       "</style>\n",
       "<table border=\"1\" class=\"dataframe\">\n",
       "  <thead>\n",
       "    <tr style=\"text-align: right;\">\n",
       "      <th></th>\n",
       "      <th>ids</th>\n",
       "      <th>seq</th>\n",
       "    </tr>\n",
       "  </thead>\n",
       "  <tbody>\n",
       "    <tr>\n",
       "      <th>0</th>\n",
       "      <td>k127_31361_17</td>\n",
       "      <td>AAAGATTTCCTGCTGGCATTTACAGCGGATGGAAGGAATAAGAACT...</td>\n",
       "    </tr>\n",
       "    <tr>\n",
       "      <th>1</th>\n",
       "      <td>k127_13442_17</td>\n",
       "      <td>TAATAGGAAGTGAAACGCTTTTTCAAAGTTAAAATAATATAGAAAG...</td>\n",
       "    </tr>\n",
       "    <tr>\n",
       "      <th>2</th>\n",
       "      <td>k127_44801_17</td>\n",
       "      <td>TTGCTGTACAGATGTTTATTTAAGAACATGATCAATGTCATGGTCG...</td>\n",
       "    </tr>\n",
       "    <tr>\n",
       "      <th>3</th>\n",
       "      <td>k127_40322_17</td>\n",
       "      <td>GCCCTCATCGCTCTGGCAGCATTCATCCTGATACGCAGCCAGGTGA...</td>\n",
       "    </tr>\n",
       "    <tr>\n",
       "      <th>4</th>\n",
       "      <td>k127_31369_17</td>\n",
       "      <td>TACACTACATTACGTATAAATCCACATATATGCCTAAATAGATAGC...</td>\n",
       "    </tr>\n",
       "    <tr>\n",
       "      <th>...</th>\n",
       "      <td>...</td>\n",
       "      <td>...</td>\n",
       "    </tr>\n",
       "    <tr>\n",
       "      <th>6666</th>\n",
       "      <td>k127_40294_17</td>\n",
       "      <td>AAGTATAGAGATAACTTTTATTTCTATGAAAACTGTGAAAAAGATG...</td>\n",
       "    </tr>\n",
       "    <tr>\n",
       "      <th>6667</th>\n",
       "      <td>k127_44776_17</td>\n",
       "      <td>ATTCCAGACGGAGAGGAGAGGACTTTCTATGTAATCGGAAAGAATT...</td>\n",
       "    </tr>\n",
       "    <tr>\n",
       "      <th>6668</th>\n",
       "      <td>k127_40298_17</td>\n",
       "      <td>GGGAAATCGGTAAAAGTGTATTATTTTGAGAGAGTTAAATCAATTA...</td>\n",
       "    </tr>\n",
       "    <tr>\n",
       "      <th>6669</th>\n",
       "      <td>k127_40308_17</td>\n",
       "      <td>AATAGGATTTTATTCGGTTTTGCGATAAAATATATTTATCTTTTTA...</td>\n",
       "    </tr>\n",
       "    <tr>\n",
       "      <th>6670</th>\n",
       "      <td>k127_40311_17</td>\n",
       "      <td>AATTTTTTAATAAAAAGTTTTCAATTTCTGTAAAGGAAGGAAAATA...</td>\n",
       "    </tr>\n",
       "  </tbody>\n",
       "</table>\n",
       "<p>6671 rows × 2 columns</p>\n",
       "</div>"
      ],
      "text/plain": [
       "                ids                                                seq\n",
       "0     k127_31361_17  AAAGATTTCCTGCTGGCATTTACAGCGGATGGAAGGAATAAGAACT...\n",
       "1     k127_13442_17  TAATAGGAAGTGAAACGCTTTTTCAAAGTTAAAATAATATAGAAAG...\n",
       "2     k127_44801_17  TTGCTGTACAGATGTTTATTTAAGAACATGATCAATGTCATGGTCG...\n",
       "3     k127_40322_17  GCCCTCATCGCTCTGGCAGCATTCATCCTGATACGCAGCCAGGTGA...\n",
       "4     k127_31369_17  TACACTACATTACGTATAAATCCACATATATGCCTAAATAGATAGC...\n",
       "...             ...                                                ...\n",
       "6666  k127_40294_17  AAGTATAGAGATAACTTTTATTTCTATGAAAACTGTGAAAAAGATG...\n",
       "6667  k127_44776_17  ATTCCAGACGGAGAGGAGAGGACTTTCTATGTAATCGGAAAGAATT...\n",
       "6668  k127_40298_17  GGGAAATCGGTAAAAGTGTATTATTTTGAGAGAGTTAAATCAATTA...\n",
       "6669  k127_40308_17  AATAGGATTTTATTCGGTTTTGCGATAAAATATATTTATCTTTTTA...\n",
       "6670  k127_40311_17  AATTTTTTAATAAAAAGTTTTCAATTTCTGTAAAGGAAGGAAAATA...\n",
       "\n",
       "[6671 rows x 2 columns]"
      ]
     },
     "execution_count": 97,
     "metadata": {},
     "output_type": "execute_result"
    }
   ],
   "source": [
    "healthy_17"
   ]
  },
  {
   "cell_type": "code",
   "execution_count": 98,
   "id": "9ed135d2",
   "metadata": {},
   "outputs": [
    {
     "name": "stdout",
     "output_type": "stream",
     "text": [
      "There are no duplicate seq in the DataFrame.\n"
     ]
    }
   ],
   "source": [
    "# Assuming df_antibiotics_and_conjugate is your DataFrame\n",
    "# You can replace it with the name of your actual DataFrame\n",
    "\n",
    "# Check for duplicates in the \"ids\" column\n",
    "duplicates = healthy_17[healthy_17.duplicated('seq')]\n",
    "\n",
    "# If there are duplicates, duplicates DataFrame will contain those rows\n",
    "# If duplicates is empty, it means there are no duplicate ids\n",
    "if not duplicates.empty:\n",
    "    print(\"There are duplicate seq in the DataFrame:\")\n",
    "    print(duplicates)\n",
    "else:\n",
    "    print(\"There are no duplicate seq in the DataFrame.\")\n"
   ]
  },
  {
   "cell_type": "code",
   "execution_count": 99,
   "id": "d675ab89",
   "metadata": {},
   "outputs": [],
   "source": [
    "healthy_ids = healthy_17['ids'].tolist()\n",
    "healthy_list = healthy_17['seq'].tolist()\n"
   ]
  },
  {
   "cell_type": "code",
   "execution_count": 100,
   "id": "1d7d20dc",
   "metadata": {},
   "outputs": [
    {
     "data": {
      "text/plain": [
       "6671"
      ]
     },
     "execution_count": 100,
     "metadata": {},
     "output_type": "execute_result"
    }
   ],
   "source": [
    "len(healthy_ids)\n"
   ]
  },
  {
   "cell_type": "code",
   "execution_count": 101,
   "id": "ed81e437",
   "metadata": {},
   "outputs": [
    {
     "data": {
      "text/plain": [
       "6671"
      ]
     },
     "execution_count": 101,
     "metadata": {},
     "output_type": "execute_result"
    }
   ],
   "source": [
    "len(healthy_list)"
   ]
  },
  {
   "cell_type": "code",
   "execution_count": 102,
   "id": "17c69875",
   "metadata": {},
   "outputs": [
    {
     "name": "stdout",
     "output_type": "stream",
     "text": [
      "Time to generate images: 586.1758382320404 seconds\n"
     ]
    }
   ],
   "source": [
    "import time\n",
    "start_time = time.time()\n",
    "seq_num=[]\n",
    "\n",
    "\n",
    "all_seq = healthy_list\n",
    "all_seq = [replace_ambiguous_bases(seq) for seq in all_seq]\n",
    "for sequence in all_seq:\n",
    "        seq_cgr = easy_cgr(sequence)\n",
    "        seq_num.append(seq_cgr)\n",
    "sequences = seq_num\n",
    "class_labels = healthy_ids \n",
    "output_directory = \"healthy_17_res_7\"\n",
    "kmeres=7\n",
    "\n",
    "if not os.path.exists(output_directory):\n",
    "    os.makedirs(output_directory)\n",
    "\n",
    "# Call the function to generate and save CGR images\n",
    "generate_and_save_cgr_images_label(sequences, class_labels, output_directory,kmeres)\n",
    "\n",
    "end_time = time.time()\n",
    "elapsed_time = end_time - start_time\n",
    "\n",
    "# Print the time taken\n",
    "print(f\"Time to generate images: {elapsed_time} seconds\")"
   ]
  },
  {
   "cell_type": "code",
   "execution_count": null,
   "id": "71bca4ad",
   "metadata": {},
   "outputs": [],
   "source": []
  },
  {
   "cell_type": "markdown",
   "id": "4d48c8af",
   "metadata": {},
   "source": [
    "###  Healthy 18"
   ]
  },
  {
   "cell_type": "code",
   "execution_count": 103,
   "id": "08a6e4b8",
   "metadata": {
    "scrolled": true
   },
   "outputs": [],
   "source": [
    "import pandas as pd\n",
    "\n",
    "file_name = \"Healthy18.contigs.fa\"\n",
    "fasta_sequences = read_fasta_ARG(file_name)"
   ]
  },
  {
   "cell_type": "code",
   "execution_count": 104,
   "id": "ba23287f",
   "metadata": {},
   "outputs": [],
   "source": [
    "# Convert to DataFrame\n",
    "healthy_18 = pd.DataFrame(fasta_sequences, columns=[ 'ids', 'seq'])\n"
   ]
  },
  {
   "cell_type": "code",
   "execution_count": 105,
   "id": "fa4dd61b",
   "metadata": {},
   "outputs": [
    {
     "data": {
      "text/html": [
       "<div>\n",
       "<style scoped>\n",
       "    .dataframe tbody tr th:only-of-type {\n",
       "        vertical-align: middle;\n",
       "    }\n",
       "\n",
       "    .dataframe tbody tr th {\n",
       "        vertical-align: top;\n",
       "    }\n",
       "\n",
       "    .dataframe thead th {\n",
       "        text-align: right;\n",
       "    }\n",
       "</style>\n",
       "<table border=\"1\" class=\"dataframe\">\n",
       "  <thead>\n",
       "    <tr style=\"text-align: right;\">\n",
       "      <th></th>\n",
       "      <th>ids</th>\n",
       "      <th>seq</th>\n",
       "    </tr>\n",
       "  </thead>\n",
       "  <tbody>\n",
       "    <tr>\n",
       "      <th>0</th>\n",
       "      <td>k127_42281 flag=1 multi=8.9075 len=2634</td>\n",
       "      <td>CTGGAAAACAGGGCATCTAAAACACCAGAATTCTTTGGTTTTTTAA...</td>\n",
       "    </tr>\n",
       "    <tr>\n",
       "      <th>1</th>\n",
       "      <td>k127_37751 flag=1 multi=5.0000 len=2564</td>\n",
       "      <td>GCAGGGGCCACCCGGACCCAGGGGGACGAAGACAAGACGGCTTCTG...</td>\n",
       "    </tr>\n",
       "    <tr>\n",
       "      <th>2</th>\n",
       "      <td>k127_28691 flag=1 multi=4.0000 len=3188</td>\n",
       "      <td>GCTTCGCTCAGTGTCCAGGATGGGAACCACTCCCACTTGGGACGTT...</td>\n",
       "    </tr>\n",
       "    <tr>\n",
       "      <th>3</th>\n",
       "      <td>k127_4532 flag=1 multi=4.0000 len=3086</td>\n",
       "      <td>CTACCAAGGAGCTTATGAAGCTCACGCTGGAGCAGCGAATTGCTCA...</td>\n",
       "    </tr>\n",
       "    <tr>\n",
       "      <th>4</th>\n",
       "      <td>k127_27182 flag=1 multi=5.0000 len=2850</td>\n",
       "      <td>GTGATGCCCTCGGACAGGATGTTCAGGCACAGCACGGTGATCATGA...</td>\n",
       "    </tr>\n",
       "    <tr>\n",
       "      <th>...</th>\n",
       "      <td>...</td>\n",
       "      <td>...</td>\n",
       "    </tr>\n",
       "    <tr>\n",
       "      <th>9211</th>\n",
       "      <td>k127_30161 flag=1 multi=8.0000 len=11191</td>\n",
       "      <td>TGGGCCAATCGCATCATTAGTTAAATATTGATTACCTAACCCTACC...</td>\n",
       "    </tr>\n",
       "    <tr>\n",
       "      <th>9212</th>\n",
       "      <td>k127_30166 flag=1 multi=8.0000 len=5622</td>\n",
       "      <td>ATACCATGGATATTTCCTGCTCTTTTGCAGGTCAGGGTCTCTTTGA...</td>\n",
       "    </tr>\n",
       "    <tr>\n",
       "      <th>9213</th>\n",
       "      <td>k127_30170 flag=0 multi=6.9934 len=13906</td>\n",
       "      <td>GTTACTGTTCACGCATACGTGCCCAGTAACGGAATTTGCCGTGGCT...</td>\n",
       "    </tr>\n",
       "    <tr>\n",
       "      <th>9214</th>\n",
       "      <td>k127_30179 flag=1 multi=5.0000 len=2673</td>\n",
       "      <td>CGTACCGGCCAACTATGTTACAGCGTGGGTTGCTAAGGCGAGGAAG...</td>\n",
       "    </tr>\n",
       "    <tr>\n",
       "      <th>9215</th>\n",
       "      <td>k127_30192 flag=0 multi=252.9862 len=365791</td>\n",
       "      <td>TTGACAGAGTAATAAGTATTTTAAATAACAGACCACGAAAAAGATT...</td>\n",
       "    </tr>\n",
       "  </tbody>\n",
       "</table>\n",
       "<p>9216 rows × 2 columns</p>\n",
       "</div>"
      ],
      "text/plain": [
       "                                              ids  \\\n",
       "0         k127_42281 flag=1 multi=8.9075 len=2634   \n",
       "1         k127_37751 flag=1 multi=5.0000 len=2564   \n",
       "2         k127_28691 flag=1 multi=4.0000 len=3188   \n",
       "3          k127_4532 flag=1 multi=4.0000 len=3086   \n",
       "4         k127_27182 flag=1 multi=5.0000 len=2850   \n",
       "...                                           ...   \n",
       "9211     k127_30161 flag=1 multi=8.0000 len=11191   \n",
       "9212      k127_30166 flag=1 multi=8.0000 len=5622   \n",
       "9213     k127_30170 flag=0 multi=6.9934 len=13906   \n",
       "9214      k127_30179 flag=1 multi=5.0000 len=2673   \n",
       "9215  k127_30192 flag=0 multi=252.9862 len=365791   \n",
       "\n",
       "                                                    seq  \n",
       "0     CTGGAAAACAGGGCATCTAAAACACCAGAATTCTTTGGTTTTTTAA...  \n",
       "1     GCAGGGGCCACCCGGACCCAGGGGGACGAAGACAAGACGGCTTCTG...  \n",
       "2     GCTTCGCTCAGTGTCCAGGATGGGAACCACTCCCACTTGGGACGTT...  \n",
       "3     CTACCAAGGAGCTTATGAAGCTCACGCTGGAGCAGCGAATTGCTCA...  \n",
       "4     GTGATGCCCTCGGACAGGATGTTCAGGCACAGCACGGTGATCATGA...  \n",
       "...                                                 ...  \n",
       "9211  TGGGCCAATCGCATCATTAGTTAAATATTGATTACCTAACCCTACC...  \n",
       "9212  ATACCATGGATATTTCCTGCTCTTTTGCAGGTCAGGGTCTCTTTGA...  \n",
       "9213  GTTACTGTTCACGCATACGTGCCCAGTAACGGAATTTGCCGTGGCT...  \n",
       "9214  CGTACCGGCCAACTATGTTACAGCGTGGGTTGCTAAGGCGAGGAAG...  \n",
       "9215  TTGACAGAGTAATAAGTATTTTAAATAACAGACCACGAAAAAGATT...  \n",
       "\n",
       "[9216 rows x 2 columns]"
      ]
     },
     "execution_count": 105,
     "metadata": {},
     "output_type": "execute_result"
    }
   ],
   "source": [
    "healthy_18"
   ]
  },
  {
   "cell_type": "code",
   "execution_count": 106,
   "id": "a087a241",
   "metadata": {
    "scrolled": false
   },
   "outputs": [],
   "source": [
    "# Define a function to extract the desired pattern\n",
    "def extract_id_18(string):\n",
    "    match = re.search(r'(k127_\\d+)', string)\n",
    "    if match:\n",
    "        return match.group(1) + '_18'\n",
    "    else:\n",
    "        return None\n",
    "\n",
    "# Apply the function to the 'ids' column\n",
    "healthy_18['ids'] = healthy_18['ids'].apply(extract_id_18)\n",
    "\n"
   ]
  },
  {
   "cell_type": "code",
   "execution_count": 107,
   "id": "18a6a583",
   "metadata": {},
   "outputs": [
    {
     "data": {
      "text/html": [
       "<div>\n",
       "<style scoped>\n",
       "    .dataframe tbody tr th:only-of-type {\n",
       "        vertical-align: middle;\n",
       "    }\n",
       "\n",
       "    .dataframe tbody tr th {\n",
       "        vertical-align: top;\n",
       "    }\n",
       "\n",
       "    .dataframe thead th {\n",
       "        text-align: right;\n",
       "    }\n",
       "</style>\n",
       "<table border=\"1\" class=\"dataframe\">\n",
       "  <thead>\n",
       "    <tr style=\"text-align: right;\">\n",
       "      <th></th>\n",
       "      <th>ids</th>\n",
       "      <th>seq</th>\n",
       "    </tr>\n",
       "  </thead>\n",
       "  <tbody>\n",
       "    <tr>\n",
       "      <th>0</th>\n",
       "      <td>k127_42281_18</td>\n",
       "      <td>CTGGAAAACAGGGCATCTAAAACACCAGAATTCTTTGGTTTTTTAA...</td>\n",
       "    </tr>\n",
       "    <tr>\n",
       "      <th>1</th>\n",
       "      <td>k127_37751_18</td>\n",
       "      <td>GCAGGGGCCACCCGGACCCAGGGGGACGAAGACAAGACGGCTTCTG...</td>\n",
       "    </tr>\n",
       "    <tr>\n",
       "      <th>2</th>\n",
       "      <td>k127_28691_18</td>\n",
       "      <td>GCTTCGCTCAGTGTCCAGGATGGGAACCACTCCCACTTGGGACGTT...</td>\n",
       "    </tr>\n",
       "    <tr>\n",
       "      <th>3</th>\n",
       "      <td>k127_4532_18</td>\n",
       "      <td>CTACCAAGGAGCTTATGAAGCTCACGCTGGAGCAGCGAATTGCTCA...</td>\n",
       "    </tr>\n",
       "    <tr>\n",
       "      <th>4</th>\n",
       "      <td>k127_27182_18</td>\n",
       "      <td>GTGATGCCCTCGGACAGGATGTTCAGGCACAGCACGGTGATCATGA...</td>\n",
       "    </tr>\n",
       "    <tr>\n",
       "      <th>...</th>\n",
       "      <td>...</td>\n",
       "      <td>...</td>\n",
       "    </tr>\n",
       "    <tr>\n",
       "      <th>9211</th>\n",
       "      <td>k127_30161_18</td>\n",
       "      <td>TGGGCCAATCGCATCATTAGTTAAATATTGATTACCTAACCCTACC...</td>\n",
       "    </tr>\n",
       "    <tr>\n",
       "      <th>9212</th>\n",
       "      <td>k127_30166_18</td>\n",
       "      <td>ATACCATGGATATTTCCTGCTCTTTTGCAGGTCAGGGTCTCTTTGA...</td>\n",
       "    </tr>\n",
       "    <tr>\n",
       "      <th>9213</th>\n",
       "      <td>k127_30170_18</td>\n",
       "      <td>GTTACTGTTCACGCATACGTGCCCAGTAACGGAATTTGCCGTGGCT...</td>\n",
       "    </tr>\n",
       "    <tr>\n",
       "      <th>9214</th>\n",
       "      <td>k127_30179_18</td>\n",
       "      <td>CGTACCGGCCAACTATGTTACAGCGTGGGTTGCTAAGGCGAGGAAG...</td>\n",
       "    </tr>\n",
       "    <tr>\n",
       "      <th>9215</th>\n",
       "      <td>k127_30192_18</td>\n",
       "      <td>TTGACAGAGTAATAAGTATTTTAAATAACAGACCACGAAAAAGATT...</td>\n",
       "    </tr>\n",
       "  </tbody>\n",
       "</table>\n",
       "<p>9216 rows × 2 columns</p>\n",
       "</div>"
      ],
      "text/plain": [
       "                ids                                                seq\n",
       "0     k127_42281_18  CTGGAAAACAGGGCATCTAAAACACCAGAATTCTTTGGTTTTTTAA...\n",
       "1     k127_37751_18  GCAGGGGCCACCCGGACCCAGGGGGACGAAGACAAGACGGCTTCTG...\n",
       "2     k127_28691_18  GCTTCGCTCAGTGTCCAGGATGGGAACCACTCCCACTTGGGACGTT...\n",
       "3      k127_4532_18  CTACCAAGGAGCTTATGAAGCTCACGCTGGAGCAGCGAATTGCTCA...\n",
       "4     k127_27182_18  GTGATGCCCTCGGACAGGATGTTCAGGCACAGCACGGTGATCATGA...\n",
       "...             ...                                                ...\n",
       "9211  k127_30161_18  TGGGCCAATCGCATCATTAGTTAAATATTGATTACCTAACCCTACC...\n",
       "9212  k127_30166_18  ATACCATGGATATTTCCTGCTCTTTTGCAGGTCAGGGTCTCTTTGA...\n",
       "9213  k127_30170_18  GTTACTGTTCACGCATACGTGCCCAGTAACGGAATTTGCCGTGGCT...\n",
       "9214  k127_30179_18  CGTACCGGCCAACTATGTTACAGCGTGGGTTGCTAAGGCGAGGAAG...\n",
       "9215  k127_30192_18  TTGACAGAGTAATAAGTATTTTAAATAACAGACCACGAAAAAGATT...\n",
       "\n",
       "[9216 rows x 2 columns]"
      ]
     },
     "execution_count": 107,
     "metadata": {},
     "output_type": "execute_result"
    }
   ],
   "source": [
    "healthy_18"
   ]
  },
  {
   "cell_type": "code",
   "execution_count": 108,
   "id": "5a8954ce",
   "metadata": {},
   "outputs": [
    {
     "name": "stdout",
     "output_type": "stream",
     "text": [
      "There are no duplicate seq in the DataFrame.\n"
     ]
    }
   ],
   "source": [
    "# Assuming df_antibiotics_and_conjugate is your DataFrame\n",
    "# You can replace it with the name of your actual DataFrame\n",
    "\n",
    "# Check for duplicates in the \"ids\" column\n",
    "duplicates = healthy_18[healthy_18.duplicated('seq')]\n",
    "\n",
    "# If there are duplicates, duplicates DataFrame will contain those rows\n",
    "# If duplicates is empty, it means there are no duplicate ids\n",
    "if not duplicates.empty:\n",
    "    print(\"There are duplicate seq in the DataFrame:\")\n",
    "    print(duplicates)\n",
    "else:\n",
    "    print(\"There are no duplicate seq in the DataFrame.\")\n"
   ]
  },
  {
   "cell_type": "code",
   "execution_count": 109,
   "id": "31a2adb6",
   "metadata": {},
   "outputs": [],
   "source": [
    "healthy_ids = healthy_18['ids'].tolist()\n",
    "healthy_list = healthy_18['seq'].tolist()\n"
   ]
  },
  {
   "cell_type": "code",
   "execution_count": 110,
   "id": "e143e5ae",
   "metadata": {},
   "outputs": [
    {
     "data": {
      "text/plain": [
       "9216"
      ]
     },
     "execution_count": 110,
     "metadata": {},
     "output_type": "execute_result"
    }
   ],
   "source": [
    "len(healthy_ids)\n"
   ]
  },
  {
   "cell_type": "code",
   "execution_count": 111,
   "id": "671ccdbe",
   "metadata": {},
   "outputs": [
    {
     "data": {
      "text/plain": [
       "9216"
      ]
     },
     "execution_count": 111,
     "metadata": {},
     "output_type": "execute_result"
    }
   ],
   "source": [
    "len(healthy_list)"
   ]
  },
  {
   "cell_type": "code",
   "execution_count": 112,
   "id": "0159c988",
   "metadata": {},
   "outputs": [
    {
     "name": "stdout",
     "output_type": "stream",
     "text": [
      "Time to generate images: 1062.195752620697 seconds\n"
     ]
    }
   ],
   "source": [
    "import time\n",
    "start_time = time.time()\n",
    "seq_num=[]\n",
    "\n",
    "\n",
    "all_seq = healthy_list\n",
    "all_seq = [replace_ambiguous_bases(seq) for seq in all_seq]\n",
    "for sequence in all_seq:\n",
    "        seq_cgr = easy_cgr(sequence)\n",
    "        seq_num.append(seq_cgr)\n",
    "sequences = seq_num\n",
    "class_labels = healthy_ids \n",
    "output_directory = \"healthy_18_res_7\"\n",
    "kmeres=7\n",
    "\n",
    "if not os.path.exists(output_directory):\n",
    "    os.makedirs(output_directory)\n",
    "\n",
    "# Call the function to generate and save CGR images\n",
    "generate_and_save_cgr_images_label(sequences, class_labels, output_directory,kmeres)\n",
    "\n",
    "end_time = time.time()\n",
    "elapsed_time = end_time - start_time\n",
    "\n",
    "# Print the time taken\n",
    "print(f\"Time to generate images: {elapsed_time} seconds\")"
   ]
  },
  {
   "cell_type": "code",
   "execution_count": null,
   "id": "6c046daa",
   "metadata": {},
   "outputs": [],
   "source": []
  },
  {
   "cell_type": "code",
   "execution_count": null,
   "id": "21d6eb9f",
   "metadata": {},
   "outputs": [],
   "source": []
  }
 ],
 "metadata": {
  "kernelspec": {
   "display_name": "Python 3 (ipykernel)",
   "language": "python",
   "name": "python3"
  },
  "language_info": {
   "codemirror_mode": {
    "name": "ipython",
    "version": 3
   },
   "file_extension": ".py",
   "mimetype": "text/x-python",
   "name": "python",
   "nbconvert_exporter": "python",
   "pygments_lexer": "ipython3",
   "version": "3.9.13"
  }
 },
 "nbformat": 4,
 "nbformat_minor": 5
}
