{
 "cells": [
  {
   "cell_type": "code",
   "execution_count": 1,
   "id": "fc000ca5",
   "metadata": {},
   "outputs": [
    {
     "name": "stderr",
     "output_type": "stream",
     "text": [
      "C:\\Users\\Javi\\anaconda3\\lib\\site-packages\\scipy\\__init__.py:155: UserWarning: A NumPy version >=1.18.5 and <1.25.0 is required for this version of SciPy (detected version 1.26.1\n",
      "  warnings.warn(f\"A NumPy version >={np_minversion} and <{np_maxversion}\"\n"
     ]
    }
   ],
   "source": [
    "import pandas as pd\n",
    "import os\n",
    "import time\n",
    "import numpy as np\n",
    "import tensorflow as tf\n",
    "from tensorflow import keras\n",
    "from tensorflow.keras import layers\n",
    "from tensorflow.keras.preprocessing.image import load_img, img_to_array\n",
    "from tensorflow.keras.models import load_model\n",
    "from tensorflow.keras.applications import ResNet50\n",
    "from tensorflow.keras.models import Sequential\n",
    "from tensorflow.keras.layers import Dense, Flatten\n",
    "from tensorflow.keras.utils import to_categorical\n",
    "from tensorflow.keras.callbacks import EarlyStopping\n",
    "from sklearn.model_selection import train_test_split\n",
    "import time\n",
    "from sklearn.model_selection import train_test_split\n",
    "from sklearn.metrics import confusion_matrix, accuracy_score, precision_score, recall_score, f1_score, roc_auc_score, roc_curve, auc\n"
   ]
  },
  {
   "cell_type": "code",
   "execution_count": 2,
   "id": "99753c9c",
   "metadata": {},
   "outputs": [],
   "source": [
    "import random\n",
    "\n",
    "def replace_ambiguous_bases(sequence):\n",
    "    def resolve_ambiguity(code):\n",
    "        if code == 'R':\n",
    "            return random.choice(['A', 'G'])\n",
    "        elif code == 'Y':\n",
    "            return random.choice(['C', 'T'])\n",
    "        elif code == 'S':\n",
    "            return random.choice(['G', 'C'])\n",
    "        elif code == 'W':\n",
    "            return random.choice(['A', 'T'])\n",
    "        elif code == 'K':\n",
    "            return random.choice(['G', 'T'])\n",
    "        elif code == 'M':\n",
    "            return random.choice(['A', 'C'])\n",
    "        elif code == 'B':\n",
    "            return random.choice(['C', 'G', 'T'])\n",
    "        elif code == 'D':\n",
    "            return random.choice(['A', 'G', 'T'])\n",
    "        elif code == 'H':\n",
    "            return random.choice(['A', 'C', 'T'])\n",
    "        elif code == 'V':\n",
    "            return random.choice(['A', 'C', 'G'])\n",
    "        elif code == 'N':\n",
    "            return random.choice(['A', 'T', 'C', 'G'])\n",
    "        else:\n",
    "            return code  # If the code is not an ambiguity code, return the same code\n",
    "    \n",
    "    resolved_sequence = ''.join(resolve_ambiguity(base) for base in sequence)\n",
    "    return resolved_sequence"
   ]
  },
  {
   "cell_type": "code",
   "execution_count": 3,
   "id": "c3e28e46",
   "metadata": {},
   "outputs": [],
   "source": [
    "def reverse_complement(sequence):\n",
    "    complement = {'A': 'T', 'T': 'A', 'C': 'G', 'G': 'C'}\n",
    "    reverse_seq = sequence[::-1]  # Reverse the sequence\n",
    "    reverse_complement_seq = ''.join(complement[base] for base in reverse_seq)\n",
    "    return reverse_complement_seq\n",
    "\n",
    "def reverse_complement_list(sequence_list):\n",
    "    reverse_complements = []\n",
    "    for seq in sequence_list:\n",
    "        reverse_complements.append(reverse_complement(seq))\n",
    "    return reverse_complements"
   ]
  },
  {
   "cell_type": "code",
   "execution_count": 4,
   "id": "84052336",
   "metadata": {},
   "outputs": [],
   "source": [
    "#This function gets the cgr for the sequences\n",
    "def easy_cgr(dna_sequence):\n",
    "  nucleotide_map = {\n",
    "    \"A\": (1, 1),\n",
    "    \"T\": (-1, -1),\n",
    "    \"C\": (1, -1),\n",
    "    \"G\": (-1, 1),\n",
    "}\n",
    "  values=[]\n",
    "  point=(0,0)\n",
    "  for nucleotide in dna_sequence:\n",
    "        next_point=nucleotide_map[nucleotide]\n",
    "        point=((point[0]+next_point[0])/2,(point[1]+next_point[1])/2)\n",
    "        values.append(point)\n",
    "  return values"
   ]
  },
  {
   "cell_type": "code",
   "execution_count": 5,
   "id": "5b62f47b",
   "metadata": {},
   "outputs": [],
   "source": [
    "#This function has input:\n",
    "#sequence to plot that is the easy_cgr(sequence)\n",
    "# plot id that is the name\n",
    "# resolution that is the resolution\n",
    "import matplotlib.pyplot as plt\n",
    "import numpy as np\n",
    "from matplotlib.colors import LinearSegmentedColormap\n",
    "\n",
    "def plotting_cgr(sequence_to_plot,id_to_plot,resolution):\n",
    "\n",
    "  # Define the resolution\n",
    "  num_bins = resolution\n",
    "\n",
    "  # Create a grid for the histogram\n",
    "  xedges = np.linspace(-1, 1, num_bins + 1)\n",
    "  yedges = np.linspace(-1, 1, num_bins + 1)\n",
    "\n",
    "  # Create a 2D histogram\n",
    "  hist, _, _ = np.histogram2d([p[0] for p in sequence_to_plot], [p[1] for p in sequence_to_plot], bins=[xedges, yedges])\n",
    "\n",
    "  # Create a custom colormap spanning from light gray to dark gray\n",
    "  colors = [(1, 1, 1), (0.2, 0.2, 0.2)]  # Light gray to dark gray\n",
    "  cmap_name = \"custom_gray\"\n",
    "  custom_cmap = LinearSegmentedColormap.from_list(cmap_name, colors, N=len(sequence_to_plot) + 1)\n",
    "\n",
    "  # Create a figure\n",
    "  plt.figure()\n",
    "\n",
    "  # Display the 2D histogram with the custom colormap\n",
    "  plt.imshow(hist.T, cmap=custom_cmap, extent=[-1, 1, -1, 1], origin='lower', interpolation='nearest', aspect='auto')\n",
    "\n",
    "  # Calculate coordinates for labels\n",
    "  plt.xticks([])\n",
    "  plt.yticks([])\n",
    "  x_margin, y_margin = 0.05, 0.05\n",
    "  label_coordinates = {\n",
    "      \"A\": (1+ x_margin, 1 +y_margin),\n",
    "      \"T\": (-1 - x_margin, -1-y_margin),\n",
    "      \"C\": (1 + x_margin, -1 -y_margin),\n",
    "      \"G\": (-1 - x_margin, 1 + y_margin),\n",
    "  }\n",
    "\n",
    "  # Add labels outside the grid\n",
    "  for letter, (x, y) in label_coordinates.items():\n",
    "      plt.text(x, y, letter, ha='center', va='center', fontsize=15, color='black')\n",
    "  # Show the plot\n",
    "  plt.title('CGR for '+id_to_plot)\n",
    "  plt.grid(False)  # Turn off grid lines\n",
    "  plt.show()"
   ]
  },
  {
   "cell_type": "code",
   "execution_count": 6,
   "id": "e0dffef1",
   "metadata": {},
   "outputs": [],
   "source": [
    "#This function reads the file when usingantibiotic resistance genes\n",
    "import re\n",
    "\n",
    "def read_antibiotic_resistance_genes(fasta_file_path):\n",
    "    # Initialize lists to store sequence data\n",
    "    sequence_ids = []\n",
    "    sequences = []\n",
    "    terms_inside_brackets = []  # Initialize a list to store terms inside brackets\n",
    "\n",
    "    # Define a regular expression pattern to match text inside square brackets\n",
    "    pattern = r'\\[([^]]+)\\]'\n",
    "\n",
    "    # Open the FASTA file for reading\n",
    "    with open(fasta_file_path, \"r\") as file:\n",
    "        for line in file:\n",
    "            line = line.strip()  # Remove leading/trailing whitespace\n",
    "\n",
    "            # Check if the line is an ID line (starts with '>')\n",
    "            if line.startswith(\">\"):\n",
    "                # If it's not the first sequence, process the previous one\n",
    "                if sequence_ids:\n",
    "                    term_inside_brackets = re.search(pattern, sequence_ids[-1]).group(1)\n",
    "                    terms_inside_brackets.append(term_inside_brackets)  # Append to the list\n",
    "                # Extract the sequence ID from the ID line\n",
    "                sequence_ids.append(line[1:])\n",
    "                sequences.append(\"\")  # Reset the sequence\n",
    "            else:\n",
    "                # Append the line to the sequence\n",
    "                sequences[-1] += line\n",
    "\n",
    "    # Process the last sequence in the file\n",
    "    if sequence_ids:\n",
    "        term_inside_brackets = re.search(pattern, sequence_ids[-1]).group(1)\n",
    "        terms_inside_brackets.append(term_inside_brackets)\n",
    "\n",
    "    return sequences, terms_inside_brackets"
   ]
  },
  {
   "cell_type": "code",
   "execution_count": 7,
   "id": "53b0ad99",
   "metadata": {},
   "outputs": [],
   "source": [
    "from Bio import SeqIO\n",
    "\n",
    "def read_fasta_patients(file_path):\n",
    "    sequence_ids = []\n",
    "    sequences = []\n",
    "    \n",
    "    try:\n",
    "        with open(file_path, \"r\") as fasta_file:\n",
    "            fasta_sequences = SeqIO.parse(fasta_file, \"fasta\")\n",
    "            \n",
    "            for seq_record in fasta_sequences:\n",
    "                sequence_ids.append(seq_record.id)\n",
    "                sequences.append(str(seq_record.seq))\n",
    "    except FileNotFoundError:\n",
    "        print(\"File not found. Please provide a valid file path.\")\n",
    "    \n",
    "    return sequences, sequence_ids\n"
   ]
  },
  {
   "cell_type": "code",
   "execution_count": 8,
   "id": "ec94d0bd",
   "metadata": {},
   "outputs": [],
   "source": [
    "#This function has input:\n",
    "#sequence to plot that is the easy_cgr(sequence)\n",
    "# plot id that is the name\n",
    "# resolution that is the resolution\n",
    "import matplotlib.pyplot as plt\n",
    "import numpy as np\n",
    "from matplotlib.colors import LinearSegmentedColormap\n",
    "\n",
    "def plotting_cgr(sequence_to_plot,id_to_plot,resolution):\n",
    "\n",
    "  # Define the resolution\n",
    "  num_bins = resolution\n",
    "\n",
    "  # Create a grid for the histogram\n",
    "  xedges = np.linspace(-1, 1, num_bins + 1)\n",
    "  yedges = np.linspace(-1, 1, num_bins + 1)\n",
    "\n",
    "  # Create a 2D histogram\n",
    "  hist, _, _ = np.histogram2d([p[0] for p in sequence_to_plot], [p[1] for p in sequence_to_plot], bins=[xedges, yedges])\n",
    "\n",
    "  # Create a custom colormap spanning from light gray to dark gray\n",
    "  colors = [(1, 1, 1), (0.2, 0.2, 0.2)]  # Light gray to dark gray\n",
    "  cmap_name = \"custom_gray\"\n",
    "  custom_cmap = LinearSegmentedColormap.from_list(cmap_name, colors, N=len(sequence_to_plot) + 1)\n",
    "\n",
    "  # Create a figure\n",
    "  plt.figure()\n",
    "\n",
    "  # Display the 2D histogram with the custom colormap\n",
    "  plt.imshow(hist.T, cmap=custom_cmap, extent=[-1, 1, -1, 1], origin='lower', interpolation='nearest', aspect='auto')\n",
    "\n",
    "  # Calculate coordinates for labels\n",
    "  plt.xticks([])\n",
    "  plt.yticks([])\n",
    "  x_margin, y_margin = 0.05, 0.05\n",
    "  label_coordinates = {\n",
    "      \"A\": (1+ x_margin, 1 +y_margin),\n",
    "      \"T\": (-1 - x_margin, -1-y_margin),\n",
    "      \"C\": (1 + x_margin, -1 -y_margin),\n",
    "      \"G\": (-1 - x_margin, 1 + y_margin),\n",
    "  }\n",
    "\n",
    "  # Add labels outside the grid\n",
    "  for letter, (x, y) in label_coordinates.items():\n",
    "      plt.text(x, y, letter, ha='center', va='center', fontsize=15, color='black')\n",
    "  # Show the plot\n",
    "  plt.title('CGR for '+id_to_plot)\n",
    "  plt.grid(False)  # Turn off grid lines\n",
    "  plt.show()\n"
   ]
  },
  {
   "cell_type": "code",
   "execution_count": 9,
   "id": "c1d1f0d7",
   "metadata": {},
   "outputs": [],
   "source": [
    "import random\n",
    "\n",
    "def replace_ambiguous_bases(sequence):\n",
    "    def resolve_ambiguity(code):\n",
    "        if code == 'R':\n",
    "            return random.choice(['A', 'G'])\n",
    "        elif code == 'Y':\n",
    "            return random.choice(['C', 'T'])\n",
    "        elif code == 'S':\n",
    "            return random.choice(['G', 'C'])\n",
    "        elif code == 'W':\n",
    "            return random.choice(['A', 'T'])\n",
    "        elif code == 'K':\n",
    "            return random.choice(['G', 'T'])\n",
    "        elif code == 'M':\n",
    "            return random.choice(['A', 'C'])\n",
    "        elif code == 'B':\n",
    "            return random.choice(['C', 'G', 'T'])\n",
    "        elif code == 'D':\n",
    "            return random.choice(['A', 'G', 'T'])\n",
    "        elif code == 'H':\n",
    "            return random.choice(['A', 'C', 'T'])\n",
    "        elif code == 'V':\n",
    "            return random.choice(['A', 'C', 'G'])\n",
    "        elif code == 'N':\n",
    "            return random.choice(['A', 'T', 'C', 'G'])\n",
    "        else:\n",
    "            return code  # If the code is not an ambiguity code, return the same code\n",
    "    \n",
    "    resolved_sequence = ''.join(resolve_ambiguity(base) for base in sequence)\n",
    "    return resolved_sequence"
   ]
  },
  {
   "cell_type": "code",
   "execution_count": 10,
   "id": "d26dbe36",
   "metadata": {},
   "outputs": [],
   "source": [
    "import numpy as np\n",
    "import matplotlib.pyplot as plt\n",
    "from matplotlib.colors import LinearSegmentedColormap\n",
    "\n",
    "def generate_cgr_and_save(sequence_to_plot, kmeres, output_filename):\n",
    "    # Define the resolution\n",
    "    num_bins = 2 ** kmeres\n",
    "\n",
    "    # Create a grid for the histogram\n",
    "    xedges = np.linspace(-1, 1, num_bins + 1)\n",
    "    yedges = np.linspace(-1, 1, num_bins + 1)\n",
    "\n",
    "    # Create a 2D histogram\n",
    "    hist, _, _ = np.histogram2d(\n",
    "        [p[0] for p in sequence_to_plot],\n",
    "        [p[1] for p in sequence_to_plot],\n",
    "        bins=[xedges, yedges]\n",
    "    )\n",
    "\n",
    "    # Create a custom colormap spanning from light gray to dark gray\n",
    "    colors = [(1, 1, 1), (0.2, 0.2, 0.2)]  # Light gray to dark gray\n",
    "    cmap_name = \"custom_gray\"\n",
    "    custom_cmap = LinearSegmentedColormap.from_list(cmap_name, colors, N=len(sequence_to_plot) + 1)\n",
    "\n",
    "    # Create a square figure with the desired size in inches\n",
    "    dpi = 100\n",
    "    fig, ax = plt.subplots(figsize=(84 / dpi, 84 / dpi), dpi=dpi)\n",
    "\n",
    "    # Plot the histogram using imshow and set the extent to specify the image size\n",
    "    ax.imshow(\n",
    "        hist.T,\n",
    "        cmap=custom_cmap,\n",
    "        origin='lower',\n",
    "        extent=[-1, 1, -1, 1],  # Setting extent to create a 100x100 pixel image\n",
    "        interpolation='nearest'  # Optional: adjust the interpolation method\n",
    "    )\n",
    "\n",
    "    # Turn off the axis\n",
    "    ax.axis('off')\n",
    "\n",
    "    # Save the figure directly as an image using matplotlib.pyplot.savefig\n",
    "    plt.savefig(output_filename, bbox_inches='tight', pad_inches=0, dpi=dpi)\n",
    "    plt.close()\n",
    "\n",
    "# Your remaining function remains unchanged\n",
    "def generate_and_save_cgr_images(sequences, ids, output_dir, kmeres):\n",
    "    # Create the output directory if it doesn't exist\n",
    "    \n",
    "\n",
    "    for i, (sequence, label) in enumerate(zip(sequences, ids)):\n",
    "        # Generate the image filename based on the class label and sequence index\n",
    "        image_filename = os.path.join(output_dir, f\"{i}_{label}.png\")\n",
    "\n",
    "        # Generate and save the CGR image\n",
    "        generate_cgr_and_save(sequence, kmeres, image_filename)"
   ]
  },
  {
   "cell_type": "code",
   "execution_count": 11,
   "id": "0e3947ce",
   "metadata": {},
   "outputs": [],
   "source": [
    "\n",
    "def read_fasta_ARG(file_name):\n",
    "    sequences = []\n",
    "    with open(file_name, 'r') as file:\n",
    "        sequence_id = ''\n",
    "        sequence = ''\n",
    "        for line in file:\n",
    "            line = line.strip()\n",
    "            if line.startswith('>'):\n",
    "                if sequence_id != '':\n",
    "                    sequences.append(sequence_id.split('|') + [sequence])\n",
    "                sequence_id = line[1:]\n",
    "                sequence = ''\n",
    "            else:\n",
    "                sequence += line\n",
    "        if sequence_id != '':\n",
    "            sequences.append(sequence_id.split('|') + [sequence])\n",
    "    return sequences"
   ]
  },
  {
   "cell_type": "markdown",
   "id": "a0b20378",
   "metadata": {},
   "source": [
    "### Load images"
   ]
  },
  {
   "cell_type": "markdown",
   "id": "1a7c939a",
   "metadata": {},
   "source": [
    "### PATIENTS"
   ]
  },
  {
   "cell_type": "code",
   "execution_count": 53,
   "id": "e0aabdd6",
   "metadata": {},
   "outputs": [
    {
     "name": "stdout",
     "output_type": "stream",
     "text": [
      "Number of image files in the directory for label 0: 10981\n"
     ]
    }
   ],
   "source": [
    "import os\n",
    "from tensorflow.keras.preprocessing.image import load_img, img_to_array\n",
    "\n",
    "# Define the paths to your dataset directories\n",
    "dataset_dir_0 = \"patient_1\"\n",
    "\n",
    "# Initialize empty lists to store images and labels\n",
    "# Define image dimensions\n",
    "img_height, img_width = 100, 100\n",
    "images_patient_1 = []\n",
    "ids_patient_1 = []  # List to store image labels\n",
    "# Load and preprocess images from directory 0 (label 0)\n",
    "image_files = os.listdir(dataset_dir_0)\n",
    "print(\"Number of image files in the directory for label 0:\", len(image_files))\n",
    "\n",
    "for image_file in os.listdir(dataset_dir_0):\n",
    "    # Load and preprocess the image\n",
    "    img = load_img(os.path.join(dataset_dir_0, image_file), target_size=(img_height, img_width))\n",
    "    img_array = img_to_array(img) / 255.0  # Normalize pixel values\n",
    "    # Append the image to the images list\n",
    "    images_patient_1.append(img_array)\n",
    "    # Extract the label from the image filename\n",
    "    ids_patient_1.append(0)\n",
    "\n",
    "# Now labels_patient_1 contains the labels for the images"
   ]
  },
  {
   "cell_type": "code",
   "execution_count": 54,
   "id": "0b440f56",
   "metadata": {},
   "outputs": [
    {
     "name": "stdout",
     "output_type": "stream",
     "text": [
      "these lenghts should be the same  10981 ,  10981\n"
     ]
    }
   ],
   "source": [
    "print( \"these lenghts should be the same \",len(images_patient_1),\", \",len(ids_patient_1))"
   ]
  },
  {
   "cell_type": "code",
   "execution_count": null,
   "id": "750f0e4b",
   "metadata": {},
   "outputs": [],
   "source": []
  },
  {
   "cell_type": "code",
   "execution_count": 12,
   "id": "4f62a714",
   "metadata": {},
   "outputs": [
    {
     "name": "stdout",
     "output_type": "stream",
     "text": [
      "Number of image files in the directory for label 0: 15000\n"
     ]
    }
   ],
   "source": [
    "import os\n",
    "from tensorflow.keras.preprocessing.image import load_img, img_to_array\n",
    "\n",
    "# Define the paths to your dataset directories\n",
    "dataset_dir_0 = \"patient_2\"\n",
    "\n",
    "# Initialize empty lists to store images and labels\n",
    "# Define image dimensions\n",
    "img_height, img_width = 100, 100\n",
    "images_patient_2 = []\n",
    "ids_patient_2 = []  # List to store image labels\n",
    "# Load and preprocess images from directory 0 (label 0)\n",
    "image_files = os.listdir(dataset_dir_0)\n",
    "print(\"Number of image files in the directory for label 0:\", len(image_files))\n",
    "\n",
    "for image_file in os.listdir(dataset_dir_0):\n",
    "    # Load and preprocess the image\n",
    "    img = load_img(os.path.join(dataset_dir_0, image_file), target_size=(img_height, img_width))\n",
    "    img_array = img_to_array(img) / 255.0  # Normalize pixel values\n",
    "    # Append the image to the images list\n",
    "    images_patient_2.append(img_array)\n",
    "    # Extract the label from the image filename\n",
    "    ids_patient_2.append(0)\n",
    "\n",
    "# Now labels_patient_1 contains the labels for the images"
   ]
  },
  {
   "cell_type": "code",
   "execution_count": 13,
   "id": "9105ff94",
   "metadata": {},
   "outputs": [
    {
     "name": "stdout",
     "output_type": "stream",
     "text": [
      "these lenghts should be the same  15000 ,  15000\n"
     ]
    }
   ],
   "source": [
    "print( \"these lenghts should be the same \",len(images_patient_2),\", \",len(ids_patient_2))"
   ]
  },
  {
   "cell_type": "code",
   "execution_count": null,
   "id": "18050c76",
   "metadata": {},
   "outputs": [],
   "source": []
  },
  {
   "cell_type": "code",
   "execution_count": 57,
   "id": "595800d7",
   "metadata": {},
   "outputs": [
    {
     "name": "stdout",
     "output_type": "stream",
     "text": [
      "Number of image files in the directory for label 0: 9172\n"
     ]
    }
   ],
   "source": [
    "import os\n",
    "from tensorflow.keras.preprocessing.image import load_img, img_to_array\n",
    "\n",
    "# Define the paths to your dataset directories\n",
    "dataset_dir_0 = \"patient_4\"\n",
    "\n",
    "# Initialize empty lists to store images and labels\n",
    "# Define image dimensions\n",
    "img_height, img_width = 100, 100\n",
    "images_patient_4 = []\n",
    "ids_patient_4 = []  # List to store image labels\n",
    "# Load and preprocess images from directory 0 (label 0)\n",
    "image_files = os.listdir(dataset_dir_0)\n",
    "print(\"Number of image files in the directory for label 0:\", len(image_files))\n",
    "\n",
    "for image_file in os.listdir(dataset_dir_0):\n",
    "    # Load and preprocess the image\n",
    "    img = load_img(os.path.join(dataset_dir_0, image_file), target_size=(img_height, img_width))\n",
    "    img_array = img_to_array(img) / 255.0  # Normalize pixel values\n",
    "    # Append the image to the images list\n",
    "    images_patient_4.append(img_array)\n",
    "    # Extract the label from the image filename\n",
    "    ids_patient_4.append(0)\n",
    "\n",
    "# Now labels_patient_1 contains the labels for the images"
   ]
  },
  {
   "cell_type": "code",
   "execution_count": 58,
   "id": "e1eece94",
   "metadata": {},
   "outputs": [
    {
     "name": "stdout",
     "output_type": "stream",
     "text": [
      "these lenghts should be the same  9172 ,  9172\n"
     ]
    }
   ],
   "source": [
    "print( \"these lenghts should be the same \",len(images_patient_4),\", \",len(ids_patient_4))"
   ]
  },
  {
   "cell_type": "code",
   "execution_count": null,
   "id": "7efe53a8",
   "metadata": {},
   "outputs": [],
   "source": []
  },
  {
   "cell_type": "code",
   "execution_count": 59,
   "id": "bbb1f5d1",
   "metadata": {},
   "outputs": [
    {
     "name": "stdout",
     "output_type": "stream",
     "text": [
      "Number of image files in the directory for label 0: 15000\n"
     ]
    }
   ],
   "source": [
    "import os\n",
    "from tensorflow.keras.preprocessing.image import load_img, img_to_array\n",
    "\n",
    "# Define the paths to your dataset directories\n",
    "dataset_dir_0 = \"patient_5\"\n",
    "\n",
    "# Initialize empty lists to store images and labels\n",
    "# Define image dimensions\n",
    "img_height, img_width = 100, 100\n",
    "images_patient_5 = []\n",
    "ids_patient_5 = []  # List to store image labels\n",
    "# Load and preprocess images from directory 0 (label 0)\n",
    "image_files = os.listdir(dataset_dir_0)\n",
    "print(\"Number of image files in the directory for label 0:\", len(image_files))\n",
    "\n",
    "for image_file in os.listdir(dataset_dir_0):\n",
    "    # Load and preprocess the image\n",
    "    img = load_img(os.path.join(dataset_dir_0, image_file), target_size=(img_height, img_width))\n",
    "    img_array = img_to_array(img) / 255.0  # Normalize pixel values\n",
    "    # Append the image to the images list\n",
    "    images_patient_5.append(img_array)\n",
    "    # Extract the label from the image filename\n",
    "    ids_patient_5.append(0)\n",
    "\n",
    "# Now labels_patient_1 contains the labels for the images"
   ]
  },
  {
   "cell_type": "code",
   "execution_count": 60,
   "id": "dd9bd3a0",
   "metadata": {},
   "outputs": [
    {
     "name": "stdout",
     "output_type": "stream",
     "text": [
      "these lenghts should be the same  15000 ,  15000\n"
     ]
    }
   ],
   "source": [
    "print( \"these lenghts should be the same \",len(images_patient_5),\", \",len(ids_patient_5))"
   ]
  },
  {
   "cell_type": "code",
   "execution_count": null,
   "id": "a4bd5bbf",
   "metadata": {},
   "outputs": [],
   "source": []
  },
  {
   "cell_type": "code",
   "execution_count": 14,
   "id": "f2ba1dbb",
   "metadata": {},
   "outputs": [
    {
     "name": "stdout",
     "output_type": "stream",
     "text": [
      "Number of image files in the directory for label 0: 10267\n"
     ]
    }
   ],
   "source": [
    "import os\n",
    "from tensorflow.keras.preprocessing.image import load_img, img_to_array\n",
    "\n",
    "# Define the paths to your dataset directories\n",
    "dataset_dir_0 = \"patient_6\"\n",
    "\n",
    "# Initialize empty lists to store images and labels\n",
    "# Define image dimensions\n",
    "img_height, img_width = 100, 100\n",
    "images_patient_6 = []\n",
    "ids_patient_6 = []  # List to store image labels\n",
    "# Load and preprocess images from directory 0 (label 0)\n",
    "image_files = os.listdir(dataset_dir_0)\n",
    "print(\"Number of image files in the directory for label 0:\", len(image_files))\n",
    "\n",
    "for image_file in os.listdir(dataset_dir_0):\n",
    "    # Load and preprocess the image\n",
    "    img = load_img(os.path.join(dataset_dir_0, image_file), target_size=(img_height, img_width))\n",
    "    img_array = img_to_array(img) / 255.0  # Normalize pixel values\n",
    "    # Append the image to the images list\n",
    "    images_patient_6.append(img_array)\n",
    "    # Extract the label from the image filename\n",
    "    ids_patient_6.append(0)\n",
    "\n",
    "# Now labels_patient_1 contains the labels for the images"
   ]
  },
  {
   "cell_type": "code",
   "execution_count": 15,
   "id": "9b7d3302",
   "metadata": {},
   "outputs": [
    {
     "name": "stdout",
     "output_type": "stream",
     "text": [
      "these lenghts should be the same  10267 ,  10267\n"
     ]
    }
   ],
   "source": [
    "print( \"these lenghts should be the same \",len(images_patient_6),\", \",len(ids_patient_6))"
   ]
  },
  {
   "cell_type": "markdown",
   "id": "16615b80",
   "metadata": {},
   "source": [
    "# HEALTHY"
   ]
  },
  {
   "cell_type": "code",
   "execution_count": 63,
   "id": "4afe5129",
   "metadata": {},
   "outputs": [
    {
     "name": "stdout",
     "output_type": "stream",
     "text": [
      "Number of image files in the directory for label 0: 10941\n"
     ]
    }
   ],
   "source": [
    "\n",
    "# Define the paths to your dataset directories\n",
    "dataset_dir_0 = \"healthy_14\"\n",
    "\n",
    "# Initialize empty lists to store images and labels\n",
    "# Define image dimensions\n",
    "img_height, img_width = 100, 100\n",
    "images_healthy_14 = []\n",
    "ids_healthy_14 = []  # List to store image names\n",
    "# Load and preprocess images from directory 0 (label 0)\n",
    "image_files = os.listdir(dataset_dir_0)\n",
    "print(\"Number of image files in the directory for label 0:\", len(image_files))\n",
    "\n",
    "for image_file in os.listdir(dataset_dir_0):\n",
    "    # Load and preprocess the image\n",
    "    img = load_img(os.path.join(dataset_dir_0, image_file), target_size=(img_height, img_width))\n",
    "    img_array = img_to_array(img) / 255.0  # Normalize pixel values\n",
    "    # Append the image to the images list\n",
    "    images_healthy_14.append(img_array)\n",
    "    # Extract the label from the image filename\n",
    "    ids_healthy_14.append(0)\n",
    "\n",
    "    # Assuming you also have a list called labels, you need to define it somewhere in your code\n",
    "    # labels.append(0)\n",
    "\n",
    "# Now ids_patient_1 contains the names of the images"
   ]
  },
  {
   "cell_type": "code",
   "execution_count": 64,
   "id": "f2f85ea6",
   "metadata": {},
   "outputs": [
    {
     "name": "stdout",
     "output_type": "stream",
     "text": [
      "these lenghts should be the same  10941 ,  10941\n"
     ]
    }
   ],
   "source": [
    "print( \"these lenghts should be the same \",len(images_healthy_14),\", \",len(ids_healthy_14))"
   ]
  },
  {
   "cell_type": "code",
   "execution_count": null,
   "id": "902af47b",
   "metadata": {},
   "outputs": [],
   "source": []
  },
  {
   "cell_type": "code",
   "execution_count": 65,
   "id": "1ab3a88f",
   "metadata": {},
   "outputs": [
    {
     "name": "stdout",
     "output_type": "stream",
     "text": [
      "Number of image files in the directory for label 0: 10741\n"
     ]
    }
   ],
   "source": [
    "\n",
    "# Define the paths to your dataset directories\n",
    "dataset_dir_0 = \"healthy_15\"\n",
    "\n",
    "# Initialize empty lists to store images and labels\n",
    "# Define image dimensions\n",
    "img_height, img_width = 100, 100\n",
    "images_healthy_15 = []\n",
    "ids_healthy_15 = []  # List to store image names\n",
    "# Load and preprocess images from directory 0 (label 0)\n",
    "image_files = os.listdir(dataset_dir_0)\n",
    "print(\"Number of image files in the directory for label 0:\", len(image_files))\n",
    "\n",
    "for image_file in os.listdir(dataset_dir_0):\n",
    "    # Load and preprocess the image\n",
    "    img = load_img(os.path.join(dataset_dir_0, image_file), target_size=(img_height, img_width))\n",
    "    img_array = img_to_array(img) / 255.0  # Normalize pixel values\n",
    "    # Append the image to the images list\n",
    "    images_healthy_15.append(img_array)\n",
    "    # Extract the label from the image filename\n",
    "    ids_healthy_15.append(0)\n",
    "\n",
    "    # Assuming you also have a list called labels, you need to define it somewhere in your code\n",
    "    # labels.append(0)\n",
    "\n",
    "# Now ids_patient_1 contains the names of the images"
   ]
  },
  {
   "cell_type": "code",
   "execution_count": 66,
   "id": "2a0fc48b",
   "metadata": {},
   "outputs": [
    {
     "name": "stdout",
     "output_type": "stream",
     "text": [
      "these lenghts should be the same  10741 ,  10741\n"
     ]
    }
   ],
   "source": [
    "print( \"these lenghts should be the same \",len(images_healthy_15),\", \",len(ids_healthy_15))"
   ]
  },
  {
   "cell_type": "code",
   "execution_count": null,
   "id": "f5153ea9",
   "metadata": {},
   "outputs": [],
   "source": []
  },
  {
   "cell_type": "code",
   "execution_count": 16,
   "id": "10fbf51c",
   "metadata": {},
   "outputs": [
    {
     "name": "stdout",
     "output_type": "stream",
     "text": [
      "Number of image files in the directory for label 0: 4965\n"
     ]
    }
   ],
   "source": [
    "\n",
    "# Define the paths to your dataset directories\n",
    "dataset_dir_0 = \"healthy_16\"\n",
    "\n",
    "# Initialize empty lists to store images and labels\n",
    "# Define image dimensions\n",
    "img_height, img_width = 100, 100\n",
    "images_healthy_16 = []\n",
    "ids_healthy_16 = []  # List to store image names\n",
    "# Load and preprocess images from directory 0 (label 0)\n",
    "image_files = os.listdir(dataset_dir_0)\n",
    "print(\"Number of image files in the directory for label 0:\", len(image_files))\n",
    "\n",
    "for image_file in os.listdir(dataset_dir_0):\n",
    "    # Load and preprocess the image\n",
    "    img = load_img(os.path.join(dataset_dir_0, image_file), target_size=(img_height, img_width))\n",
    "    img_array = img_to_array(img) / 255.0  # Normalize pixel values\n",
    "    # Append the image to the images list\n",
    "    images_healthy_16.append(img_array)\n",
    "    # Extract the label from the image filename\n",
    "    ids_healthy_16.append(0)\n",
    "\n",
    "    # Assuming you also have a list called labels, you need to define it somewhere in your code\n",
    "    # labels.append(0)\n",
    "\n",
    "# Now ids_patient_1 contains the names of the images"
   ]
  },
  {
   "cell_type": "code",
   "execution_count": 17,
   "id": "4b3030ac",
   "metadata": {},
   "outputs": [
    {
     "name": "stdout",
     "output_type": "stream",
     "text": [
      "these lenghts should be the same  4965 ,  4965\n"
     ]
    }
   ],
   "source": [
    "print( \"these lenghts should be the same \",len(images_healthy_16),\", \",len(ids_healthy_16))"
   ]
  },
  {
   "cell_type": "code",
   "execution_count": null,
   "id": "a3592320",
   "metadata": {},
   "outputs": [],
   "source": []
  },
  {
   "cell_type": "code",
   "execution_count": 69,
   "id": "9b2439f9",
   "metadata": {},
   "outputs": [
    {
     "name": "stdout",
     "output_type": "stream",
     "text": [
      "Number of image files in the directory for label 0: 6671\n"
     ]
    }
   ],
   "source": [
    "\n",
    "# Define the paths to your dataset directories\n",
    "dataset_dir_0 = \"healthy_17\"\n",
    "\n",
    "# Initialize empty lists to store images and labels\n",
    "# Define image dimensions\n",
    "img_height, img_width = 100, 100\n",
    "images_healthy_17 = []\n",
    "ids_healthy_17 = []  # List to store image names\n",
    "# Load and preprocess images from directory 0 (label 0)\n",
    "image_files = os.listdir(dataset_dir_0)\n",
    "print(\"Number of image files in the directory for label 0:\", len(image_files))\n",
    "\n",
    "for image_file in os.listdir(dataset_dir_0):\n",
    "    # Load and preprocess the image\n",
    "    img = load_img(os.path.join(dataset_dir_0, image_file), target_size=(img_height, img_width))\n",
    "    img_array = img_to_array(img) / 255.0  # Normalize pixel values\n",
    "    # Append the image to the images list\n",
    "    images_healthy_17.append(img_array)\n",
    "    # Extract the label from the image filename\n",
    "    ids_healthy_17.append(0)\n",
    "\n",
    "    # Assuming you also have a list called labels, you need to define it somewhere in your code\n",
    "    # labels.append(0)\n",
    "\n",
    "# Now ids_patient_1 contains the names of the images"
   ]
  },
  {
   "cell_type": "code",
   "execution_count": 70,
   "id": "318b977d",
   "metadata": {},
   "outputs": [
    {
     "name": "stdout",
     "output_type": "stream",
     "text": [
      "these lenghts should be the same  6671 ,  6671\n"
     ]
    }
   ],
   "source": [
    "print( \"these lenghts should be the same \",len(images_healthy_17),\", \",len(ids_healthy_17))"
   ]
  },
  {
   "cell_type": "code",
   "execution_count": null,
   "id": "ee674d99",
   "metadata": {},
   "outputs": [],
   "source": []
  },
  {
   "cell_type": "code",
   "execution_count": 18,
   "id": "c8321234",
   "metadata": {},
   "outputs": [
    {
     "name": "stdout",
     "output_type": "stream",
     "text": [
      "Number of image files in the directory for label 0: 9216\n"
     ]
    }
   ],
   "source": [
    "\n",
    "# Define the paths to your dataset directories\n",
    "dataset_dir_0 = \"healthy_18\"\n",
    "\n",
    "# Initialize empty lists to store images and labels\n",
    "# Define image dimensions\n",
    "img_height, img_width = 100, 100\n",
    "images_healthy_18 = []\n",
    "ids_healthy_18 = []  # List to store image names\n",
    "# Load and preprocess images from directory 0 (label 0)\n",
    "image_files = os.listdir(dataset_dir_0)\n",
    "print(\"Number of image files in the directory for label 0:\", len(image_files))\n",
    "\n",
    "for image_file in os.listdir(dataset_dir_0):\n",
    "    # Load and preprocess the image\n",
    "    img = load_img(os.path.join(dataset_dir_0, image_file), target_size=(img_height, img_width))\n",
    "    img_array = img_to_array(img) / 255.0  # Normalize pixel values\n",
    "    # Append the image to the images list\n",
    "    images_healthy_18.append(img_array)\n",
    "    # Extract the label from the image filename\n",
    "    ids_healthy_18.append(0)\n",
    "\n",
    "    # Assuming you also have a list called labels, you need to define it somewhere in your code\n",
    "    # labels.append(0)\n",
    "\n",
    "# Now ids_patient_1 contains the names of the images"
   ]
  },
  {
   "cell_type": "code",
   "execution_count": 19,
   "id": "ccb96e67",
   "metadata": {},
   "outputs": [
    {
     "name": "stdout",
     "output_type": "stream",
     "text": [
      "these lenghts should be the same  9216 ,  9216\n"
     ]
    }
   ],
   "source": [
    "print( \"these lenghts should be the same \",len(images_healthy_18),\", \",len(ids_healthy_18))"
   ]
  },
  {
   "cell_type": "markdown",
   "id": "19e1705e",
   "metadata": {},
   "source": [
    "### Get datasets together"
   ]
  },
  {
   "cell_type": "code",
   "execution_count": 73,
   "id": "5239b55c",
   "metadata": {},
   "outputs": [
    {
     "name": "stdout",
     "output_type": "stream",
     "text": [
      "Length of images_healthy_18: 10941\n",
      "Length of images_healthy_16: 10741\n",
      "Length of images_patient_6: 9172\n",
      "Length of images_patient_2: 15000\n",
      "Length of images_combined: 45854\n",
      "Length of ids_combined: 45854\n"
     ]
    }
   ],
   "source": [
    "print(\"Length of images_healthy_18:\", len(images_healthy_14))\n",
    "print(\"Length of images_healthy_16:\", len(images_healthy_15))\n",
    "print(\"Length of images_patient_6:\", len(images_patient_4))\n",
    "print(\"Length of images_patient_2:\", len(images_patient_5))\n",
    "\n",
    "# Combine the images and IDs from different directories\n",
    "images_data_1 = images_healthy_14 + images_healthy_15 + images_patient_4 + images_patient_5\n",
    "labels_data_1 = ids_healthy_14 + ids_healthy_15 + ids_patient_4 + ids_patient_5\n",
    "\n",
    "# Print lengths after combining\n",
    "print(\"Length of images_combined:\", len(images_data_1))\n",
    "print(\"Length of ids_combined:\", len(labels_data_1))"
   ]
  },
  {
   "cell_type": "code",
   "execution_count": 74,
   "id": "71ab8d29",
   "metadata": {},
   "outputs": [
    {
     "name": "stdout",
     "output_type": "stream",
     "text": [
      "Length of images_healthy_18: 6671\n",
      "Length of images_healthy_16: 4965\n",
      "Length of images_patient_6: 10267\n",
      "Length of images_patient_2: 10981\n",
      "Length of images_combined: 32884\n",
      "Length of ids_combined: 32884\n"
     ]
    }
   ],
   "source": [
    "print(\"Length of images_healthy_18:\", len(images_healthy_17))\n",
    "print(\"Length of images_healthy_16:\", len(images_healthy_16))\n",
    "print(\"Length of images_patient_6:\", len(images_patient_6))\n",
    "print(\"Length of images_patient_2:\", len(images_patient_1))\n",
    "\n",
    "# Combine the images and IDs from different directories\n",
    "images_data_2 = images_healthy_16 + images_healthy_17 + images_patient_6 + images_patient_1\n",
    "labels_data_2 = ids_healthy_16 + ids_healthy_17 + ids_patient_6 + ids_patient_1\n",
    "\n",
    "# Print lengths after combining\n",
    "print(\"Length of images_combined:\", len(images_data_2))\n",
    "print(\"Length of ids_combined:\", len(labels_data_2))"
   ]
  },
  {
   "cell_type": "code",
   "execution_count": 20,
   "id": "4ad72bf3",
   "metadata": {},
   "outputs": [
    {
     "name": "stdout",
     "output_type": "stream",
     "text": [
      "Length of images_healthy_18: 9216\n",
      "Length of images_healthy_16: 4965\n",
      "Length of images_patient_6: 10267\n",
      "Length of images_patient_2: 15000\n",
      "Length of images_combined: 39448\n",
      "Length of ids_combined: 39448\n"
     ]
    }
   ],
   "source": [
    "print(\"Length of images_healthy_18:\", len(images_healthy_18))\n",
    "print(\"Length of images_healthy_16:\", len(images_healthy_16))\n",
    "print(\"Length of images_patient_6:\", len(images_patient_6))\n",
    "print(\"Length of images_patient_2:\", len(images_patient_2))\n",
    "\n",
    "# Combine the images and IDs from different directories\n",
    "images_data_3 = images_healthy_18 + images_healthy_16 + images_patient_2 + images_patient_6\n",
    "labels_data_3 = ids_healthy_18 + ids_healthy_16 + ids_patient_2 + ids_patient_6\n",
    "\n",
    "# Print lengths after combining\n",
    "print(\"Length of images_combined:\", len(images_data_3))\n",
    "print(\"Length of ids_combined:\", len(labels_data_3))"
   ]
  },
  {
   "cell_type": "markdown",
   "id": "bdf6d577",
   "metadata": {},
   "source": [
    "### LOAD ARG"
   ]
  },
  {
   "cell_type": "markdown",
   "id": "1629e41b",
   "metadata": {},
   "source": [
    "### PATIENT"
   ]
  },
  {
   "cell_type": "code",
   "execution_count": 76,
   "id": "b64caffa",
   "metadata": {},
   "outputs": [],
   "source": [
    "dataset_dir_1 = \"ARG_and_inv_conjugates_images_synthetic_patient\""
   ]
  },
  {
   "cell_type": "code",
   "execution_count": 77,
   "id": "4f0923de",
   "metadata": {},
   "outputs": [],
   "source": [
    "\n",
    "\n",
    "# Initialize empty lists to store images and labels\n",
    "# Define image dimensions\n",
    "img_height, img_width = 100, 100\n",
    "images_ARG_patient = []\n",
    "labels_ARG_patient = []"
   ]
  },
  {
   "cell_type": "code",
   "execution_count": 78,
   "id": "e9ff367a",
   "metadata": {
    "scrolled": false
   },
   "outputs": [
    {
     "name": "stdout",
     "output_type": "stream",
     "text": [
      "Skipping non-image file: k127_102740_2_H-NS_[Escherichia_coli_O157\n",
      "Skipping non-image file: k127_131331_2_LEN-10_[Klebsiella_variicola_CAG\n",
      "Skipping non-image file: k127_157721_2_mdtG_[Escherichia_coli_O139\n",
      "Skipping non-image file: k127_184629_2_cpxA_[Escherichia_coli_O157\n",
      "Skipping non-image file: k127_191508_2_Ecol_mipA_[Escherichia_coli_O157\n",
      "Skipping non-image file: k127_213022_2_CARB-21_[Vibrio_parahaemolyticus_O1\n",
      "Skipping non-image file: k127_214740_2_gadW_[Escherichia_coli_O25b\n",
      "Skipping non-image file: k127_218408_2_Ecol_rpoB_RIF_[Escherichia_coli_O157\n",
      "Skipping non-image file: k127_241503_2_rosB_[Yersinia_enterocolitica_(type_O\n",
      "Skipping non-image file: k127_328239_2_Ecol_LamB_[Escherichia_coli_O157\n",
      "Skipping non-image file: k127_75467_2_evgA_[Escherichia_coli_O157\n",
      "Skipping non-image file: k127_75844_2_rosA_[Yersinia_enterocolitica_(type_O\n"
     ]
    }
   ],
   "source": [
    "# Load and preprocess images from directory 1 (label 1)\n",
    "for image_file in os.listdir(dataset_dir_1): \n",
    "    # Check if the file is an image file\n",
    "    if image_file.lower().endswith(('.png', '.jpg', '.jpeg', '.gif', '.bmp')):\n",
    "        # Load and preprocess the image\n",
    "        img = load_img(os.path.join(dataset_dir_1, image_file), target_size=(img_height, img_width))\n",
    "        img_array = img_to_array(img) / 255.0  # Normalize pixel values\n",
    "        # Append the image and class label to the lists\n",
    "        images_ARG_patient.append(img_array)\n",
    "        labels_ARG_patient.append(1)\n",
    "    else:\n",
    "        print(\"Skipping non-image file:\", image_file)\n",
    "\n"
   ]
  },
  {
   "cell_type": "markdown",
   "id": "59cd371c",
   "metadata": {},
   "source": [
    "### HEALTHY"
   ]
  },
  {
   "cell_type": "code",
   "execution_count": 79,
   "id": "c3e2f6bc",
   "metadata": {},
   "outputs": [],
   "source": [
    "dataset_dir_1 = \"ARG_and_inv_conjugates_images_synthetic_healthy\""
   ]
  },
  {
   "cell_type": "code",
   "execution_count": 80,
   "id": "6c0f227d",
   "metadata": {},
   "outputs": [],
   "source": [
    "\n",
    "\n",
    "# Initialize empty lists to store images and labels\n",
    "# Define image dimensions\n",
    "img_height, img_width = 100, 100\n",
    "images_ARG_healthy = []\n",
    "labels_ARG_healthy = []"
   ]
  },
  {
   "cell_type": "code",
   "execution_count": 81,
   "id": "c837ecdb",
   "metadata": {
    "scrolled": false
   },
   "outputs": [
    {
     "name": "stdout",
     "output_type": "stream",
     "text": [
      "Skipping non-image file: k127_109709_20_rosB_[Yersinia_enterocolitica_(type_O\n",
      "Skipping non-image file: k127_116350_20_cpxA_[Escherichia_coli_O157\n",
      "Skipping non-image file: k127_123106_20_LEN-10_[Klebsiella_variicola_CAG\n",
      "Skipping non-image file: k127_14932_20_mdtG_[Escherichia_coli_O139\n",
      "Skipping non-image file: k127_18335_20_H-NS_[Escherichia_coli_O157\n",
      "Skipping non-image file: k127_26281_20_Ecol_mipA_[Escherichia_coli_O157\n",
      "Skipping non-image file: k127_52869_20_Ecol_rpoB_RIF_[Escherichia_coli_O157\n",
      "Skipping non-image file: k127_62274_20_evgA_[Escherichia_coli_O157\n",
      "Skipping non-image file: k127_85824_20_rosA_[Yersinia_enterocolitica_(type_O\n",
      "Skipping non-image file: k127_86092_20_gadW_[Escherichia_coli_O25b\n",
      "Skipping non-image file: k127_8838_20_Ecol_LamB_[Escherichia_coli_O157\n",
      "Skipping non-image file: k127_89106_20_CARB-21_[Vibrio_parahaemolyticus_O1\n"
     ]
    }
   ],
   "source": [
    "# Load and preprocess images from directory 1 (label 1)\n",
    "for image_file in os.listdir(dataset_dir_1): \n",
    "    # Check if the file is an image file\n",
    "    if image_file.lower().endswith(('.png', '.jpg', '.jpeg', '.gif', '.bmp')):\n",
    "        # Load and preprocess the image\n",
    "        img = load_img(os.path.join(dataset_dir_1, image_file), target_size=(img_height, img_width))\n",
    "        img_array = img_to_array(img) / 255.0  # Normalize pixel values\n",
    "        # Append the image and class label to the lists\n",
    "        images_ARG_healthy.append(img_array)\n",
    "        labels_ARG_healthy.append(1)\n",
    "    else:\n",
    "        print(\"Skipping non-image file:\", image_file)\n",
    "\n"
   ]
  },
  {
   "cell_type": "code",
   "execution_count": 82,
   "id": "7fdcdeed",
   "metadata": {},
   "outputs": [],
   "source": [
    "## put them together"
   ]
  },
  {
   "cell_type": "code",
   "execution_count": 83,
   "id": "8928d9f3",
   "metadata": {},
   "outputs": [],
   "source": [
    "images_ARG=images_ARG_patient+images_ARG_healthy\n",
    "labels_ARG=labels_ARG_patient+labels_ARG_healthy"
   ]
  },
  {
   "cell_type": "code",
   "execution_count": 84,
   "id": "eda01519",
   "metadata": {},
   "outputs": [],
   "source": [
    "del images_ARG_patient\n",
    "del labels_ARG_patient\n",
    "del images_ARG_healthy\n",
    "del labels_ARG_healthy"
   ]
  },
  {
   "cell_type": "code",
   "execution_count": 85,
   "id": "86dd409d",
   "metadata": {},
   "outputs": [
    {
     "data": {
      "text/plain": [
       "20224"
      ]
     },
     "execution_count": 85,
     "metadata": {},
     "output_type": "execute_result"
    }
   ],
   "source": [
    "len(images_ARG)"
   ]
  },
  {
   "cell_type": "code",
   "execution_count": 86,
   "id": "ac312fa0",
   "metadata": {},
   "outputs": [
    {
     "data": {
      "text/plain": [
       "20224"
      ]
     },
     "execution_count": 86,
     "metadata": {},
     "output_type": "execute_result"
    }
   ],
   "source": [
    "len(labels_ARG)"
   ]
  },
  {
   "cell_type": "markdown",
   "id": "0189aedd",
   "metadata": {},
   "source": [
    "### Final Dataset 1"
   ]
  },
  {
   "cell_type": "code",
   "execution_count": 87,
   "id": "98ad7fce",
   "metadata": {},
   "outputs": [
    {
     "name": "stdout",
     "output_type": "stream",
     "text": [
      "Number of loaded images: 66078\n",
      "Number of loaded labels: 66078\n",
      "Sample class labels: [0 0 0 0 0]\n"
     ]
    }
   ],
   "source": [
    "# Convert lists to NumPy arrays\n",
    "images_classification_1 = np.array(images_data_1+images_ARG)\n",
    "labels_classification_1 = np.array(labels_data_1+labels_ARG)\n",
    "\n",
    "# Debugging information\n",
    "print(\"Number of loaded images:\", len(images_classification_1))\n",
    "print(\"Number of loaded labels:\", len(labels_classification_1))\n",
    "print(\"Sample class labels:\", labels_classification_1[:5])"
   ]
  },
  {
   "cell_type": "code",
   "execution_count": 88,
   "id": "c180e083",
   "metadata": {},
   "outputs": [
    {
     "name": "stdout",
     "output_type": "stream",
     "text": [
      "Number of loaded images: 66078\n",
      "Number of images with label 0: 45854\n",
      "Number of images with label 1: 20224\n"
     ]
    }
   ],
   "source": [
    "# Count the number of images for each label\n",
    "label_counts = {0: 0, 1: 0}\n",
    "for label in labels_classification_1:\n",
    "    label_counts[label] += 1\n",
    "\n",
    "# Debugging information\n",
    "print(\"Number of loaded images:\", len(images_classification_1))\n",
    "print(\"Number of images with label 0:\", label_counts[0])\n",
    "print(\"Number of images with label 1:\", label_counts[1])\n"
   ]
  },
  {
   "cell_type": "code",
   "execution_count": 89,
   "id": "f495e87b",
   "metadata": {
    "scrolled": true
   },
   "outputs": [
    {
     "data": {
      "image/png": "[encoded data removed]",
      "text/plain": [
       "<Figure size 1500x600 with 6 Axes>"
      ]
     },
     "metadata": {},
     "output_type": "display_data"
    }
   ],
   "source": [
    "import matplotlib.pyplot as plt\n",
    "\n",
    "# Define function to print images and labels for each label\n",
    "def plot_images(images, labels, num_images_per_label=3):\n",
    "    fig, axes = plt.subplots(2, num_images_per_label, figsize=(15, 6))\n",
    "    for label in range(2):\n",
    "        label_indices = [i for i, l in enumerate(labels) if l == label]\n",
    "        for i in range(num_images_per_label):\n",
    "            axes[label, i].imshow(images[label_indices[i]])\n",
    "            axes[label, i].set_title(\"Label: {}\".format(label))\n",
    "            axes[label, i].axis('off')\n",
    "    plt.tight_layout()\n",
    "    plt.show()\n",
    "\n",
    "# Print a few images for each label\n",
    "plot_images(images_classification_1, labels_classification_1)\n",
    "\n"
   ]
  },
  {
   "cell_type": "code",
   "execution_count": null,
   "id": "36a54c4f",
   "metadata": {},
   "outputs": [],
   "source": []
  },
  {
   "cell_type": "markdown",
   "id": "c2b4a9e4",
   "metadata": {},
   "source": [
    "### Final Dataset 2"
   ]
  },
  {
   "cell_type": "code",
   "execution_count": 90,
   "id": "8d18b62f",
   "metadata": {},
   "outputs": [
    {
     "name": "stdout",
     "output_type": "stream",
     "text": [
      "Number of loaded images: 53108\n",
      "Number of loaded labels: 53108\n",
      "Sample class labels: [0 0 0 0 0]\n"
     ]
    }
   ],
   "source": [
    "# Convert lists to NumPy arrays\n",
    "images_classification_2 = np.array(images_data_2+images_ARG)\n",
    "labels_classification_2 = np.array(labels_data_2+labels_ARG)\n",
    "\n",
    "# Debugging information\n",
    "print(\"Number of loaded images:\", len(images_classification_2))\n",
    "print(\"Number of loaded labels:\", len(labels_classification_2))\n",
    "print(\"Sample class labels:\", labels_classification_2[:5])"
   ]
  },
  {
   "cell_type": "code",
   "execution_count": 91,
   "id": "67ce747c",
   "metadata": {},
   "outputs": [
    {
     "name": "stdout",
     "output_type": "stream",
     "text": [
      "Number of loaded images: 53108\n",
      "Number of images with label 0: 32884\n",
      "Number of images with label 1: 20224\n"
     ]
    }
   ],
   "source": [
    "# Count the number of images for each label\n",
    "label_counts = {0: 0, 1: 0}\n",
    "for label in labels_classification_2:\n",
    "    label_counts[label] += 1\n",
    "\n",
    "# Debugging information\n",
    "print(\"Number of loaded images:\", len(images_classification_2))\n",
    "print(\"Number of images with label 0:\", label_counts[0])\n",
    "print(\"Number of images with label 1:\", label_counts[1])\n"
   ]
  },
  {
   "cell_type": "code",
   "execution_count": 92,
   "id": "6917f189",
   "metadata": {
    "scrolled": true
   },
   "outputs": [
    {
     "data": {
      "image/png": "[encoded data removed]",
      "text/plain": [
       "<Figure size 1500x600 with 6 Axes>"
      ]
     },
     "metadata": {},
     "output_type": "display_data"
    }
   ],
   "source": [
    "\n",
    "\n",
    "# Print a few images for each label\n",
    "plot_images(images_classification_2, labels_classification_2)\n",
    "\n"
   ]
  },
  {
   "cell_type": "code",
   "execution_count": null,
   "id": "6e1dd437",
   "metadata": {},
   "outputs": [],
   "source": []
  },
  {
   "cell_type": "markdown",
   "id": "8e7b63e7",
   "metadata": {},
   "source": [
    "### Final Dataset 3"
   ]
  },
  {
   "cell_type": "code",
   "execution_count": 93,
   "id": "4bb00187",
   "metadata": {},
   "outputs": [
    {
     "ename": "MemoryError",
     "evalue": "Unable to allocate 6.67 GiB for an array with shape (59672, 100, 100, 3) and data type float32",
     "output_type": "error",
     "traceback": [
      "\u001b[1;31m---------------------------------------------------------------------------\u001b[0m",
      "\u001b[1;31mMemoryError\u001b[0m                               Traceback (most recent call last)",
      "\u001b[1;32m~\\AppData\\Local\\Temp\\ipykernel_18012\\2531821708.py\u001b[0m in \u001b[0;36m<module>\u001b[1;34m\u001b[0m\n\u001b[0;32m      1\u001b[0m \u001b[1;31m# Convert lists to NumPy arrays\u001b[0m\u001b[1;33m\u001b[0m\u001b[1;33m\u001b[0m\u001b[0m\n\u001b[1;32m----> 2\u001b[1;33m \u001b[0mimages_classification_3\u001b[0m \u001b[1;33m=\u001b[0m \u001b[0mnp\u001b[0m\u001b[1;33m.\u001b[0m\u001b[0marray\u001b[0m\u001b[1;33m(\u001b[0m\u001b[0mimages_data_3\u001b[0m\u001b[1;33m+\u001b[0m\u001b[0mimages_ARG\u001b[0m\u001b[1;33m)\u001b[0m\u001b[1;33m\u001b[0m\u001b[1;33m\u001b[0m\u001b[0m\n\u001b[0m\u001b[0;32m      3\u001b[0m \u001b[0mlabels_classification_3\u001b[0m \u001b[1;33m=\u001b[0m \u001b[0mnp\u001b[0m\u001b[1;33m.\u001b[0m\u001b[0marray\u001b[0m\u001b[1;33m(\u001b[0m\u001b[0mlabels_data_3\u001b[0m\u001b[1;33m+\u001b[0m\u001b[0mlabels_ARG\u001b[0m\u001b[1;33m)\u001b[0m\u001b[1;33m\u001b[0m\u001b[1;33m\u001b[0m\u001b[0m\n\u001b[0;32m      4\u001b[0m \u001b[1;33m\u001b[0m\u001b[0m\n\u001b[0;32m      5\u001b[0m \u001b[1;31m# Debugging information\u001b[0m\u001b[1;33m\u001b[0m\u001b[1;33m\u001b[0m\u001b[0m\n",
      "\u001b[1;31mMemoryError\u001b[0m: Unable to allocate 6.67 GiB for an array with shape (59672, 100, 100, 3) and data type float32"
     ]
    }
   ],
   "source": [
    "# Convert lists to NumPy arrays\n",
    "images_classification_3 = np.array(images_data_3+images_ARG)\n",
    "labels_classification_3 = np.array(labels_data_3+labels_ARG)\n",
    "\n",
    "# Debugging information\n",
    "print(\"Number of loaded images:\", len(images_classification_3))\n",
    "print(\"Number of loaded labels:\", len(labels_classification_3))\n",
    "print(\"Sample class labels:\", labels_classification_3[:5])"
   ]
  },
  {
   "cell_type": "code",
   "execution_count": null,
   "id": "a3f2b444",
   "metadata": {},
   "outputs": [],
   "source": [
    "# Count the number of images for each label\n",
    "label_counts = {0: 0, 1: 0}\n",
    "for label in labels_classification_3:\n",
    "    label_counts[label] += 1\n",
    "\n",
    "# Debugging information\n",
    "print(\"Number of loaded images:\", len(images_classification_3))\n",
    "print(\"Number of images with label 0:\", label_counts[0])\n",
    "print(\"Number of images with label 1:\", label_counts[1])\n"
   ]
  },
  {
   "cell_type": "code",
   "execution_count": null,
   "id": "9298798a",
   "metadata": {
    "scrolled": true
   },
   "outputs": [],
   "source": [
    "\n",
    "\n",
    "# Print a few images for each label\n",
    "plot_images(images_classification_3, labels_classification_3)\n",
    "\n"
   ]
  },
  {
   "cell_type": "code",
   "execution_count": null,
   "id": "cb879f37",
   "metadata": {},
   "outputs": [],
   "source": []
  },
  {
   "cell_type": "markdown",
   "id": "4e293475",
   "metadata": {},
   "source": [
    "# Model 1: Data"
   ]
  },
  {
   "cell_type": "code",
   "execution_count": 39,
   "id": "420b1ac5",
   "metadata": {},
   "outputs": [],
   "source": [
    "\n",
    "train_images = images_classification_1\n",
    "train_labels = labels_classification_1\n",
    "# Split the data into training and validation sets\n",
    "from sklearn.model_selection import train_test_split\n",
    "X_train, X_test, y_train, y_test = train_test_split(train_images, train_labels, test_size=0.2, random_state=42)"
   ]
  },
  {
   "cell_type": "code",
   "execution_count": 40,
   "id": "d62b9dd5",
   "metadata": {},
   "outputs": [],
   "source": [
    "del images_classification_1\n",
    "del labels_classification_1"
   ]
  },
  {
   "cell_type": "code",
   "execution_count": 41,
   "id": "df5da0d0",
   "metadata": {},
   "outputs": [
    {
     "name": "stdout",
     "output_type": "stream",
     "text": [
      "Label 0: 36720 samples\n",
      "Label 1: 16142 samples\n",
      "Total samples in the training set: 52862\n"
     ]
    }
   ],
   "source": [
    "# Count the occurrences of each label in y_train\n",
    "unique_labels, label_counts = np.unique(y_train, return_counts=True)\n",
    "\n",
    "# Print the counts of each label in y_train\n",
    "for label, count in zip(unique_labels, label_counts):\n",
    "    print(f\"Label {label}: {count} samples\")\n",
    "\n",
    "# Optionally, you can also print the total number of samples in the training set\n",
    "print(f\"Total samples in the training set: {len(y_train)}\")\n"
   ]
  },
  {
   "cell_type": "code",
   "execution_count": 42,
   "id": "f409933d",
   "metadata": {},
   "outputs": [],
   "source": [
    "# Generic"
   ]
  },
  {
   "cell_type": "code",
   "execution_count": 43,
   "id": "aa58c82c",
   "metadata": {},
   "outputs": [
    {
     "name": "stdout",
     "output_type": "stream",
     "text": [
      "Epoch 1/10\n",
      "1652/1652 [==============================] - 270s 163ms/step - loss: 0.5387 - accuracy: 0.7343 - val_loss: 0.4749 - val_accuracy: 0.7804\n",
      "Epoch 2/10\n",
      "1652/1652 [==============================] - 266s 161ms/step - loss: 0.4524 - accuracy: 0.7919 - val_loss: 0.4324 - val_accuracy: 0.8039\n",
      "Epoch 3/10\n",
      "1652/1652 [==============================] - 257s 156ms/step - loss: 0.4085 - accuracy: 0.8156 - val_loss: 0.4056 - val_accuracy: 0.8192\n",
      "Epoch 4/10\n",
      "1652/1652 [==============================] - 273s 165ms/step - loss: 0.3828 - accuracy: 0.8281 - val_loss: 0.4134 - val_accuracy: 0.8121\n",
      "Epoch 5/10\n",
      "1652/1652 [==============================] - 262s 158ms/step - loss: 0.3634 - accuracy: 0.8370 - val_loss: 0.3901 - val_accuracy: 0.8280\n",
      "Epoch 6/10\n",
      "1652/1652 [==============================] - 251s 152ms/step - loss: 0.3469 - accuracy: 0.8460 - val_loss: 0.3814 - val_accuracy: 0.8313\n",
      "Epoch 7/10\n",
      "1652/1652 [==============================] - 252s 153ms/step - loss: 0.3337 - accuracy: 0.8520 - val_loss: 0.3923 - val_accuracy: 0.8297\n",
      "Epoch 8/10\n",
      "1652/1652 [==============================] - 252s 153ms/step - loss: 0.3211 - accuracy: 0.8580 - val_loss: 0.3995 - val_accuracy: 0.8139\n",
      "Epoch 9/10\n",
      "1652/1652 [==============================] - 254s 154ms/step - loss: 0.3087 - accuracy: 0.8652 - val_loss: 0.3849 - val_accuracy: 0.8375\n",
      "Epoch 10/10\n",
      "1652/1652 [==============================] - 261s 158ms/step - loss: 0.2976 - accuracy: 0.8680 - val_loss: 0.4133 - val_accuracy: 0.8342\n",
      "413/413 - 12s - loss: 0.4133 - accuracy: 0.8342 - 12s/epoch - 29ms/step\n",
      "Validation accuracy: 0.8342161178588867\n",
      "Time to generate model: 2637.892074108124 seconds\n"
     ]
    }
   ],
   "source": [
    "import tensorflow as tf\n",
    "from tensorflow import keras\n",
    "from tensorflow.keras import layers\n",
    "import time\n",
    "# Set seed for NumPy\n",
    "start_time = time.time()\n",
    "\n",
    "np.random.seed(2007)\n",
    "\n",
    "# Set seed for TensorFlow\n",
    "tf.random.set_seed(2007)\n",
    "\n",
    "# Define image dimensions\n",
    "img_height, img_width = 100, 100\n",
    "\n",
    "# Define the CNN model\n",
    "\n",
    "model_generic = keras.Sequential([\n",
    "    layers.Input(shape=(img_height, img_width, 3)),\n",
    "    layers.Conv2D(32, (3, 3), activation=\"relu\"),\n",
    "    layers.MaxPooling2D((2, 2)),\n",
    "    layers.Conv2D(64, (3, 3), activation=\"relu\"),\n",
    "    layers.MaxPooling2D((2, 2)),\n",
    "    layers.Conv2D(64, (3, 3), activation=\"relu\"),\n",
    "    layers.Flatten(),\n",
    "    layers.Dense(64, activation=\"relu\"),\n",
    "    layers.Dense(1, activation=\"sigmoid\")  # Binary classification\n",
    "])\n",
    "\n",
    "# Compile the model\n",
    "model_generic.compile(\n",
    "    optimizer=\"adam\",\n",
    "    loss=\"binary_crossentropy\",\n",
    "    metrics=[\"accuracy\"]\n",
    ")\n",
    "\n",
    "\n",
    "\n",
    "# Train the model\n",
    "epochs = 10\n",
    "history = model_generic.fit(\n",
    "    X_train, y_train,\n",
    "    epochs=epochs,\n",
    "    validation_data=(X_test, y_test)\n",
    ")\n",
    "\n",
    "# Evaluate the model on the validation set\n",
    "test_loss, test_acc = model_generic.evaluate(X_test, y_test, verbose=2)\n",
    "print(\"Validation accuracy:\", test_acc)\n",
    "\n",
    "\n",
    "end_time = time.time()\n",
    "elapsed_time = end_time - start_time\n",
    "\n",
    "# Print the time taken\n",
    "print(f\"Time to generate model: {elapsed_time} seconds\")"
   ]
  },
  {
   "cell_type": "code",
   "execution_count": 44,
   "id": "82ceaea1",
   "metadata": {},
   "outputs": [
    {
     "name": "stdout",
     "output_type": "stream",
     "text": [
      "413/413 [==============================] - 15s 35ms/step\n"
     ]
    }
   ],
   "source": [
    "y_pred_prob=model_generic.predict(X_test)\n",
    "y_pred = np.round(y_pred_prob)\n",
    "\n",
    "# Calculate ROC-AUC score and plot ROC curve # Get predicted probabilities directly\n",
    "roc_auc = roc_auc_score(y_test, y_pred_prob)\n",
    "fpr, tpr, _ = roc_curve(y_test, y_pred_prob)\n",
    "roc_auc_value = auc(fpr, tpr)"
   ]
  },
  {
   "cell_type": "code",
   "execution_count": 45,
   "id": "5836e8e4",
   "metadata": {},
   "outputs": [
    {
     "data": {
      "image/png": "[encoded data removed]",
      "text/plain": [
       "<Figure size 800x600 with 1 Axes>"
      ]
     },
     "metadata": {},
     "output_type": "display_data"
    },
    {
     "name": "stdout",
     "output_type": "stream",
     "text": [
      "Accuracy: 0.8342\n",
      "Precision: 0.8649\n",
      "Recall: 0.5490\n",
      "F1 Score: 0.6717\n",
      "ROC-AUC Score: 0.8904\n"
     ]
    }
   ],
   "source": [
    "\n",
    "# Assuming you have already trained your model and have a set of predictions\n",
    "# You can obtain predictions using model.predict(X_val) where X_val is your validation data\n",
    "\n",
    "\n",
    "\n",
    "# Calculate the confusion matrix\n",
    "confusion = confusion_matrix(y_test, y_pred)\n",
    "\n",
    "# Calculate accuracy\n",
    "accuracy = accuracy_score(y_test, y_pred)\n",
    "\n",
    "# Calculate precision\n",
    "precision = precision_score(y_test, y_pred)\n",
    "\n",
    "# Calculate recall\n",
    "recall = recall_score(y_test, y_pred)\n",
    "\n",
    "# Calculate F1 score\n",
    "f1 = f1_score(y_test, y_pred)\n",
    "\n",
    "\n",
    "\n",
    "# Plot ROC curve\n",
    "plt.figure(figsize=(8, 6))\n",
    "plt.plot(fpr, tpr, color='darkorange', lw=2, label=f'ROC curve (area = {roc_auc_value:.2f})')\n",
    "plt.plot([0, 1], [0, 1], color='navy', lw=2, linestyle='--')\n",
    "plt.xlim([0.0, 1.0])\n",
    "plt.ylim([0.0, 1.05])\n",
    "plt.xlabel('False Positive Rate')\n",
    "plt.ylabel('True Positive Rate')\n",
    "plt.title('Receiver Operating Characteristic (ROC)')\n",
    "plt.legend(loc='lower right')\n",
    "plt.show()\n",
    "\n",
    "# Print the metrics\n",
    "print(f\"Accuracy: {accuracy:.4f}\")\n",
    "print(f\"Precision: {precision:.4f}\")\n",
    "print(f\"Recall: {recall:.4f}\")\n",
    "print(f\"F1 Score: {f1:.4f}\")\n",
    "print(f\"ROC-AUC Score: {roc_auc:.4f}\")"
   ]
  },
  {
   "cell_type": "code",
   "execution_count": 46,
   "id": "85d165e3",
   "metadata": {},
   "outputs": [
    {
     "data": {
      "image/png": "[encoded data removed]",
      "text/plain": [
       "<Figure size 800x600 with 1 Axes>"
      ]
     },
     "metadata": {},
     "output_type": "display_data"
    }
   ],
   "source": [
    "import seaborn as sns\n",
    "import matplotlib.pyplot as plt\n",
    "\n",
    "# Calculate the confusion matrix\n",
    "confusion = confusion_matrix(y_test, y_pred)\n",
    "\n",
    "# Plot confusion matrix as a heatmap\n",
    "plt.figure(figsize=(8, 6))\n",
    "sns.heatmap(confusion, annot=True, fmt='d', cmap='Blues', cbar=False)\n",
    "plt.xlabel('Predicted Labels')\n",
    "plt.ylabel('True Labels')\n",
    "plt.title('Confusion Matrix')\n",
    "plt.show()"
   ]
  },
  {
   "cell_type": "code",
   "execution_count": 48,
   "id": "6bbdea18",
   "metadata": {},
   "outputs": [],
   "source": [
    "# Save the model\n",
    "model_generic.save('generic_model_ARGvshealthy_and_patient_synthetic_1.h5')"
   ]
  },
  {
   "cell_type": "markdown",
   "id": "6c11c1fa",
   "metadata": {},
   "source": [
    "# Model 2: Data"
   ]
  },
  {
   "cell_type": "code",
   "execution_count": 33,
   "id": "93e9cca6",
   "metadata": {},
   "outputs": [],
   "source": [
    "\n",
    "train_images = images_classification_2\n",
    "train_labels = labels_classification_2\n",
    "# Split the data into training and validation sets\n",
    "from sklearn.model_selection import train_test_split\n",
    "X_train, X_test, y_train, y_test = train_test_split(train_images, train_labels, test_size=0.2, random_state=42)"
   ]
  },
  {
   "cell_type": "code",
   "execution_count": 34,
   "id": "426e6182",
   "metadata": {},
   "outputs": [],
   "source": [
    "del images_classification_2\n",
    "del labels_classification_2"
   ]
  },
  {
   "cell_type": "code",
   "execution_count": 35,
   "id": "2748c885",
   "metadata": {},
   "outputs": [
    {
     "name": "stdout",
     "output_type": "stream",
     "text": [
      "Label 0: 26309 samples\n",
      "Label 1: 16177 samples\n",
      "Total samples in the training set: 42486\n"
     ]
    }
   ],
   "source": [
    "# Count the occurrences of each label in y_train\n",
    "unique_labels, label_counts = np.unique(y_train, return_counts=True)\n",
    "\n",
    "# Print the counts of each label in y_train\n",
    "for label, count in zip(unique_labels, label_counts):\n",
    "    print(f\"Label {label}: {count} samples\")\n",
    "\n",
    "# Optionally, you can also print the total number of samples in the training set\n",
    "print(f\"Total samples in the training set: {len(y_train)}\")\n"
   ]
  },
  {
   "cell_type": "code",
   "execution_count": 36,
   "id": "7f66a244",
   "metadata": {},
   "outputs": [],
   "source": [
    "# Generic"
   ]
  },
  {
   "cell_type": "code",
   "execution_count": 37,
   "id": "04725fb0",
   "metadata": {},
   "outputs": [
    {
     "name": "stdout",
     "output_type": "stream",
     "text": [
      "Epoch 1/10\n",
      "1328/1328 [==============================] - 212s 158ms/step - loss: 0.5767 - accuracy: 0.7009 - val_loss: 0.5240 - val_accuracy: 0.7472\n",
      "Epoch 2/10\n",
      "1328/1328 [==============================] - 211s 159ms/step - loss: 0.5024 - accuracy: 0.7569 - val_loss: 0.4931 - val_accuracy: 0.7658\n",
      "Epoch 3/10\n",
      "1328/1328 [==============================] - 211s 159ms/step - loss: 0.4681 - accuracy: 0.7819 - val_loss: 0.4642 - val_accuracy: 0.7804\n",
      "Epoch 4/10\n",
      "1328/1328 [==============================] - 206s 155ms/step - loss: 0.4430 - accuracy: 0.7915 - val_loss: 0.4446 - val_accuracy: 0.7939\n",
      "Epoch 5/10\n",
      "1328/1328 [==============================] - 209s 158ms/step - loss: 0.4232 - accuracy: 0.8044 - val_loss: 0.4354 - val_accuracy: 0.7975\n",
      "Epoch 6/10\n",
      "1328/1328 [==============================] - 206s 155ms/step - loss: 0.4076 - accuracy: 0.8149 - val_loss: 0.4372 - val_accuracy: 0.7938\n",
      "Epoch 7/10\n",
      "1328/1328 [==============================] - 210s 158ms/step - loss: 0.3957 - accuracy: 0.8178 - val_loss: 0.4378 - val_accuracy: 0.7940\n",
      "Epoch 8/10\n",
      "1328/1328 [==============================] - 206s 155ms/step - loss: 0.3853 - accuracy: 0.8221 - val_loss: 0.4348 - val_accuracy: 0.7973\n",
      "Epoch 9/10\n",
      "1328/1328 [==============================] - 205s 154ms/step - loss: 0.3753 - accuracy: 0.8289 - val_loss: 0.4431 - val_accuracy: 0.7918\n",
      "Epoch 10/10\n",
      "1328/1328 [==============================] - 205s 154ms/step - loss: 0.3655 - accuracy: 0.8356 - val_loss: 0.4223 - val_accuracy: 0.8095\n",
      "332/332 - 9s - loss: 0.4223 - accuracy: 0.8095 - 9s/epoch - 27ms/step\n",
      "Validation accuracy: 0.8094520568847656\n",
      "Time to generate model: 2101.606148481369 seconds\n"
     ]
    }
   ],
   "source": [
    "import tensorflow as tf\n",
    "from tensorflow import keras\n",
    "from tensorflow.keras import layers\n",
    "import time\n",
    "# Set seed for NumPy\n",
    "start_time = time.time()\n",
    "\n",
    "np.random.seed(2007)\n",
    "\n",
    "# Set seed for TensorFlow\n",
    "tf.random.set_seed(2007)\n",
    "\n",
    "# Define image dimensions\n",
    "img_height, img_width = 100, 100\n",
    "\n",
    "# Define the CNN model\n",
    "\n",
    "model_generic = keras.Sequential([\n",
    "    layers.Input(shape=(img_height, img_width, 3)),\n",
    "    layers.Conv2D(32, (3, 3), activation=\"relu\"),\n",
    "    layers.MaxPooling2D((2, 2)),\n",
    "    layers.Conv2D(64, (3, 3), activation=\"relu\"),\n",
    "    layers.MaxPooling2D((2, 2)),\n",
    "    layers.Conv2D(64, (3, 3), activation=\"relu\"),\n",
    "    layers.Flatten(),\n",
    "    layers.Dense(64, activation=\"relu\"),\n",
    "    layers.Dense(1, activation=\"sigmoid\")  # Binary classification\n",
    "])\n",
    "\n",
    "# Compile the model\n",
    "model_generic.compile(\n",
    "    optimizer=\"adam\",\n",
    "    loss=\"binary_crossentropy\",\n",
    "    metrics=[\"accuracy\"]\n",
    ")\n",
    "\n",
    "\n",
    "\n",
    "# Train the model\n",
    "epochs = 10\n",
    "history = model_generic.fit(\n",
    "    X_train, y_train,\n",
    "    epochs=epochs,\n",
    "    validation_data=(X_test, y_test)\n",
    ")\n",
    "\n",
    "# Evaluate the model on the validation set\n",
    "test_loss, test_acc = model_generic.evaluate(X_test, y_test, verbose=2)\n",
    "print(\"Validation accuracy:\", test_acc)\n",
    "\n",
    "\n",
    "end_time = time.time()\n",
    "elapsed_time = end_time - start_time\n",
    "\n",
    "# Print the time taken\n",
    "print(f\"Time to generate model: {elapsed_time} seconds\")"
   ]
  },
  {
   "cell_type": "code",
   "execution_count": 38,
   "id": "2514f06a",
   "metadata": {},
   "outputs": [
    {
     "name": "stdout",
     "output_type": "stream",
     "text": [
      "332/332 [==============================] - 10s 29ms/step\n"
     ]
    }
   ],
   "source": [
    "y_pred_prob=model_generic.predict(X_test)\n",
    "y_pred = np.round(y_pred_prob)\n",
    "\n",
    "# Calculate ROC-AUC score and plot ROC curve # Get predicted probabilities directly\n",
    "roc_auc = roc_auc_score(y_test, y_pred_prob)\n",
    "fpr, tpr, _ = roc_curve(y_test, y_pred_prob)\n",
    "roc_auc_value = auc(fpr, tpr)"
   ]
  },
  {
   "cell_type": "code",
   "execution_count": 39,
   "id": "c80e8484",
   "metadata": {},
   "outputs": [
    {
     "data": {
      "image/png": "[encoded data removed]",
      "text/plain": [
       "<Figure size 800x600 with 1 Axes>"
      ]
     },
     "metadata": {},
     "output_type": "display_data"
    },
    {
     "name": "stdout",
     "output_type": "stream",
     "text": [
      "Accuracy: 0.8095\n",
      "Precision: 0.7612\n",
      "Recall: 0.7284\n",
      "F1 Score: 0.7444\n",
      "ROC-AUC Score: 0.8803\n"
     ]
    }
   ],
   "source": [
    "\n",
    "# Assuming you have already trained your model and have a set of predictions\n",
    "# You can obtain predictions using model.predict(X_val) where X_val is your validation data\n",
    "\n",
    "\n",
    "\n",
    "# Calculate the confusion matrix\n",
    "confusion = confusion_matrix(y_test, y_pred)\n",
    "\n",
    "# Calculate accuracy\n",
    "accuracy = accuracy_score(y_test, y_pred)\n",
    "\n",
    "# Calculate precision\n",
    "precision = precision_score(y_test, y_pred)\n",
    "\n",
    "# Calculate recall\n",
    "recall = recall_score(y_test, y_pred)\n",
    "\n",
    "# Calculate F1 score\n",
    "f1 = f1_score(y_test, y_pred)\n",
    "\n",
    "\n",
    "\n",
    "# Plot ROC curve\n",
    "plt.figure(figsize=(8, 6))\n",
    "plt.plot(fpr, tpr, color='darkorange', lw=2, label=f'ROC curve (area = {roc_auc_value:.2f})')\n",
    "plt.plot([0, 1], [0, 1], color='navy', lw=2, linestyle='--')\n",
    "plt.xlim([0.0, 1.0])\n",
    "plt.ylim([0.0, 1.05])\n",
    "plt.xlabel('False Positive Rate')\n",
    "plt.ylabel('True Positive Rate')\n",
    "plt.title('Receiver Operating Characteristic (ROC)')\n",
    "plt.legend(loc='lower right')\n",
    "plt.show()\n",
    "\n",
    "# Print the metrics\n",
    "print(f\"Accuracy: {accuracy:.4f}\")\n",
    "print(f\"Precision: {precision:.4f}\")\n",
    "print(f\"Recall: {recall:.4f}\")\n",
    "print(f\"F1 Score: {f1:.4f}\")\n",
    "print(f\"ROC-AUC Score: {roc_auc:.4f}\")"
   ]
  },
  {
   "cell_type": "code",
   "execution_count": 40,
   "id": "a22db2e5",
   "metadata": {},
   "outputs": [
    {
     "data": {
      "image/png": "[encoded data removed]",
      "text/plain": [
       "<Figure size 800x600 with 1 Axes>"
      ]
     },
     "metadata": {},
     "output_type": "display_data"
    }
   ],
   "source": [
    "import seaborn as sns\n",
    "import matplotlib.pyplot as plt\n",
    "\n",
    "# Calculate the confusion matrix\n",
    "confusion = confusion_matrix(y_test, y_pred)\n",
    "\n",
    "# Plot confusion matrix as a heatmap\n",
    "plt.figure(figsize=(8, 6))\n",
    "sns.heatmap(confusion, annot=True, fmt='d', cmap='Blues', cbar=False)\n",
    "plt.xlabel('Predicted Labels')\n",
    "plt.ylabel('True Labels')\n",
    "plt.title('Confusion Matrix')\n",
    "plt.show()"
   ]
  },
  {
   "cell_type": "code",
   "execution_count": 42,
   "id": "fc781fe4",
   "metadata": {},
   "outputs": [],
   "source": [
    "# Save the model\n",
    "model_generic.save('generic_model_ARGvshealthy_and_patient_synthetic_2.h5')"
   ]
  },
  {
   "cell_type": "markdown",
   "id": "674aa50a",
   "metadata": {},
   "source": [
    "# Model 3: Data"
   ]
  },
  {
   "cell_type": "code",
   "execution_count": 33,
   "id": "a50d1b07",
   "metadata": {},
   "outputs": [],
   "source": [
    "\n",
    "train_images = images_classification_3\n",
    "train_labels = labels_classification_3\n",
    "# Split the data into training and validation sets\n",
    "from sklearn.model_selection import train_test_split\n",
    "X_train, X_test, y_train, y_test = train_test_split(train_images, train_labels, test_size=0.2, random_state=42)"
   ]
  },
  {
   "cell_type": "code",
   "execution_count": 34,
   "id": "656813bc",
   "metadata": {},
   "outputs": [],
   "source": [
    "del images_classification_3\n",
    "del labels_classification_3"
   ]
  },
  {
   "cell_type": "code",
   "execution_count": 35,
   "id": "b9b156cc",
   "metadata": {},
   "outputs": [
    {
     "name": "stdout",
     "output_type": "stream",
     "text": [
      "Label 0: 31567 samples\n",
      "Label 1: 16170 samples\n",
      "Total samples in the training set: 47737\n"
     ]
    }
   ],
   "source": [
    "# Count the occurrences of each label in y_train\n",
    "unique_labels, label_counts = np.unique(y_train, return_counts=True)\n",
    "\n",
    "# Print the counts of each label in y_train\n",
    "for label, count in zip(unique_labels, label_counts):\n",
    "    print(f\"Label {label}: {count} samples\")\n",
    "\n",
    "# Optionally, you can also print the total number of samples in the training set\n",
    "print(f\"Total samples in the training set: {len(y_train)}\")\n"
   ]
  },
  {
   "cell_type": "code",
   "execution_count": 36,
   "id": "81e05870",
   "metadata": {},
   "outputs": [],
   "source": [
    "# Generic"
   ]
  },
  {
   "cell_type": "code",
   "execution_count": 37,
   "id": "57327f77",
   "metadata": {},
   "outputs": [
    {
     "name": "stdout",
     "output_type": "stream",
     "text": [
      "Epoch 1/10\n",
      "1492/1492 [==============================] - 257s 172ms/step - loss: 0.5648 - accuracy: 0.7143 - val_loss: 0.4973 - val_accuracy: 0.7533\n",
      "Epoch 2/10\n",
      "1492/1492 [==============================] - 251s 168ms/step - loss: 0.4790 - accuracy: 0.7693 - val_loss: 0.5010 - val_accuracy: 0.7588\n",
      "Epoch 3/10\n",
      "1492/1492 [==============================] - 241s 162ms/step - loss: 0.4382 - accuracy: 0.7964 - val_loss: 0.4306 - val_accuracy: 0.7992\n",
      "Epoch 4/10\n",
      "1492/1492 [==============================] - 240s 161ms/step - loss: 0.4083 - accuracy: 0.8112 - val_loss: 0.4303 - val_accuracy: 0.7958\n",
      "Epoch 5/10\n",
      "1492/1492 [==============================] - 230s 154ms/step - loss: 0.3870 - accuracy: 0.8220 - val_loss: 0.4166 - val_accuracy: 0.8071\n",
      "Epoch 6/10\n",
      "1492/1492 [==============================] - 243s 163ms/step - loss: 0.3681 - accuracy: 0.8319 - val_loss: 0.4122 - val_accuracy: 0.8077\n",
      "Epoch 7/10\n",
      "1492/1492 [==============================] - 245s 164ms/step - loss: 0.3465 - accuracy: 0.8439 - val_loss: 0.4354 - val_accuracy: 0.7997\n",
      "Epoch 8/10\n",
      "1492/1492 [==============================] - 245s 164ms/step - loss: 0.3288 - accuracy: 0.8521 - val_loss: 0.4143 - val_accuracy: 0.8104\n",
      "Epoch 9/10\n",
      "1492/1492 [==============================] - 237s 159ms/step - loss: 0.3094 - accuracy: 0.8605 - val_loss: 0.4488 - val_accuracy: 0.8004\n",
      "Epoch 10/10\n",
      "1492/1492 [==============================] - 233s 156ms/step - loss: 0.2899 - accuracy: 0.8701 - val_loss: 0.4705 - val_accuracy: 0.8020\n",
      "373/373 - 10s - loss: 0.4705 - accuracy: 0.8020 - 10s/epoch - 28ms/step\n",
      "Validation accuracy: 0.8020108938217163\n",
      "Time to generate model: 2453.263957977295 seconds\n"
     ]
    }
   ],
   "source": [
    "import tensorflow as tf\n",
    "from tensorflow import keras\n",
    "from tensorflow.keras import layers\n",
    "import time\n",
    "# Set seed for NumPy\n",
    "start_time = time.time()\n",
    "\n",
    "np.random.seed(2007)\n",
    "\n",
    "# Set seed for TensorFlow\n",
    "tf.random.set_seed(2007)\n",
    "\n",
    "# Define image dimensions\n",
    "img_height, img_width = 100, 100\n",
    "\n",
    "# Define the CNN model\n",
    "\n",
    "model_generic = keras.Sequential([\n",
    "    layers.Input(shape=(img_height, img_width, 3)),\n",
    "    layers.Conv2D(32, (3, 3), activation=\"relu\"),\n",
    "    layers.MaxPooling2D((2, 2)),\n",
    "    layers.Conv2D(64, (3, 3), activation=\"relu\"),\n",
    "    layers.MaxPooling2D((2, 2)),\n",
    "    layers.Conv2D(64, (3, 3), activation=\"relu\"),\n",
    "    layers.Flatten(),\n",
    "    layers.Dense(64, activation=\"relu\"),\n",
    "    layers.Dense(1, activation=\"sigmoid\")  # Binary classification\n",
    "])\n",
    "\n",
    "# Compile the model\n",
    "model_generic.compile(\n",
    "    optimizer=\"adam\",\n",
    "    loss=\"binary_crossentropy\",\n",
    "    metrics=[\"accuracy\"]\n",
    ")\n",
    "\n",
    "\n",
    "\n",
    "# Train the model\n",
    "epochs = 10\n",
    "history = model_generic.fit(\n",
    "    X_train, y_train,\n",
    "    epochs=epochs,\n",
    "    validation_data=(X_test, y_test)\n",
    ")\n",
    "\n",
    "# Evaluate the model on the validation set\n",
    "test_loss, test_acc = model_generic.evaluate(X_test, y_test, verbose=2)\n",
    "print(\"Validation accuracy:\", test_acc)\n",
    "\n",
    "\n",
    "end_time = time.time()\n",
    "elapsed_time = end_time - start_time\n",
    "\n",
    "# Print the time taken\n",
    "print(f\"Time to generate model: {elapsed_time} seconds\")"
   ]
  },
  {
   "cell_type": "code",
   "execution_count": 38,
   "id": "6736074b",
   "metadata": {},
   "outputs": [
    {
     "name": "stdout",
     "output_type": "stream",
     "text": [
      "373/373 [==============================] - 12s 31ms/step\n"
     ]
    }
   ],
   "source": [
    "y_pred_prob=model_generic.predict(X_test)\n",
    "y_pred = np.round(y_pred_prob)\n",
    "\n",
    "# Calculate ROC-AUC score and plot ROC curve # Get predicted probabilities directly\n",
    "roc_auc = roc_auc_score(y_test, y_pred_prob)\n",
    "fpr, tpr, _ = roc_curve(y_test, y_pred_prob)\n",
    "roc_auc_value = auc(fpr, tpr)"
   ]
  },
  {
   "cell_type": "code",
   "execution_count": 39,
   "id": "0deccffb",
   "metadata": {},
   "outputs": [
    {
     "data": {
      "image/png": "[encoded data removed]",
      "text/plain": [
       "<Figure size 800x600 with 1 Axes>"
      ]
     },
     "metadata": {},
     "output_type": "display_data"
    },
    {
     "name": "stdout",
     "output_type": "stream",
     "text": [
      "Accuracy: 0.8020\n",
      "Precision: 0.7376\n",
      "Recall: 0.6475\n",
      "F1 Score: 0.6896\n",
      "ROC-AUC Score: 0.8642\n"
     ]
    }
   ],
   "source": [
    "\n",
    "# Assuming you have already trained your model and have a set of predictions\n",
    "# You can obtain predictions using model.predict(X_val) where X_val is your validation data\n",
    "\n",
    "\n",
    "\n",
    "# Calculate the confusion matrix\n",
    "confusion = confusion_matrix(y_test, y_pred)\n",
    "\n",
    "# Calculate accuracy\n",
    "accuracy = accuracy_score(y_test, y_pred)\n",
    "\n",
    "# Calculate precision\n",
    "precision = precision_score(y_test, y_pred)\n",
    "\n",
    "# Calculate recall\n",
    "recall = recall_score(y_test, y_pred)\n",
    "\n",
    "# Calculate F1 score\n",
    "f1 = f1_score(y_test, y_pred)\n",
    "\n",
    "\n",
    "\n",
    "# Plot ROC curve\n",
    "plt.figure(figsize=(8, 6))\n",
    "plt.plot(fpr, tpr, color='darkorange', lw=2, label=f'ROC curve (area = {roc_auc_value:.2f})')\n",
    "plt.plot([0, 1], [0, 1], color='navy', lw=2, linestyle='--')\n",
    "plt.xlim([0.0, 1.0])\n",
    "plt.ylim([0.0, 1.05])\n",
    "plt.xlabel('False Positive Rate')\n",
    "plt.ylabel('True Positive Rate')\n",
    "plt.title('Receiver Operating Characteristic (ROC)')\n",
    "plt.legend(loc='lower right')\n",
    "plt.show()\n",
    "\n",
    "# Print the metrics\n",
    "print(f\"Accuracy: {accuracy:.4f}\")\n",
    "print(f\"Precision: {precision:.4f}\")\n",
    "print(f\"Recall: {recall:.4f}\")\n",
    "print(f\"F1 Score: {f1:.4f}\")\n",
    "print(f\"ROC-AUC Score: {roc_auc:.4f}\")"
   ]
  },
  {
   "cell_type": "code",
   "execution_count": 40,
   "id": "2d3d7117",
   "metadata": {},
   "outputs": [
    {
     "data": {
      "image/png": "[encoded data removed]",
      "text/plain": [
       "<Figure size 800x600 with 1 Axes>"
      ]
     },
     "metadata": {},
     "output_type": "display_data"
    }
   ],
   "source": [
    "import seaborn as sns\n",
    "import matplotlib.pyplot as plt\n",
    "\n",
    "# Calculate the confusion matrix\n",
    "confusion = confusion_matrix(y_test, y_pred)\n",
    "\n",
    "# Plot confusion matrix as a heatmap\n",
    "plt.figure(figsize=(8, 6))\n",
    "sns.heatmap(confusion, annot=True, fmt='d', cmap='Blues', cbar=False)\n",
    "plt.xlabel('Predicted Labels')\n",
    "plt.ylabel('True Labels')\n",
    "plt.title('Confusion Matrix')\n",
    "plt.show()"
   ]
  },
  {
   "cell_type": "code",
   "execution_count": 41,
   "id": "1a25f6eb",
   "metadata": {},
   "outputs": [
    {
     "name": "stderr",
     "output_type": "stream",
     "text": [
      "C:\\Users\\Javi\\anaconda3\\lib\\site-packages\\keras\\src\\engine\\training.py:3079: UserWarning: You are saving your model as an HDF5 file via `model.save()`. This file format is considered legacy. We recommend using instead the native Keras format, e.g. `model.save('my_model.keras')`.\n",
      "  saving_api.save_model(\n"
     ]
    }
   ],
   "source": [
    "# Save the model\n",
    "model_generic.save('generic_model_ARGvshealthy_and_patient_synthetic_3.h5')"
   ]
  },
  {
   "cell_type": "code",
   "execution_count": null,
   "id": "6cda36a7",
   "metadata": {},
   "outputs": [],
   "source": []
  },
  {
   "cell_type": "code",
   "execution_count": null,
   "id": "b4146456",
   "metadata": {},
   "outputs": [],
   "source": []
  }
 ],
 "metadata": {
  "kernelspec": {
   "display_name": "Python 3 (ipykernel)",
   "language": "python",
   "name": "python3"
  },
  "language_info": {
   "codemirror_mode": {
    "name": "ipython",
    "version": 3
   },
   "file_extension": ".py",
   "mimetype": "text/x-python",
   "name": "python",
   "nbconvert_exporter": "python",
   "pygments_lexer": "ipython3",
   "version": "3.9.13"
  }
 },
 "nbformat": 4,
 "nbformat_minor": 5
}
