{
 "cells": [
  {
   "cell_type": "code",
   "execution_count": 1,
   "id": "fc000ca5",
   "metadata": {},
   "outputs": [
    {
     "name": "stderr",
     "output_type": "stream",
     "text": [
      "C:\\Users\\Javi\\anaconda3\\lib\\site-packages\\scipy\\__init__.py:155: UserWarning: A NumPy version >=1.18.5 and <1.25.0 is required for this version of SciPy (detected version 1.26.1\n",
      "  warnings.warn(f\"A NumPy version >={np_minversion} and <{np_maxversion}\"\n"
     ]
    }
   ],
   "source": [
    "import pandas as pd\n",
    "import os\n",
    "import time\n",
    "import numpy as np\n",
    "import tensorflow as tf\n",
    "from tensorflow import keras\n",
    "from tensorflow.keras import layers\n",
    "from tensorflow.keras.preprocessing.image import load_img, img_to_array\n",
    "from tensorflow.keras.models import load_model\n",
    "from tensorflow.keras.applications import ResNet50\n",
    "from tensorflow.keras.models import Sequential\n",
    "from tensorflow.keras.layers import Dense, Flatten\n",
    "from tensorflow.keras.utils import to_categorical\n",
    "from tensorflow.keras.callbacks import EarlyStopping\n",
    "from sklearn.model_selection import train_test_split\n",
    "import time\n",
    "from sklearn.metrics import confusion_matrix, accuracy_score, precision_score, recall_score, f1_score, roc_auc_score, roc_curve, auc\n"
   ]
  },
  {
   "cell_type": "code",
   "execution_count": 2,
   "id": "99753c9c",
   "metadata": {},
   "outputs": [],
   "source": [
    "import random\n",
    "\n",
    "def replace_ambiguous_bases(sequence):\n",
    "    def resolve_ambiguity(code):\n",
    "        if code == 'R':\n",
    "            return random.choice(['A', 'G'])\n",
    "        elif code == 'Y':\n",
    "            return random.choice(['C', 'T'])\n",
    "        elif code == 'S':\n",
    "            return random.choice(['G', 'C'])\n",
    "        elif code == 'W':\n",
    "            return random.choice(['A', 'T'])\n",
    "        elif code == 'K':\n",
    "            return random.choice(['G', 'T'])\n",
    "        elif code == 'M':\n",
    "            return random.choice(['A', 'C'])\n",
    "        elif code == 'B':\n",
    "            return random.choice(['C', 'G', 'T'])\n",
    "        elif code == 'D':\n",
    "            return random.choice(['A', 'G', 'T'])\n",
    "        elif code == 'H':\n",
    "            return random.choice(['A', 'C', 'T'])\n",
    "        elif code == 'V':\n",
    "            return random.choice(['A', 'C', 'G'])\n",
    "        elif code == 'N':\n",
    "            return random.choice(['A', 'T', 'C', 'G'])\n",
    "        else:\n",
    "            return code  # If the code is not an ambiguity code, return the same code\n",
    "    \n",
    "    resolved_sequence = ''.join(resolve_ambiguity(base) for base in sequence)\n",
    "    return resolved_sequence"
   ]
  },
  {
   "cell_type": "code",
   "execution_count": 3,
   "id": "c3e28e46",
   "metadata": {},
   "outputs": [],
   "source": [
    "def reverse_complement(sequence):\n",
    "    complement = {'A': 'T', 'T': 'A', 'C': 'G', 'G': 'C'}\n",
    "    reverse_seq = sequence[::-1]  # Reverse the sequence\n",
    "    reverse_complement_seq = ''.join(complement[base] for base in reverse_seq)\n",
    "    return reverse_complement_seq\n",
    "\n",
    "def reverse_complement_list(sequence_list):\n",
    "    reverse_complements = []\n",
    "    for seq in sequence_list:\n",
    "        reverse_complements.append(reverse_complement(seq))\n",
    "    return reverse_complements"
   ]
  },
  {
   "cell_type": "code",
   "execution_count": 4,
   "id": "84052336",
   "metadata": {},
   "outputs": [],
   "source": [
    "#This function gets the cgr for the sequences\n",
    "def easy_cgr(dna_sequence):\n",
    "  nucleotide_map = {\n",
    "    \"A\": (1, 1),\n",
    "    \"T\": (-1, -1),\n",
    "    \"C\": (1, -1),\n",
    "    \"G\": (-1, 1),\n",
    "}\n",
    "  values=[]\n",
    "  point=(0,0)\n",
    "  for nucleotide in dna_sequence:\n",
    "        next_point=nucleotide_map[nucleotide]\n",
    "        point=((point[0]+next_point[0])/2,(point[1]+next_point[1])/2)\n",
    "        values.append(point)\n",
    "  return values"
   ]
  },
  {
   "cell_type": "code",
   "execution_count": 5,
   "id": "5b62f47b",
   "metadata": {},
   "outputs": [],
   "source": [
    "#This function has input:\n",
    "#sequence to plot that is the easy_cgr(sequence)\n",
    "# plot id that is the name\n",
    "# resolution that is the resolution\n",
    "import matplotlib.pyplot as plt\n",
    "import numpy as np\n",
    "from matplotlib.colors import LinearSegmentedColormap\n",
    "\n",
    "def plotting_cgr(sequence_to_plot,id_to_plot,resolution):\n",
    "\n",
    "  # Define the resolution\n",
    "  num_bins = resolution\n",
    "\n",
    "  # Create a grid for the histogram\n",
    "  xedges = np.linspace(-1, 1, num_bins + 1)\n",
    "  yedges = np.linspace(-1, 1, num_bins + 1)\n",
    "\n",
    "  # Create a 2D histogram\n",
    "  hist, _, _ = np.histogram2d([p[0] for p in sequence_to_plot], [p[1] for p in sequence_to_plot], bins=[xedges, yedges])\n",
    "\n",
    "  # Create a custom colormap spanning from light gray to dark gray\n",
    "  colors = [(1, 1, 1), (0.2, 0.2, 0.2)]  # Light gray to dark gray\n",
    "  cmap_name = \"custom_gray\"\n",
    "  custom_cmap = LinearSegmentedColormap.from_list(cmap_name, colors, N=len(sequence_to_plot) + 1)\n",
    "\n",
    "  # Create a figure\n",
    "  plt.figure()\n",
    "\n",
    "  # Display the 2D histogram with the custom colormap\n",
    "  plt.imshow(hist.T, cmap=custom_cmap, extent=[-1, 1, -1, 1], origin='lower', interpolation='nearest', aspect='auto')\n",
    "\n",
    "  # Calculate coordinates for labels\n",
    "  plt.xticks([])\n",
    "  plt.yticks([])\n",
    "  x_margin, y_margin = 0.05, 0.05\n",
    "  label_coordinates = {\n",
    "      \"A\": (1+ x_margin, 1 +y_margin),\n",
    "      \"T\": (-1 - x_margin, -1-y_margin),\n",
    "      \"C\": (1 + x_margin, -1 -y_margin),\n",
    "      \"G\": (-1 - x_margin, 1 + y_margin),\n",
    "  }\n",
    "\n",
    "  # Add labels outside the grid\n",
    "  for letter, (x, y) in label_coordinates.items():\n",
    "      plt.text(x, y, letter, ha='center', va='center', fontsize=15, color='black')\n",
    "  # Show the plot\n",
    "  plt.title('CGR for '+id_to_plot)\n",
    "  plt.grid(False)  # Turn off grid lines\n",
    "  plt.show()"
   ]
  },
  {
   "cell_type": "code",
   "execution_count": 6,
   "id": "e0dffef1",
   "metadata": {},
   "outputs": [],
   "source": [
    "#This function reads the file when usingantibiotic resistance genes\n",
    "import re\n",
    "\n",
    "def read_antibiotic_resistance_genes(fasta_file_path):\n",
    "    # Initialize lists to store sequence data\n",
    "    sequence_ids = []\n",
    "    sequences = []\n",
    "    terms_inside_brackets = []  # Initialize a list to store terms inside brackets\n",
    "\n",
    "    # Define a regular expression pattern to match text inside square brackets\n",
    "    pattern = r'\\[([^]]+)\\]'\n",
    "\n",
    "    # Open the FASTA file for reading\n",
    "    with open(fasta_file_path, \"r\") as file:\n",
    "        for line in file:\n",
    "            line = line.strip()  # Remove leading/trailing whitespace\n",
    "\n",
    "            # Check if the line is an ID line (starts with '>')\n",
    "            if line.startswith(\">\"):\n",
    "                # If it's not the first sequence, process the previous one\n",
    "                if sequence_ids:\n",
    "                    term_inside_brackets = re.search(pattern, sequence_ids[-1]).group(1)\n",
    "                    terms_inside_brackets.append(term_inside_brackets)  # Append to the list\n",
    "                # Extract the sequence ID from the ID line\n",
    "                sequence_ids.append(line[1:])\n",
    "                sequences.append(\"\")  # Reset the sequence\n",
    "            else:\n",
    "                # Append the line to the sequence\n",
    "                sequences[-1] += line\n",
    "\n",
    "    # Process the last sequence in the file\n",
    "    if sequence_ids:\n",
    "        term_inside_brackets = re.search(pattern, sequence_ids[-1]).group(1)\n",
    "        terms_inside_brackets.append(term_inside_brackets)\n",
    "\n",
    "    return sequences, terms_inside_brackets"
   ]
  },
  {
   "cell_type": "code",
   "execution_count": 7,
   "id": "53b0ad99",
   "metadata": {},
   "outputs": [],
   "source": [
    "from Bio import SeqIO\n",
    "\n",
    "def read_fasta_patients(file_path):\n",
    "    sequence_ids = []\n",
    "    sequences = []\n",
    "    \n",
    "    try:\n",
    "        with open(file_path, \"r\") as fasta_file:\n",
    "            fasta_sequences = SeqIO.parse(fasta_file, \"fasta\")\n",
    "            \n",
    "            for seq_record in fasta_sequences:\n",
    "                sequence_ids.append(seq_record.id)\n",
    "                sequences.append(str(seq_record.seq))\n",
    "    except FileNotFoundError:\n",
    "        print(\"File not found. Please provide a valid file path.\")\n",
    "    \n",
    "    return sequences, sequence_ids\n"
   ]
  },
  {
   "cell_type": "code",
   "execution_count": 8,
   "id": "ec94d0bd",
   "metadata": {},
   "outputs": [],
   "source": [
    "#This function has input:\n",
    "#sequence to plot that is the easy_cgr(sequence)\n",
    "# plot id that is the name\n",
    "# resolution that is the resolution\n",
    "import matplotlib.pyplot as plt\n",
    "import numpy as np\n",
    "from matplotlib.colors import LinearSegmentedColormap\n",
    "\n",
    "def plotting_cgr(sequence_to_plot,id_to_plot,resolution):\n",
    "\n",
    "  # Define the resolution\n",
    "  num_bins = resolution\n",
    "\n",
    "  # Create a grid for the histogram\n",
    "  xedges = np.linspace(-1, 1, num_bins + 1)\n",
    "  yedges = np.linspace(-1, 1, num_bins + 1)\n",
    "\n",
    "  # Create a 2D histogram\n",
    "  hist, _, _ = np.histogram2d([p[0] for p in sequence_to_plot], [p[1] for p in sequence_to_plot], bins=[xedges, yedges])\n",
    "\n",
    "  # Create a custom colormap spanning from light gray to dark gray\n",
    "  colors = [(1, 1, 1), (0.2, 0.2, 0.2)]  # Light gray to dark gray\n",
    "  cmap_name = \"custom_gray\"\n",
    "  custom_cmap = LinearSegmentedColormap.from_list(cmap_name, colors, N=len(sequence_to_plot) + 1)\n",
    "\n",
    "  # Create a figure\n",
    "  plt.figure()\n",
    "\n",
    "  # Display the 2D histogram with the custom colormap\n",
    "  plt.imshow(hist.T, cmap=custom_cmap, extent=[-1, 1, -1, 1], origin='lower', interpolation='nearest', aspect='auto')\n",
    "\n",
    "  # Calculate coordinates for labels\n",
    "  plt.xticks([])\n",
    "  plt.yticks([])\n",
    "  x_margin, y_margin = 0.05, 0.05\n",
    "  label_coordinates = {\n",
    "      \"A\": (1+ x_margin, 1 +y_margin),\n",
    "      \"T\": (-1 - x_margin, -1-y_margin),\n",
    "      \"C\": (1 + x_margin, -1 -y_margin),\n",
    "      \"G\": (-1 - x_margin, 1 + y_margin),\n",
    "  }\n",
    "\n",
    "  # Add labels outside the grid\n",
    "  for letter, (x, y) in label_coordinates.items():\n",
    "      plt.text(x, y, letter, ha='center', va='center', fontsize=15, color='black')\n",
    "  # Show the plot\n",
    "  plt.title('CGR for '+id_to_plot)\n",
    "  plt.grid(False)  # Turn off grid lines\n",
    "  plt.show()\n"
   ]
  },
  {
   "cell_type": "code",
   "execution_count": 9,
   "id": "c1d1f0d7",
   "metadata": {},
   "outputs": [],
   "source": [
    "import random\n",
    "\n",
    "def replace_ambiguous_bases(sequence):\n",
    "    def resolve_ambiguity(code):\n",
    "        if code == 'R':\n",
    "            return random.choice(['A', 'G'])\n",
    "        elif code == 'Y':\n",
    "            return random.choice(['C', 'T'])\n",
    "        elif code == 'S':\n",
    "            return random.choice(['G', 'C'])\n",
    "        elif code == 'W':\n",
    "            return random.choice(['A', 'T'])\n",
    "        elif code == 'K':\n",
    "            return random.choice(['G', 'T'])\n",
    "        elif code == 'M':\n",
    "            return random.choice(['A', 'C'])\n",
    "        elif code == 'B':\n",
    "            return random.choice(['C', 'G', 'T'])\n",
    "        elif code == 'D':\n",
    "            return random.choice(['A', 'G', 'T'])\n",
    "        elif code == 'H':\n",
    "            return random.choice(['A', 'C', 'T'])\n",
    "        elif code == 'V':\n",
    "            return random.choice(['A', 'C', 'G'])\n",
    "        elif code == 'N':\n",
    "            return random.choice(['A', 'T', 'C', 'G'])\n",
    "        else:\n",
    "            return code  # If the code is not an ambiguity code, return the same code\n",
    "    \n",
    "    resolved_sequence = ''.join(resolve_ambiguity(base) for base in sequence)\n",
    "    return resolved_sequence"
   ]
  },
  {
   "cell_type": "code",
   "execution_count": 10,
   "id": "d26dbe36",
   "metadata": {},
   "outputs": [],
   "source": [
    "import numpy as np\n",
    "import matplotlib.pyplot as plt\n",
    "from matplotlib.colors import LinearSegmentedColormap\n",
    "\n",
    "def generate_cgr_and_save(sequence_to_plot, kmeres, output_filename):\n",
    "    # Define the resolution\n",
    "    num_bins = 2 ** kmeres\n",
    "\n",
    "    # Create a grid for the histogram\n",
    "    xedges = np.linspace(-1, 1, num_bins + 1)\n",
    "    yedges = np.linspace(-1, 1, num_bins + 1)\n",
    "\n",
    "    # Create a 2D histogram\n",
    "    hist, _, _ = np.histogram2d(\n",
    "        [p[0] for p in sequence_to_plot],\n",
    "        [p[1] for p in sequence_to_plot],\n",
    "        bins=[xedges, yedges]\n",
    "    )\n",
    "\n",
    "    # Create a custom colormap spanning from light gray to dark gray\n",
    "    colors = [(1, 1, 1), (0.2, 0.2, 0.2)]  # Light gray to dark gray\n",
    "    cmap_name = \"custom_gray\"\n",
    "    custom_cmap = LinearSegmentedColormap.from_list(cmap_name, colors, N=len(sequence_to_plot) + 1)\n",
    "\n",
    "    # Create a square figure with the desired size in inches\n",
    "    dpi = 100\n",
    "    fig, ax = plt.subplots(figsize=(84 / dpi, 84 / dpi), dpi=dpi)\n",
    "\n",
    "    # Plot the histogram using imshow and set the extent to specify the image size\n",
    "    ax.imshow(\n",
    "        hist.T,\n",
    "        cmap=custom_cmap,\n",
    "        origin='lower',\n",
    "        extent=[-1, 1, -1, 1],  # Setting extent to create a 100x100 pixel image\n",
    "        interpolation='nearest'  # Optional: adjust the interpolation method\n",
    "    )\n",
    "\n",
    "    # Turn off the axis\n",
    "    ax.axis('off')\n",
    "\n",
    "    # Save the figure directly as an image using matplotlib.pyplot.savefig\n",
    "    plt.savefig(output_filename, bbox_inches='tight', pad_inches=0, dpi=dpi)\n",
    "    plt.close()\n",
    "\n",
    "# Your remaining function remains unchanged\n",
    "def generate_and_save_cgr_images(sequences, ids, output_dir, kmeres):\n",
    "    # Create the output directory if it doesn't exist\n",
    "    \n",
    "\n",
    "    for i, (sequence, label) in enumerate(zip(sequences, ids)):\n",
    "        # Generate the image filename based on the class label and sequence index\n",
    "        image_filename = os.path.join(output_dir, f\"{i}_{label}.png\")\n",
    "\n",
    "        # Generate and save the CGR image\n",
    "        generate_cgr_and_save(sequence, kmeres, image_filename)"
   ]
  },
  {
   "cell_type": "code",
   "execution_count": 11,
   "id": "0e3947ce",
   "metadata": {},
   "outputs": [],
   "source": [
    "\n",
    "def read_fasta_ARG(file_name):\n",
    "    sequences = []\n",
    "    with open(file_name, 'r') as file:\n",
    "        sequence_id = ''\n",
    "        sequence = ''\n",
    "        for line in file:\n",
    "            line = line.strip()\n",
    "            if line.startswith('>'):\n",
    "                if sequence_id != '':\n",
    "                    sequences.append(sequence_id.split('|') + [sequence])\n",
    "                sequence_id = line[1:]\n",
    "                sequence = ''\n",
    "            else:\n",
    "                sequence += line\n",
    "        if sequence_id != '':\n",
    "            sequences.append(sequence_id.split('|') + [sequence])\n",
    "    return sequences"
   ]
  },
  {
   "cell_type": "code",
   "execution_count": 12,
   "id": "6517138b",
   "metadata": {},
   "outputs": [],
   "source": [
    "import numpy as np\n",
    "import matplotlib.pyplot as plt\n",
    "from matplotlib.colors import LinearSegmentedColormap\n",
    "\n",
    "def generate_cgr_and_save(sequence_to_plot, kmeres, output_filename):\n",
    "    # Define the resolution\n",
    "    num_bins = 2 ** kmeres\n",
    "\n",
    "    # Create a grid for the histogram\n",
    "    xedges = np.linspace(-1, 1, num_bins + 1)\n",
    "    yedges = np.linspace(-1, 1, num_bins + 1)\n",
    "\n",
    "    # Create a 2D histogram\n",
    "    hist, _, _ = np.histogram2d(\n",
    "        [p[0] for p in sequence_to_plot],\n",
    "        [p[1] for p in sequence_to_plot],\n",
    "        bins=[xedges, yedges]\n",
    "    )\n",
    "\n",
    "    # Create a custom colormap spanning from light gray to dark gray\n",
    "    colors = [(1, 1, 1), (0.2, 0.2, 0.2)]  # Light gray to dark gray\n",
    "    cmap_name = \"custom_gray\"\n",
    "    custom_cmap = LinearSegmentedColormap.from_list(cmap_name, colors, N=len(sequence_to_plot) + 1)\n",
    "\n",
    "    # Create a square figure with the desired size in inches\n",
    "    dpi = 100\n",
    "    fig, ax = plt.subplots(figsize=(100 / dpi, 100 / dpi), dpi=dpi)\n",
    "\n",
    "    # Plot the histogram using imshow and set the extent to specify the image size\n",
    "    ax.imshow(\n",
    "        hist.T,\n",
    "        cmap=custom_cmap,\n",
    "        origin='lower',\n",
    "        extent=[-1, 1, -1, 1],  # Setting extent to create a 100x100 pixel image\n",
    "        interpolation='nearest'  # Optional: adjust the interpolation method\n",
    "    )\n",
    "\n",
    "    # Turn off the axis\n",
    "    ax.axis('off')\n",
    "\n",
    "    # Save the figure directly as an image using matplotlib.pyplot.savefig\n",
    "    plt.savefig(output_filename, bbox_inches='tight', pad_inches=0, dpi=dpi)\n",
    "    plt.close()\n",
    "\n",
    "# Your remaining function remains unchanged\n",
    "def generate_and_save_cgr_images_label(sequences, class_labels, output_dir, kmeres):\n",
    "    # Create the output directory if it doesn't exist\n",
    "    os.makedirs(output_dir, exist_ok=True)\n",
    "\n",
    "    for i, (sequence, label) in enumerate(zip(sequences, class_labels)):\n",
    "        # Generate the image filename based on the class label and sequence index\n",
    "        image_filename = os.path.join(output_dir, f\"{label}.png\")\n",
    "\n",
    "        # Generate and save the CGR image\n",
    "        generate_cgr_and_save(sequence, kmeres, image_filename)"
   ]
  },
  {
   "cell_type": "markdown",
   "id": "a8e7cbef",
   "metadata": {},
   "source": [
    "###  Patient 11"
   ]
  },
  {
   "cell_type": "code",
   "execution_count": 13,
   "id": "0964a21c",
   "metadata": {
    "scrolled": true
   },
   "outputs": [],
   "source": [
    "import pandas as pd\n",
    "\n",
    "file_name = \"Patient11.contigs.fa\"\n",
    "fasta_sequences = read_fasta_ARG(file_name)"
   ]
  },
  {
   "cell_type": "code",
   "execution_count": 14,
   "id": "dcd59256",
   "metadata": {},
   "outputs": [],
   "source": [
    "# Convert to DataFrame\n",
    "patient_11 = pd.DataFrame(fasta_sequences, columns=[ 'ids', 'seq'])\n"
   ]
  },
  {
   "cell_type": "code",
   "execution_count": 15,
   "id": "5a31b73f",
   "metadata": {},
   "outputs": [
    {
     "data": {
      "text/html": [
       "<div>\n",
       "<style scoped>\n",
       "    .dataframe tbody tr th:only-of-type {\n",
       "        vertical-align: middle;\n",
       "    }\n",
       "\n",
       "    .dataframe tbody tr th {\n",
       "        vertical-align: top;\n",
       "    }\n",
       "\n",
       "    .dataframe thead th {\n",
       "        text-align: right;\n",
       "    }\n",
       "</style>\n",
       "<table border=\"1\" class=\"dataframe\">\n",
       "  <thead>\n",
       "    <tr style=\"text-align: right;\">\n",
       "      <th></th>\n",
       "      <th>ids</th>\n",
       "      <th>seq</th>\n",
       "    </tr>\n",
       "  </thead>\n",
       "  <tbody>\n",
       "    <tr>\n",
       "      <th>0</th>\n",
       "      <td>k127_34166 flag=1 multi=5.4219 len=2675</td>\n",
       "      <td>ATTGTAATTGTTTCCGCCGCTGTATTTGCAGTTTTCGCCCAGCAGG...</td>\n",
       "    </tr>\n",
       "    <tr>\n",
       "      <th>1</th>\n",
       "      <td>k127_119569 flag=1 multi=6.0000 len=3361</td>\n",
       "      <td>CCGCAATTGATGCCTTGGGGACTCTCTTCCCAAGTAGCGCCGACGA...</td>\n",
       "    </tr>\n",
       "    <tr>\n",
       "      <th>2</th>\n",
       "      <td>k127_13 flag=1 multi=6.0000 len=2747</td>\n",
       "      <td>TGCAAGCCCCTGCAACTTCAGCCGCTGTTCCGGTGCGGTCGCCACT...</td>\n",
       "    </tr>\n",
       "    <tr>\n",
       "      <th>3</th>\n",
       "      <td>k127_15 flag=1 multi=4.0000 len=2937</td>\n",
       "      <td>GCTTAAAGGCAGTCGGAGATGACGGAGAAGATTTAGGTGAAGTAAA...</td>\n",
       "    </tr>\n",
       "    <tr>\n",
       "      <th>4</th>\n",
       "      <td>k127_85416 flag=1 multi=7.0000 len=7362</td>\n",
       "      <td>AAAAGAAAGCGTTTTTAGCAGAATTGTCGAAAAGCTGAAAAAACGA...</td>\n",
       "    </tr>\n",
       "    <tr>\n",
       "      <th>...</th>\n",
       "      <td>...</td>\n",
       "      <td>...</td>\n",
       "    </tr>\n",
       "    <tr>\n",
       "      <th>10017</th>\n",
       "      <td>k127_51170 flag=0 multi=5.9709 len=3562</td>\n",
       "      <td>TCAACGCCTGCACTTTATCTGGCATCAAGTCAAAAGGCAGCCAAAG...</td>\n",
       "    </tr>\n",
       "    <tr>\n",
       "      <th>10018</th>\n",
       "      <td>k127_51190 flag=1 multi=6.0000 len=4703</td>\n",
       "      <td>ACGTATAATCAATCAAGATACAGTTAATTTAATAAAGAAAATTGTA...</td>\n",
       "    </tr>\n",
       "    <tr>\n",
       "      <th>10019</th>\n",
       "      <td>k127_51199 flag=1 multi=5.0000 len=4856</td>\n",
       "      <td>TGCCGTCTGCAGACTGCTCTGGGTGACAAGTATCTGGTAACCGAAG...</td>\n",
       "    </tr>\n",
       "    <tr>\n",
       "      <th>10020</th>\n",
       "      <td>k127_51221 flag=1 multi=6.0000 len=2732</td>\n",
       "      <td>CACAGTATAACGGCGCGCTTGGCGCAGCCCTGATGGCATATCAGGT...</td>\n",
       "    </tr>\n",
       "    <tr>\n",
       "      <th>10021</th>\n",
       "      <td>k127_51222 flag=1 multi=6.0000 len=6353</td>\n",
       "      <td>TATCAGCCCTTGTGTCTATGGCATGTTCTGATGGTGCCAGACAGAC...</td>\n",
       "    </tr>\n",
       "  </tbody>\n",
       "</table>\n",
       "<p>10022 rows × 2 columns</p>\n",
       "</div>"
      ],
      "text/plain": [
       "                                            ids  \\\n",
       "0       k127_34166 flag=1 multi=5.4219 len=2675   \n",
       "1      k127_119569 flag=1 multi=6.0000 len=3361   \n",
       "2          k127_13 flag=1 multi=6.0000 len=2747   \n",
       "3          k127_15 flag=1 multi=4.0000 len=2937   \n",
       "4       k127_85416 flag=1 multi=7.0000 len=7362   \n",
       "...                                         ...   \n",
       "10017   k127_51170 flag=0 multi=5.9709 len=3562   \n",
       "10018   k127_51190 flag=1 multi=6.0000 len=4703   \n",
       "10019   k127_51199 flag=1 multi=5.0000 len=4856   \n",
       "10020   k127_51221 flag=1 multi=6.0000 len=2732   \n",
       "10021   k127_51222 flag=1 multi=6.0000 len=6353   \n",
       "\n",
       "                                                     seq  \n",
       "0      ATTGTAATTGTTTCCGCCGCTGTATTTGCAGTTTTCGCCCAGCAGG...  \n",
       "1      CCGCAATTGATGCCTTGGGGACTCTCTTCCCAAGTAGCGCCGACGA...  \n",
       "2      TGCAAGCCCCTGCAACTTCAGCCGCTGTTCCGGTGCGGTCGCCACT...  \n",
       "3      GCTTAAAGGCAGTCGGAGATGACGGAGAAGATTTAGGTGAAGTAAA...  \n",
       "4      AAAAGAAAGCGTTTTTAGCAGAATTGTCGAAAAGCTGAAAAAACGA...  \n",
       "...                                                  ...  \n",
       "10017  TCAACGCCTGCACTTTATCTGGCATCAAGTCAAAAGGCAGCCAAAG...  \n",
       "10018  ACGTATAATCAATCAAGATACAGTTAATTTAATAAAGAAAATTGTA...  \n",
       "10019  TGCCGTCTGCAGACTGCTCTGGGTGACAAGTATCTGGTAACCGAAG...  \n",
       "10020  CACAGTATAACGGCGCGCTTGGCGCAGCCCTGATGGCATATCAGGT...  \n",
       "10021  TATCAGCCCTTGTGTCTATGGCATGTTCTGATGGTGCCAGACAGAC...  \n",
       "\n",
       "[10022 rows x 2 columns]"
      ]
     },
     "execution_count": 15,
     "metadata": {},
     "output_type": "execute_result"
    }
   ],
   "source": [
    "patient_11"
   ]
  },
  {
   "cell_type": "code",
   "execution_count": 16,
   "id": "20fcb20e",
   "metadata": {
    "scrolled": false
   },
   "outputs": [],
   "source": [
    "# Define a function to extract the desired pattern\n",
    "def extract_id_11(string):\n",
    "    match = re.search(r'(k127_\\d+)', string)\n",
    "    if match:\n",
    "        return match.group(1) + '_11'\n",
    "    else:\n",
    "        return None\n",
    "\n",
    "# Apply the function to the 'ids' column\n",
    "patient_11['ids'] = patient_11['ids'].apply(extract_id_11)\n",
    "\n"
   ]
  },
  {
   "cell_type": "code",
   "execution_count": 17,
   "id": "56ca0f6f",
   "metadata": {},
   "outputs": [
    {
     "data": {
      "text/html": [
       "<div>\n",
       "<style scoped>\n",
       "    .dataframe tbody tr th:only-of-type {\n",
       "        vertical-align: middle;\n",
       "    }\n",
       "\n",
       "    .dataframe tbody tr th {\n",
       "        vertical-align: top;\n",
       "    }\n",
       "\n",
       "    .dataframe thead th {\n",
       "        text-align: right;\n",
       "    }\n",
       "</style>\n",
       "<table border=\"1\" class=\"dataframe\">\n",
       "  <thead>\n",
       "    <tr style=\"text-align: right;\">\n",
       "      <th></th>\n",
       "      <th>ids</th>\n",
       "      <th>seq</th>\n",
       "    </tr>\n",
       "  </thead>\n",
       "  <tbody>\n",
       "    <tr>\n",
       "      <th>0</th>\n",
       "      <td>k127_34166_11</td>\n",
       "      <td>ATTGTAATTGTTTCCGCCGCTGTATTTGCAGTTTTCGCCCAGCAGG...</td>\n",
       "    </tr>\n",
       "    <tr>\n",
       "      <th>1</th>\n",
       "      <td>k127_119569_11</td>\n",
       "      <td>CCGCAATTGATGCCTTGGGGACTCTCTTCCCAAGTAGCGCCGACGA...</td>\n",
       "    </tr>\n",
       "    <tr>\n",
       "      <th>2</th>\n",
       "      <td>k127_13_11</td>\n",
       "      <td>TGCAAGCCCCTGCAACTTCAGCCGCTGTTCCGGTGCGGTCGCCACT...</td>\n",
       "    </tr>\n",
       "    <tr>\n",
       "      <th>3</th>\n",
       "      <td>k127_15_11</td>\n",
       "      <td>GCTTAAAGGCAGTCGGAGATGACGGAGAAGATTTAGGTGAAGTAAA...</td>\n",
       "    </tr>\n",
       "    <tr>\n",
       "      <th>4</th>\n",
       "      <td>k127_85416_11</td>\n",
       "      <td>AAAAGAAAGCGTTTTTAGCAGAATTGTCGAAAAGCTGAAAAAACGA...</td>\n",
       "    </tr>\n",
       "    <tr>\n",
       "      <th>...</th>\n",
       "      <td>...</td>\n",
       "      <td>...</td>\n",
       "    </tr>\n",
       "    <tr>\n",
       "      <th>10017</th>\n",
       "      <td>k127_51170_11</td>\n",
       "      <td>TCAACGCCTGCACTTTATCTGGCATCAAGTCAAAAGGCAGCCAAAG...</td>\n",
       "    </tr>\n",
       "    <tr>\n",
       "      <th>10018</th>\n",
       "      <td>k127_51190_11</td>\n",
       "      <td>ACGTATAATCAATCAAGATACAGTTAATTTAATAAAGAAAATTGTA...</td>\n",
       "    </tr>\n",
       "    <tr>\n",
       "      <th>10019</th>\n",
       "      <td>k127_51199_11</td>\n",
       "      <td>TGCCGTCTGCAGACTGCTCTGGGTGACAAGTATCTGGTAACCGAAG...</td>\n",
       "    </tr>\n",
       "    <tr>\n",
       "      <th>10020</th>\n",
       "      <td>k127_51221_11</td>\n",
       "      <td>CACAGTATAACGGCGCGCTTGGCGCAGCCCTGATGGCATATCAGGT...</td>\n",
       "    </tr>\n",
       "    <tr>\n",
       "      <th>10021</th>\n",
       "      <td>k127_51222_11</td>\n",
       "      <td>TATCAGCCCTTGTGTCTATGGCATGTTCTGATGGTGCCAGACAGAC...</td>\n",
       "    </tr>\n",
       "  </tbody>\n",
       "</table>\n",
       "<p>10022 rows × 2 columns</p>\n",
       "</div>"
      ],
      "text/plain": [
       "                  ids                                                seq\n",
       "0       k127_34166_11  ATTGTAATTGTTTCCGCCGCTGTATTTGCAGTTTTCGCCCAGCAGG...\n",
       "1      k127_119569_11  CCGCAATTGATGCCTTGGGGACTCTCTTCCCAAGTAGCGCCGACGA...\n",
       "2          k127_13_11  TGCAAGCCCCTGCAACTTCAGCCGCTGTTCCGGTGCGGTCGCCACT...\n",
       "3          k127_15_11  GCTTAAAGGCAGTCGGAGATGACGGAGAAGATTTAGGTGAAGTAAA...\n",
       "4       k127_85416_11  AAAAGAAAGCGTTTTTAGCAGAATTGTCGAAAAGCTGAAAAAACGA...\n",
       "...               ...                                                ...\n",
       "10017   k127_51170_11  TCAACGCCTGCACTTTATCTGGCATCAAGTCAAAAGGCAGCCAAAG...\n",
       "10018   k127_51190_11  ACGTATAATCAATCAAGATACAGTTAATTTAATAAAGAAAATTGTA...\n",
       "10019   k127_51199_11  TGCCGTCTGCAGACTGCTCTGGGTGACAAGTATCTGGTAACCGAAG...\n",
       "10020   k127_51221_11  CACAGTATAACGGCGCGCTTGGCGCAGCCCTGATGGCATATCAGGT...\n",
       "10021   k127_51222_11  TATCAGCCCTTGTGTCTATGGCATGTTCTGATGGTGCCAGACAGAC...\n",
       "\n",
       "[10022 rows x 2 columns]"
      ]
     },
     "execution_count": 17,
     "metadata": {},
     "output_type": "execute_result"
    }
   ],
   "source": [
    "patient_11"
   ]
  },
  {
   "cell_type": "code",
   "execution_count": 18,
   "id": "95834220",
   "metadata": {},
   "outputs": [
    {
     "name": "stdout",
     "output_type": "stream",
     "text": [
      "There are no duplicate seq in the DataFrame.\n"
     ]
    }
   ],
   "source": [
    "# Assuming df_antibiotics_and_conjugate is your DataFrame\n",
    "# You can replace it with the name of your actual DataFrame\n",
    "\n",
    "# Check for duplicates in the \"ids\" column\n",
    "duplicates = patient_11[patient_11.duplicated('seq')]\n",
    "\n",
    "# If there are duplicates, duplicates DataFrame will contain those rows\n",
    "# If duplicates is empty, it means there are no duplicate ids\n",
    "if not duplicates.empty:\n",
    "    print(\"There are duplicate seq in the DataFrame:\")\n",
    "    print(duplicates)\n",
    "else:\n",
    "    print(\"There are no duplicate seq in the DataFrame.\")\n"
   ]
  },
  {
   "cell_type": "code",
   "execution_count": 19,
   "id": "61ed4981",
   "metadata": {},
   "outputs": [],
   "source": [
    "patient_ids = patient_11['ids'].tolist()\n",
    "patient_list = patient_11['seq'].tolist()\n"
   ]
  },
  {
   "cell_type": "code",
   "execution_count": 20,
   "id": "8a5e8940",
   "metadata": {},
   "outputs": [
    {
     "data": {
      "text/plain": [
       "10022"
      ]
     },
     "execution_count": 20,
     "metadata": {},
     "output_type": "execute_result"
    }
   ],
   "source": [
    "len(patient_ids)\n"
   ]
  },
  {
   "cell_type": "code",
   "execution_count": 21,
   "id": "3249cf73",
   "metadata": {},
   "outputs": [
    {
     "data": {
      "text/plain": [
       "10022"
      ]
     },
     "execution_count": 21,
     "metadata": {},
     "output_type": "execute_result"
    }
   ],
   "source": [
    "len(patient_list)"
   ]
  },
  {
   "cell_type": "code",
   "execution_count": null,
   "id": "c68efde5",
   "metadata": {},
   "outputs": [],
   "source": [
    "\n"
   ]
  },
  {
   "cell_type": "code",
   "execution_count": 22,
   "id": "55d78d3d",
   "metadata": {},
   "outputs": [
    {
     "name": "stdout",
     "output_type": "stream",
     "text": [
      "Time to generate images: 538.7846436500549 seconds\n"
     ]
    }
   ],
   "source": [
    "import time\n",
    "start_time = time.time()\n",
    "seq_num=[]\n",
    "\n",
    "\n",
    "all_seq = patient_list\n",
    "all_seq = [replace_ambiguous_bases(seq) for seq in all_seq]\n",
    "for sequence in all_seq:\n",
    "        seq_cgr = easy_cgr(sequence)\n",
    "        seq_num.append(seq_cgr)\n",
    "sequences = seq_num\n",
    "class_labels = patient_ids \n",
    "output_directory = \"patient_11_res_7\"\n",
    "kmeres=7\n",
    "\n",
    "if not os.path.exists(output_directory):\n",
    "    os.makedirs(output_directory)\n",
    "\n",
    "# Call the function to generate and save CGR images\n",
    "generate_and_save_cgr_images_label(sequences, class_labels, output_directory,kmeres)\n",
    "\n",
    "end_time = time.time()\n",
    "elapsed_time = end_time - start_time\n",
    "\n",
    "# Print the time taken\n",
    "print(f\"Time to generate images: {elapsed_time} seconds\")"
   ]
  },
  {
   "cell_type": "code",
   "execution_count": null,
   "id": "c75f58f8",
   "metadata": {},
   "outputs": [],
   "source": []
  },
  {
   "cell_type": "code",
   "execution_count": null,
   "id": "b3e2ebf0",
   "metadata": {},
   "outputs": [],
   "source": []
  },
  {
   "cell_type": "markdown",
   "id": "07d43e7c",
   "metadata": {},
   "source": [
    "###  Patient 12"
   ]
  },
  {
   "cell_type": "code",
   "execution_count": 23,
   "id": "061bc157",
   "metadata": {
    "scrolled": true
   },
   "outputs": [],
   "source": [
    "import pandas as pd\n",
    "\n",
    "file_name = \"Patient12.contigs.fa\"\n",
    "fasta_sequences = read_fasta_ARG(file_name)"
   ]
  },
  {
   "cell_type": "code",
   "execution_count": 24,
   "id": "3bf66e7c",
   "metadata": {},
   "outputs": [],
   "source": [
    "# Convert to DataFrame\n",
    "patient_12 = pd.DataFrame(fasta_sequences, columns=[ 'ids', 'seq'])\n"
   ]
  },
  {
   "cell_type": "code",
   "execution_count": 25,
   "id": "48b7892e",
   "metadata": {},
   "outputs": [
    {
     "data": {
      "text/html": [
       "<div>\n",
       "<style scoped>\n",
       "    .dataframe tbody tr th:only-of-type {\n",
       "        vertical-align: middle;\n",
       "    }\n",
       "\n",
       "    .dataframe tbody tr th {\n",
       "        vertical-align: top;\n",
       "    }\n",
       "\n",
       "    .dataframe thead th {\n",
       "        text-align: right;\n",
       "    }\n",
       "</style>\n",
       "<table border=\"1\" class=\"dataframe\">\n",
       "  <thead>\n",
       "    <tr style=\"text-align: right;\">\n",
       "      <th></th>\n",
       "      <th>ids</th>\n",
       "      <th>seq</th>\n",
       "    </tr>\n",
       "  </thead>\n",
       "  <tbody>\n",
       "    <tr>\n",
       "      <th>0</th>\n",
       "      <td>k127_83430 flag=1 multi=5.0000 len=2582</td>\n",
       "      <td>TCCTTTTTCGGTTTGCTTTGGGATATAATAATTTCCTTTTTCAGAA...</td>\n",
       "    </tr>\n",
       "    <tr>\n",
       "      <th>1</th>\n",
       "      <td>k127_33374 flag=0 multi=11.4901 len=4273</td>\n",
       "      <td>CCGTTCTTAACGCTCACGAGCCTTGTAAGGCTCGTGGCTAAACGGA...</td>\n",
       "    </tr>\n",
       "    <tr>\n",
       "      <th>2</th>\n",
       "      <td>k127_13 flag=0 multi=5.9726 len=2538</td>\n",
       "      <td>TGTAATGACACCAATGAAATATCATGAGCAATATACAAAAGCAGCA...</td>\n",
       "    </tr>\n",
       "    <tr>\n",
       "      <th>3</th>\n",
       "      <td>k127_19 flag=1 multi=4.9827 len=3827</td>\n",
       "      <td>GTCGTATATTGACGTCAACGTCCATCCGGCGAAGATGGAGATCCGT...</td>\n",
       "    </tr>\n",
       "    <tr>\n",
       "      <th>4</th>\n",
       "      <td>k127_66749 flag=1 multi=6.0000 len=4754</td>\n",
       "      <td>GCGTGACTCGGTCGAATCCCCGGAGGAAGTCGAATCCGCGCAGCTG...</td>\n",
       "    </tr>\n",
       "    <tr>\n",
       "      <th>...</th>\n",
       "      <td>...</td>\n",
       "      <td>...</td>\n",
       "    </tr>\n",
       "    <tr>\n",
       "      <th>8440</th>\n",
       "      <td>k127_83384 flag=1 multi=7.0000 len=2561</td>\n",
       "      <td>CATCGTTTAACTCTATTGTCAAAAAGCCATTTGCGTCTAATTCTTT...</td>\n",
       "    </tr>\n",
       "    <tr>\n",
       "      <th>8441</th>\n",
       "      <td>k127_83385 flag=1 multi=5.0000 len=2518</td>\n",
       "      <td>AATGCACACAGCACCGAGTGCCAAAAGCACCAGCAGAATCAGAACT...</td>\n",
       "    </tr>\n",
       "    <tr>\n",
       "      <th>8442</th>\n",
       "      <td>k127_83391 flag=0 multi=8.0000 len=3380</td>\n",
       "      <td>ATCTTACGACTGTCAAAGAATCCCAAACCTGCTGCATTGCTTACAT...</td>\n",
       "    </tr>\n",
       "    <tr>\n",
       "      <th>8443</th>\n",
       "      <td>k127_83411 flag=1 multi=4.0000 len=5426</td>\n",
       "      <td>GTGTTCTTCGTTTCTTTCCTGATGCCATACACGTTCCCTCTTTTCT...</td>\n",
       "    </tr>\n",
       "    <tr>\n",
       "      <th>8444</th>\n",
       "      <td>k127_83415 flag=1 multi=5.0000 len=3337</td>\n",
       "      <td>ACGAACATTGGTCTAAATATAGCAAAAACAAATGAAAAACAGCAAG...</td>\n",
       "    </tr>\n",
       "  </tbody>\n",
       "</table>\n",
       "<p>8445 rows × 2 columns</p>\n",
       "</div>"
      ],
      "text/plain": [
       "                                           ids  \\\n",
       "0      k127_83430 flag=1 multi=5.0000 len=2582   \n",
       "1     k127_33374 flag=0 multi=11.4901 len=4273   \n",
       "2         k127_13 flag=0 multi=5.9726 len=2538   \n",
       "3         k127_19 flag=1 multi=4.9827 len=3827   \n",
       "4      k127_66749 flag=1 multi=6.0000 len=4754   \n",
       "...                                        ...   \n",
       "8440   k127_83384 flag=1 multi=7.0000 len=2561   \n",
       "8441   k127_83385 flag=1 multi=5.0000 len=2518   \n",
       "8442   k127_83391 flag=0 multi=8.0000 len=3380   \n",
       "8443   k127_83411 flag=1 multi=4.0000 len=5426   \n",
       "8444   k127_83415 flag=1 multi=5.0000 len=3337   \n",
       "\n",
       "                                                    seq  \n",
       "0     TCCTTTTTCGGTTTGCTTTGGGATATAATAATTTCCTTTTTCAGAA...  \n",
       "1     CCGTTCTTAACGCTCACGAGCCTTGTAAGGCTCGTGGCTAAACGGA...  \n",
       "2     TGTAATGACACCAATGAAATATCATGAGCAATATACAAAAGCAGCA...  \n",
       "3     GTCGTATATTGACGTCAACGTCCATCCGGCGAAGATGGAGATCCGT...  \n",
       "4     GCGTGACTCGGTCGAATCCCCGGAGGAAGTCGAATCCGCGCAGCTG...  \n",
       "...                                                 ...  \n",
       "8440  CATCGTTTAACTCTATTGTCAAAAAGCCATTTGCGTCTAATTCTTT...  \n",
       "8441  AATGCACACAGCACCGAGTGCCAAAAGCACCAGCAGAATCAGAACT...  \n",
       "8442  ATCTTACGACTGTCAAAGAATCCCAAACCTGCTGCATTGCTTACAT...  \n",
       "8443  GTGTTCTTCGTTTCTTTCCTGATGCCATACACGTTCCCTCTTTTCT...  \n",
       "8444  ACGAACATTGGTCTAAATATAGCAAAAACAAATGAAAAACAGCAAG...  \n",
       "\n",
       "[8445 rows x 2 columns]"
      ]
     },
     "execution_count": 25,
     "metadata": {},
     "output_type": "execute_result"
    }
   ],
   "source": [
    "patient_12"
   ]
  },
  {
   "cell_type": "code",
   "execution_count": 26,
   "id": "0baaf626",
   "metadata": {
    "scrolled": false
   },
   "outputs": [],
   "source": [
    "# Define a function to extract the desired pattern\n",
    "def extract_id_12(string):\n",
    "    match = re.search(r'(k127_\\d+)', string)\n",
    "    if match:\n",
    "        return match.group(1) + '_12'\n",
    "    else:\n",
    "        return None\n",
    "\n",
    "# Apply the function to the 'ids' column\n",
    "patient_12['ids'] = patient_12['ids'].apply(extract_id_12)\n",
    "\n"
   ]
  },
  {
   "cell_type": "code",
   "execution_count": 27,
   "id": "b11bc8fb",
   "metadata": {},
   "outputs": [
    {
     "data": {
      "text/html": [
       "<div>\n",
       "<style scoped>\n",
       "    .dataframe tbody tr th:only-of-type {\n",
       "        vertical-align: middle;\n",
       "    }\n",
       "\n",
       "    .dataframe tbody tr th {\n",
       "        vertical-align: top;\n",
       "    }\n",
       "\n",
       "    .dataframe thead th {\n",
       "        text-align: right;\n",
       "    }\n",
       "</style>\n",
       "<table border=\"1\" class=\"dataframe\">\n",
       "  <thead>\n",
       "    <tr style=\"text-align: right;\">\n",
       "      <th></th>\n",
       "      <th>ids</th>\n",
       "      <th>seq</th>\n",
       "    </tr>\n",
       "  </thead>\n",
       "  <tbody>\n",
       "    <tr>\n",
       "      <th>0</th>\n",
       "      <td>k127_83430_12</td>\n",
       "      <td>TCCTTTTTCGGTTTGCTTTGGGATATAATAATTTCCTTTTTCAGAA...</td>\n",
       "    </tr>\n",
       "    <tr>\n",
       "      <th>1</th>\n",
       "      <td>k127_33374_12</td>\n",
       "      <td>CCGTTCTTAACGCTCACGAGCCTTGTAAGGCTCGTGGCTAAACGGA...</td>\n",
       "    </tr>\n",
       "    <tr>\n",
       "      <th>2</th>\n",
       "      <td>k127_13_12</td>\n",
       "      <td>TGTAATGACACCAATGAAATATCATGAGCAATATACAAAAGCAGCA...</td>\n",
       "    </tr>\n",
       "    <tr>\n",
       "      <th>3</th>\n",
       "      <td>k127_19_12</td>\n",
       "      <td>GTCGTATATTGACGTCAACGTCCATCCGGCGAAGATGGAGATCCGT...</td>\n",
       "    </tr>\n",
       "    <tr>\n",
       "      <th>4</th>\n",
       "      <td>k127_66749_12</td>\n",
       "      <td>GCGTGACTCGGTCGAATCCCCGGAGGAAGTCGAATCCGCGCAGCTG...</td>\n",
       "    </tr>\n",
       "    <tr>\n",
       "      <th>...</th>\n",
       "      <td>...</td>\n",
       "      <td>...</td>\n",
       "    </tr>\n",
       "    <tr>\n",
       "      <th>8440</th>\n",
       "      <td>k127_83384_12</td>\n",
       "      <td>CATCGTTTAACTCTATTGTCAAAAAGCCATTTGCGTCTAATTCTTT...</td>\n",
       "    </tr>\n",
       "    <tr>\n",
       "      <th>8441</th>\n",
       "      <td>k127_83385_12</td>\n",
       "      <td>AATGCACACAGCACCGAGTGCCAAAAGCACCAGCAGAATCAGAACT...</td>\n",
       "    </tr>\n",
       "    <tr>\n",
       "      <th>8442</th>\n",
       "      <td>k127_83391_12</td>\n",
       "      <td>ATCTTACGACTGTCAAAGAATCCCAAACCTGCTGCATTGCTTACAT...</td>\n",
       "    </tr>\n",
       "    <tr>\n",
       "      <th>8443</th>\n",
       "      <td>k127_83411_12</td>\n",
       "      <td>GTGTTCTTCGTTTCTTTCCTGATGCCATACACGTTCCCTCTTTTCT...</td>\n",
       "    </tr>\n",
       "    <tr>\n",
       "      <th>8444</th>\n",
       "      <td>k127_83415_12</td>\n",
       "      <td>ACGAACATTGGTCTAAATATAGCAAAAACAAATGAAAAACAGCAAG...</td>\n",
       "    </tr>\n",
       "  </tbody>\n",
       "</table>\n",
       "<p>8445 rows × 2 columns</p>\n",
       "</div>"
      ],
      "text/plain": [
       "                ids                                                seq\n",
       "0     k127_83430_12  TCCTTTTTCGGTTTGCTTTGGGATATAATAATTTCCTTTTTCAGAA...\n",
       "1     k127_33374_12  CCGTTCTTAACGCTCACGAGCCTTGTAAGGCTCGTGGCTAAACGGA...\n",
       "2        k127_13_12  TGTAATGACACCAATGAAATATCATGAGCAATATACAAAAGCAGCA...\n",
       "3        k127_19_12  GTCGTATATTGACGTCAACGTCCATCCGGCGAAGATGGAGATCCGT...\n",
       "4     k127_66749_12  GCGTGACTCGGTCGAATCCCCGGAGGAAGTCGAATCCGCGCAGCTG...\n",
       "...             ...                                                ...\n",
       "8440  k127_83384_12  CATCGTTTAACTCTATTGTCAAAAAGCCATTTGCGTCTAATTCTTT...\n",
       "8441  k127_83385_12  AATGCACACAGCACCGAGTGCCAAAAGCACCAGCAGAATCAGAACT...\n",
       "8442  k127_83391_12  ATCTTACGACTGTCAAAGAATCCCAAACCTGCTGCATTGCTTACAT...\n",
       "8443  k127_83411_12  GTGTTCTTCGTTTCTTTCCTGATGCCATACACGTTCCCTCTTTTCT...\n",
       "8444  k127_83415_12  ACGAACATTGGTCTAAATATAGCAAAAACAAATGAAAAACAGCAAG...\n",
       "\n",
       "[8445 rows x 2 columns]"
      ]
     },
     "execution_count": 27,
     "metadata": {},
     "output_type": "execute_result"
    }
   ],
   "source": [
    "patient_12"
   ]
  },
  {
   "cell_type": "code",
   "execution_count": 28,
   "id": "0ea715ba",
   "metadata": {},
   "outputs": [
    {
     "name": "stdout",
     "output_type": "stream",
     "text": [
      "There are no duplicate seq in the DataFrame.\n"
     ]
    }
   ],
   "source": [
    "# Assuming df_antibiotics_and_conjugate is your DataFrame\n",
    "# You can replace it with the name of your actual DataFrame\n",
    "\n",
    "# Check for duplicates in the \"ids\" column\n",
    "duplicates = patient_12[patient_12.duplicated('seq')]\n",
    "\n",
    "# If there are duplicates, duplicates DataFrame will contain those rows\n",
    "# If duplicates is empty, it means there are no duplicate ids\n",
    "if not duplicates.empty:\n",
    "    print(\"There are duplicate seq in the DataFrame:\")\n",
    "    print(duplicates)\n",
    "else:\n",
    "    print(\"There are no duplicate seq in the DataFrame.\")\n"
   ]
  },
  {
   "cell_type": "code",
   "execution_count": 29,
   "id": "d4cc529d",
   "metadata": {},
   "outputs": [],
   "source": [
    "patient_ids = patient_12['ids'].tolist()\n",
    "patient_list = patient_12['seq'].tolist()\n"
   ]
  },
  {
   "cell_type": "code",
   "execution_count": 30,
   "id": "661f347b",
   "metadata": {},
   "outputs": [
    {
     "data": {
      "text/plain": [
       "8445"
      ]
     },
     "execution_count": 30,
     "metadata": {},
     "output_type": "execute_result"
    }
   ],
   "source": [
    "len(patient_ids)\n"
   ]
  },
  {
   "cell_type": "code",
   "execution_count": 31,
   "id": "bbb1afa2",
   "metadata": {},
   "outputs": [
    {
     "data": {
      "text/plain": [
       "8445"
      ]
     },
     "execution_count": 31,
     "metadata": {},
     "output_type": "execute_result"
    }
   ],
   "source": [
    "len(patient_list)"
   ]
  },
  {
   "cell_type": "code",
   "execution_count": 32,
   "id": "07d7405a",
   "metadata": {},
   "outputs": [
    {
     "name": "stdout",
     "output_type": "stream",
     "text": [
      "Time to generate images: 778.8075883388519 seconds\n"
     ]
    }
   ],
   "source": [
    "import time\n",
    "start_time = time.time()\n",
    "seq_num=[]\n",
    "\n",
    "\n",
    "all_seq = patient_list\n",
    "all_seq = [replace_ambiguous_bases(seq) for seq in all_seq]\n",
    "for sequence in all_seq:\n",
    "        seq_cgr = easy_cgr(sequence)\n",
    "        seq_num.append(seq_cgr)\n",
    "sequences = seq_num\n",
    "class_labels = patient_ids \n",
    "output_directory = \"patient_12_res_7\"\n",
    "kmeres=7\n",
    "\n",
    "if not os.path.exists(output_directory):\n",
    "    os.makedirs(output_directory)\n",
    "\n",
    "# Call the function to generate and save CGR images\n",
    "generate_and_save_cgr_images_label(sequences, class_labels, output_directory,kmeres)\n",
    "\n",
    "end_time = time.time()\n",
    "elapsed_time = end_time - start_time\n",
    "\n",
    "# Print the time taken\n",
    "print(f\"Time to generate images: {elapsed_time} seconds\")"
   ]
  },
  {
   "cell_type": "code",
   "execution_count": null,
   "id": "d0c154b5",
   "metadata": {},
   "outputs": [],
   "source": []
  },
  {
   "cell_type": "code",
   "execution_count": null,
   "id": "56e9e6bd",
   "metadata": {},
   "outputs": [],
   "source": []
  },
  {
   "cell_type": "markdown",
   "id": "fbe7307b",
   "metadata": {},
   "source": [
    "###  Patient 13"
   ]
  },
  {
   "cell_type": "code",
   "execution_count": 33,
   "id": "6ebbb5c0",
   "metadata": {
    "scrolled": true
   },
   "outputs": [],
   "source": [
    "import pandas as pd\n",
    "\n",
    "file_name = \"Patient13.contigs.fa\"\n",
    "fasta_sequences = read_fasta_ARG(file_name)"
   ]
  },
  {
   "cell_type": "code",
   "execution_count": 34,
   "id": "a7a3cf19",
   "metadata": {},
   "outputs": [],
   "source": [
    "# Convert to DataFrame\n",
    "patient_13 = pd.DataFrame(fasta_sequences, columns=[ 'ids', 'seq'])\n"
   ]
  },
  {
   "cell_type": "code",
   "execution_count": 35,
   "id": "79119f2b",
   "metadata": {},
   "outputs": [
    {
     "data": {
      "text/html": [
       "<div>\n",
       "<style scoped>\n",
       "    .dataframe tbody tr th:only-of-type {\n",
       "        vertical-align: middle;\n",
       "    }\n",
       "\n",
       "    .dataframe tbody tr th {\n",
       "        vertical-align: top;\n",
       "    }\n",
       "\n",
       "    .dataframe thead th {\n",
       "        text-align: right;\n",
       "    }\n",
       "</style>\n",
       "<table border=\"1\" class=\"dataframe\">\n",
       "  <thead>\n",
       "    <tr style=\"text-align: right;\">\n",
       "      <th></th>\n",
       "      <th>ids</th>\n",
       "      <th>seq</th>\n",
       "    </tr>\n",
       "  </thead>\n",
       "  <tbody>\n",
       "    <tr>\n",
       "      <th>0</th>\n",
       "      <td>k127_94786 flag=1 multi=11.9917 len=13354</td>\n",
       "      <td>ACCGTAGGGAACGCAGGCCGGTTGCCCCGCGGGACGCAGGAAATTC...</td>\n",
       "    </tr>\n",
       "    <tr>\n",
       "      <th>1</th>\n",
       "      <td>k127_75842 flag=1 multi=7.0000 len=15693</td>\n",
       "      <td>CGAAGGGCAAACATTATACGAATATCATCCCGATACAAAAGAATGT...</td>\n",
       "    </tr>\n",
       "    <tr>\n",
       "      <th>2</th>\n",
       "      <td>k127_18968 flag=1 multi=10.0000 len=12597</td>\n",
       "      <td>ACATGACCCCTTGGAAATGGGATTTGCAGACCGGCCTCCTCTCGTG...</td>\n",
       "    </tr>\n",
       "    <tr>\n",
       "      <th>3</th>\n",
       "      <td>k127_75844 flag=1 multi=5.0000 len=3131</td>\n",
       "      <td>GCGTAGTTCTCGAGCTGGTACTGCACATCGGAAAGCTGGCTCTCGA...</td>\n",
       "    </tr>\n",
       "    <tr>\n",
       "      <th>4</th>\n",
       "      <td>k127_75846 flag=1 multi=9.0000 len=4601</td>\n",
       "      <td>CAATTTCCTCTTTAAAAGCCCTCTTATTTTAAATAGTGAGAATCAC...</td>\n",
       "    </tr>\n",
       "    <tr>\n",
       "      <th>...</th>\n",
       "      <td>...</td>\n",
       "      <td>...</td>\n",
       "    </tr>\n",
       "    <tr>\n",
       "      <th>12048</th>\n",
       "      <td>k127_18913 flag=1 multi=8.0000 len=5401</td>\n",
       "      <td>CGGCATTCGCCGCGTGGCCTGCACTTTGCTGCGCAAAGATGCATGG...</td>\n",
       "    </tr>\n",
       "    <tr>\n",
       "      <th>12049</th>\n",
       "      <td>k127_18918 flag=0 multi=4.9853 len=2844</td>\n",
       "      <td>GCTTCGTTCTCTAAAGCTTGTTACTTATAATTTTGCAGGATTTACA...</td>\n",
       "    </tr>\n",
       "    <tr>\n",
       "      <th>12050</th>\n",
       "      <td>k127_18921 flag=1 multi=8.0000 len=2610</td>\n",
       "      <td>GACCAGCACCGGGTGGGTGAGGCCCGTCATATCCAGCTCGAACAGG...</td>\n",
       "    </tr>\n",
       "    <tr>\n",
       "      <th>12051</th>\n",
       "      <td>k127_18925 flag=1 multi=10.0000 len=4422</td>\n",
       "      <td>AAAGATAATATAAAAAGCTCTCCAGGGAATTTCCCTGGGGAGCTTA...</td>\n",
       "    </tr>\n",
       "    <tr>\n",
       "      <th>12052</th>\n",
       "      <td>k127_18947 flag=0 multi=10.9868 len=7689</td>\n",
       "      <td>TGGAATATCTCCCCGGCGGGTGTGGAACGTTTCCACGTTTTTTTTG...</td>\n",
       "    </tr>\n",
       "  </tbody>\n",
       "</table>\n",
       "<p>12053 rows × 2 columns</p>\n",
       "</div>"
      ],
      "text/plain": [
       "                                             ids  \\\n",
       "0      k127_94786 flag=1 multi=11.9917 len=13354   \n",
       "1       k127_75842 flag=1 multi=7.0000 len=15693   \n",
       "2      k127_18968 flag=1 multi=10.0000 len=12597   \n",
       "3        k127_75844 flag=1 multi=5.0000 len=3131   \n",
       "4        k127_75846 flag=1 multi=9.0000 len=4601   \n",
       "...                                          ...   \n",
       "12048    k127_18913 flag=1 multi=8.0000 len=5401   \n",
       "12049    k127_18918 flag=0 multi=4.9853 len=2844   \n",
       "12050    k127_18921 flag=1 multi=8.0000 len=2610   \n",
       "12051   k127_18925 flag=1 multi=10.0000 len=4422   \n",
       "12052   k127_18947 flag=0 multi=10.9868 len=7689   \n",
       "\n",
       "                                                     seq  \n",
       "0      ACCGTAGGGAACGCAGGCCGGTTGCCCCGCGGGACGCAGGAAATTC...  \n",
       "1      CGAAGGGCAAACATTATACGAATATCATCCCGATACAAAAGAATGT...  \n",
       "2      ACATGACCCCTTGGAAATGGGATTTGCAGACCGGCCTCCTCTCGTG...  \n",
       "3      GCGTAGTTCTCGAGCTGGTACTGCACATCGGAAAGCTGGCTCTCGA...  \n",
       "4      CAATTTCCTCTTTAAAAGCCCTCTTATTTTAAATAGTGAGAATCAC...  \n",
       "...                                                  ...  \n",
       "12048  CGGCATTCGCCGCGTGGCCTGCACTTTGCTGCGCAAAGATGCATGG...  \n",
       "12049  GCTTCGTTCTCTAAAGCTTGTTACTTATAATTTTGCAGGATTTACA...  \n",
       "12050  GACCAGCACCGGGTGGGTGAGGCCCGTCATATCCAGCTCGAACAGG...  \n",
       "12051  AAAGATAATATAAAAAGCTCTCCAGGGAATTTCCCTGGGGAGCTTA...  \n",
       "12052  TGGAATATCTCCCCGGCGGGTGTGGAACGTTTCCACGTTTTTTTTG...  \n",
       "\n",
       "[12053 rows x 2 columns]"
      ]
     },
     "execution_count": 35,
     "metadata": {},
     "output_type": "execute_result"
    }
   ],
   "source": [
    "patient_13"
   ]
  },
  {
   "cell_type": "code",
   "execution_count": 36,
   "id": "40418741",
   "metadata": {
    "scrolled": false
   },
   "outputs": [],
   "source": [
    "# Define a function to extract the desired pattern\n",
    "def extract_id_13(string):\n",
    "    match = re.search(r'(k127_\\d+)', string)\n",
    "    if match:\n",
    "        return match.group(1) + '_13'\n",
    "    else:\n",
    "        return None\n",
    "\n",
    "# Apply the function to the 'ids' column\n",
    "patient_13['ids'] = patient_13['ids'].apply(extract_id_13)\n",
    "\n"
   ]
  },
  {
   "cell_type": "code",
   "execution_count": 37,
   "id": "fcacb6eb",
   "metadata": {},
   "outputs": [
    {
     "data": {
      "text/html": [
       "<div>\n",
       "<style scoped>\n",
       "    .dataframe tbody tr th:only-of-type {\n",
       "        vertical-align: middle;\n",
       "    }\n",
       "\n",
       "    .dataframe tbody tr th {\n",
       "        vertical-align: top;\n",
       "    }\n",
       "\n",
       "    .dataframe thead th {\n",
       "        text-align: right;\n",
       "    }\n",
       "</style>\n",
       "<table border=\"1\" class=\"dataframe\">\n",
       "  <thead>\n",
       "    <tr style=\"text-align: right;\">\n",
       "      <th></th>\n",
       "      <th>ids</th>\n",
       "      <th>seq</th>\n",
       "    </tr>\n",
       "  </thead>\n",
       "  <tbody>\n",
       "    <tr>\n",
       "      <th>0</th>\n",
       "      <td>k127_94786_13</td>\n",
       "      <td>ACCGTAGGGAACGCAGGCCGGTTGCCCCGCGGGACGCAGGAAATTC...</td>\n",
       "    </tr>\n",
       "    <tr>\n",
       "      <th>1</th>\n",
       "      <td>k127_75842_13</td>\n",
       "      <td>CGAAGGGCAAACATTATACGAATATCATCCCGATACAAAAGAATGT...</td>\n",
       "    </tr>\n",
       "    <tr>\n",
       "      <th>2</th>\n",
       "      <td>k127_18968_13</td>\n",
       "      <td>ACATGACCCCTTGGAAATGGGATTTGCAGACCGGCCTCCTCTCGTG...</td>\n",
       "    </tr>\n",
       "    <tr>\n",
       "      <th>3</th>\n",
       "      <td>k127_75844_13</td>\n",
       "      <td>GCGTAGTTCTCGAGCTGGTACTGCACATCGGAAAGCTGGCTCTCGA...</td>\n",
       "    </tr>\n",
       "    <tr>\n",
       "      <th>4</th>\n",
       "      <td>k127_75846_13</td>\n",
       "      <td>CAATTTCCTCTTTAAAAGCCCTCTTATTTTAAATAGTGAGAATCAC...</td>\n",
       "    </tr>\n",
       "    <tr>\n",
       "      <th>...</th>\n",
       "      <td>...</td>\n",
       "      <td>...</td>\n",
       "    </tr>\n",
       "    <tr>\n",
       "      <th>12048</th>\n",
       "      <td>k127_18913_13</td>\n",
       "      <td>CGGCATTCGCCGCGTGGCCTGCACTTTGCTGCGCAAAGATGCATGG...</td>\n",
       "    </tr>\n",
       "    <tr>\n",
       "      <th>12049</th>\n",
       "      <td>k127_18918_13</td>\n",
       "      <td>GCTTCGTTCTCTAAAGCTTGTTACTTATAATTTTGCAGGATTTACA...</td>\n",
       "    </tr>\n",
       "    <tr>\n",
       "      <th>12050</th>\n",
       "      <td>k127_18921_13</td>\n",
       "      <td>GACCAGCACCGGGTGGGTGAGGCCCGTCATATCCAGCTCGAACAGG...</td>\n",
       "    </tr>\n",
       "    <tr>\n",
       "      <th>12051</th>\n",
       "      <td>k127_18925_13</td>\n",
       "      <td>AAAGATAATATAAAAAGCTCTCCAGGGAATTTCCCTGGGGAGCTTA...</td>\n",
       "    </tr>\n",
       "    <tr>\n",
       "      <th>12052</th>\n",
       "      <td>k127_18947_13</td>\n",
       "      <td>TGGAATATCTCCCCGGCGGGTGTGGAACGTTTCCACGTTTTTTTTG...</td>\n",
       "    </tr>\n",
       "  </tbody>\n",
       "</table>\n",
       "<p>12053 rows × 2 columns</p>\n",
       "</div>"
      ],
      "text/plain": [
       "                 ids                                                seq\n",
       "0      k127_94786_13  ACCGTAGGGAACGCAGGCCGGTTGCCCCGCGGGACGCAGGAAATTC...\n",
       "1      k127_75842_13  CGAAGGGCAAACATTATACGAATATCATCCCGATACAAAAGAATGT...\n",
       "2      k127_18968_13  ACATGACCCCTTGGAAATGGGATTTGCAGACCGGCCTCCTCTCGTG...\n",
       "3      k127_75844_13  GCGTAGTTCTCGAGCTGGTACTGCACATCGGAAAGCTGGCTCTCGA...\n",
       "4      k127_75846_13  CAATTTCCTCTTTAAAAGCCCTCTTATTTTAAATAGTGAGAATCAC...\n",
       "...              ...                                                ...\n",
       "12048  k127_18913_13  CGGCATTCGCCGCGTGGCCTGCACTTTGCTGCGCAAAGATGCATGG...\n",
       "12049  k127_18918_13  GCTTCGTTCTCTAAAGCTTGTTACTTATAATTTTGCAGGATTTACA...\n",
       "12050  k127_18921_13  GACCAGCACCGGGTGGGTGAGGCCCGTCATATCCAGCTCGAACAGG...\n",
       "12051  k127_18925_13  AAAGATAATATAAAAAGCTCTCCAGGGAATTTCCCTGGGGAGCTTA...\n",
       "12052  k127_18947_13  TGGAATATCTCCCCGGCGGGTGTGGAACGTTTCCACGTTTTTTTTG...\n",
       "\n",
       "[12053 rows x 2 columns]"
      ]
     },
     "execution_count": 37,
     "metadata": {},
     "output_type": "execute_result"
    }
   ],
   "source": [
    "patient_13"
   ]
  },
  {
   "cell_type": "code",
   "execution_count": 38,
   "id": "0ffed206",
   "metadata": {},
   "outputs": [
    {
     "name": "stdout",
     "output_type": "stream",
     "text": [
      "There are no duplicate seq in the DataFrame.\n"
     ]
    }
   ],
   "source": [
    "# Assuming df_antibiotics_and_conjugate is your DataFrame\n",
    "# You can replace it with the name of your actual DataFrame\n",
    "\n",
    "# Check for duplicates in the \"ids\" column\n",
    "duplicates = patient_13[patient_13.duplicated('seq')]\n",
    "\n",
    "# If there are duplicates, duplicates DataFrame will contain those rows\n",
    "# If duplicates is empty, it means there are no duplicate ids\n",
    "if not duplicates.empty:\n",
    "    print(\"There are duplicate seq in the DataFrame:\")\n",
    "    print(duplicates)\n",
    "else:\n",
    "    print(\"There are no duplicate seq in the DataFrame.\")\n"
   ]
  },
  {
   "cell_type": "code",
   "execution_count": 39,
   "id": "ad63d4e1",
   "metadata": {},
   "outputs": [],
   "source": [
    "patient_ids = patient_13['ids'].tolist()\n",
    "patient_list = patient_13['seq'].tolist()\n"
   ]
  },
  {
   "cell_type": "code",
   "execution_count": 40,
   "id": "aa003fc6",
   "metadata": {},
   "outputs": [
    {
     "data": {
      "text/plain": [
       "12053"
      ]
     },
     "execution_count": 40,
     "metadata": {},
     "output_type": "execute_result"
    }
   ],
   "source": [
    "len(patient_ids)\n"
   ]
  },
  {
   "cell_type": "code",
   "execution_count": 41,
   "id": "0e937b2e",
   "metadata": {},
   "outputs": [
    {
     "data": {
      "text/plain": [
       "12053"
      ]
     },
     "execution_count": 41,
     "metadata": {},
     "output_type": "execute_result"
    }
   ],
   "source": [
    "len(patient_list)"
   ]
  },
  {
   "cell_type": "code",
   "execution_count": 42,
   "id": "5e6ce449",
   "metadata": {},
   "outputs": [
    {
     "name": "stdout",
     "output_type": "stream",
     "text": [
      "Time to generate images: 1753.0926496982574 seconds\n"
     ]
    }
   ],
   "source": [
    "import time\n",
    "start_time = time.time()\n",
    "seq_num=[]\n",
    "\n",
    "\n",
    "all_seq = patient_list\n",
    "all_seq = [replace_ambiguous_bases(seq) for seq in all_seq]\n",
    "for sequence in all_seq:\n",
    "        seq_cgr = easy_cgr(sequence)\n",
    "        seq_num.append(seq_cgr)\n",
    "sequences = seq_num\n",
    "class_labels = patient_ids \n",
    "output_directory = \"patient_13_res_7\"\n",
    "kmeres=7\n",
    "\n",
    "if not os.path.exists(output_directory):\n",
    "    os.makedirs(output_directory)\n",
    "\n",
    "# Call the function to generate and save CGR images\n",
    "generate_and_save_cgr_images_label(sequences, class_labels, output_directory,kmeres)\n",
    "\n",
    "end_time = time.time()\n",
    "elapsed_time = end_time - start_time\n",
    "\n",
    "# Print the time taken\n",
    "print(f\"Time to generate images: {elapsed_time} seconds\")"
   ]
  },
  {
   "cell_type": "code",
   "execution_count": null,
   "id": "0aebd931",
   "metadata": {},
   "outputs": [],
   "source": []
  },
  {
   "cell_type": "code",
   "execution_count": null,
   "id": "0bc20979",
   "metadata": {},
   "outputs": [],
   "source": []
  },
  {
   "cell_type": "markdown",
   "id": "cb3bd479",
   "metadata": {},
   "source": [
    "###  Healthy 11"
   ]
  },
  {
   "cell_type": "code",
   "execution_count": 43,
   "id": "546721b1",
   "metadata": {
    "scrolled": true
   },
   "outputs": [],
   "source": [
    "import pandas as pd\n",
    "\n",
    "file_name = \"Healthy11.contigs.fa\"\n",
    "fasta_sequences = read_fasta_ARG(file_name)"
   ]
  },
  {
   "cell_type": "code",
   "execution_count": 44,
   "id": "1b4aa256",
   "metadata": {},
   "outputs": [],
   "source": [
    "# Convert to DataFrame\n",
    "healthy_11 = pd.DataFrame(fasta_sequences, columns=[ 'ids', 'seq'])\n"
   ]
  },
  {
   "cell_type": "code",
   "execution_count": 45,
   "id": "b3e03a28",
   "metadata": {},
   "outputs": [
    {
     "data": {
      "text/html": [
       "<div>\n",
       "<style scoped>\n",
       "    .dataframe tbody tr th:only-of-type {\n",
       "        vertical-align: middle;\n",
       "    }\n",
       "\n",
       "    .dataframe tbody tr th {\n",
       "        vertical-align: top;\n",
       "    }\n",
       "\n",
       "    .dataframe thead th {\n",
       "        text-align: right;\n",
       "    }\n",
       "</style>\n",
       "<table border=\"1\" class=\"dataframe\">\n",
       "  <thead>\n",
       "    <tr style=\"text-align: right;\">\n",
       "      <th></th>\n",
       "      <th>ids</th>\n",
       "      <th>seq</th>\n",
       "    </tr>\n",
       "  </thead>\n",
       "  <tbody>\n",
       "    <tr>\n",
       "      <th>0</th>\n",
       "      <td>k127_108586 flag=1 multi=7.8087 len=3541</td>\n",
       "      <td>GATATCAGCAGTAAGCACTTGTATGGAAAGTTTACTTGGAAAAAAG...</td>\n",
       "    </tr>\n",
       "    <tr>\n",
       "      <th>1</th>\n",
       "      <td>k127_21722 flag=0 multi=24.8801 len=2754</td>\n",
       "      <td>TCCTATAATTTTATTATTTTCTTTAGCTATAAACCCAAATGAACTG...</td>\n",
       "    </tr>\n",
       "    <tr>\n",
       "      <th>2</th>\n",
       "      <td>k127_130308 flag=1 multi=4.0000 len=4024</td>\n",
       "      <td>GCACTACGGCAACGAAAGTATCGGCAGTAAAATCGACAGCTTCTGG...</td>\n",
       "    </tr>\n",
       "    <tr>\n",
       "      <th>3</th>\n",
       "      <td>k127_152028 flag=1 multi=5.0000 len=4291</td>\n",
       "      <td>TATTTTGCGTACACTTGATATTCATATGCAACACCCGATCATGGAC...</td>\n",
       "    </tr>\n",
       "    <tr>\n",
       "      <th>4</th>\n",
       "      <td>k127_21727 flag=0 multi=47.0000 len=3185</td>\n",
       "      <td>ATTTTAGCTGTCCCTCCGCACGAGGAAAGTAGGATGGCGGAGAATG...</td>\n",
       "    </tr>\n",
       "    <tr>\n",
       "      <th>...</th>\n",
       "      <td>...</td>\n",
       "      <td>...</td>\n",
       "    </tr>\n",
       "    <tr>\n",
       "      <th>14507</th>\n",
       "      <td>k127_21680 flag=1 multi=8.0000 len=6233</td>\n",
       "      <td>TGTTATTAAGTTCCGCAATATCGTCATCACAAACAGCAATTTTCAT...</td>\n",
       "    </tr>\n",
       "    <tr>\n",
       "      <th>14508</th>\n",
       "      <td>k127_21681 flag=1 multi=5.0000 len=4555</td>\n",
       "      <td>CTCGCAACCTTCATGATGATGTCGCATGATGTACTCCTGTTTTATT...</td>\n",
       "    </tr>\n",
       "    <tr>\n",
       "      <th>14509</th>\n",
       "      <td>k127_21700 flag=1 multi=7.0000 len=17799</td>\n",
       "      <td>ACCTATACCCGGCAAGGTCTTGAAATAAACGTAGAAAACTGCTATG...</td>\n",
       "    </tr>\n",
       "    <tr>\n",
       "      <th>14510</th>\n",
       "      <td>k127_21706 flag=1 multi=8.0000 len=8721</td>\n",
       "      <td>TCTTGGTCTCTGTTATAATACTTCTAAATATTTTGGTTATCAACAA...</td>\n",
       "    </tr>\n",
       "    <tr>\n",
       "      <th>14511</th>\n",
       "      <td>k127_21716 flag=1 multi=6.0000 len=4192</td>\n",
       "      <td>CGACAAAGAGGAGTACCGGGAGCTGGCCCCGATCACGGTGAGCGGT...</td>\n",
       "    </tr>\n",
       "  </tbody>\n",
       "</table>\n",
       "<p>14512 rows × 2 columns</p>\n",
       "</div>"
      ],
      "text/plain": [
       "                                            ids  \\\n",
       "0      k127_108586 flag=1 multi=7.8087 len=3541   \n",
       "1      k127_21722 flag=0 multi=24.8801 len=2754   \n",
       "2      k127_130308 flag=1 multi=4.0000 len=4024   \n",
       "3      k127_152028 flag=1 multi=5.0000 len=4291   \n",
       "4      k127_21727 flag=0 multi=47.0000 len=3185   \n",
       "...                                         ...   \n",
       "14507   k127_21680 flag=1 multi=8.0000 len=6233   \n",
       "14508   k127_21681 flag=1 multi=5.0000 len=4555   \n",
       "14509  k127_21700 flag=1 multi=7.0000 len=17799   \n",
       "14510   k127_21706 flag=1 multi=8.0000 len=8721   \n",
       "14511   k127_21716 flag=1 multi=6.0000 len=4192   \n",
       "\n",
       "                                                     seq  \n",
       "0      GATATCAGCAGTAAGCACTTGTATGGAAAGTTTACTTGGAAAAAAG...  \n",
       "1      TCCTATAATTTTATTATTTTCTTTAGCTATAAACCCAAATGAACTG...  \n",
       "2      GCACTACGGCAACGAAAGTATCGGCAGTAAAATCGACAGCTTCTGG...  \n",
       "3      TATTTTGCGTACACTTGATATTCATATGCAACACCCGATCATGGAC...  \n",
       "4      ATTTTAGCTGTCCCTCCGCACGAGGAAAGTAGGATGGCGGAGAATG...  \n",
       "...                                                  ...  \n",
       "14507  TGTTATTAAGTTCCGCAATATCGTCATCACAAACAGCAATTTTCAT...  \n",
       "14508  CTCGCAACCTTCATGATGATGTCGCATGATGTACTCCTGTTTTATT...  \n",
       "14509  ACCTATACCCGGCAAGGTCTTGAAATAAACGTAGAAAACTGCTATG...  \n",
       "14510  TCTTGGTCTCTGTTATAATACTTCTAAATATTTTGGTTATCAACAA...  \n",
       "14511  CGACAAAGAGGAGTACCGGGAGCTGGCCCCGATCACGGTGAGCGGT...  \n",
       "\n",
       "[14512 rows x 2 columns]"
      ]
     },
     "execution_count": 45,
     "metadata": {},
     "output_type": "execute_result"
    }
   ],
   "source": [
    "healthy_11"
   ]
  },
  {
   "cell_type": "code",
   "execution_count": 46,
   "id": "33d16fdf",
   "metadata": {
    "scrolled": false
   },
   "outputs": [],
   "source": [
    "# Define a function to extract the desired pattern\n",
    "def extract_id_11(string):\n",
    "    match = re.search(r'(k127_\\d+)', string)\n",
    "    if match:\n",
    "        return match.group(1) + '_11'\n",
    "    else:\n",
    "        return None\n",
    "\n",
    "# Apply the function to the 'ids' column\n",
    "healthy_11['ids'] = healthy_11['ids'].apply(extract_id_11)\n",
    "\n"
   ]
  },
  {
   "cell_type": "code",
   "execution_count": 47,
   "id": "4ec721c3",
   "metadata": {},
   "outputs": [
    {
     "data": {
      "text/html": [
       "<div>\n",
       "<style scoped>\n",
       "    .dataframe tbody tr th:only-of-type {\n",
       "        vertical-align: middle;\n",
       "    }\n",
       "\n",
       "    .dataframe tbody tr th {\n",
       "        vertical-align: top;\n",
       "    }\n",
       "\n",
       "    .dataframe thead th {\n",
       "        text-align: right;\n",
       "    }\n",
       "</style>\n",
       "<table border=\"1\" class=\"dataframe\">\n",
       "  <thead>\n",
       "    <tr style=\"text-align: right;\">\n",
       "      <th></th>\n",
       "      <th>ids</th>\n",
       "      <th>seq</th>\n",
       "    </tr>\n",
       "  </thead>\n",
       "  <tbody>\n",
       "    <tr>\n",
       "      <th>0</th>\n",
       "      <td>k127_108586_11</td>\n",
       "      <td>GATATCAGCAGTAAGCACTTGTATGGAAAGTTTACTTGGAAAAAAG...</td>\n",
       "    </tr>\n",
       "    <tr>\n",
       "      <th>1</th>\n",
       "      <td>k127_21722_11</td>\n",
       "      <td>TCCTATAATTTTATTATTTTCTTTAGCTATAAACCCAAATGAACTG...</td>\n",
       "    </tr>\n",
       "    <tr>\n",
       "      <th>2</th>\n",
       "      <td>k127_130308_11</td>\n",
       "      <td>GCACTACGGCAACGAAAGTATCGGCAGTAAAATCGACAGCTTCTGG...</td>\n",
       "    </tr>\n",
       "    <tr>\n",
       "      <th>3</th>\n",
       "      <td>k127_152028_11</td>\n",
       "      <td>TATTTTGCGTACACTTGATATTCATATGCAACACCCGATCATGGAC...</td>\n",
       "    </tr>\n",
       "    <tr>\n",
       "      <th>4</th>\n",
       "      <td>k127_21727_11</td>\n",
       "      <td>ATTTTAGCTGTCCCTCCGCACGAGGAAAGTAGGATGGCGGAGAATG...</td>\n",
       "    </tr>\n",
       "    <tr>\n",
       "      <th>...</th>\n",
       "      <td>...</td>\n",
       "      <td>...</td>\n",
       "    </tr>\n",
       "    <tr>\n",
       "      <th>14507</th>\n",
       "      <td>k127_21680_11</td>\n",
       "      <td>TGTTATTAAGTTCCGCAATATCGTCATCACAAACAGCAATTTTCAT...</td>\n",
       "    </tr>\n",
       "    <tr>\n",
       "      <th>14508</th>\n",
       "      <td>k127_21681_11</td>\n",
       "      <td>CTCGCAACCTTCATGATGATGTCGCATGATGTACTCCTGTTTTATT...</td>\n",
       "    </tr>\n",
       "    <tr>\n",
       "      <th>14509</th>\n",
       "      <td>k127_21700_11</td>\n",
       "      <td>ACCTATACCCGGCAAGGTCTTGAAATAAACGTAGAAAACTGCTATG...</td>\n",
       "    </tr>\n",
       "    <tr>\n",
       "      <th>14510</th>\n",
       "      <td>k127_21706_11</td>\n",
       "      <td>TCTTGGTCTCTGTTATAATACTTCTAAATATTTTGGTTATCAACAA...</td>\n",
       "    </tr>\n",
       "    <tr>\n",
       "      <th>14511</th>\n",
       "      <td>k127_21716_11</td>\n",
       "      <td>CGACAAAGAGGAGTACCGGGAGCTGGCCCCGATCACGGTGAGCGGT...</td>\n",
       "    </tr>\n",
       "  </tbody>\n",
       "</table>\n",
       "<p>14512 rows × 2 columns</p>\n",
       "</div>"
      ],
      "text/plain": [
       "                  ids                                                seq\n",
       "0      k127_108586_11  GATATCAGCAGTAAGCACTTGTATGGAAAGTTTACTTGGAAAAAAG...\n",
       "1       k127_21722_11  TCCTATAATTTTATTATTTTCTTTAGCTATAAACCCAAATGAACTG...\n",
       "2      k127_130308_11  GCACTACGGCAACGAAAGTATCGGCAGTAAAATCGACAGCTTCTGG...\n",
       "3      k127_152028_11  TATTTTGCGTACACTTGATATTCATATGCAACACCCGATCATGGAC...\n",
       "4       k127_21727_11  ATTTTAGCTGTCCCTCCGCACGAGGAAAGTAGGATGGCGGAGAATG...\n",
       "...               ...                                                ...\n",
       "14507   k127_21680_11  TGTTATTAAGTTCCGCAATATCGTCATCACAAACAGCAATTTTCAT...\n",
       "14508   k127_21681_11  CTCGCAACCTTCATGATGATGTCGCATGATGTACTCCTGTTTTATT...\n",
       "14509   k127_21700_11  ACCTATACCCGGCAAGGTCTTGAAATAAACGTAGAAAACTGCTATG...\n",
       "14510   k127_21706_11  TCTTGGTCTCTGTTATAATACTTCTAAATATTTTGGTTATCAACAA...\n",
       "14511   k127_21716_11  CGACAAAGAGGAGTACCGGGAGCTGGCCCCGATCACGGTGAGCGGT...\n",
       "\n",
       "[14512 rows x 2 columns]"
      ]
     },
     "execution_count": 47,
     "metadata": {},
     "output_type": "execute_result"
    }
   ],
   "source": [
    "healthy_11"
   ]
  },
  {
   "cell_type": "code",
   "execution_count": 48,
   "id": "56ded77d",
   "metadata": {},
   "outputs": [
    {
     "name": "stdout",
     "output_type": "stream",
     "text": [
      "There are no duplicate seq in the DataFrame.\n"
     ]
    }
   ],
   "source": [
    "# Assuming df_antibiotics_and_conjugate is your DataFrame\n",
    "# You can replace it with the name of your actual DataFrame\n",
    "\n",
    "# Check for duplicates in the \"ids\" column\n",
    "duplicates = healthy_11[healthy_11.duplicated('seq')]\n",
    "\n",
    "# If there are duplicates, duplicates DataFrame will contain those rows\n",
    "# If duplicates is empty, it means there are no duplicate ids\n",
    "if not duplicates.empty:\n",
    "    print(\"There are duplicate seq in the DataFrame:\")\n",
    "    print(duplicates)\n",
    "else:\n",
    "    print(\"There are no duplicate seq in the DataFrame.\")\n"
   ]
  },
  {
   "cell_type": "code",
   "execution_count": 49,
   "id": "5687d3bc",
   "metadata": {},
   "outputs": [],
   "source": [
    "healthy_ids = healthy_11['ids'].tolist()\n",
    "healthy_list = healthy_11['seq'].tolist()\n"
   ]
  },
  {
   "cell_type": "code",
   "execution_count": 50,
   "id": "45205df9",
   "metadata": {},
   "outputs": [
    {
     "data": {
      "text/plain": [
       "14512"
      ]
     },
     "execution_count": 50,
     "metadata": {},
     "output_type": "execute_result"
    }
   ],
   "source": [
    "len(healthy_ids)\n"
   ]
  },
  {
   "cell_type": "code",
   "execution_count": 51,
   "id": "6f28bdee",
   "metadata": {},
   "outputs": [
    {
     "data": {
      "text/plain": [
       "14512"
      ]
     },
     "execution_count": 51,
     "metadata": {},
     "output_type": "execute_result"
    }
   ],
   "source": [
    "len(healthy_list)"
   ]
  },
  {
   "cell_type": "code",
   "execution_count": 52,
   "id": "306bae01",
   "metadata": {},
   "outputs": [
    {
     "name": "stdout",
     "output_type": "stream",
     "text": [
      "Time to generate images: 2226.3298904895782 seconds\n"
     ]
    }
   ],
   "source": [
    "import time\n",
    "start_time = time.time()\n",
    "seq_num=[]\n",
    "\n",
    "\n",
    "all_seq = healthy_list\n",
    "all_seq = [replace_ambiguous_bases(seq) for seq in all_seq]\n",
    "for sequence in all_seq:\n",
    "        seq_cgr = easy_cgr(sequence)\n",
    "        seq_num.append(seq_cgr)\n",
    "sequences = seq_num\n",
    "class_labels = healthy_ids \n",
    "output_directory = \"healthy_11_res_7\"\n",
    "kmeres=7\n",
    "\n",
    "if not os.path.exists(output_directory):\n",
    "    os.makedirs(output_directory)\n",
    "\n",
    "# Call the function to generate and save CGR images\n",
    "generate_and_save_cgr_images_label(sequences, class_labels, output_directory,kmeres)\n",
    "\n",
    "end_time = time.time()\n",
    "elapsed_time = end_time - start_time\n",
    "\n",
    "# Print the time taken\n",
    "print(f\"Time to generate images: {elapsed_time} seconds\")"
   ]
  },
  {
   "cell_type": "code",
   "execution_count": null,
   "id": "2e66e14c",
   "metadata": {},
   "outputs": [],
   "source": []
  },
  {
   "cell_type": "code",
   "execution_count": null,
   "id": "8777d118",
   "metadata": {},
   "outputs": [],
   "source": []
  },
  {
   "cell_type": "markdown",
   "id": "264487bb",
   "metadata": {},
   "source": [
    "###  Healthy 12"
   ]
  },
  {
   "cell_type": "code",
   "execution_count": 53,
   "id": "90f8aea1",
   "metadata": {
    "scrolled": true
   },
   "outputs": [],
   "source": [
    "import pandas as pd\n",
    "\n",
    "file_name = \"Healthy12.contigs.fa\"\n",
    "fasta_sequences = read_fasta_ARG(file_name)"
   ]
  },
  {
   "cell_type": "code",
   "execution_count": 54,
   "id": "abc9cb71",
   "metadata": {},
   "outputs": [],
   "source": [
    "# Convert to DataFrame\n",
    "healthy_12 = pd.DataFrame(fasta_sequences, columns=[ 'ids', 'seq'])\n"
   ]
  },
  {
   "cell_type": "code",
   "execution_count": 55,
   "id": "b05c7bf1",
   "metadata": {},
   "outputs": [
    {
     "data": {
      "text/html": [
       "<div>\n",
       "<style scoped>\n",
       "    .dataframe tbody tr th:only-of-type {\n",
       "        vertical-align: middle;\n",
       "    }\n",
       "\n",
       "    .dataframe tbody tr th {\n",
       "        vertical-align: top;\n",
       "    }\n",
       "\n",
       "    .dataframe thead th {\n",
       "        text-align: right;\n",
       "    }\n",
       "</style>\n",
       "<table border=\"1\" class=\"dataframe\">\n",
       "  <thead>\n",
       "    <tr style=\"text-align: right;\">\n",
       "      <th></th>\n",
       "      <th>ids</th>\n",
       "      <th>seq</th>\n",
       "    </tr>\n",
       "  </thead>\n",
       "  <tbody>\n",
       "    <tr>\n",
       "      <th>0</th>\n",
       "      <td>k127_47088 flag=1 multi=6.0000 len=2549</td>\n",
       "      <td>CCATATTAGTAGTAACAAAGATCCTGCCCATTGATGTCAGGACATC...</td>\n",
       "    </tr>\n",
       "    <tr>\n",
       "      <th>1</th>\n",
       "      <td>k127_0 flag=0 multi=29.7077 len=3103</td>\n",
       "      <td>GTTATCCAGCAATCAAAGCTGCCTTTTTCTTGTAGTTTGCATATAA...</td>\n",
       "    </tr>\n",
       "    <tr>\n",
       "      <th>2</th>\n",
       "      <td>k127_13454 flag=1 multi=5.0000 len=4358</td>\n",
       "      <td>GTCTTTCAACGTACAAATCTGGAACACATTAGGATTATCCCAACCT...</td>\n",
       "    </tr>\n",
       "    <tr>\n",
       "      <th>3</th>\n",
       "      <td>k127_26911 flag=0 multi=20.9616 len=5337</td>\n",
       "      <td>TCCTACTTGAAGGGCGAGTTCCTGATATGAAAATTCGCTTGTTAAG...</td>\n",
       "    </tr>\n",
       "    <tr>\n",
       "      <th>4</th>\n",
       "      <td>k127_20189 flag=1 multi=7.0000 len=2639</td>\n",
       "      <td>TCCCTGTCCCGCCCCGATCTGGAATCCAGAACAGGCGCAGAGAGCA...</td>\n",
       "    </tr>\n",
       "    <tr>\n",
       "      <th>...</th>\n",
       "      <td>...</td>\n",
       "      <td>...</td>\n",
       "    </tr>\n",
       "    <tr>\n",
       "      <th>7157</th>\n",
       "      <td>k127_6677 flag=0 multi=25.9978 len=111918</td>\n",
       "      <td>CTTTGTGTGGCCTGCACCTTTGCCGTTCTTCCCGTTTGCGCCACAC...</td>\n",
       "    </tr>\n",
       "    <tr>\n",
       "      <th>7158</th>\n",
       "      <td>k127_6683 flag=0 multi=25.9831 len=29633</td>\n",
       "      <td>ATAAAAAGCCGTTCCTCCCGGCATATAGACAGTGTTTTGGGGAGTG...</td>\n",
       "    </tr>\n",
       "    <tr>\n",
       "      <th>7159</th>\n",
       "      <td>k127_6697 flag=1 multi=8.0000 len=16805</td>\n",
       "      <td>GGCTCCACCTGGAGGGACGGCCGGGTGCGGTCGGCCTCCAGAGTGG...</td>\n",
       "    </tr>\n",
       "    <tr>\n",
       "      <th>7160</th>\n",
       "      <td>k127_6711 flag=0 multi=9.9879 len=15262</td>\n",
       "      <td>GCTTGGATTTGCTGTAACCAGCTTGGTCGTCGAAATTTGACACCAC...</td>\n",
       "    </tr>\n",
       "    <tr>\n",
       "      <th>7161</th>\n",
       "      <td>k127_6714 flag=1 multi=8.0000 len=11445</td>\n",
       "      <td>GATTATTATCTGCATCAGGCTGCACCGCTGGAGATCGAGCAGGAGT...</td>\n",
       "    </tr>\n",
       "  </tbody>\n",
       "</table>\n",
       "<p>7162 rows × 2 columns</p>\n",
       "</div>"
      ],
      "text/plain": [
       "                                            ids  \\\n",
       "0       k127_47088 flag=1 multi=6.0000 len=2549   \n",
       "1          k127_0 flag=0 multi=29.7077 len=3103   \n",
       "2       k127_13454 flag=1 multi=5.0000 len=4358   \n",
       "3      k127_26911 flag=0 multi=20.9616 len=5337   \n",
       "4       k127_20189 flag=1 multi=7.0000 len=2639   \n",
       "...                                         ...   \n",
       "7157  k127_6677 flag=0 multi=25.9978 len=111918   \n",
       "7158   k127_6683 flag=0 multi=25.9831 len=29633   \n",
       "7159    k127_6697 flag=1 multi=8.0000 len=16805   \n",
       "7160    k127_6711 flag=0 multi=9.9879 len=15262   \n",
       "7161    k127_6714 flag=1 multi=8.0000 len=11445   \n",
       "\n",
       "                                                    seq  \n",
       "0     CCATATTAGTAGTAACAAAGATCCTGCCCATTGATGTCAGGACATC...  \n",
       "1     GTTATCCAGCAATCAAAGCTGCCTTTTTCTTGTAGTTTGCATATAA...  \n",
       "2     GTCTTTCAACGTACAAATCTGGAACACATTAGGATTATCCCAACCT...  \n",
       "3     TCCTACTTGAAGGGCGAGTTCCTGATATGAAAATTCGCTTGTTAAG...  \n",
       "4     TCCCTGTCCCGCCCCGATCTGGAATCCAGAACAGGCGCAGAGAGCA...  \n",
       "...                                                 ...  \n",
       "7157  CTTTGTGTGGCCTGCACCTTTGCCGTTCTTCCCGTTTGCGCCACAC...  \n",
       "7158  ATAAAAAGCCGTTCCTCCCGGCATATAGACAGTGTTTTGGGGAGTG...  \n",
       "7159  GGCTCCACCTGGAGGGACGGCCGGGTGCGGTCGGCCTCCAGAGTGG...  \n",
       "7160  GCTTGGATTTGCTGTAACCAGCTTGGTCGTCGAAATTTGACACCAC...  \n",
       "7161  GATTATTATCTGCATCAGGCTGCACCGCTGGAGATCGAGCAGGAGT...  \n",
       "\n",
       "[7162 rows x 2 columns]"
      ]
     },
     "execution_count": 55,
     "metadata": {},
     "output_type": "execute_result"
    }
   ],
   "source": [
    "healthy_12"
   ]
  },
  {
   "cell_type": "code",
   "execution_count": 56,
   "id": "b44b78db",
   "metadata": {
    "scrolled": false
   },
   "outputs": [],
   "source": [
    "# Define a function to extract the desired pattern\n",
    "def extract_id_12(string):\n",
    "    match = re.search(r'(k127_\\d+)', string)\n",
    "    if match:\n",
    "        return match.group(1) + '_12'\n",
    "    else:\n",
    "        return None\n",
    "\n",
    "# Apply the function to the 'ids' column\n",
    "healthy_12['ids'] = healthy_12['ids'].apply(extract_id_12)\n",
    "\n"
   ]
  },
  {
   "cell_type": "code",
   "execution_count": 57,
   "id": "c3ad361c",
   "metadata": {},
   "outputs": [
    {
     "data": {
      "text/html": [
       "<div>\n",
       "<style scoped>\n",
       "    .dataframe tbody tr th:only-of-type {\n",
       "        vertical-align: middle;\n",
       "    }\n",
       "\n",
       "    .dataframe tbody tr th {\n",
       "        vertical-align: top;\n",
       "    }\n",
       "\n",
       "    .dataframe thead th {\n",
       "        text-align: right;\n",
       "    }\n",
       "</style>\n",
       "<table border=\"1\" class=\"dataframe\">\n",
       "  <thead>\n",
       "    <tr style=\"text-align: right;\">\n",
       "      <th></th>\n",
       "      <th>ids</th>\n",
       "      <th>seq</th>\n",
       "    </tr>\n",
       "  </thead>\n",
       "  <tbody>\n",
       "    <tr>\n",
       "      <th>0</th>\n",
       "      <td>k127_47088_12</td>\n",
       "      <td>CCATATTAGTAGTAACAAAGATCCTGCCCATTGATGTCAGGACATC...</td>\n",
       "    </tr>\n",
       "    <tr>\n",
       "      <th>1</th>\n",
       "      <td>k127_0_12</td>\n",
       "      <td>GTTATCCAGCAATCAAAGCTGCCTTTTTCTTGTAGTTTGCATATAA...</td>\n",
       "    </tr>\n",
       "    <tr>\n",
       "      <th>2</th>\n",
       "      <td>k127_13454_12</td>\n",
       "      <td>GTCTTTCAACGTACAAATCTGGAACACATTAGGATTATCCCAACCT...</td>\n",
       "    </tr>\n",
       "    <tr>\n",
       "      <th>3</th>\n",
       "      <td>k127_26911_12</td>\n",
       "      <td>TCCTACTTGAAGGGCGAGTTCCTGATATGAAAATTCGCTTGTTAAG...</td>\n",
       "    </tr>\n",
       "    <tr>\n",
       "      <th>4</th>\n",
       "      <td>k127_20189_12</td>\n",
       "      <td>TCCCTGTCCCGCCCCGATCTGGAATCCAGAACAGGCGCAGAGAGCA...</td>\n",
       "    </tr>\n",
       "    <tr>\n",
       "      <th>...</th>\n",
       "      <td>...</td>\n",
       "      <td>...</td>\n",
       "    </tr>\n",
       "    <tr>\n",
       "      <th>7157</th>\n",
       "      <td>k127_6677_12</td>\n",
       "      <td>CTTTGTGTGGCCTGCACCTTTGCCGTTCTTCCCGTTTGCGCCACAC...</td>\n",
       "    </tr>\n",
       "    <tr>\n",
       "      <th>7158</th>\n",
       "      <td>k127_6683_12</td>\n",
       "      <td>ATAAAAAGCCGTTCCTCCCGGCATATAGACAGTGTTTTGGGGAGTG...</td>\n",
       "    </tr>\n",
       "    <tr>\n",
       "      <th>7159</th>\n",
       "      <td>k127_6697_12</td>\n",
       "      <td>GGCTCCACCTGGAGGGACGGCCGGGTGCGGTCGGCCTCCAGAGTGG...</td>\n",
       "    </tr>\n",
       "    <tr>\n",
       "      <th>7160</th>\n",
       "      <td>k127_6711_12</td>\n",
       "      <td>GCTTGGATTTGCTGTAACCAGCTTGGTCGTCGAAATTTGACACCAC...</td>\n",
       "    </tr>\n",
       "    <tr>\n",
       "      <th>7161</th>\n",
       "      <td>k127_6714_12</td>\n",
       "      <td>GATTATTATCTGCATCAGGCTGCACCGCTGGAGATCGAGCAGGAGT...</td>\n",
       "    </tr>\n",
       "  </tbody>\n",
       "</table>\n",
       "<p>7162 rows × 2 columns</p>\n",
       "</div>"
      ],
      "text/plain": [
       "                ids                                                seq\n",
       "0     k127_47088_12  CCATATTAGTAGTAACAAAGATCCTGCCCATTGATGTCAGGACATC...\n",
       "1         k127_0_12  GTTATCCAGCAATCAAAGCTGCCTTTTTCTTGTAGTTTGCATATAA...\n",
       "2     k127_13454_12  GTCTTTCAACGTACAAATCTGGAACACATTAGGATTATCCCAACCT...\n",
       "3     k127_26911_12  TCCTACTTGAAGGGCGAGTTCCTGATATGAAAATTCGCTTGTTAAG...\n",
       "4     k127_20189_12  TCCCTGTCCCGCCCCGATCTGGAATCCAGAACAGGCGCAGAGAGCA...\n",
       "...             ...                                                ...\n",
       "7157   k127_6677_12  CTTTGTGTGGCCTGCACCTTTGCCGTTCTTCCCGTTTGCGCCACAC...\n",
       "7158   k127_6683_12  ATAAAAAGCCGTTCCTCCCGGCATATAGACAGTGTTTTGGGGAGTG...\n",
       "7159   k127_6697_12  GGCTCCACCTGGAGGGACGGCCGGGTGCGGTCGGCCTCCAGAGTGG...\n",
       "7160   k127_6711_12  GCTTGGATTTGCTGTAACCAGCTTGGTCGTCGAAATTTGACACCAC...\n",
       "7161   k127_6714_12  GATTATTATCTGCATCAGGCTGCACCGCTGGAGATCGAGCAGGAGT...\n",
       "\n",
       "[7162 rows x 2 columns]"
      ]
     },
     "execution_count": 57,
     "metadata": {},
     "output_type": "execute_result"
    }
   ],
   "source": [
    "healthy_12"
   ]
  },
  {
   "cell_type": "code",
   "execution_count": 58,
   "id": "d882ff4c",
   "metadata": {},
   "outputs": [
    {
     "name": "stdout",
     "output_type": "stream",
     "text": [
      "There are no duplicate seq in the DataFrame.\n"
     ]
    }
   ],
   "source": [
    "# Assuming df_antibiotics_and_conjugate is your DataFrame\n",
    "# You can replace it with the name of your actual DataFrame\n",
    "\n",
    "# Check for duplicates in the \"ids\" column\n",
    "duplicates = healthy_12[healthy_12.duplicated('seq')]\n",
    "\n",
    "# If there are duplicates, duplicates DataFrame will contain those rows\n",
    "# If duplicates is empty, it means there are no duplicate ids\n",
    "if not duplicates.empty:\n",
    "    print(\"There are duplicate seq in the DataFrame:\")\n",
    "    print(duplicates)\n",
    "else:\n",
    "    print(\"There are no duplicate seq in the DataFrame.\")\n"
   ]
  },
  {
   "cell_type": "code",
   "execution_count": 59,
   "id": "556ae37a",
   "metadata": {},
   "outputs": [],
   "source": [
    "healthy_ids = healthy_12['ids'].tolist()\n",
    "healthy_list = healthy_12['seq'].tolist()\n"
   ]
  },
  {
   "cell_type": "code",
   "execution_count": 60,
   "id": "7581ff28",
   "metadata": {},
   "outputs": [
    {
     "data": {
      "text/plain": [
       "7162"
      ]
     },
     "execution_count": 60,
     "metadata": {},
     "output_type": "execute_result"
    }
   ],
   "source": [
    "len(healthy_ids)\n"
   ]
  },
  {
   "cell_type": "code",
   "execution_count": 61,
   "id": "e715bb60",
   "metadata": {},
   "outputs": [
    {
     "data": {
      "text/plain": [
       "7162"
      ]
     },
     "execution_count": 61,
     "metadata": {},
     "output_type": "execute_result"
    }
   ],
   "source": [
    "len(healthy_list)"
   ]
  },
  {
   "cell_type": "code",
   "execution_count": 62,
   "id": "053db067",
   "metadata": {},
   "outputs": [
    {
     "name": "stdout",
     "output_type": "stream",
     "text": [
      "Time to generate images: 854.9261989593506 seconds\n"
     ]
    }
   ],
   "source": [
    "import time\n",
    "start_time = time.time()\n",
    "seq_num=[]\n",
    "\n",
    "\n",
    "all_seq = healthy_list\n",
    "all_seq = [replace_ambiguous_bases(seq) for seq in all_seq]\n",
    "for sequence in all_seq:\n",
    "        seq_cgr = easy_cgr(sequence)\n",
    "        seq_num.append(seq_cgr)\n",
    "sequences = seq_num\n",
    "class_labels = healthy_ids \n",
    "output_directory = \"healthy_12_res_7\"\n",
    "kmeres=7\n",
    "\n",
    "if not os.path.exists(output_directory):\n",
    "    os.makedirs(output_directory)\n",
    "\n",
    "# Call the function to generate and save CGR images\n",
    "generate_and_save_cgr_images_label(sequences, class_labels, output_directory,kmeres)\n",
    "\n",
    "end_time = time.time()\n",
    "elapsed_time = end_time - start_time\n",
    "\n",
    "# Print the time taken\n",
    "print(f\"Time to generate images: {elapsed_time} seconds\")"
   ]
  },
  {
   "cell_type": "code",
   "execution_count": null,
   "id": "14f3cf4d",
   "metadata": {},
   "outputs": [],
   "source": []
  },
  {
   "cell_type": "code",
   "execution_count": null,
   "id": "46f90e4f",
   "metadata": {},
   "outputs": [],
   "source": []
  },
  {
   "cell_type": "markdown",
   "id": "15f91347",
   "metadata": {},
   "source": [
    "###  Healthy 13"
   ]
  },
  {
   "cell_type": "code",
   "execution_count": 63,
   "id": "935d6708",
   "metadata": {
    "scrolled": true
   },
   "outputs": [],
   "source": [
    "import pandas as pd\n",
    "\n",
    "file_name = \"Healthy13.contigs.fa\"\n",
    "fasta_sequences = read_fasta_ARG(file_name)"
   ]
  },
  {
   "cell_type": "code",
   "execution_count": 64,
   "id": "54d79f87",
   "metadata": {},
   "outputs": [],
   "source": [
    "# Convert to DataFrame\n",
    "healthy_13 = pd.DataFrame(fasta_sequences, columns=[ 'ids', 'seq'])\n"
   ]
  },
  {
   "cell_type": "code",
   "execution_count": 65,
   "id": "e3399b01",
   "metadata": {},
   "outputs": [
    {
     "data": {
      "text/html": [
       "<div>\n",
       "<style scoped>\n",
       "    .dataframe tbody tr th:only-of-type {\n",
       "        vertical-align: middle;\n",
       "    }\n",
       "\n",
       "    .dataframe tbody tr th {\n",
       "        vertical-align: top;\n",
       "    }\n",
       "\n",
       "    .dataframe thead th {\n",
       "        text-align: right;\n",
       "    }\n",
       "</style>\n",
       "<table border=\"1\" class=\"dataframe\">\n",
       "  <thead>\n",
       "    <tr style=\"text-align: right;\">\n",
       "      <th></th>\n",
       "      <th>ids</th>\n",
       "      <th>seq</th>\n",
       "    </tr>\n",
       "  </thead>\n",
       "  <tbody>\n",
       "    <tr>\n",
       "      <th>0</th>\n",
       "      <td>k127_30735 flag=1 multi=5.0000 len=3759</td>\n",
       "      <td>CCTTAGAGAGAAATACAAATTTTGGACTGTATTTTTTGCGTGATAA...</td>\n",
       "    </tr>\n",
       "    <tr>\n",
       "      <th>1</th>\n",
       "      <td>k127_3 flag=0 multi=6.8107 len=3899</td>\n",
       "      <td>AAAGTAATCCGTATCATCTGCATTCCTTTTTAAGCAAGATCTGCTT...</td>\n",
       "    </tr>\n",
       "    <tr>\n",
       "      <th>2</th>\n",
       "      <td>k127_92205 flag=1 multi=6.0000 len=5165</td>\n",
       "      <td>AGGCGTGCCTCTTCAACCACTCGAGCACCTCTCCTTATGAGTTTTC...</td>\n",
       "    </tr>\n",
       "    <tr>\n",
       "      <th>3</th>\n",
       "      <td>k127_107570 flag=1 multi=6.0000 len=10687</td>\n",
       "      <td>ATGCGATATGCTCCAAAGTCAGGCCCTGCGGCGCAATCGGCCCGCT...</td>\n",
       "    </tr>\n",
       "    <tr>\n",
       "      <th>4</th>\n",
       "      <td>k127_30738 flag=0 multi=11.9817 len=3727</td>\n",
       "      <td>GCCGCGCGCAAGTTTTACCCGCCTTGGGCGGGCAAAACTCACACTT...</td>\n",
       "    </tr>\n",
       "    <tr>\n",
       "      <th>...</th>\n",
       "      <td>...</td>\n",
       "      <td>...</td>\n",
       "    </tr>\n",
       "    <tr>\n",
       "      <th>12266</th>\n",
       "      <td>k127_15339 flag=1 multi=5.0000 len=6628</td>\n",
       "      <td>GGTACGCATCACGTCCGGTTATTTTACCGGGATGGAGGCCGAGGTG...</td>\n",
       "    </tr>\n",
       "    <tr>\n",
       "      <th>12267</th>\n",
       "      <td>k127_15350 flag=0 multi=24.9607 len=12331</td>\n",
       "      <td>CGGTCAACGCAGCCGTGGAGCTGGCCTGCGCCAAGAAGATCATCAC...</td>\n",
       "    </tr>\n",
       "    <tr>\n",
       "      <th>12268</th>\n",
       "      <td>k127_15351 flag=0 multi=7.9801 len=3640</td>\n",
       "      <td>CCTTGGAAAGGTGATTGTGCTATAAGCACCTGCCCACCACCCGCAT...</td>\n",
       "    </tr>\n",
       "    <tr>\n",
       "      <th>12269</th>\n",
       "      <td>k127_15355 flag=1 multi=5.0000 len=4734</td>\n",
       "      <td>GTCACGAACATGCCGCGCGTGAGTGCGTCGTCCGGGGCGAAGAGCC...</td>\n",
       "    </tr>\n",
       "    <tr>\n",
       "      <th>12270</th>\n",
       "      <td>k127_15366 flag=0 multi=22.9932 len=65008</td>\n",
       "      <td>GCTGCGGCACGGCATCTGCGTTGCCAAAATGCTCGATAATACACAA...</td>\n",
       "    </tr>\n",
       "  </tbody>\n",
       "</table>\n",
       "<p>12271 rows × 2 columns</p>\n",
       "</div>"
      ],
      "text/plain": [
       "                                             ids  \\\n",
       "0        k127_30735 flag=1 multi=5.0000 len=3759   \n",
       "1            k127_3 flag=0 multi=6.8107 len=3899   \n",
       "2        k127_92205 flag=1 multi=6.0000 len=5165   \n",
       "3      k127_107570 flag=1 multi=6.0000 len=10687   \n",
       "4       k127_30738 flag=0 multi=11.9817 len=3727   \n",
       "...                                          ...   \n",
       "12266    k127_15339 flag=1 multi=5.0000 len=6628   \n",
       "12267  k127_15350 flag=0 multi=24.9607 len=12331   \n",
       "12268    k127_15351 flag=0 multi=7.9801 len=3640   \n",
       "12269    k127_15355 flag=1 multi=5.0000 len=4734   \n",
       "12270  k127_15366 flag=0 multi=22.9932 len=65008   \n",
       "\n",
       "                                                     seq  \n",
       "0      CCTTAGAGAGAAATACAAATTTTGGACTGTATTTTTTGCGTGATAA...  \n",
       "1      AAAGTAATCCGTATCATCTGCATTCCTTTTTAAGCAAGATCTGCTT...  \n",
       "2      AGGCGTGCCTCTTCAACCACTCGAGCACCTCTCCTTATGAGTTTTC...  \n",
       "3      ATGCGATATGCTCCAAAGTCAGGCCCTGCGGCGCAATCGGCCCGCT...  \n",
       "4      GCCGCGCGCAAGTTTTACCCGCCTTGGGCGGGCAAAACTCACACTT...  \n",
       "...                                                  ...  \n",
       "12266  GGTACGCATCACGTCCGGTTATTTTACCGGGATGGAGGCCGAGGTG...  \n",
       "12267  CGGTCAACGCAGCCGTGGAGCTGGCCTGCGCCAAGAAGATCATCAC...  \n",
       "12268  CCTTGGAAAGGTGATTGTGCTATAAGCACCTGCCCACCACCCGCAT...  \n",
       "12269  GTCACGAACATGCCGCGCGTGAGTGCGTCGTCCGGGGCGAAGAGCC...  \n",
       "12270  GCTGCGGCACGGCATCTGCGTTGCCAAAATGCTCGATAATACACAA...  \n",
       "\n",
       "[12271 rows x 2 columns]"
      ]
     },
     "execution_count": 65,
     "metadata": {},
     "output_type": "execute_result"
    }
   ],
   "source": [
    "healthy_13"
   ]
  },
  {
   "cell_type": "code",
   "execution_count": 66,
   "id": "3d3165ce",
   "metadata": {
    "scrolled": false
   },
   "outputs": [],
   "source": [
    "# Define a function to extract the desired pattern\n",
    "def extract_id_13(string):\n",
    "    match = re.search(r'(k127_\\d+)', string)\n",
    "    if match:\n",
    "        return match.group(1) + '_13'\n",
    "    else:\n",
    "        return None\n",
    "\n",
    "# Apply the function to the 'ids' column\n",
    "healthy_13['ids'] = healthy_13['ids'].apply(extract_id_13)\n",
    "\n"
   ]
  },
  {
   "cell_type": "code",
   "execution_count": 67,
   "id": "acb9da27",
   "metadata": {},
   "outputs": [
    {
     "data": {
      "text/html": [
       "<div>\n",
       "<style scoped>\n",
       "    .dataframe tbody tr th:only-of-type {\n",
       "        vertical-align: middle;\n",
       "    }\n",
       "\n",
       "    .dataframe tbody tr th {\n",
       "        vertical-align: top;\n",
       "    }\n",
       "\n",
       "    .dataframe thead th {\n",
       "        text-align: right;\n",
       "    }\n",
       "</style>\n",
       "<table border=\"1\" class=\"dataframe\">\n",
       "  <thead>\n",
       "    <tr style=\"text-align: right;\">\n",
       "      <th></th>\n",
       "      <th>ids</th>\n",
       "      <th>seq</th>\n",
       "    </tr>\n",
       "  </thead>\n",
       "  <tbody>\n",
       "    <tr>\n",
       "      <th>0</th>\n",
       "      <td>k127_30735_13</td>\n",
       "      <td>CCTTAGAGAGAAATACAAATTTTGGACTGTATTTTTTGCGTGATAA...</td>\n",
       "    </tr>\n",
       "    <tr>\n",
       "      <th>1</th>\n",
       "      <td>k127_3_13</td>\n",
       "      <td>AAAGTAATCCGTATCATCTGCATTCCTTTTTAAGCAAGATCTGCTT...</td>\n",
       "    </tr>\n",
       "    <tr>\n",
       "      <th>2</th>\n",
       "      <td>k127_92205_13</td>\n",
       "      <td>AGGCGTGCCTCTTCAACCACTCGAGCACCTCTCCTTATGAGTTTTC...</td>\n",
       "    </tr>\n",
       "    <tr>\n",
       "      <th>3</th>\n",
       "      <td>k127_107570_13</td>\n",
       "      <td>ATGCGATATGCTCCAAAGTCAGGCCCTGCGGCGCAATCGGCCCGCT...</td>\n",
       "    </tr>\n",
       "    <tr>\n",
       "      <th>4</th>\n",
       "      <td>k127_30738_13</td>\n",
       "      <td>GCCGCGCGCAAGTTTTACCCGCCTTGGGCGGGCAAAACTCACACTT...</td>\n",
       "    </tr>\n",
       "    <tr>\n",
       "      <th>...</th>\n",
       "      <td>...</td>\n",
       "      <td>...</td>\n",
       "    </tr>\n",
       "    <tr>\n",
       "      <th>12266</th>\n",
       "      <td>k127_15339_13</td>\n",
       "      <td>GGTACGCATCACGTCCGGTTATTTTACCGGGATGGAGGCCGAGGTG...</td>\n",
       "    </tr>\n",
       "    <tr>\n",
       "      <th>12267</th>\n",
       "      <td>k127_15350_13</td>\n",
       "      <td>CGGTCAACGCAGCCGTGGAGCTGGCCTGCGCCAAGAAGATCATCAC...</td>\n",
       "    </tr>\n",
       "    <tr>\n",
       "      <th>12268</th>\n",
       "      <td>k127_15351_13</td>\n",
       "      <td>CCTTGGAAAGGTGATTGTGCTATAAGCACCTGCCCACCACCCGCAT...</td>\n",
       "    </tr>\n",
       "    <tr>\n",
       "      <th>12269</th>\n",
       "      <td>k127_15355_13</td>\n",
       "      <td>GTCACGAACATGCCGCGCGTGAGTGCGTCGTCCGGGGCGAAGAGCC...</td>\n",
       "    </tr>\n",
       "    <tr>\n",
       "      <th>12270</th>\n",
       "      <td>k127_15366_13</td>\n",
       "      <td>GCTGCGGCACGGCATCTGCGTTGCCAAAATGCTCGATAATACACAA...</td>\n",
       "    </tr>\n",
       "  </tbody>\n",
       "</table>\n",
       "<p>12271 rows × 2 columns</p>\n",
       "</div>"
      ],
      "text/plain": [
       "                  ids                                                seq\n",
       "0       k127_30735_13  CCTTAGAGAGAAATACAAATTTTGGACTGTATTTTTTGCGTGATAA...\n",
       "1           k127_3_13  AAAGTAATCCGTATCATCTGCATTCCTTTTTAAGCAAGATCTGCTT...\n",
       "2       k127_92205_13  AGGCGTGCCTCTTCAACCACTCGAGCACCTCTCCTTATGAGTTTTC...\n",
       "3      k127_107570_13  ATGCGATATGCTCCAAAGTCAGGCCCTGCGGCGCAATCGGCCCGCT...\n",
       "4       k127_30738_13  GCCGCGCGCAAGTTTTACCCGCCTTGGGCGGGCAAAACTCACACTT...\n",
       "...               ...                                                ...\n",
       "12266   k127_15339_13  GGTACGCATCACGTCCGGTTATTTTACCGGGATGGAGGCCGAGGTG...\n",
       "12267   k127_15350_13  CGGTCAACGCAGCCGTGGAGCTGGCCTGCGCCAAGAAGATCATCAC...\n",
       "12268   k127_15351_13  CCTTGGAAAGGTGATTGTGCTATAAGCACCTGCCCACCACCCGCAT...\n",
       "12269   k127_15355_13  GTCACGAACATGCCGCGCGTGAGTGCGTCGTCCGGGGCGAAGAGCC...\n",
       "12270   k127_15366_13  GCTGCGGCACGGCATCTGCGTTGCCAAAATGCTCGATAATACACAA...\n",
       "\n",
       "[12271 rows x 2 columns]"
      ]
     },
     "execution_count": 67,
     "metadata": {},
     "output_type": "execute_result"
    }
   ],
   "source": [
    "healthy_13"
   ]
  },
  {
   "cell_type": "code",
   "execution_count": 68,
   "id": "91d8223f",
   "metadata": {},
   "outputs": [
    {
     "name": "stdout",
     "output_type": "stream",
     "text": [
      "There are no duplicate seq in the DataFrame.\n"
     ]
    }
   ],
   "source": [
    "# Assuming df_antibiotics_and_conjugate is your DataFrame\n",
    "# You can replace it with the name of your actual DataFrame\n",
    "\n",
    "# Check for duplicates in the \"ids\" column\n",
    "duplicates = healthy_13[healthy_13.duplicated('seq')]\n",
    "\n",
    "# If there are duplicates, duplicates DataFrame will contain those rows\n",
    "# If duplicates is empty, it means there are no duplicate ids\n",
    "if not duplicates.empty:\n",
    "    print(\"There are duplicate seq in the DataFrame:\")\n",
    "    print(duplicates)\n",
    "else:\n",
    "    print(\"There are no duplicate seq in the DataFrame.\")\n"
   ]
  },
  {
   "cell_type": "code",
   "execution_count": 69,
   "id": "63948630",
   "metadata": {},
   "outputs": [],
   "source": [
    "healthy_ids = healthy_13['ids'].tolist()\n",
    "healthy_list = healthy_13['seq'].tolist()\n"
   ]
  },
  {
   "cell_type": "code",
   "execution_count": 70,
   "id": "e7aee595",
   "metadata": {},
   "outputs": [
    {
     "data": {
      "text/plain": [
       "12271"
      ]
     },
     "execution_count": 70,
     "metadata": {},
     "output_type": "execute_result"
    }
   ],
   "source": [
    "len(healthy_ids)\n"
   ]
  },
  {
   "cell_type": "code",
   "execution_count": 71,
   "id": "3c329d36",
   "metadata": {},
   "outputs": [
    {
     "data": {
      "text/plain": [
       "12271"
      ]
     },
     "execution_count": 71,
     "metadata": {},
     "output_type": "execute_result"
    }
   ],
   "source": [
    "len(healthy_list)"
   ]
  },
  {
   "cell_type": "code",
   "execution_count": 72,
   "id": "ee912442",
   "metadata": {},
   "outputs": [
    {
     "name": "stdout",
     "output_type": "stream",
     "text": [
      "Time to generate images: 1398.8144624233246 seconds\n"
     ]
    }
   ],
   "source": [
    "import time\n",
    "start_time = time.time()\n",
    "seq_num=[]\n",
    "\n",
    "\n",
    "all_seq = healthy_list\n",
    "all_seq = [replace_ambiguous_bases(seq) for seq in all_seq]\n",
    "for sequence in all_seq:\n",
    "        seq_cgr = easy_cgr(sequence)\n",
    "        seq_num.append(seq_cgr)\n",
    "sequences = seq_num\n",
    "class_labels = healthy_ids \n",
    "output_directory = \"healthy_13_res_7\"\n",
    "kmeres=7\n",
    "\n",
    "if not os.path.exists(output_directory):\n",
    "    os.makedirs(output_directory)\n",
    "\n",
    "# Call the function to generate and save CGR images\n",
    "generate_and_save_cgr_images_label(sequences, class_labels, output_directory,kmeres)\n",
    "\n",
    "end_time = time.time()\n",
    "elapsed_time = end_time - start_time\n",
    "\n",
    "# Print the time taken\n",
    "print(f\"Time to generate images: {elapsed_time} seconds\")"
   ]
  },
  {
   "cell_type": "code",
   "execution_count": null,
   "id": "fdef0a6e",
   "metadata": {},
   "outputs": [],
   "source": []
  },
  {
   "cell_type": "code",
   "execution_count": null,
   "id": "56777aa6",
   "metadata": {},
   "outputs": [],
   "source": []
  }
 ],
 "metadata": {
  "kernelspec": {
   "display_name": "Python 3 (ipykernel)",
   "language": "python",
   "name": "python3"
  },
  "language_info": {
   "codemirror_mode": {
    "name": "ipython",
    "version": 3
   },
   "file_extension": ".py",
   "mimetype": "text/x-python",
   "name": "python",
   "nbconvert_exporter": "python",
   "pygments_lexer": "ipython3",
   "version": "3.9.13"
  }
 },
 "nbformat": 4,
 "nbformat_minor": 5
}
