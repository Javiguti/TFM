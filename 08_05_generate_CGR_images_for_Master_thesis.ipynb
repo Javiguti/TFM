{
 "cells": [
  {
   "cell_type": "code",
   "execution_count": 1,
   "id": "16105af4",
   "metadata": {},
   "outputs": [
    {
     "name": "stderr",
     "output_type": "stream",
     "text": [
      "C:\\Users\\Javi\\anaconda3\\lib\\site-packages\\scipy\\__init__.py:155: UserWarning: A NumPy version >=1.18.5 and <1.25.0 is required for this version of SciPy (detected version 1.26.1\n",
      "  warnings.warn(f\"A NumPy version >={np_minversion} and <{np_maxversion}\"\n"
     ]
    }
   ],
   "source": [
    "import pandas as pd\n",
    "import os\n",
    "import time\n",
    "import numpy as np\n",
    "import tensorflow as tf\n",
    "from tensorflow import keras\n",
    "from tensorflow.keras import layers\n",
    "from tensorflow.keras.preprocessing.image import load_img, img_to_array\n",
    "from tensorflow.keras.models import load_model\n",
    "from tensorflow.keras.applications import ResNet50\n",
    "from tensorflow.keras.models import Sequential\n",
    "from tensorflow.keras.layers import Dense, Flatten\n",
    "from tensorflow.keras.utils import to_categorical\n",
    "from tensorflow.keras.callbacks import EarlyStopping\n",
    "from sklearn.model_selection import train_test_split\n",
    "import time\n",
    "from sklearn.metrics import confusion_matrix, accuracy_score, precision_score, recall_score, f1_score, roc_auc_score, roc_curve, auc\n"
   ]
  },
  {
   "cell_type": "code",
   "execution_count": 2,
   "id": "5b15d42c",
   "metadata": {},
   "outputs": [],
   "source": [
    "import random\n",
    "\n",
    "def replace_ambiguous_bases(sequence):\n",
    "    def resolve_ambiguity(code):\n",
    "        if code == 'R':\n",
    "            return random.choice(['A', 'G'])\n",
    "        elif code == 'Y':\n",
    "            return random.choice(['C', 'T'])\n",
    "        elif code == 'S':\n",
    "            return random.choice(['G', 'C'])\n",
    "        elif code == 'W':\n",
    "            return random.choice(['A', 'T'])\n",
    "        elif code == 'K':\n",
    "            return random.choice(['G', 'T'])\n",
    "        elif code == 'M':\n",
    "            return random.choice(['A', 'C'])\n",
    "        elif code == 'B':\n",
    "            return random.choice(['C', 'G', 'T'])\n",
    "        elif code == 'D':\n",
    "            return random.choice(['A', 'G', 'T'])\n",
    "        elif code == 'H':\n",
    "            return random.choice(['A', 'C', 'T'])\n",
    "        elif code == 'V':\n",
    "            return random.choice(['A', 'C', 'G'])\n",
    "        elif code == 'N':\n",
    "            return random.choice(['A', 'T', 'C', 'G'])\n",
    "        else:\n",
    "            return code  # If the code is not an ambiguity code, return the same code\n",
    "    \n",
    "    resolved_sequence = ''.join(resolve_ambiguity(base) for base in sequence)\n",
    "    return resolved_sequence"
   ]
  },
  {
   "cell_type": "code",
   "execution_count": 3,
   "id": "e8a440c0",
   "metadata": {},
   "outputs": [],
   "source": [
    "#This function gets the cgr for the sequences\n",
    "def easy_cgr(dna_sequence):\n",
    "  nucleotide_map = {\n",
    "    \"A\": (1, 1),\n",
    "    \"T\": (-1, -1),\n",
    "    \"C\": (1, -1),\n",
    "    \"G\": (-1, 1),\n",
    "}\n",
    "  values=[]\n",
    "  point=(0,0)\n",
    "  for nucleotide in dna_sequence:\n",
    "        next_point=nucleotide_map[nucleotide]\n",
    "        point=((point[0]+next_point[0])/2,(point[1]+next_point[1])/2)\n",
    "        values.append(point)\n",
    "  return values"
   ]
  },
  {
   "cell_type": "code",
   "execution_count": 4,
   "id": "cc1f4b5b",
   "metadata": {},
   "outputs": [],
   "source": [
    "import matplotlib.pyplot as plt\n",
    "import numpy as np\n",
    "from matplotlib.colors import LinearSegmentedColormap\n",
    "\n",
    "def plotting_cgr(sequence_to_plot,id_to_plot,resolution):\n",
    "\n",
    "  # Define the resolution\n",
    "  num_bins = resolution\n",
    "\n",
    "  # Create a grid for the histogram\n",
    "  xedges = np.linspace(-1, 1, num_bins + 1)\n",
    "  yedges = np.linspace(-1, 1, num_bins + 1)\n",
    "\n",
    "  # Create a 2D histogram\n",
    "  hist, _, _ = np.histogram2d([p[0] for p in sequence_to_plot], [p[1] for p in sequence_to_plot], bins=[xedges, yedges])\n",
    "\n",
    "  # Create a custom colormap spanning from light gray to dark gray\n",
    "  colors = [(1, 1, 1), (0.2, 0.2, 0.2)]  # Light gray to dark gray\n",
    "  cmap_name = \"custom_gray\"\n",
    "  custom_cmap = LinearSegmentedColormap.from_list(cmap_name, colors, N=len(sequence_to_plot) + 1)\n",
    "\n",
    "  # Create a figure\n",
    "  plt.figure()\n",
    "\n",
    "  # Display the 2D histogram with the custom colormap\n",
    "  plt.imshow(hist.T, cmap=custom_cmap, extent=[-1, 1, -1, 1], origin='lower', interpolation='nearest', aspect='auto')\n",
    "\n",
    "  # Calculate coordinates for labels\n",
    "  plt.xticks([])\n",
    "  plt.yticks([])\n",
    "  x_margin, y_margin = 0.05, 0.05\n",
    "  label_coordinates = {\n",
    "      \"A\": (1+ x_margin, 1 +y_margin),\n",
    "      \"T\": (-1 - x_margin, -1-y_margin),\n",
    "      \"C\": (1 + x_margin, -1 -y_margin),\n",
    "      \"G\": (-1 - x_margin, 1 + y_margin),\n",
    "  }\n",
    "\n",
    "  # Add labels outside the grid\n",
    "  for letter, (x, y) in label_coordinates.items():\n",
    "      plt.text(x, y, letter, ha='center', va='center', fontsize=15, color='black')\n",
    "  # Show the plot\n",
    "  plt.title('CGR for '+id_to_plot)\n",
    "  plt.grid(False)  # Turn off grid lines\n",
    "  plt.show()"
   ]
  },
  {
   "cell_type": "code",
   "execution_count": 5,
   "id": "ce3a2055",
   "metadata": {},
   "outputs": [],
   "source": [
    "#This function reads the file when usingantibiotic resistance genes\n",
    "import re\n",
    "\n",
    "def read_antibiotic_resistance_genes(fasta_file_path):\n",
    "    # Initialize lists to store sequence data\n",
    "    sequence_ids = []\n",
    "    sequences = []\n",
    "    terms_inside_brackets = []  # Initialize a list to store terms inside brackets\n",
    "\n",
    "    # Define a regular expression pattern to match text inside square brackets\n",
    "    pattern = r'\\[([^]]+)\\]'\n",
    "\n",
    "    # Open the FASTA file for reading\n",
    "    with open(fasta_file_path, \"r\") as file:\n",
    "        for line in file:\n",
    "            line = line.strip()  # Remove leading/trailing whitespace\n",
    "\n",
    "            # Check if the line is an ID line (starts with '>')\n",
    "            if line.startswith(\">\"):\n",
    "                # If it's not the first sequence, process the previous one\n",
    "                if sequence_ids:\n",
    "                    term_inside_brackets = re.search(pattern, sequence_ids[-1]).group(1)\n",
    "                    terms_inside_brackets.append(term_inside_brackets)  # Append to the list\n",
    "                # Extract the sequence ID from the ID line\n",
    "                sequence_ids.append(line[1:])\n",
    "                sequences.append(\"\")  # Reset the sequence\n",
    "            else:\n",
    "                # Append the line to the sequence\n",
    "                sequences[-1] += line\n",
    "\n",
    "    # Process the last sequence in the file\n",
    "    if sequence_ids:\n",
    "        term_inside_brackets = re.search(pattern, sequence_ids[-1]).group(1)\n",
    "        terms_inside_brackets.append(term_inside_brackets)\n",
    "\n",
    "    return sequences, terms_inside_brackets"
   ]
  },
  {
   "cell_type": "code",
   "execution_count": 9,
   "id": "88c89962",
   "metadata": {},
   "outputs": [],
   "source": [
    "\n",
    "def read_fasta_ARG(file_name):\n",
    "    sequences = []\n",
    "    with open(file_name, 'r') as file:\n",
    "        sequence_id = ''\n",
    "        sequence = ''\n",
    "        for line in file:\n",
    "            line = line.strip()\n",
    "            if line.startswith('>'):\n",
    "                if sequence_id != '':\n",
    "                    sequences.append(sequence_id.split('|') + [sequence])\n",
    "                sequence_id = line[1:]\n",
    "                sequence = ''\n",
    "            else:\n",
    "                sequence += line\n",
    "        if sequence_id != '':\n",
    "            sequences.append(sequence_id.split('|') + [sequence])\n",
    "    return sequences\n"
   ]
  },
  {
   "cell_type": "markdown",
   "id": "2cd96bd6",
   "metadata": {},
   "source": [
    "### READ ANTIBIOTICS"
   ]
  },
  {
   "cell_type": "code",
   "execution_count": 10,
   "id": "7426d455",
   "metadata": {},
   "outputs": [],
   "source": [
    "\n",
    "file_name = \"AntibioticResistanceGenes.fasta\"\n",
    "fasta_sequences = read_fasta_ARG(file_name)\n",
    "\n",
    "# Convert to DataFrame\n",
    "data_antibiotic = pd.DataFrame(fasta_sequences, columns=['ID Prefix', 'ID', 'Strand', 'Location',\"ARO\", 'Description', 'Sequence'])\n",
    "\n",
    "\n",
    "data_antibiotic[\"Description\"] = data_antibiotic[\"Description\"].str.replace(' ', '_')\n",
    "data_antibiotic.rename(columns={'Description': 'ids', 'Sequence': 'seq'}, inplace=True)\n",
    "\n",
    "df_ids_antibiotics = data_antibiotic[[\"ids\", \"seq\"]]"
   ]
  },
  {
   "cell_type": "markdown",
   "id": "80623276",
   "metadata": {},
   "source": [
    "### "
   ]
  },
  {
   "cell_type": "code",
   "execution_count": 11,
   "id": "70d08a7e",
   "metadata": {},
   "outputs": [
    {
     "data": {
      "text/html": [
       "<div>\n",
       "<style scoped>\n",
       "    .dataframe tbody tr th:only-of-type {\n",
       "        vertical-align: middle;\n",
       "    }\n",
       "\n",
       "    .dataframe tbody tr th {\n",
       "        vertical-align: top;\n",
       "    }\n",
       "\n",
       "    .dataframe thead th {\n",
       "        text-align: right;\n",
       "    }\n",
       "</style>\n",
       "<table border=\"1\" class=\"dataframe\">\n",
       "  <thead>\n",
       "    <tr style=\"text-align: right;\">\n",
       "      <th></th>\n",
       "      <th>ids</th>\n",
       "      <th>seq</th>\n",
       "    </tr>\n",
       "  </thead>\n",
       "  <tbody>\n",
       "    <tr>\n",
       "      <th>0</th>\n",
       "      <td>CblA-1_[mixed_culture_bacterium_AX_gF3SD01_15]</td>\n",
       "      <td>ATGAAAGCATATTTCATCGCCATACTTACCTTATTCACTTGTATAG...</td>\n",
       "    </tr>\n",
       "    <tr>\n",
       "      <th>1</th>\n",
       "      <td>SHV-52_[Klebsiella_pneumoniae]</td>\n",
       "      <td>ATGCGTTATATTCGCCTGTGTATTATCTCCCTGTTAGCCGCCCTGC...</td>\n",
       "    </tr>\n",
       "    <tr>\n",
       "      <th>2</th>\n",
       "      <td>dfrF_[Enterococcus_faecalis]</td>\n",
       "      <td>ATGATAGGTTTGATTGTTGCGAGGTCAAAGAATAATGTTATAGGCA...</td>\n",
       "    </tr>\n",
       "    <tr>\n",
       "      <th>3</th>\n",
       "      <td>CTX-M-130_[Escherichia_coli]</td>\n",
       "      <td>ATGGTGACAAAGAGAGTGCAACGGATGATGTTCGCGGCGGCGGCGT...</td>\n",
       "    </tr>\n",
       "    <tr>\n",
       "      <th>4</th>\n",
       "      <td>NDM-6_[Escherichia_coli]</td>\n",
       "      <td>ATGGAATTGCCCAATATTATGCACCCGGTCGCGAAGCTGAGCACCG...</td>\n",
       "    </tr>\n",
       "    <tr>\n",
       "      <th>...</th>\n",
       "      <td>...</td>\n",
       "      <td>...</td>\n",
       "    </tr>\n",
       "    <tr>\n",
       "      <th>5063</th>\n",
       "      <td>Mfer_23S_MAC_[Mycoplasmopsis_fermentans_PG18]</td>\n",
       "      <td>CTTTTAAACCGATCGATTTATTAGTATTGGTCAGCTCAACGTATTA...</td>\n",
       "    </tr>\n",
       "    <tr>\n",
       "      <th>5064</th>\n",
       "      <td>Ecol_16S_TET_[Escherichia_coli_str._K-12]</td>\n",
       "      <td>AAATTGAAGAGTTTGATCATGGCTCAGATTGAACGCTGGCGGCAGG...</td>\n",
       "    </tr>\n",
       "    <tr>\n",
       "      <th>5065</th>\n",
       "      <td>Ecol_16rrsH_SPT_[Escherichia_coli_str._K-12]</td>\n",
       "      <td>AAATTGAAGAGTTTGATCATGGCTCAGATTGAACGCTGGCGGCAGG...</td>\n",
       "    </tr>\n",
       "    <tr>\n",
       "      <th>5066</th>\n",
       "      <td>Crei_16rrnS_STR_[Chlamydomonas_reinhardtii]</td>\n",
       "      <td>ATCCATGGAGAGTTTGATCCTGGCTCAGGACGAACGCTGGCGGCAT...</td>\n",
       "    </tr>\n",
       "    <tr>\n",
       "      <th>5067</th>\n",
       "      <td>Samb_23S_MAC_[Streptomyces_ambofaciens]</td>\n",
       "      <td>ACAGTGGACGCGAGCATCTGTGGCCAAGTTTTTAAGGGCGCACGGT...</td>\n",
       "    </tr>\n",
       "  </tbody>\n",
       "</table>\n",
       "<p>5068 rows × 2 columns</p>\n",
       "</div>"
      ],
      "text/plain": [
       "                                                 ids  \\\n",
       "0     CblA-1_[mixed_culture_bacterium_AX_gF3SD01_15]   \n",
       "1                     SHV-52_[Klebsiella_pneumoniae]   \n",
       "2                       dfrF_[Enterococcus_faecalis]   \n",
       "3                       CTX-M-130_[Escherichia_coli]   \n",
       "4                           NDM-6_[Escherichia_coli]   \n",
       "...                                              ...   \n",
       "5063   Mfer_23S_MAC_[Mycoplasmopsis_fermentans_PG18]   \n",
       "5064       Ecol_16S_TET_[Escherichia_coli_str._K-12]   \n",
       "5065    Ecol_16rrsH_SPT_[Escherichia_coli_str._K-12]   \n",
       "5066     Crei_16rrnS_STR_[Chlamydomonas_reinhardtii]   \n",
       "5067         Samb_23S_MAC_[Streptomyces_ambofaciens]   \n",
       "\n",
       "                                                    seq  \n",
       "0     ATGAAAGCATATTTCATCGCCATACTTACCTTATTCACTTGTATAG...  \n",
       "1     ATGCGTTATATTCGCCTGTGTATTATCTCCCTGTTAGCCGCCCTGC...  \n",
       "2     ATGATAGGTTTGATTGTTGCGAGGTCAAAGAATAATGTTATAGGCA...  \n",
       "3     ATGGTGACAAAGAGAGTGCAACGGATGATGTTCGCGGCGGCGGCGT...  \n",
       "4     ATGGAATTGCCCAATATTATGCACCCGGTCGCGAAGCTGAGCACCG...  \n",
       "...                                                 ...  \n",
       "5063  CTTTTAAACCGATCGATTTATTAGTATTGGTCAGCTCAACGTATTA...  \n",
       "5064  AAATTGAAGAGTTTGATCATGGCTCAGATTGAACGCTGGCGGCAGG...  \n",
       "5065  AAATTGAAGAGTTTGATCATGGCTCAGATTGAACGCTGGCGGCAGG...  \n",
       "5066  ATCCATGGAGAGTTTGATCCTGGCTCAGGACGAACGCTGGCGGCAT...  \n",
       "5067  ACAGTGGACGCGAGCATCTGTGGCCAAGTTTTTAAGGGCGCACGGT...  \n",
       "\n",
       "[5068 rows x 2 columns]"
      ]
     },
     "execution_count": 11,
     "metadata": {},
     "output_type": "execute_result"
    }
   ],
   "source": [
    "df_ids_antibiotics"
   ]
  },
  {
   "cell_type": "code",
   "execution_count": 12,
   "id": "ac2bc580",
   "metadata": {},
   "outputs": [],
   "source": [
    "import pandas as pd\n",
    "\n",
    "# Assuming df_ids_antibiotics is your DataFrame\n",
    "df_ids_antibiotics_sorted = df_ids_antibiotics.assign(seq_length=df_ids_antibiotics['seq'].str.len()).sort_values(by='seq_length')\n",
    "\n",
    "# Drop the temporary column seq_length if needed\n",
    "#df_ids_antibiotics_sorted = df_ids_antibiotics_sorted.drop(columns=['seq_length'])\n",
    "\n",
    "# Now df_ids_antibiotics_sorted contains rows sorted by the length of strings in the \"seq\" column from smallest to largest\n"
   ]
  },
  {
   "cell_type": "code",
   "execution_count": 13,
   "id": "73e329c1",
   "metadata": {},
   "outputs": [
    {
     "data": {
      "text/html": [
       "<div>\n",
       "<style scoped>\n",
       "    .dataframe tbody tr th:only-of-type {\n",
       "        vertical-align: middle;\n",
       "    }\n",
       "\n",
       "    .dataframe tbody tr th {\n",
       "        vertical-align: top;\n",
       "    }\n",
       "\n",
       "    .dataframe thead th {\n",
       "        text-align: right;\n",
       "    }\n",
       "</style>\n",
       "<table border=\"1\" class=\"dataframe\">\n",
       "  <thead>\n",
       "    <tr style=\"text-align: right;\">\n",
       "      <th></th>\n",
       "      <th>ids</th>\n",
       "      <th>seq</th>\n",
       "      <th>seq_length</th>\n",
       "    </tr>\n",
       "  </thead>\n",
       "  <tbody>\n",
       "    <tr>\n",
       "      <th>2207</th>\n",
       "      <td>ArmR_[Pseudomonas_aeruginosa_PAO1]</td>\n",
       "      <td>ATGTCCCTGAACACTCCGCGCAACAAACCGTCCCGCACCGAGACCG...</td>\n",
       "      <td>162</td>\n",
       "    </tr>\n",
       "    <tr>\n",
       "      <th>2637</th>\n",
       "      <td>rsmA_[Pseudomonas_aeruginosa]</td>\n",
       "      <td>ATGCTGATTCTGACTCGTCGGGTCGGAGAGACCCTGATGGTAGGTG...</td>\n",
       "      <td>186</td>\n",
       "    </tr>\n",
       "    <tr>\n",
       "      <th>4562</th>\n",
       "      <td>vanU_in_vanG_cl_[Enterococcus_faecalis]</td>\n",
       "      <td>ATGCGTGTTAGTTATAATAAGCTCTGGAAGCTTTTAATTGATAGGG...</td>\n",
       "      <td>228</td>\n",
       "    </tr>\n",
       "    <tr>\n",
       "      <th>4744</th>\n",
       "      <td>almF_[Vibrio_cholerae]</td>\n",
       "      <td>ATGAAACAAGCCATTGAAAATATTCTTATTGAGCGATTACAAACCA...</td>\n",
       "      <td>237</td>\n",
       "    </tr>\n",
       "    <tr>\n",
       "      <th>658</th>\n",
       "      <td>dfrB1_[Escherichia_coli]</td>\n",
       "      <td>ATGGAACGAAGTAGCAATGAAGTCAGTAATCCAGTTGCTGGCAATT...</td>\n",
       "      <td>237</td>\n",
       "    </tr>\n",
       "    <tr>\n",
       "      <th>...</th>\n",
       "      <td>...</td>\n",
       "      <td>...</td>\n",
       "      <td>...</td>\n",
       "    </tr>\n",
       "    <tr>\n",
       "      <th>4921</th>\n",
       "      <td>Cdif_rpoB_RIF_[Clostridium_ljungdahlii_DSM_13528]</td>\n",
       "      <td>ATGGTACATCCTGTCCAGGTTGGTAAAAGAACAAGAATGAGCTTTT...</td>\n",
       "      <td>3729</td>\n",
       "    </tr>\n",
       "    <tr>\n",
       "      <th>4865</th>\n",
       "      <td>Mlep_gyrA_FLO_[Mycobacterium_leprae_TN]</td>\n",
       "      <td>ATGACTGATATCACGCTGCCACCAGGTGACGGTTCTATACAGCGGG...</td>\n",
       "      <td>3750</td>\n",
       "    </tr>\n",
       "    <tr>\n",
       "      <th>4820</th>\n",
       "      <td>Ecol_rpoB_RIF_[Escherichia_coli_O157:H7_str._S...</td>\n",
       "      <td>ATGGTTTACTCCTATACCGAGAAAAAACGTATTCGTAAGGATTTTG...</td>\n",
       "      <td>4029</td>\n",
       "    </tr>\n",
       "    <tr>\n",
       "      <th>2051</th>\n",
       "      <td>abcA_[Aspergillus_fumigatus_Af293]</td>\n",
       "      <td>ATGAATGAAAGTCATGAAGCTGGAAAAAATTCCTCTACCAATGTGG...</td>\n",
       "      <td>4359</td>\n",
       "    </tr>\n",
       "    <tr>\n",
       "      <th>4973</th>\n",
       "      <td>Hpyl_rpoB_RIF_[Helicobacter_pylori_26695]</td>\n",
       "      <td>ATGTCAAAAAAAATTCCCCTAAAAAACCGCTTGAGAGCTGATTTTA...</td>\n",
       "      <td>8673</td>\n",
       "    </tr>\n",
       "  </tbody>\n",
       "</table>\n",
       "<p>5068 rows × 3 columns</p>\n",
       "</div>"
      ],
      "text/plain": [
       "                                                    ids  \\\n",
       "2207                 ArmR_[Pseudomonas_aeruginosa_PAO1]   \n",
       "2637                      rsmA_[Pseudomonas_aeruginosa]   \n",
       "4562            vanU_in_vanG_cl_[Enterococcus_faecalis]   \n",
       "4744                             almF_[Vibrio_cholerae]   \n",
       "658                            dfrB1_[Escherichia_coli]   \n",
       "...                                                 ...   \n",
       "4921  Cdif_rpoB_RIF_[Clostridium_ljungdahlii_DSM_13528]   \n",
       "4865            Mlep_gyrA_FLO_[Mycobacterium_leprae_TN]   \n",
       "4820  Ecol_rpoB_RIF_[Escherichia_coli_O157:H7_str._S...   \n",
       "2051                 abcA_[Aspergillus_fumigatus_Af293]   \n",
       "4973          Hpyl_rpoB_RIF_[Helicobacter_pylori_26695]   \n",
       "\n",
       "                                                    seq  seq_length  \n",
       "2207  ATGTCCCTGAACACTCCGCGCAACAAACCGTCCCGCACCGAGACCG...         162  \n",
       "2637  ATGCTGATTCTGACTCGTCGGGTCGGAGAGACCCTGATGGTAGGTG...         186  \n",
       "4562  ATGCGTGTTAGTTATAATAAGCTCTGGAAGCTTTTAATTGATAGGG...         228  \n",
       "4744  ATGAAACAAGCCATTGAAAATATTCTTATTGAGCGATTACAAACCA...         237  \n",
       "658   ATGGAACGAAGTAGCAATGAAGTCAGTAATCCAGTTGCTGGCAATT...         237  \n",
       "...                                                 ...         ...  \n",
       "4921  ATGGTACATCCTGTCCAGGTTGGTAAAAGAACAAGAATGAGCTTTT...        3729  \n",
       "4865  ATGACTGATATCACGCTGCCACCAGGTGACGGTTCTATACAGCGGG...        3750  \n",
       "4820  ATGGTTTACTCCTATACCGAGAAAAAACGTATTCGTAAGGATTTTG...        4029  \n",
       "2051  ATGAATGAAAGTCATGAAGCTGGAAAAAATTCCTCTACCAATGTGG...        4359  \n",
       "4973  ATGTCAAAAAAAATTCCCCTAAAAAACCGCTTGAGAGCTGATTTTA...        8673  \n",
       "\n",
       "[5068 rows x 3 columns]"
      ]
     },
     "execution_count": 13,
     "metadata": {},
     "output_type": "execute_result"
    }
   ],
   "source": [
    "df_ids_antibiotics_sorted"
   ]
  },
  {
   "cell_type": "code",
   "execution_count": 37,
   "id": "4fe9252d",
   "metadata": {
    "scrolled": false
   },
   "outputs": [
    {
     "data": {
      "image/png": "[encoded data removed]",
      "text/plain": [
       "<Figure size 640x480 with 1 Axes>"
      ]
     },
     "metadata": {},
     "output_type": "display_data"
    }
   ],
   "source": [
    "i=5\n",
    "sequence_to_plot = df_ids_antibiotics_sorted.iloc[i]['seq']\n",
    "sequence_to_plot_final= replace_ambiguous_bases(sequence_to_plot)\n",
    "cgr_to_plot=easy_cgr(sequence_to_plot_final)\n",
    "id_to_plot = df_ids_antibiotics_sorted.iloc[i]['ids'] +\" (4-mers)\"\n",
    "resolution=2**4\n",
    "plotting_cgr(cgr_to_plot,id_to_plot,resolution)\n"
   ]
  },
  {
   "cell_type": "code",
   "execution_count": 38,
   "id": "582f72ee",
   "metadata": {},
   "outputs": [
    {
     "data": {
      "image/png": "[encoded data removed]",
      "text/plain": [
       "<Figure size 640x480 with 1 Axes>"
      ]
     },
     "metadata": {},
     "output_type": "display_data"
    }
   ],
   "source": [
    "i=5\n",
    "sequence_to_plot = df_ids_antibiotics_sorted.iloc[i]['seq']\n",
    "sequence_to_plot_final= replace_ambiguous_bases(sequence_to_plot)\n",
    "cgr_to_plot=easy_cgr(sequence_to_plot_final)\n",
    "id_to_plot = df_ids_antibiotics_sorted.iloc[i]['ids'] +\" (6-mers)\"\n",
    "resolution=2**6\n",
    "plotting_cgr(cgr_to_plot,id_to_plot,resolution)"
   ]
  },
  {
   "cell_type": "code",
   "execution_count": 34,
   "id": "d2f9bdb1",
   "metadata": {},
   "outputs": [
    {
     "data": {
      "text/plain": [
       "237"
      ]
     },
     "execution_count": 34,
     "metadata": {},
     "output_type": "execute_result"
    }
   ],
   "source": [
    "len(sequence_to_plot)"
   ]
  },
  {
   "cell_type": "code",
   "execution_count": null,
   "id": "036ce0cc",
   "metadata": {},
   "outputs": [],
   "source": []
  },
  {
   "cell_type": "code",
   "execution_count": 40,
   "id": "9f437622",
   "metadata": {
    "scrolled": false
   },
   "outputs": [
    {
     "data": {
      "image/png": "[encoded data removed]",
      "text/plain": [
       "<Figure size 640x480 with 1 Axes>"
      ]
     },
     "metadata": {},
     "output_type": "display_data"
    }
   ],
   "source": [
    "i=5010\n",
    "sequence_to_plot = df_ids_antibiotics_sorted.iloc[i]['seq']\n",
    "sequence_to_plot_final= replace_ambiguous_bases(sequence_to_plot)\n",
    "cgr_to_plot=easy_cgr(sequence_to_plot_final)\n",
    "id_to_plot = df_ids_antibiotics_sorted.iloc[i]['ids'] +\" (4-mers)\"\n",
    "resolution=2**4\n",
    "plotting_cgr(cgr_to_plot,id_to_plot,resolution)\n"
   ]
  },
  {
   "cell_type": "code",
   "execution_count": 39,
   "id": "89be9d46",
   "metadata": {},
   "outputs": [
    {
     "data": {
      "image/png": "[encoded data removed]",
      "text/plain": [
       "<Figure size 640x480 with 1 Axes>"
      ]
     },
     "metadata": {},
     "output_type": "display_data"
    }
   ],
   "source": [
    "i=5010\n",
    "sequence_to_plot = df_ids_antibiotics_sorted.iloc[i]['seq']\n",
    "sequence_to_plot_final= replace_ambiguous_bases(sequence_to_plot)\n",
    "cgr_to_plot=easy_cgr(sequence_to_plot_final)\n",
    "id_to_plot = df_ids_antibiotics_sorted.iloc[i]['ids'] +\" (6-mers)\"\n",
    "resolution=2**6\n",
    "plotting_cgr(cgr_to_plot,id_to_plot,resolution)"
   ]
  },
  {
   "cell_type": "code",
   "execution_count": 41,
   "id": "106b9b82",
   "metadata": {},
   "outputs": [
    {
     "data": {
      "text/plain": [
       "3102"
      ]
     },
     "execution_count": 41,
     "metadata": {},
     "output_type": "execute_result"
    }
   ],
   "source": [
    "len(sequence_to_plot)"
   ]
  },
  {
   "cell_type": "code",
   "execution_count": null,
   "id": "0c92b70b",
   "metadata": {},
   "outputs": [],
   "source": []
  }
 ],
 "metadata": {
  "kernelspec": {
   "display_name": "Python 3 (ipykernel)",
   "language": "python",
   "name": "python3"
  },
  "language_info": {
   "codemirror_mode": {
    "name": "ipython",
    "version": 3
   },
   "file_extension": ".py",
   "mimetype": "text/x-python",
   "name": "python",
   "nbconvert_exporter": "python",
   "pygments_lexer": "ipython3",
   "version": "3.9.13"
  }
 },
 "nbformat": 4,
 "nbformat_minor": 5
}
