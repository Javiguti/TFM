{
 "cells": [
  {
   "cell_type": "code",
   "execution_count": 1,
   "id": "fc000ca5",
   "metadata": {},
   "outputs": [
    {
     "name": "stderr",
     "output_type": "stream",
     "text": [
      "C:\\Users\\Javi\\anaconda3\\lib\\site-packages\\scipy\\__init__.py:155: UserWarning: A NumPy version >=1.18.5 and <1.25.0 is required for this version of SciPy (detected version 1.26.1\n",
      "  warnings.warn(f\"A NumPy version >={np_minversion} and <{np_maxversion}\"\n"
     ]
    }
   ],
   "source": [
    "import pandas as pd\n",
    "import os\n",
    "import time\n",
    "import numpy as np\n",
    "import tensorflow as tf\n",
    "from tensorflow import keras\n",
    "from tensorflow.keras import layers\n",
    "from tensorflow.keras.preprocessing.image import load_img, img_to_array\n",
    "from tensorflow.keras.models import load_model\n",
    "from tensorflow.keras.applications import ResNet50\n",
    "from tensorflow.keras.models import Sequential\n",
    "from tensorflow.keras.layers import Dense, Flatten\n",
    "from tensorflow.keras.utils import to_categorical\n",
    "from tensorflow.keras.callbacks import EarlyStopping\n",
    "from sklearn.model_selection import train_test_split\n",
    "import time\n",
    "from sklearn.metrics import confusion_matrix, accuracy_score, precision_score, recall_score, f1_score, roc_auc_score, roc_curve, auc\n"
   ]
  },
  {
   "cell_type": "code",
   "execution_count": 2,
   "id": "99753c9c",
   "metadata": {},
   "outputs": [],
   "source": [
    "import random\n",
    "\n",
    "def replace_ambiguous_bases(sequence):\n",
    "    def resolve_ambiguity(code):\n",
    "        if code == 'R':\n",
    "            return random.choice(['A', 'G'])\n",
    "        elif code == 'Y':\n",
    "            return random.choice(['C', 'T'])\n",
    "        elif code == 'S':\n",
    "            return random.choice(['G', 'C'])\n",
    "        elif code == 'W':\n",
    "            return random.choice(['A', 'T'])\n",
    "        elif code == 'K':\n",
    "            return random.choice(['G', 'T'])\n",
    "        elif code == 'M':\n",
    "            return random.choice(['A', 'C'])\n",
    "        elif code == 'B':\n",
    "            return random.choice(['C', 'G', 'T'])\n",
    "        elif code == 'D':\n",
    "            return random.choice(['A', 'G', 'T'])\n",
    "        elif code == 'H':\n",
    "            return random.choice(['A', 'C', 'T'])\n",
    "        elif code == 'V':\n",
    "            return random.choice(['A', 'C', 'G'])\n",
    "        elif code == 'N':\n",
    "            return random.choice(['A', 'T', 'C', 'G'])\n",
    "        else:\n",
    "            return code  # If the code is not an ambiguity code, return the same code\n",
    "    \n",
    "    resolved_sequence = ''.join(resolve_ambiguity(base) for base in sequence)\n",
    "    return resolved_sequence"
   ]
  },
  {
   "cell_type": "code",
   "execution_count": 3,
   "id": "c3e28e46",
   "metadata": {},
   "outputs": [],
   "source": [
    "def reverse_complement(sequence):\n",
    "    complement = {'A': 'T', 'T': 'A', 'C': 'G', 'G': 'C'}\n",
    "    reverse_seq = sequence[::-1]  # Reverse the sequence\n",
    "    reverse_complement_seq = ''.join(complement[base] for base in reverse_seq)\n",
    "    return reverse_complement_seq\n",
    "\n",
    "def reverse_complement_list(sequence_list):\n",
    "    reverse_complements = []\n",
    "    for seq in sequence_list:\n",
    "        reverse_complements.append(reverse_complement(seq))\n",
    "    return reverse_complements"
   ]
  },
  {
   "cell_type": "code",
   "execution_count": 4,
   "id": "84052336",
   "metadata": {},
   "outputs": [],
   "source": [
    "#This function gets the cgr for the sequences\n",
    "def easy_cgr(dna_sequence):\n",
    "  nucleotide_map = {\n",
    "    \"A\": (1, 1),\n",
    "    \"T\": (-1, -1),\n",
    "    \"C\": (1, -1),\n",
    "    \"G\": (-1, 1),\n",
    "}\n",
    "  values=[]\n",
    "  point=(0,0)\n",
    "  for nucleotide in dna_sequence:\n",
    "        next_point=nucleotide_map[nucleotide]\n",
    "        point=((point[0]+next_point[0])/2,(point[1]+next_point[1])/2)\n",
    "        values.append(point)\n",
    "  return values"
   ]
  },
  {
   "cell_type": "code",
   "execution_count": 5,
   "id": "5b62f47b",
   "metadata": {},
   "outputs": [],
   "source": [
    "#This function has input:\n",
    "#sequence to plot that is the easy_cgr(sequence)\n",
    "# plot id that is the name\n",
    "# resolution that is the resolution\n",
    "import matplotlib.pyplot as plt\n",
    "import numpy as np\n",
    "from matplotlib.colors import LinearSegmentedColormap\n",
    "\n",
    "def plotting_cgr(sequence_to_plot,id_to_plot,resolution):\n",
    "\n",
    "  # Define the resolution\n",
    "  num_bins = resolution\n",
    "\n",
    "  # Create a grid for the histogram\n",
    "  xedges = np.linspace(-1, 1, num_bins + 1)\n",
    "  yedges = np.linspace(-1, 1, num_bins + 1)\n",
    "\n",
    "  # Create a 2D histogram\n",
    "  hist, _, _ = np.histogram2d([p[0] for p in sequence_to_plot], [p[1] for p in sequence_to_plot], bins=[xedges, yedges])\n",
    "\n",
    "  # Create a custom colormap spanning from light gray to dark gray\n",
    "  colors = [(1, 1, 1), (0.2, 0.2, 0.2)]  # Light gray to dark gray\n",
    "  cmap_name = \"custom_gray\"\n",
    "  custom_cmap = LinearSegmentedColormap.from_list(cmap_name, colors, N=len(sequence_to_plot) + 1)\n",
    "\n",
    "  # Create a figure\n",
    "  plt.figure()\n",
    "\n",
    "  # Display the 2D histogram with the custom colormap\n",
    "  plt.imshow(hist.T, cmap=custom_cmap, extent=[-1, 1, -1, 1], origin='lower', interpolation='nearest', aspect='auto')\n",
    "\n",
    "  # Calculate coordinates for labels\n",
    "  plt.xticks([])\n",
    "  plt.yticks([])\n",
    "  x_margin, y_margin = 0.05, 0.05\n",
    "  label_coordinates = {\n",
    "      \"A\": (1+ x_margin, 1 +y_margin),\n",
    "      \"T\": (-1 - x_margin, -1-y_margin),\n",
    "      \"C\": (1 + x_margin, -1 -y_margin),\n",
    "      \"G\": (-1 - x_margin, 1 + y_margin),\n",
    "  }\n",
    "\n",
    "  # Add labels outside the grid\n",
    "  for letter, (x, y) in label_coordinates.items():\n",
    "      plt.text(x, y, letter, ha='center', va='center', fontsize=15, color='black')\n",
    "  # Show the plot\n",
    "  plt.title('CGR for '+id_to_plot)\n",
    "  plt.grid(False)  # Turn off grid lines\n",
    "  plt.show()"
   ]
  },
  {
   "cell_type": "code",
   "execution_count": 6,
   "id": "e0dffef1",
   "metadata": {},
   "outputs": [],
   "source": [
    "#This function reads the file when usingantibiotic resistance genes\n",
    "import re\n",
    "\n",
    "def read_antibiotic_resistance_genes(fasta_file_path):\n",
    "    # Initialize lists to store sequence data\n",
    "    sequence_ids = []\n",
    "    sequences = []\n",
    "    terms_inside_brackets = []  # Initialize a list to store terms inside brackets\n",
    "\n",
    "    # Define a regular expression pattern to match text inside square brackets\n",
    "    pattern = r'\\[([^]]+)\\]'\n",
    "\n",
    "    # Open the FASTA file for reading\n",
    "    with open(fasta_file_path, \"r\") as file:\n",
    "        for line in file:\n",
    "            line = line.strip()  # Remove leading/trailing whitespace\n",
    "\n",
    "            # Check if the line is an ID line (starts with '>')\n",
    "            if line.startswith(\">\"):\n",
    "                # If it's not the first sequence, process the previous one\n",
    "                if sequence_ids:\n",
    "                    term_inside_brackets = re.search(pattern, sequence_ids[-1]).group(1)\n",
    "                    terms_inside_brackets.append(term_inside_brackets)  # Append to the list\n",
    "                # Extract the sequence ID from the ID line\n",
    "                sequence_ids.append(line[1:])\n",
    "                sequences.append(\"\")  # Reset the sequence\n",
    "            else:\n",
    "                # Append the line to the sequence\n",
    "                sequences[-1] += line\n",
    "\n",
    "    # Process the last sequence in the file\n",
    "    if sequence_ids:\n",
    "        term_inside_brackets = re.search(pattern, sequence_ids[-1]).group(1)\n",
    "        terms_inside_brackets.append(term_inside_brackets)\n",
    "\n",
    "    return sequences, terms_inside_brackets"
   ]
  },
  {
   "cell_type": "code",
   "execution_count": 7,
   "id": "53b0ad99",
   "metadata": {},
   "outputs": [],
   "source": [
    "from Bio import SeqIO\n",
    "\n",
    "def read_fasta_patients(file_path):\n",
    "    sequence_ids = []\n",
    "    sequences = []\n",
    "    \n",
    "    try:\n",
    "        with open(file_path, \"r\") as fasta_file:\n",
    "            fasta_sequences = SeqIO.parse(fasta_file, \"fasta\")\n",
    "            \n",
    "            for seq_record in fasta_sequences:\n",
    "                sequence_ids.append(seq_record.id)\n",
    "                sequences.append(str(seq_record.seq))\n",
    "    except FileNotFoundError:\n",
    "        print(\"File not found. Please provide a valid file path.\")\n",
    "    \n",
    "    return sequences, sequence_ids\n"
   ]
  },
  {
   "cell_type": "code",
   "execution_count": 8,
   "id": "ec94d0bd",
   "metadata": {},
   "outputs": [],
   "source": [
    "#This function has input:\n",
    "#sequence to plot that is the easy_cgr(sequence)\n",
    "# plot id that is the name\n",
    "# resolution that is the resolution\n",
    "import matplotlib.pyplot as plt\n",
    "import numpy as np\n",
    "from matplotlib.colors import LinearSegmentedColormap\n",
    "\n",
    "def plotting_cgr(sequence_to_plot,id_to_plot,resolution):\n",
    "\n",
    "  # Define the resolution\n",
    "  num_bins = resolution\n",
    "\n",
    "  # Create a grid for the histogram\n",
    "  xedges = np.linspace(-1, 1, num_bins + 1)\n",
    "  yedges = np.linspace(-1, 1, num_bins + 1)\n",
    "\n",
    "  # Create a 2D histogram\n",
    "  hist, _, _ = np.histogram2d([p[0] for p in sequence_to_plot], [p[1] for p in sequence_to_plot], bins=[xedges, yedges])\n",
    "\n",
    "  # Create a custom colormap spanning from light gray to dark gray\n",
    "  colors = [(1, 1, 1), (0.2, 0.2, 0.2)]  # Light gray to dark gray\n",
    "  cmap_name = \"custom_gray\"\n",
    "  custom_cmap = LinearSegmentedColormap.from_list(cmap_name, colors, N=len(sequence_to_plot) + 1)\n",
    "\n",
    "  # Create a figure\n",
    "  plt.figure()\n",
    "\n",
    "  # Display the 2D histogram with the custom colormap\n",
    "  plt.imshow(hist.T, cmap=custom_cmap, extent=[-1, 1, -1, 1], origin='lower', interpolation='nearest', aspect='auto')\n",
    "\n",
    "  # Calculate coordinates for labels\n",
    "  plt.xticks([])\n",
    "  plt.yticks([])\n",
    "  x_margin, y_margin = 0.05, 0.05\n",
    "  label_coordinates = {\n",
    "      \"A\": (1+ x_margin, 1 +y_margin),\n",
    "      \"T\": (-1 - x_margin, -1-y_margin),\n",
    "      \"C\": (1 + x_margin, -1 -y_margin),\n",
    "      \"G\": (-1 - x_margin, 1 + y_margin),\n",
    "  }\n",
    "\n",
    "  # Add labels outside the grid\n",
    "  for letter, (x, y) in label_coordinates.items():\n",
    "      plt.text(x, y, letter, ha='center', va='center', fontsize=15, color='black')\n",
    "  # Show the plot\n",
    "  plt.title('CGR for '+id_to_plot)\n",
    "  plt.grid(False)  # Turn off grid lines\n",
    "  plt.show()\n"
   ]
  },
  {
   "cell_type": "code",
   "execution_count": 9,
   "id": "c1d1f0d7",
   "metadata": {},
   "outputs": [],
   "source": [
    "import random\n",
    "\n",
    "def replace_ambiguous_bases(sequence):\n",
    "    def resolve_ambiguity(code):\n",
    "        if code == 'R':\n",
    "            return random.choice(['A', 'G'])\n",
    "        elif code == 'Y':\n",
    "            return random.choice(['C', 'T'])\n",
    "        elif code == 'S':\n",
    "            return random.choice(['G', 'C'])\n",
    "        elif code == 'W':\n",
    "            return random.choice(['A', 'T'])\n",
    "        elif code == 'K':\n",
    "            return random.choice(['G', 'T'])\n",
    "        elif code == 'M':\n",
    "            return random.choice(['A', 'C'])\n",
    "        elif code == 'B':\n",
    "            return random.choice(['C', 'G', 'T'])\n",
    "        elif code == 'D':\n",
    "            return random.choice(['A', 'G', 'T'])\n",
    "        elif code == 'H':\n",
    "            return random.choice(['A', 'C', 'T'])\n",
    "        elif code == 'V':\n",
    "            return random.choice(['A', 'C', 'G'])\n",
    "        elif code == 'N':\n",
    "            return random.choice(['A', 'T', 'C', 'G'])\n",
    "        else:\n",
    "            return code  # If the code is not an ambiguity code, return the same code\n",
    "    \n",
    "    resolved_sequence = ''.join(resolve_ambiguity(base) for base in sequence)\n",
    "    return resolved_sequence"
   ]
  },
  {
   "cell_type": "code",
   "execution_count": 10,
   "id": "d26dbe36",
   "metadata": {},
   "outputs": [],
   "source": [
    "import numpy as np\n",
    "import matplotlib.pyplot as plt\n",
    "from matplotlib.colors import LinearSegmentedColormap\n",
    "\n",
    "def generate_cgr_and_save(sequence_to_plot, kmeres, output_filename):\n",
    "    # Define the resolution\n",
    "    num_bins = 2 ** kmeres\n",
    "\n",
    "    # Create a grid for the histogram\n",
    "    xedges = np.linspace(-1, 1, num_bins + 1)\n",
    "    yedges = np.linspace(-1, 1, num_bins + 1)\n",
    "\n",
    "    # Create a 2D histogram\n",
    "    hist, _, _ = np.histogram2d(\n",
    "        [p[0] for p in sequence_to_plot],\n",
    "        [p[1] for p in sequence_to_plot],\n",
    "        bins=[xedges, yedges]\n",
    "    )\n",
    "\n",
    "    # Create a custom colormap spanning from light gray to dark gray\n",
    "    colors = [(1, 1, 1), (0.2, 0.2, 0.2)]  # Light gray to dark gray\n",
    "    cmap_name = \"custom_gray\"\n",
    "    custom_cmap = LinearSegmentedColormap.from_list(cmap_name, colors, N=len(sequence_to_plot) + 1)\n",
    "\n",
    "    # Create a square figure with the desired size in inches\n",
    "    dpi = 100\n",
    "    fig, ax = plt.subplots(figsize=(84 / dpi, 84 / dpi), dpi=dpi)\n",
    "\n",
    "    # Plot the histogram using imshow and set the extent to specify the image size\n",
    "    ax.imshow(\n",
    "        hist.T,\n",
    "        cmap=custom_cmap,\n",
    "        origin='lower',\n",
    "        extent=[-1, 1, -1, 1],  # Setting extent to create a 100x100 pixel image\n",
    "        interpolation='nearest'  # Optional: adjust the interpolation method\n",
    "    )\n",
    "\n",
    "    # Turn off the axis\n",
    "    ax.axis('off')\n",
    "\n",
    "    # Save the figure directly as an image using matplotlib.pyplot.savefig\n",
    "    plt.savefig(output_filename, bbox_inches='tight', pad_inches=0, dpi=dpi)\n",
    "    plt.close()\n",
    "\n",
    "# Your remaining function remains unchanged\n",
    "def generate_and_save_cgr_images(sequences, ids, output_dir, kmeres):\n",
    "    # Create the output directory if it doesn't exist\n",
    "    \n",
    "\n",
    "    for i, (sequence, label) in enumerate(zip(sequences, ids)):\n",
    "        # Generate the image filename based on the class label and sequence index\n",
    "        image_filename = os.path.join(output_dir, f\"{i}_{label}.png\")\n",
    "\n",
    "        # Generate and save the CGR image\n",
    "        generate_cgr_and_save(sequence, kmeres, image_filename)"
   ]
  },
  {
   "cell_type": "code",
   "execution_count": 11,
   "id": "0e3947ce",
   "metadata": {},
   "outputs": [],
   "source": [
    "\n",
    "def read_fasta_ARG(file_name):\n",
    "    sequences = []\n",
    "    with open(file_name, 'r') as file:\n",
    "        sequence_id = ''\n",
    "        sequence = ''\n",
    "        for line in file:\n",
    "            line = line.strip()\n",
    "            if line.startswith('>'):\n",
    "                if sequence_id != '':\n",
    "                    sequences.append(sequence_id.split('|') + [sequence])\n",
    "                sequence_id = line[1:]\n",
    "                sequence = ''\n",
    "            else:\n",
    "                sequence += line\n",
    "        if sequence_id != '':\n",
    "            sequences.append(sequence_id.split('|') + [sequence])\n",
    "    return sequences"
   ]
  },
  {
   "cell_type": "code",
   "execution_count": 12,
   "id": "5437dcc4",
   "metadata": {},
   "outputs": [],
   "source": [
    "import numpy as np\n",
    "import matplotlib.pyplot as plt\n",
    "from matplotlib.colors import LinearSegmentedColormap\n",
    "\n",
    "def generate_cgr_and_save(sequence_to_plot, kmeres, output_filename):\n",
    "    # Define the resolution\n",
    "    num_bins = 2 ** kmeres\n",
    "\n",
    "    # Create a grid for the histogram\n",
    "    xedges = np.linspace(-1, 1, num_bins + 1)\n",
    "    yedges = np.linspace(-1, 1, num_bins + 1)\n",
    "\n",
    "    # Create a 2D histogram\n",
    "    hist, _, _ = np.histogram2d(\n",
    "        [p[0] for p in sequence_to_plot],\n",
    "        [p[1] for p in sequence_to_plot],\n",
    "        bins=[xedges, yedges]\n",
    "    )\n",
    "\n",
    "    # Create a custom colormap spanning from light gray to dark gray\n",
    "    colors = [(1, 1, 1), (0.2, 0.2, 0.2)]  # Light gray to dark gray\n",
    "    cmap_name = \"custom_gray\"\n",
    "    custom_cmap = LinearSegmentedColormap.from_list(cmap_name, colors, N=len(sequence_to_plot) + 1)\n",
    "\n",
    "    # Create a square figure with the desired size in inches\n",
    "    dpi = 100\n",
    "    fig, ax = plt.subplots(figsize=(100 / dpi, 100 / dpi), dpi=dpi)\n",
    "\n",
    "    # Plot the histogram using imshow and set the extent to specify the image size\n",
    "    ax.imshow(\n",
    "        hist.T,\n",
    "        cmap=custom_cmap,\n",
    "        origin='lower',\n",
    "        extent=[-1, 1, -1, 1],  # Setting extent to create a 100x100 pixel image\n",
    "        interpolation='nearest'  # Optional: adjust the interpolation method\n",
    "    )\n",
    "\n",
    "    # Turn off the axis\n",
    "    ax.axis('off')\n",
    "\n",
    "    # Save the figure directly as an image using matplotlib.pyplot.savefig\n",
    "    plt.savefig(output_filename, bbox_inches='tight', pad_inches=0, dpi=dpi)\n",
    "    plt.close()\n",
    "\n",
    "# Your remaining function remains unchanged\n",
    "def generate_and_save_cgr_images_label(sequences, class_labels, output_dir, kmeres):\n",
    "    # Create the output directory if it doesn't exist\n",
    "    os.makedirs(output_dir, exist_ok=True)\n",
    "\n",
    "    for i, (sequence, label) in enumerate(zip(sequences, class_labels)):\n",
    "        # Generate the image filename based on the class label and sequence index\n",
    "        image_filename = os.path.join(output_dir, f\"{label}.png\")\n",
    "\n",
    "        # Generate and save the CGR image\n",
    "        generate_cgr_and_save(sequence, kmeres, image_filename)"
   ]
  },
  {
   "cell_type": "markdown",
   "id": "cfd806c3",
   "metadata": {},
   "source": [
    "# Load Images"
   ]
  },
  {
   "cell_type": "markdown",
   "id": "0f3c3d7c",
   "metadata": {},
   "source": [
    "## Patients"
   ]
  },
  {
   "cell_type": "code",
   "execution_count": 13,
   "id": "fc2ec81f",
   "metadata": {},
   "outputs": [
    {
     "name": "stdout",
     "output_type": "stream",
     "text": [
      "Number of image files in the directory for label 0: 10981\n"
     ]
    }
   ],
   "source": [
    "import os\n",
    "from tensorflow.keras.preprocessing.image import load_img, img_to_array\n",
    "\n",
    "# Define the paths to your dataset directories\n",
    "dataset_dir_0 = \"patient_1\"\n",
    "\n",
    "# Initialize empty lists to store images and labels\n",
    "# Define image dimensions\n",
    "img_height, img_width = 100, 100\n",
    "images_patient_1 = []\n",
    "ids_patient_1 = []  # List to store image labels\n",
    "# Load and preprocess images from directory 0 (label 0)\n",
    "image_files = os.listdir(dataset_dir_0)\n",
    "print(\"Number of image files in the directory for label 0:\", len(image_files))\n",
    "\n",
    "for image_file in os.listdir(dataset_dir_0):\n",
    "    # Load and preprocess the image\n",
    "    img = load_img(os.path.join(dataset_dir_0, image_file), target_size=(img_height, img_width))\n",
    "    img_array = img_to_array(img) / 255.0  # Normalize pixel values\n",
    "    # Append the image to the images list\n",
    "    images_patient_1.append(img_array)\n",
    "    # Extract the label from the image filename\n",
    "    label = os.path.splitext(image_file)[0]  # Remove file extension\n",
    "    ids_patient_1.append(label)\n",
    "\n",
    "# Now labels_patient_1 contains the labels for the images\n"
   ]
  },
  {
   "cell_type": "code",
   "execution_count": 14,
   "id": "5fe034dc",
   "metadata": {},
   "outputs": [
    {
     "data": {
      "text/plain": [
       "10981"
      ]
     },
     "execution_count": 14,
     "metadata": {},
     "output_type": "execute_result"
    }
   ],
   "source": [
    "len(images_patient_1)"
   ]
  },
  {
   "cell_type": "code",
   "execution_count": 15,
   "id": "554618af",
   "metadata": {},
   "outputs": [
    {
     "name": "stdout",
     "output_type": "stream",
     "text": [
      "Number of image files in the directory for label 0: 15000\n"
     ]
    }
   ],
   "source": [
    "\n",
    "# Define the paths to your dataset directories\n",
    "dataset_dir_0 = \"patient_2\"\n",
    "\n",
    "# Initialize empty lists to store images and labels\n",
    "# Define image dimensions\n",
    "img_height, img_width = 100, 100\n",
    "images_patient_2 = []\n",
    "ids_patient_2 = []  # List to store image names\n",
    "# Load and preprocess images from directory 0 (label 0)\n",
    "image_files = os.listdir(dataset_dir_0)\n",
    "print(\"Number of image files in the directory for label 0:\", len(image_files))\n",
    "\n",
    "for image_file in os.listdir(dataset_dir_0):\n",
    "    # Load and preprocess the image\n",
    "    img = load_img(os.path.join(dataset_dir_0, image_file), target_size=(img_height, img_width))\n",
    "    img_array = img_to_array(img) / 255.0  # Normalize pixel values\n",
    "    # Append the image to the images list\n",
    "    images_patient_2.append(img_array)\n",
    "    # Extract the label from the image filename\n",
    "    label = os.path.splitext(image_file)[0]  # Remove file extension\n",
    "    ids_patient_2.append(label)\n",
    "\n",
    "    # Assuming you also have a list called labels, you need to define it somewhere in your code\n",
    "    # labels.append(0)\n",
    "\n",
    "# Now ids_patient_1 contains the names of the images\n"
   ]
  },
  {
   "cell_type": "code",
   "execution_count": 16,
   "id": "7fb3a36b",
   "metadata": {},
   "outputs": [
    {
     "data": {
      "text/plain": [
       "15000"
      ]
     },
     "execution_count": 16,
     "metadata": {},
     "output_type": "execute_result"
    }
   ],
   "source": [
    "len(images_patient_2)"
   ]
  },
  {
   "cell_type": "code",
   "execution_count": 17,
   "id": "29707d69",
   "metadata": {},
   "outputs": [
    {
     "name": "stdout",
     "output_type": "stream",
     "text": [
      "Number of image files in the directory for label 0: 9172\n"
     ]
    }
   ],
   "source": [
    "\n",
    "# Define the paths to your dataset directories\n",
    "dataset_dir_0 = \"patient_4\"\n",
    "\n",
    "# Initialize empty lists to store images and labels\n",
    "# Define image dimensions\n",
    "img_height, img_width = 100, 100\n",
    "images_patient_4 = []\n",
    "ids_patient_4 = []  # List to store image names\n",
    "# Load and preprocess images from directory 0 (label 0)\n",
    "image_files = os.listdir(dataset_dir_0)\n",
    "print(\"Number of image files in the directory for label 0:\", len(image_files))\n",
    "\n",
    "for image_file in os.listdir(dataset_dir_0):\n",
    "    # Load and preprocess the image\n",
    "    img = load_img(os.path.join(dataset_dir_0, image_file), target_size=(img_height, img_width))\n",
    "    img_array = img_to_array(img) / 255.0  # Normalize pixel values\n",
    "    # Append the image to the images list\n",
    "    images_patient_4.append(img_array)\n",
    "    # Extract the label from the image filename\n",
    "    label = os.path.splitext(image_file)[0]  # Remove file extension\n",
    "    ids_patient_4.append(label)\n",
    "    # Assuming you also have a list called labels, you need to define it somewhere in your code\n",
    "    # labels.append(0)\n",
    "\n",
    "# Now ids_patient_1 contains the names of the images\n"
   ]
  },
  {
   "cell_type": "code",
   "execution_count": 18,
   "id": "be949a3b",
   "metadata": {},
   "outputs": [
    {
     "data": {
      "text/plain": [
       "9172"
      ]
     },
     "execution_count": 18,
     "metadata": {},
     "output_type": "execute_result"
    }
   ],
   "source": [
    "len(images_patient_4)"
   ]
  },
  {
   "cell_type": "code",
   "execution_count": null,
   "id": "e0432b13",
   "metadata": {},
   "outputs": [],
   "source": []
  },
  {
   "cell_type": "code",
   "execution_count": 19,
   "id": "2392347b",
   "metadata": {},
   "outputs": [
    {
     "name": "stdout",
     "output_type": "stream",
     "text": [
      "Number of image files in the directory for label 0: 15000\n"
     ]
    }
   ],
   "source": [
    "import os\n",
    "from tensorflow.keras.preprocessing.image import load_img, img_to_array\n",
    "\n",
    "# Define the paths to your dataset directories\n",
    "dataset_dir_0 = \"patient_5\"\n",
    "\n",
    "# Initialize empty lists to store images and labels\n",
    "# Define image dimensions\n",
    "img_height, img_width = 100, 100\n",
    "images_patient_5 = []\n",
    "ids_patient_5 = []  # List to store image labels\n",
    "# Load and preprocess images from directory 0 (label 0)\n",
    "image_files = os.listdir(dataset_dir_0)\n",
    "print(\"Number of image files in the directory for label 0:\", len(image_files))\n",
    "\n",
    "for image_file in os.listdir(dataset_dir_0):\n",
    "    # Load and preprocess the image\n",
    "    img = load_img(os.path.join(dataset_dir_0, image_file), target_size=(img_height, img_width))\n",
    "    img_array = img_to_array(img) / 255.0  # Normalize pixel values\n",
    "    # Append the image to the images list\n",
    "    images_patient_5.append(img_array)\n",
    "    # Extract the label from the image filename\n",
    "    label = os.path.splitext(image_file)[0]  # Remove file extension\n",
    "    ids_patient_5.append(label)\n",
    "\n",
    "# Now labels_patient_1 contains the labels for the images\n"
   ]
  },
  {
   "cell_type": "code",
   "execution_count": 20,
   "id": "77ec8de7",
   "metadata": {},
   "outputs": [
    {
     "data": {
      "text/plain": [
       "15000"
      ]
     },
     "execution_count": 20,
     "metadata": {},
     "output_type": "execute_result"
    }
   ],
   "source": [
    "len(images_patient_5)"
   ]
  },
  {
   "cell_type": "code",
   "execution_count": 21,
   "id": "b4308db3",
   "metadata": {},
   "outputs": [
    {
     "name": "stdout",
     "output_type": "stream",
     "text": [
      "Number of image files in the directory for label 0: 10267\n"
     ]
    }
   ],
   "source": [
    "\n",
    "# Define the paths to your dataset directories\n",
    "dataset_dir_0 = \"patient_6\"\n",
    "\n",
    "# Initialize empty lists to store images and labels\n",
    "# Define image dimensions\n",
    "img_height, img_width = 100, 100\n",
    "images_patient_6 = []\n",
    "ids_patient_6 = []  # List to store image names\n",
    "# Load and preprocess images from directory 0 (label 0)\n",
    "image_files = os.listdir(dataset_dir_0)\n",
    "print(\"Number of image files in the directory for label 0:\", len(image_files))\n",
    "\n",
    "for image_file in os.listdir(dataset_dir_0):\n",
    "    # Load and preprocess the image\n",
    "    img = load_img(os.path.join(dataset_dir_0, image_file), target_size=(img_height, img_width))\n",
    "    img_array = img_to_array(img) / 255.0  # Normalize pixel values\n",
    "    # Append the image to the images list\n",
    "    images_patient_6.append(img_array)\n",
    "    # Extract the label from the image filename\n",
    "    label = os.path.splitext(image_file)[0]  # Remove file extension\n",
    "    ids_patient_6.append(label)\n",
    "\n",
    "    # Assuming you also have a list called labels, you need to define it somewhere in your code\n",
    "    # labels.append(0)\n",
    "\n",
    "# Now ids_patient_1 contains the names of the images\n"
   ]
  },
  {
   "cell_type": "code",
   "execution_count": 22,
   "id": "b1eaa073",
   "metadata": {},
   "outputs": [
    {
     "data": {
      "text/plain": [
       "10267"
      ]
     },
     "execution_count": 22,
     "metadata": {},
     "output_type": "execute_result"
    }
   ],
   "source": [
    "len(images_patient_6)"
   ]
  },
  {
   "cell_type": "code",
   "execution_count": null,
   "id": "0c5cf7ec",
   "metadata": {},
   "outputs": [],
   "source": []
  },
  {
   "cell_type": "code",
   "execution_count": 23,
   "id": "4688c3bc",
   "metadata": {},
   "outputs": [
    {
     "name": "stdout",
     "output_type": "stream",
     "text": [
      "Number of image files in the directory for label 0: 10022\n"
     ]
    }
   ],
   "source": [
    "import os\n",
    "from tensorflow.keras.preprocessing.image import load_img, img_to_array\n",
    "\n",
    "# Define the paths to your dataset directories\n",
    "dataset_dir_0 = \"patient_11\"\n",
    "\n",
    "# Initialize empty lists to store images and labels\n",
    "# Define image dimensions\n",
    "img_height, img_width = 100, 100\n",
    "images_patient_11 = []\n",
    "ids_patient_11 = []  # List to store image labels\n",
    "# Load and preprocess images from directory 0 (label 0)\n",
    "image_files = os.listdir(dataset_dir_0)\n",
    "print(\"Number of image files in the directory for label 0:\", len(image_files))\n",
    "\n",
    "for image_file in os.listdir(dataset_dir_0):\n",
    "    # Load and preprocess the image\n",
    "    img = load_img(os.path.join(dataset_dir_0, image_file), target_size=(img_height, img_width))\n",
    "    img_array = img_to_array(img) / 255.0  # Normalize pixel values\n",
    "    # Append the image to the images list\n",
    "    images_patient_11.append(img_array)\n",
    "    # Extract the label from the image filename\n",
    "    label = os.path.splitext(image_file)[0]  # Remove file extension\n",
    "    ids_patient_11.append(label)\n",
    "\n",
    "# Now labels_patient_1 contains the labels for the images\n"
   ]
  },
  {
   "cell_type": "code",
   "execution_count": 24,
   "id": "1f44178c",
   "metadata": {},
   "outputs": [
    {
     "data": {
      "text/plain": [
       "10022"
      ]
     },
     "execution_count": 24,
     "metadata": {},
     "output_type": "execute_result"
    }
   ],
   "source": [
    "len(images_patient_11)"
   ]
  },
  {
   "cell_type": "code",
   "execution_count": 25,
   "id": "033be642",
   "metadata": {},
   "outputs": [
    {
     "name": "stdout",
     "output_type": "stream",
     "text": [
      "Number of image files in the directory for label 0: 8445\n"
     ]
    }
   ],
   "source": [
    "\n",
    "# Define the paths to your dataset directories\n",
    "dataset_dir_0 = \"patient_12\"\n",
    "\n",
    "# Initialize empty lists to store images and labels\n",
    "# Define image dimensions\n",
    "img_height, img_width = 100, 100\n",
    "images_patient_12 = []\n",
    "ids_patient_12 = []  # List to store image names\n",
    "# Load and preprocess images from directory 0 (label 0)\n",
    "image_files = os.listdir(dataset_dir_0)\n",
    "print(\"Number of image files in the directory for label 0:\", len(image_files))\n",
    "\n",
    "for image_file in os.listdir(dataset_dir_0):\n",
    "    # Load and preprocess the image\n",
    "    img = load_img(os.path.join(dataset_dir_0, image_file), target_size=(img_height, img_width))\n",
    "    img_array = img_to_array(img) / 255.0  # Normalize pixel values\n",
    "    # Append the image to the images list\n",
    "    images_patient_12.append(img_array)\n",
    "    # Extract the label from the image filename\n",
    "    label = os.path.splitext(image_file)[0]  # Remove file extension\n",
    "    ids_patient_12.append(label)\n",
    "\n",
    "    # Assuming you also have a list called labels, you need to define it somewhere in your code\n",
    "    # labels.append(0)\n",
    "\n",
    "# Now ids_patient_1 contains the names of the images\n"
   ]
  },
  {
   "cell_type": "code",
   "execution_count": 26,
   "id": "1042612c",
   "metadata": {
    "scrolled": true
   },
   "outputs": [
    {
     "data": {
      "text/plain": [
       "8445"
      ]
     },
     "execution_count": 26,
     "metadata": {},
     "output_type": "execute_result"
    }
   ],
   "source": [
    "len(images_patient_12)"
   ]
  },
  {
   "cell_type": "code",
   "execution_count": 27,
   "id": "363cc0ec",
   "metadata": {},
   "outputs": [
    {
     "name": "stdout",
     "output_type": "stream",
     "text": [
      "Number of image files in the directory for label 0: 12053\n"
     ]
    }
   ],
   "source": [
    "\n",
    "# Define the paths to your dataset directories\n",
    "dataset_dir_0 = \"patient_13\"\n",
    "\n",
    "# Initialize empty lists to store images and labels\n",
    "# Define image dimensions\n",
    "img_height, img_width = 100, 100\n",
    "images_patient_13 = []\n",
    "ids_patient_13 = []  # List to store image names\n",
    "# Load and preprocess images from directory 0 (label 0)\n",
    "image_files = os.listdir(dataset_dir_0)\n",
    "print(\"Number of image files in the directory for label 0:\", len(image_files))\n",
    "\n",
    "for image_file in os.listdir(dataset_dir_0):\n",
    "    # Load and preprocess the image\n",
    "    img = load_img(os.path.join(dataset_dir_0, image_file), target_size=(img_height, img_width))\n",
    "    img_array = img_to_array(img) / 255.0  # Normalize pixel values\n",
    "    # Append the image to the images list\n",
    "    images_patient_13.append(img_array)\n",
    "    # Extract the label from the image filename\n",
    "    label = os.path.splitext(image_file)[0]  # Remove file extension\n",
    "    ids_patient_13.append(label)\n",
    "    # Assuming you also have a list called labels, you need to define it somewhere in your code\n",
    "    # labels.append(0)\n",
    "\n",
    "# Now ids_patient_1 contains the names of the images\n"
   ]
  },
  {
   "cell_type": "code",
   "execution_count": 28,
   "id": "44270766",
   "metadata": {},
   "outputs": [
    {
     "data": {
      "text/plain": [
       "12053"
      ]
     },
     "execution_count": 28,
     "metadata": {},
     "output_type": "execute_result"
    }
   ],
   "source": [
    "len(images_patient_13)"
   ]
  },
  {
   "cell_type": "code",
   "execution_count": null,
   "id": "8921fbd2",
   "metadata": {},
   "outputs": [],
   "source": []
  },
  {
   "cell_type": "code",
   "execution_count": 29,
   "id": "aab4dc4f",
   "metadata": {},
   "outputs": [
    {
     "name": "stdout",
     "output_type": "stream",
     "text": [
      "Number of image files in the directory for label 0: 16327\n"
     ]
    }
   ],
   "source": [
    "\n",
    "# Define the paths to your dataset directories\n",
    "dataset_dir_0 = \"patient_14\"\n",
    "\n",
    "# Initialize empty lists to store images and labels\n",
    "# Define image dimensions\n",
    "img_height, img_width = 100, 100\n",
    "images_patient_14 = []\n",
    "ids_patient_14 = []  # List to store image names\n",
    "# Load and preprocess images from directory 0 (label 0)\n",
    "image_files = os.listdir(dataset_dir_0)\n",
    "print(\"Number of image files in the directory for label 0:\", len(image_files))\n",
    "\n",
    "for image_file in os.listdir(dataset_dir_0):\n",
    "    # Load and preprocess the image\n",
    "    img = load_img(os.path.join(dataset_dir_0, image_file), target_size=(img_height, img_width))\n",
    "    img_array = img_to_array(img) / 255.0  # Normalize pixel values\n",
    "    # Append the image to the images list\n",
    "    images_patient_14.append(img_array)\n",
    "    # Extract the label from the image filename\n",
    "    label = os.path.splitext(image_file)[0]  # Remove file extension\n",
    "    ids_patient_14.append(label)\n",
    "    # Assuming you also have a list called labels, you need to define it somewhere in your code\n",
    "    # labels.append(0)\n",
    "\n",
    "# Now ids_patient_1 contains the names of the images\n"
   ]
  },
  {
   "cell_type": "code",
   "execution_count": 30,
   "id": "63002b4d",
   "metadata": {},
   "outputs": [
    {
     "data": {
      "text/plain": [
       "16327"
      ]
     },
     "execution_count": 30,
     "metadata": {},
     "output_type": "execute_result"
    }
   ],
   "source": [
    "len(images_patient_14)"
   ]
  },
  {
   "cell_type": "code",
   "execution_count": null,
   "id": "6f71d73f",
   "metadata": {},
   "outputs": [],
   "source": []
  },
  {
   "cell_type": "code",
   "execution_count": 31,
   "id": "a7e6c2d6",
   "metadata": {},
   "outputs": [
    {
     "name": "stdout",
     "output_type": "stream",
     "text": [
      "Number of image files in the directory for label 0: 13487\n"
     ]
    }
   ],
   "source": [
    "\n",
    "# Define the paths to your dataset directories\n",
    "dataset_dir_0 = \"patient_15\"\n",
    "\n",
    "# Initialize empty lists to store images and labels\n",
    "# Define image dimensions\n",
    "img_height, img_width = 100, 100\n",
    "images_patient_15 = []\n",
    "ids_patient_15 = []  # List to store image names\n",
    "# Load and preprocess images from directory 0 (label 0)\n",
    "image_files = os.listdir(dataset_dir_0)\n",
    "print(\"Number of image files in the directory for label 0:\", len(image_files))\n",
    "\n",
    "for image_file in os.listdir(dataset_dir_0):\n",
    "    # Load and preprocess the image\n",
    "    img = load_img(os.path.join(dataset_dir_0, image_file), target_size=(img_height, img_width))\n",
    "    img_array = img_to_array(img) / 255.0  # Normalize pixel values\n",
    "    # Append the image to the images list\n",
    "    images_patient_15.append(img_array)\n",
    "    # Extract the label from the image filename\n",
    "    label = os.path.splitext(image_file)[0]  # Remove file extension\n",
    "    ids_patient_15.append(label)\n",
    "    # Assuming you also have a list called labels, you need to define it somewhere in your code\n",
    "    # labels.append(0)\n",
    "\n",
    "# Now ids_patient_1 contains the names of the images\n"
   ]
  },
  {
   "cell_type": "code",
   "execution_count": 32,
   "id": "e71c8314",
   "metadata": {},
   "outputs": [
    {
     "data": {
      "text/plain": [
       "13487"
      ]
     },
     "execution_count": 32,
     "metadata": {},
     "output_type": "execute_result"
    }
   ],
   "source": [
    "len(images_patient_15)"
   ]
  },
  {
   "cell_type": "markdown",
   "id": "03d5502a",
   "metadata": {},
   "source": [
    "## Healthy"
   ]
  },
  {
   "cell_type": "code",
   "execution_count": 33,
   "id": "20a2dbd6",
   "metadata": {},
   "outputs": [
    {
     "name": "stdout",
     "output_type": "stream",
     "text": [
      "Number of image files in the directory for label 0: 14512\n"
     ]
    }
   ],
   "source": [
    "\n",
    "# Define the paths to your dataset directories\n",
    "dataset_dir_0 = \"healthy_11\"\n",
    "\n",
    "# Initialize empty lists to store images and labels\n",
    "# Define image dimensions\n",
    "img_height, img_width = 100, 100\n",
    "images_healthy_11 = []\n",
    "ids_healthy_11 = []  # List to store image names\n",
    "# Load and preprocess images from directory 0 (label 0)\n",
    "image_files = os.listdir(dataset_dir_0)\n",
    "print(\"Number of image files in the directory for label 0:\", len(image_files))\n",
    "\n",
    "for image_file in os.listdir(dataset_dir_0):\n",
    "    # Load and preprocess the image\n",
    "    img = load_img(os.path.join(dataset_dir_0, image_file), target_size=(img_height, img_width))\n",
    "    img_array = img_to_array(img) / 255.0  # Normalize pixel values\n",
    "    # Append the image to the images list\n",
    "    images_healthy_11.append(img_array)\n",
    "    # Extract the label from the image filename\n",
    "    label = os.path.splitext(image_file)[0]  # Remove file extension\n",
    "    ids_healthy_11.append(label)\n",
    "\n",
    "    # Assuming you also have a list called labels, you need to define it somewhere in your code\n",
    "    # labels.append(0)\n",
    "\n",
    "# Now ids_patient_1 contains the names of the images\n"
   ]
  },
  {
   "cell_type": "code",
   "execution_count": 34,
   "id": "cd80e4f5",
   "metadata": {},
   "outputs": [
    {
     "data": {
      "text/plain": [
       "14512"
      ]
     },
     "execution_count": 34,
     "metadata": {},
     "output_type": "execute_result"
    }
   ],
   "source": [
    "len(images_healthy_11)"
   ]
  },
  {
   "cell_type": "code",
   "execution_count": 35,
   "id": "2aab37fa",
   "metadata": {},
   "outputs": [
    {
     "name": "stdout",
     "output_type": "stream",
     "text": [
      "Number of image files in the directory for label 0: 7162\n"
     ]
    }
   ],
   "source": [
    "\n",
    "# Define the paths to your dataset directories\n",
    "dataset_dir_0 = \"healthy_12\"\n",
    "\n",
    "# Initialize empty lists to store images and labels\n",
    "# Define image dimensions\n",
    "img_height, img_width = 100, 100\n",
    "images_healthy_12 = []\n",
    "ids_healthy_12 = []  # List to store image names\n",
    "# Load and preprocess images from directory 0 (label 0)\n",
    "image_files = os.listdir(dataset_dir_0)\n",
    "print(\"Number of image files in the directory for label 0:\", len(image_files))\n",
    "\n",
    "for image_file in os.listdir(dataset_dir_0):\n",
    "    # Load and preprocess the image\n",
    "    img = load_img(os.path.join(dataset_dir_0, image_file), target_size=(img_height, img_width))\n",
    "    img_array = img_to_array(img) / 255.0  # Normalize pixel values\n",
    "    # Append the image to the images list\n",
    "    images_healthy_12.append(img_array)\n",
    "    # Extract the label from the image filename\n",
    "    label = os.path.splitext(image_file)[0]  # Remove file extension\n",
    "    ids_healthy_12.append(label)\n",
    "# Now ids_patient_1 contains the names of the images\n"
   ]
  },
  {
   "cell_type": "code",
   "execution_count": 36,
   "id": "2c5a5434",
   "metadata": {},
   "outputs": [
    {
     "data": {
      "text/plain": [
       "7162"
      ]
     },
     "execution_count": 36,
     "metadata": {},
     "output_type": "execute_result"
    }
   ],
   "source": [
    "len(images_healthy_12)"
   ]
  },
  {
   "cell_type": "code",
   "execution_count": 37,
   "id": "932ab76d",
   "metadata": {},
   "outputs": [
    {
     "name": "stdout",
     "output_type": "stream",
     "text": [
      "Number of image files in the directory for label 0: 12271\n"
     ]
    }
   ],
   "source": [
    "\n",
    "# Define the paths to your dataset directories\n",
    "dataset_dir_0 = \"healthy_13\"\n",
    "\n",
    "# Initialize empty lists to store images and labels\n",
    "# Define image dimensions\n",
    "img_height, img_width = 100, 100\n",
    "images_healthy_13 = []\n",
    "ids_healthy_13 = []  # List to store image names\n",
    "# Load and preprocess images from directory 0 (label 0)\n",
    "image_files = os.listdir(dataset_dir_0)\n",
    "print(\"Number of image files in the directory for label 0:\", len(image_files))\n",
    "\n",
    "for image_file in os.listdir(dataset_dir_0):\n",
    "    # Load and preprocess the image\n",
    "    img = load_img(os.path.join(dataset_dir_0, image_file), target_size=(img_height, img_width))\n",
    "    img_array = img_to_array(img) / 255.0  # Normalize pixel values\n",
    "    # Append the image to the images list\n",
    "    images_healthy_13.append(img_array)\n",
    "    # Extract the label from the image filename\n",
    "    label = os.path.splitext(image_file)[0]  # Remove file extension\n",
    "    ids_healthy_13.append(label)\n",
    "\n",
    "# Now ids_patient_1 contains the names of the images\n"
   ]
  },
  {
   "cell_type": "code",
   "execution_count": 38,
   "id": "8a83b2ab",
   "metadata": {},
   "outputs": [
    {
     "data": {
      "text/plain": [
       "12271"
      ]
     },
     "execution_count": 38,
     "metadata": {},
     "output_type": "execute_result"
    }
   ],
   "source": [
    "len(images_healthy_13)"
   ]
  },
  {
   "cell_type": "code",
   "execution_count": null,
   "id": "5f6347b8",
   "metadata": {},
   "outputs": [],
   "source": []
  },
  {
   "cell_type": "code",
   "execution_count": 39,
   "id": "2ab555f5",
   "metadata": {},
   "outputs": [
    {
     "name": "stdout",
     "output_type": "stream",
     "text": [
      "Number of image files in the directory for label 0: 10941\n"
     ]
    }
   ],
   "source": [
    "\n",
    "# Define the paths to your dataset directories\n",
    "dataset_dir_0 = \"healthy_14\"\n",
    "\n",
    "# Initialize empty lists to store images and labels\n",
    "# Define image dimensions\n",
    "img_height, img_width = 100, 100\n",
    "images_healthy_14 = []\n",
    "ids_healthy_14 = []  # List to store image names\n",
    "# Load and preprocess images from directory 0 (label 0)\n",
    "image_files = os.listdir(dataset_dir_0)\n",
    "print(\"Number of image files in the directory for label 0:\", len(image_files))\n",
    "\n",
    "for image_file in os.listdir(dataset_dir_0):\n",
    "    # Load and preprocess the image\n",
    "    img = load_img(os.path.join(dataset_dir_0, image_file), target_size=(img_height, img_width))\n",
    "    img_array = img_to_array(img) / 255.0  # Normalize pixel values\n",
    "    # Append the image to the images list\n",
    "    images_healthy_14.append(img_array)\n",
    "    # Extract the label from the image filename\n",
    "    label = os.path.splitext(image_file)[0]  # Remove file extension\n",
    "    ids_healthy_14.append(label)\n",
    "\n",
    "    # Assuming you also have a list called labels, you need to define it somewhere in your code\n",
    "    # labels.append(0)\n",
    "\n",
    "# Now ids_patient_1 contains the names of the images\n"
   ]
  },
  {
   "cell_type": "code",
   "execution_count": 40,
   "id": "486c7dc0",
   "metadata": {},
   "outputs": [
    {
     "data": {
      "text/plain": [
       "10941"
      ]
     },
     "execution_count": 40,
     "metadata": {},
     "output_type": "execute_result"
    }
   ],
   "source": [
    "len(images_healthy_14)"
   ]
  },
  {
   "cell_type": "code",
   "execution_count": 41,
   "id": "0d0cbd79",
   "metadata": {},
   "outputs": [
    {
     "name": "stdout",
     "output_type": "stream",
     "text": [
      "Number of image files in the directory for label 0: 10741\n"
     ]
    }
   ],
   "source": [
    "\n",
    "# Define the paths to your dataset directories\n",
    "dataset_dir_0 = \"healthy_15\"\n",
    "\n",
    "# Initialize empty lists to store images and labels\n",
    "# Define image dimensions\n",
    "img_height, img_width = 100, 100\n",
    "images_healthy_15 = []\n",
    "ids_healthy_15 = []  # List to store image names\n",
    "# Load and preprocess images from directory 0 (label 0)\n",
    "image_files = os.listdir(dataset_dir_0)\n",
    "print(\"Number of image files in the directory for label 0:\", len(image_files))\n",
    "\n",
    "for image_file in os.listdir(dataset_dir_0):\n",
    "    # Load and preprocess the image\n",
    "    img = load_img(os.path.join(dataset_dir_0, image_file), target_size=(img_height, img_width))\n",
    "    img_array = img_to_array(img) / 255.0  # Normalize pixel values\n",
    "    # Append the image to the images list\n",
    "    images_healthy_15.append(img_array)\n",
    "    # Extract the label from the image filename\n",
    "    label = os.path.splitext(image_file)[0]  # Remove file extension\n",
    "    ids_healthy_15.append(label)\n",
    "# Now ids_patient_1 contains the names of the images\n"
   ]
  },
  {
   "cell_type": "code",
   "execution_count": 42,
   "id": "6676c7e2",
   "metadata": {},
   "outputs": [
    {
     "data": {
      "text/plain": [
       "10741"
      ]
     },
     "execution_count": 42,
     "metadata": {},
     "output_type": "execute_result"
    }
   ],
   "source": [
    "len(images_healthy_15)"
   ]
  },
  {
   "cell_type": "code",
   "execution_count": 43,
   "id": "aabb1eac",
   "metadata": {},
   "outputs": [
    {
     "name": "stdout",
     "output_type": "stream",
     "text": [
      "Number of image files in the directory for label 0: 4965\n"
     ]
    }
   ],
   "source": [
    "\n",
    "# Define the paths to your dataset directories\n",
    "dataset_dir_0 = \"healthy_16\"\n",
    "\n",
    "# Initialize empty lists to store images and labels\n",
    "# Define image dimensions\n",
    "img_height, img_width = 100, 100\n",
    "images_healthy_16 = []\n",
    "ids_healthy_16 = []  # List to store image names\n",
    "# Load and preprocess images from directory 0 (label 0)\n",
    "image_files = os.listdir(dataset_dir_0)\n",
    "print(\"Number of image files in the directory for label 0:\", len(image_files))\n",
    "\n",
    "for image_file in os.listdir(dataset_dir_0):\n",
    "    # Load and preprocess the image\n",
    "    img = load_img(os.path.join(dataset_dir_0, image_file), target_size=(img_height, img_width))\n",
    "    img_array = img_to_array(img) / 255.0  # Normalize pixel values\n",
    "    # Append the image to the images list\n",
    "    images_healthy_16.append(img_array)\n",
    "    # Extract the label from the image filename\n",
    "    label = os.path.splitext(image_file)[0]  # Remove file extension\n",
    "    ids_healthy_16.append(label)\n",
    "\n",
    "# Now ids_patient_1 contains the names of the images\n"
   ]
  },
  {
   "cell_type": "code",
   "execution_count": 44,
   "id": "78bedda8",
   "metadata": {},
   "outputs": [
    {
     "data": {
      "text/plain": [
       "4965"
      ]
     },
     "execution_count": 44,
     "metadata": {},
     "output_type": "execute_result"
    }
   ],
   "source": [
    "len(images_healthy_16)"
   ]
  },
  {
   "cell_type": "code",
   "execution_count": null,
   "id": "b12d1979",
   "metadata": {},
   "outputs": [],
   "source": []
  },
  {
   "cell_type": "code",
   "execution_count": 45,
   "id": "be2a8654",
   "metadata": {},
   "outputs": [
    {
     "name": "stdout",
     "output_type": "stream",
     "text": [
      "Number of image files in the directory for label 0: 6671\n"
     ]
    }
   ],
   "source": [
    "\n",
    "# Define the paths to your dataset directories\n",
    "dataset_dir_0 = \"healthy_17\"\n",
    "\n",
    "# Initialize empty lists to store images and labels\n",
    "# Define image dimensions\n",
    "img_height, img_width = 100, 100\n",
    "images_healthy_17 = []\n",
    "ids_healthy_17 = []  # List to store image names\n",
    "# Load and preprocess images from directory 0 (label 0)\n",
    "image_files = os.listdir(dataset_dir_0)\n",
    "print(\"Number of image files in the directory for label 0:\", len(image_files))\n",
    "\n",
    "for image_file in os.listdir(dataset_dir_0):\n",
    "    # Load and preprocess the image\n",
    "    img = load_img(os.path.join(dataset_dir_0, image_file), target_size=(img_height, img_width))\n",
    "    img_array = img_to_array(img) / 255.0  # Normalize pixel values\n",
    "    # Append the image to the images list\n",
    "    images_healthy_17.append(img_array)\n",
    "    # Extract the label from the image filename\n",
    "    label = os.path.splitext(image_file)[0]  # Remove file extension\n",
    "    ids_healthy_17.append(label)\n",
    "\n",
    "    # Assuming you also have a list called labels, you need to define it somewhere in your code\n",
    "    # labels.append(0)\n",
    "\n",
    "# Now ids_patient_1 contains the names of the images\n"
   ]
  },
  {
   "cell_type": "code",
   "execution_count": 46,
   "id": "1aadb4ab",
   "metadata": {},
   "outputs": [
    {
     "data": {
      "text/plain": [
       "6671"
      ]
     },
     "execution_count": 46,
     "metadata": {},
     "output_type": "execute_result"
    }
   ],
   "source": [
    "len(images_healthy_17)"
   ]
  },
  {
   "cell_type": "code",
   "execution_count": 47,
   "id": "acd2063e",
   "metadata": {},
   "outputs": [
    {
     "name": "stdout",
     "output_type": "stream",
     "text": [
      "Number of image files in the directory for label 0: 9216\n"
     ]
    }
   ],
   "source": [
    "\n",
    "# Define the paths to your dataset directories\n",
    "dataset_dir_0 = \"healthy_18\"\n",
    "\n",
    "# Initialize empty lists to store images and labels\n",
    "# Define image dimensions\n",
    "img_height, img_width = 100, 100\n",
    "images_healthy_18 = []\n",
    "ids_healthy_18 = []  # List to store image names\n",
    "# Load and preprocess images from directory 0 (label 0)\n",
    "image_files = os.listdir(dataset_dir_0)\n",
    "print(\"Number of image files in the directory for label 0:\", len(image_files))\n",
    "\n",
    "for image_file in os.listdir(dataset_dir_0):\n",
    "    # Load and preprocess the image\n",
    "    img = load_img(os.path.join(dataset_dir_0, image_file), target_size=(img_height, img_width))\n",
    "    img_array = img_to_array(img) / 255.0  # Normalize pixel values\n",
    "    # Append the image to the images list\n",
    "    images_healthy_18.append(img_array)\n",
    "    # Extract the label from the image filename\n",
    "    label = os.path.splitext(image_file)[0]  # Remove file extension\n",
    "    ids_healthy_18.append(label)\n",
    "# Now ids_patient_1 contains the names of the images\n"
   ]
  },
  {
   "cell_type": "code",
   "execution_count": 48,
   "id": "7dd06a97",
   "metadata": {},
   "outputs": [
    {
     "data": {
      "text/plain": [
       "9216"
      ]
     },
     "execution_count": 48,
     "metadata": {},
     "output_type": "execute_result"
    }
   ],
   "source": [
    "len(images_healthy_18)"
   ]
  },
  {
   "cell_type": "code",
   "execution_count": null,
   "id": "28c24b8f",
   "metadata": {},
   "outputs": [],
   "source": []
  },
  {
   "cell_type": "code",
   "execution_count": 49,
   "id": "7cc3ed37",
   "metadata": {},
   "outputs": [
    {
     "name": "stdout",
     "output_type": "stream",
     "text": [
      "Number of image files in the directory for label 0: 14460\n"
     ]
    }
   ],
   "source": [
    "\n",
    "# Define the paths to your dataset directories\n",
    "dataset_dir_0 = \"healthy_19\"\n",
    "\n",
    "# Initialize empty lists to store images and labels\n",
    "# Define image dimensions\n",
    "img_height, img_width = 100, 100\n",
    "images_healthy_19 = []\n",
    "ids_healthy_19 = []  # List to store image names\n",
    "# Load and preprocess images from directory 0 (label 0)\n",
    "image_files = os.listdir(dataset_dir_0)\n",
    "print(\"Number of image files in the directory for label 0:\", len(image_files))\n",
    "\n",
    "for image_file in os.listdir(dataset_dir_0):\n",
    "    # Load and preprocess the image\n",
    "    img = load_img(os.path.join(dataset_dir_0, image_file), target_size=(img_height, img_width))\n",
    "    img_array = img_to_array(img) / 255.0  # Normalize pixel values\n",
    "    # Append the image to the images list\n",
    "    images_healthy_19.append(img_array)\n",
    "    # Extract the label from the image filename\n",
    "    label = os.path.splitext(image_file)[0]  # Remove file extension\n",
    "    ids_healthy_19.append(label)\n",
    "# Now ids_patient_1 contains the names of the images\n"
   ]
  },
  {
   "cell_type": "code",
   "execution_count": 50,
   "id": "c4e52074",
   "metadata": {},
   "outputs": [
    {
     "data": {
      "text/plain": [
       "14460"
      ]
     },
     "execution_count": 50,
     "metadata": {},
     "output_type": "execute_result"
    }
   ],
   "source": [
    "len(images_healthy_19)"
   ]
  },
  {
   "cell_type": "code",
   "execution_count": 51,
   "id": "9f5f7fab",
   "metadata": {},
   "outputs": [
    {
     "name": "stdout",
     "output_type": "stream",
     "text": [
      "Number of image files in the directory for label 0: 14893\n"
     ]
    }
   ],
   "source": [
    "\n",
    "# Define the paths to your dataset directories\n",
    "dataset_dir_0 = \"healthy_20\"\n",
    "\n",
    "# Initialize empty lists to store images and labels\n",
    "# Define image dimensions\n",
    "img_height, img_width = 100, 100\n",
    "images_healthy_20 = []\n",
    "ids_healthy_20 = []  # List to store image names\n",
    "# Load and preprocess images from directory 0 (label 0)\n",
    "image_files = os.listdir(dataset_dir_0)\n",
    "print(\"Number of image files in the directory for label 0:\", len(image_files))\n",
    "\n",
    "for image_file in os.listdir(dataset_dir_0):\n",
    "    # Load and preprocess the image\n",
    "    img = load_img(os.path.join(dataset_dir_0, image_file), target_size=(img_height, img_width))\n",
    "    img_array = img_to_array(img) / 255.0  # Normalize pixel values\n",
    "    # Append the image to the images list\n",
    "    images_healthy_20.append(img_array)\n",
    "    # Extract the label from the image filename\n",
    "    label = os.path.splitext(image_file)[0]  # Remove file extension\n",
    "    ids_healthy_20.append(label)\n",
    "# Now ids_patient_1 contains the names of the images\n"
   ]
  },
  {
   "cell_type": "code",
   "execution_count": 52,
   "id": "8168dac6",
   "metadata": {},
   "outputs": [
    {
     "data": {
      "text/plain": [
       "14893"
      ]
     },
     "execution_count": 52,
     "metadata": {},
     "output_type": "execute_result"
    }
   ],
   "source": [
    "len(images_healthy_20)"
   ]
  },
  {
   "cell_type": "code",
   "execution_count": null,
   "id": "31ffc638",
   "metadata": {},
   "outputs": [],
   "source": []
  },
  {
   "cell_type": "markdown",
   "id": "a8e7cbef",
   "metadata": {},
   "source": [
    "#  Model Generic PATIENTS 1"
   ]
  },
  {
   "cell_type": "code",
   "execution_count": 53,
   "id": "d98f0d06",
   "metadata": {},
   "outputs": [],
   "source": [
    "from tensorflow.keras.models import load_model\n",
    "\n",
    "# Load the saved model\n",
    "model = load_model('generic_model_ARGvshealthy_and_patient_synthetic_1.h5')\n",
    "\n",
    "# Now you can use this 'model' object for predictions or further training.\n"
   ]
  },
  {
   "cell_type": "markdown",
   "id": "d8568eef",
   "metadata": {},
   "source": [
    "## PATIENTS"
   ]
  },
  {
   "cell_type": "markdown",
   "id": "a0806fd9",
   "metadata": {},
   "source": [
    "### Patient 1"
   ]
  },
  {
   "cell_type": "code",
   "execution_count": 54,
   "id": "c0253812",
   "metadata": {},
   "outputs": [
    {
     "name": "stdout",
     "output_type": "stream",
     "text": [
      "344/344 [==============================] - 16s 41ms/step\n",
      "Number of predictions over 0.5: 1494\n",
      "Number of total images:  10981\n"
     ]
    }
   ],
   "source": [
    "# Assuming 'model' contains the loaded model and 'images_patient_1' contains the preprocessed images\n",
    "import numpy as np\n",
    "\n",
    "# Convert the list of images to a numpy array\n",
    "images_array = np.array(images_patient_1)\n",
    "\n",
    "# Make predictions on the images\n",
    "predictions = model.predict(images_array)\n",
    "\n",
    "# Filter predictions with values over 0.5\n",
    "threshold = 0.5\n",
    "predicted_labels_over_threshold = np.where(predictions > threshold)[0]\n",
    "\n",
    "# Count the number of predictions over the threshold\n",
    "num_predictions_over_threshold = len(predicted_labels_over_threshold)\n",
    "\n",
    "# Print the length of predicted labels over 0.5\n",
    "print(\"Number of predictions over 0.5:\", num_predictions_over_threshold)\n",
    "print(\"Number of total images: \",len(images_patient_1))\n"
   ]
  },
  {
   "cell_type": "markdown",
   "id": "1629d560",
   "metadata": {},
   "source": [
    "### Patient 2"
   ]
  },
  {
   "cell_type": "code",
   "execution_count": 55,
   "id": "849f6cdf",
   "metadata": {},
   "outputs": [
    {
     "name": "stdout",
     "output_type": "stream",
     "text": [
      "469/469 [==============================] - 19s 41ms/step\n",
      "Number of predictions over 0.5: 2894\n",
      "Number of total images:  15000\n"
     ]
    }
   ],
   "source": [
    "# Assuming 'model' contains the loaded model and 'images_patient_1' contains the preprocessed images\n",
    "import numpy as np\n",
    "\n",
    "# Convert the list of images to a numpy array\n",
    "images_array = np.array(images_patient_2)\n",
    "\n",
    "# Make predictions on the images\n",
    "predictions = model.predict(images_array)\n",
    "\n",
    "# Filter predictions with values over 0.5\n",
    "threshold = 0.5\n",
    "predicted_labels_over_threshold = np.where(predictions > threshold)[0]\n",
    "\n",
    "# Count the number of predictions over the threshold\n",
    "num_predictions_over_threshold = len(predicted_labels_over_threshold)\n",
    "\n",
    "# Print the length of predicted labels over 0.5\n",
    "print(\"Number of predictions over 0.5:\", num_predictions_over_threshold)\n",
    "print(\"Number of total images: \",len(images_patient_2))\n"
   ]
  },
  {
   "cell_type": "markdown",
   "id": "79b99f26",
   "metadata": {},
   "source": [
    "### Patient 4"
   ]
  },
  {
   "cell_type": "code",
   "execution_count": 56,
   "id": "0316a927",
   "metadata": {},
   "outputs": [
    {
     "name": "stdout",
     "output_type": "stream",
     "text": [
      "287/287 [==============================] - 10s 34ms/step\n",
      "Number of predictions over 0.5: 184\n",
      "Number of total images:  9172\n"
     ]
    }
   ],
   "source": [
    "# Assuming 'model' contains the loaded model and 'images_patient_1' contains the preprocessed images\n",
    "import numpy as np\n",
    "\n",
    "# Convert the list of images to a numpy array\n",
    "images_array = np.array(images_patient_4)\n",
    "\n",
    "# Make predictions on the images\n",
    "predictions = model.predict(images_array)\n",
    "\n",
    "# Filter predictions with values over 0.5\n",
    "threshold = 0.5\n",
    "predicted_labels_over_threshold = np.where(predictions > threshold)[0]\n",
    "\n",
    "# Count the number of predictions over the threshold\n",
    "num_predictions_over_threshold = len(predicted_labels_over_threshold)\n",
    "\n",
    "# Print the length of predicted labels over 0.5\n",
    "print(\"Number of predictions over 0.5:\", num_predictions_over_threshold)\n",
    "print(\"Number of total images: \",len(images_patient_4))\n"
   ]
  },
  {
   "cell_type": "markdown",
   "id": "2124b2d4",
   "metadata": {},
   "source": [
    "### Patient 5"
   ]
  },
  {
   "cell_type": "code",
   "execution_count": 57,
   "id": "24985d78",
   "metadata": {},
   "outputs": [
    {
     "name": "stdout",
     "output_type": "stream",
     "text": [
      "469/469 [==============================] - 18s 37ms/step\n",
      "Number of predictions over 0.5: 431\n",
      "Number of total images:  15000\n"
     ]
    }
   ],
   "source": [
    "# Assuming 'model' contains the loaded model and 'images_patient_1' contains the preprocessed images\n",
    "import numpy as np\n",
    "\n",
    "# Convert the list of images to a numpy array\n",
    "images_array = np.array(images_patient_5)\n",
    "\n",
    "# Make predictions on the images\n",
    "predictions = model.predict(images_array)\n",
    "\n",
    "# Filter predictions with values over 0.5\n",
    "threshold = 0.5\n",
    "predicted_labels_over_threshold = np.where(predictions > threshold)[0]\n",
    "\n",
    "# Count the number of predictions over the threshold\n",
    "num_predictions_over_threshold = len(predicted_labels_over_threshold)\n",
    "\n",
    "# Print the length of predicted labels over 0.5\n",
    "print(\"Number of predictions over 0.5:\", num_predictions_over_threshold)\n",
    "print(\"Number of total images: \",len(images_patient_5))\n"
   ]
  },
  {
   "cell_type": "markdown",
   "id": "cded6203",
   "metadata": {},
   "source": [
    "### Patient 6"
   ]
  },
  {
   "cell_type": "code",
   "execution_count": 58,
   "id": "9ccc2ac3",
   "metadata": {},
   "outputs": [
    {
     "name": "stdout",
     "output_type": "stream",
     "text": [
      "321/321 [==============================] - 11s 33ms/step\n",
      "Number of predictions over 0.5: 577\n",
      "Number of total images:  10267\n"
     ]
    }
   ],
   "source": [
    "# Assuming 'model' contains the loaded model and 'images_patient_1' contains the preprocessed images\n",
    "import numpy as np\n",
    "\n",
    "# Convert the list of images to a numpy array\n",
    "images_array = np.array(images_patient_6)\n",
    "\n",
    "# Make predictions on the images\n",
    "predictions = model.predict(images_array)\n",
    "\n",
    "# Filter predictions with values over 0.5\n",
    "threshold = 0.5\n",
    "predicted_labels_over_threshold = np.where(predictions > threshold)[0]\n",
    "\n",
    "# Count the number of predictions over the threshold\n",
    "num_predictions_over_threshold = len(predicted_labels_over_threshold)\n",
    "\n",
    "# Print the length of predicted labels over 0.5\n",
    "print(\"Number of predictions over 0.5:\", num_predictions_over_threshold)\n",
    "print(\"Number of total images: \",len(images_patient_6))\n"
   ]
  },
  {
   "cell_type": "markdown",
   "id": "6c37f597",
   "metadata": {},
   "source": [
    "### Patient 11"
   ]
  },
  {
   "cell_type": "code",
   "execution_count": 59,
   "id": "53b9f298",
   "metadata": {},
   "outputs": [
    {
     "name": "stdout",
     "output_type": "stream",
     "text": [
      "314/314 [==============================] - 12s 37ms/step\n",
      "Number of predictions over 0.5: 1149\n",
      "Number of total images:  10022\n"
     ]
    }
   ],
   "source": [
    "# Assuming 'model' contains the loaded model and 'images_patient_1' contains the preprocessed images\n",
    "import numpy as np\n",
    "\n",
    "# Convert the list of images to a numpy array\n",
    "images_array = np.array(images_patient_11)\n",
    "\n",
    "# Make predictions on the images\n",
    "predictions = model.predict(images_array)\n",
    "\n",
    "# Filter predictions with values over 0.5\n",
    "threshold = 0.5\n",
    "predicted_labels_over_threshold = np.where(predictions > threshold)[0]\n",
    "\n",
    "# Count the number of predictions over the threshold\n",
    "num_predictions_over_threshold = len(predicted_labels_over_threshold)\n",
    "\n",
    "# Print the length of predicted labels over 0.5\n",
    "print(\"Number of predictions over 0.5:\", num_predictions_over_threshold)\n",
    "print(\"Number of total images: \",len(images_patient_11))\n"
   ]
  },
  {
   "cell_type": "markdown",
   "id": "6f1dcdf9",
   "metadata": {},
   "source": [
    "### Patient 12"
   ]
  },
  {
   "cell_type": "code",
   "execution_count": 60,
   "id": "4e8e8f76",
   "metadata": {},
   "outputs": [
    {
     "name": "stdout",
     "output_type": "stream",
     "text": [
      "264/264 [==============================] - 9s 33ms/step\n",
      "Number of predictions over 0.5: 829\n",
      "Number of total images:  8445\n"
     ]
    }
   ],
   "source": [
    "# Assuming 'model' contains the loaded model and 'images_patient_1' contains the preprocessed images\n",
    "import numpy as np\n",
    "\n",
    "# Convert the list of images to a numpy array\n",
    "images_array = np.array(images_patient_12)\n",
    "\n",
    "# Make predictions on the images\n",
    "predictions = model.predict(images_array)\n",
    "\n",
    "# Filter predictions with values over 0.5\n",
    "threshold = 0.5\n",
    "predicted_labels_over_threshold = np.where(predictions > threshold)[0]\n",
    "\n",
    "# Count the number of predictions over the threshold\n",
    "num_predictions_over_threshold = len(predicted_labels_over_threshold)\n",
    "\n",
    "# Print the length of predicted labels over 0.5\n",
    "print(\"Number of predictions over 0.5:\", num_predictions_over_threshold)\n",
    "print(\"Number of total images: \",len(images_patient_12))\n"
   ]
  },
  {
   "cell_type": "markdown",
   "id": "d3fb667b",
   "metadata": {},
   "source": [
    "### Patient 13"
   ]
  },
  {
   "cell_type": "code",
   "execution_count": 61,
   "id": "22ef5ce4",
   "metadata": {
    "scrolled": true
   },
   "outputs": [
    {
     "name": "stdout",
     "output_type": "stream",
     "text": [
      "377/377 [==============================] - 14s 37ms/step\n",
      "Number of predictions over 0.5: 1100\n",
      "Number of total images:  12053\n"
     ]
    }
   ],
   "source": [
    "# Assuming 'model' contains the loaded model and 'images_patient_1' contains the preprocessed images\n",
    "import numpy as np\n",
    "\n",
    "# Convert the list of images to a numpy array\n",
    "images_array = np.array(images_patient_13)\n",
    "\n",
    "# Make predictions on the images\n",
    "predictions = model.predict(images_array)\n",
    "\n",
    "# Filter predictions with values over 0.5\n",
    "threshold = 0.5\n",
    "predicted_labels_over_threshold = np.where(predictions > threshold)[0]\n",
    "\n",
    "# Count the number of predictions over the threshold\n",
    "num_predictions_over_threshold = len(predicted_labels_over_threshold)\n",
    "\n",
    "# Print the length of predicted labels over 0.5\n",
    "print(\"Number of predictions over 0.5:\", num_predictions_over_threshold)\n",
    "print(\"Number of total images: \",len(images_patient_13))\n"
   ]
  },
  {
   "cell_type": "code",
   "execution_count": null,
   "id": "a772f041",
   "metadata": {},
   "outputs": [],
   "source": []
  },
  {
   "cell_type": "markdown",
   "id": "3dca6e59",
   "metadata": {},
   "source": [
    "### Patient 14"
   ]
  },
  {
   "cell_type": "code",
   "execution_count": 62,
   "id": "45f1844d",
   "metadata": {},
   "outputs": [
    {
     "name": "stdout",
     "output_type": "stream",
     "text": [
      "511/511 [==============================] - 20s 38ms/step\n",
      "Number of predictions over 0.5: 1221\n",
      "Number of total images:  16327\n"
     ]
    }
   ],
   "source": [
    "# Assuming 'model' contains the loaded model and 'images_patient_1' contains the preprocessed images\n",
    "import numpy as np\n",
    "\n",
    "# Convert the list of images to a numpy array\n",
    "images_array = np.array(images_patient_14)\n",
    "\n",
    "# Make predictions on the images\n",
    "predictions = model.predict(images_array)\n",
    "\n",
    "# Filter predictions with values over 0.5\n",
    "threshold = 0.5\n",
    "predicted_labels_over_threshold = np.where(predictions > threshold)[0]\n",
    "\n",
    "# Count the number of predictions over the threshold\n",
    "num_predictions_over_threshold = len(predicted_labels_over_threshold)\n",
    "\n",
    "# Print the length of predicted labels over 0.5\n",
    "print(\"Number of predictions over 0.5:\", num_predictions_over_threshold)\n",
    "print(\"Number of total images: \",len(images_patient_14))\n"
   ]
  },
  {
   "cell_type": "code",
   "execution_count": null,
   "id": "e2c6a81c",
   "metadata": {},
   "outputs": [],
   "source": []
  },
  {
   "cell_type": "markdown",
   "id": "3f62113a",
   "metadata": {},
   "source": [
    "### Patient 15"
   ]
  },
  {
   "cell_type": "code",
   "execution_count": 63,
   "id": "bac1588e",
   "metadata": {},
   "outputs": [
    {
     "name": "stdout",
     "output_type": "stream",
     "text": [
      "422/422 [==============================] - 14s 34ms/step\n",
      "Number of predictions over 0.5: 1454\n",
      "Number of total images:  13487\n"
     ]
    }
   ],
   "source": [
    "# Assuming 'model' contains the loaded model and 'images_patient_1' contains the preprocessed images\n",
    "import numpy as np\n",
    "\n",
    "# Convert the list of images to a numpy array\n",
    "images_array = np.array(images_patient_15)\n",
    "\n",
    "# Make predictions on the images\n",
    "predictions = model.predict(images_array)\n",
    "\n",
    "# Filter predictions with values over 0.5\n",
    "threshold = 0.5\n",
    "predicted_labels_over_threshold = np.where(predictions > threshold)[0]\n",
    "\n",
    "# Count the number of predictions over the threshold\n",
    "num_predictions_over_threshold = len(predicted_labels_over_threshold)\n",
    "\n",
    "# Print the length of predicted labels over 0.5\n",
    "print(\"Number of predictions over 0.5:\", num_predictions_over_threshold)\n",
    "print(\"Number of total images: \",len(images_patient_15))\n"
   ]
  },
  {
   "cell_type": "markdown",
   "id": "5eec520f",
   "metadata": {},
   "source": [
    "## HEALTHIES"
   ]
  },
  {
   "cell_type": "markdown",
   "id": "dcf94ec8",
   "metadata": {},
   "source": [
    "### Healthy 11"
   ]
  },
  {
   "cell_type": "code",
   "execution_count": 64,
   "id": "f1bd7c8d",
   "metadata": {},
   "outputs": [
    {
     "name": "stdout",
     "output_type": "stream",
     "text": [
      "454/454 [==============================] - 19s 42ms/step\n",
      "Number of predictions over 0.5: 1820\n",
      "Number of total images:  14512\n"
     ]
    }
   ],
   "source": [
    "# Assuming 'model' contains the loaded model and 'images_patient_1' contains the preprocessed images\n",
    "import numpy as np\n",
    "\n",
    "# Convert the list of images to a numpy array\n",
    "images_array = np.array(images_healthy_11)\n",
    "\n",
    "# Make predictions on the images\n",
    "predictions = model.predict(images_array)\n",
    "\n",
    "# Filter predictions with values over 0.5\n",
    "threshold = 0.5\n",
    "predicted_labels_over_threshold = np.where(predictions > threshold)[0]\n",
    "\n",
    "# Count the number of predictions over the threshold\n",
    "num_predictions_over_threshold = len(predicted_labels_over_threshold)\n",
    "\n",
    "# Print the length of predicted labels over 0.5\n",
    "print(\"Number of predictions over 0.5:\", num_predictions_over_threshold)\n",
    "print(\"Number of total images: \",len(images_healthy_11))"
   ]
  },
  {
   "cell_type": "markdown",
   "id": "8b54e6e1",
   "metadata": {},
   "source": [
    "### Healthy 12"
   ]
  },
  {
   "cell_type": "code",
   "execution_count": 65,
   "id": "f2a6ba29",
   "metadata": {},
   "outputs": [
    {
     "name": "stdout",
     "output_type": "stream",
     "text": [
      "224/224 [==============================] - 8s 34ms/step\n",
      "Number of predictions over 0.5: 781\n",
      "Number of total images:  7162\n"
     ]
    }
   ],
   "source": [
    "# Assuming 'model' contains the loaded model and 'images_patient_1' contains the preprocessed images\n",
    "import numpy as np\n",
    "\n",
    "# Convert the list of images to a numpy array\n",
    "images_array = np.array(images_healthy_12)\n",
    "\n",
    "# Make predictions on the images\n",
    "predictions = model.predict(images_array)\n",
    "\n",
    "# Filter predictions with values over 0.5\n",
    "threshold = 0.5\n",
    "predicted_labels_over_threshold = np.where(predictions > threshold)[0]\n",
    "\n",
    "# Count the number of predictions over the threshold\n",
    "num_predictions_over_threshold = len(predicted_labels_over_threshold)\n",
    "\n",
    "# Print the length of predicted labels over 0.5\n",
    "print(\"Number of predictions over 0.5:\", num_predictions_over_threshold)\n",
    "print(\"Number of total images: \",len(images_healthy_12))"
   ]
  },
  {
   "cell_type": "markdown",
   "id": "798a3cab",
   "metadata": {},
   "source": [
    "### Healthy 13"
   ]
  },
  {
   "cell_type": "code",
   "execution_count": 66,
   "id": "844731cf",
   "metadata": {},
   "outputs": [
    {
     "name": "stdout",
     "output_type": "stream",
     "text": [
      "384/384 [==============================] - 15s 39ms/step\n",
      "Number of predictions over 0.5: 1436\n",
      "Number of total images:  12271\n"
     ]
    }
   ],
   "source": [
    "# Assuming 'model' contains the loaded model and 'images_patient_1' contains the preprocessed images\n",
    "import numpy as np\n",
    "\n",
    "# Convert the list of images to a numpy array\n",
    "images_array = np.array(images_healthy_13)\n",
    "\n",
    "# Make predictions on the images\n",
    "predictions = model.predict(images_array)\n",
    "\n",
    "# Filter predictions with values over 0.5\n",
    "threshold = 0.5\n",
    "predicted_labels_over_threshold = np.where(predictions > threshold)[0]\n",
    "\n",
    "# Count the number of predictions over the threshold\n",
    "num_predictions_over_threshold = len(predicted_labels_over_threshold)\n",
    "\n",
    "# Print the length of predicted labels over 0.5\n",
    "print(\"Number of predictions over 0.5:\", num_predictions_over_threshold)\n",
    "print(\"Number of total images: \",len(images_healthy_13))"
   ]
  },
  {
   "cell_type": "markdown",
   "id": "c48d7b71",
   "metadata": {},
   "source": [
    "### Healthy 14"
   ]
  },
  {
   "cell_type": "code",
   "execution_count": 67,
   "id": "cde9b8ff",
   "metadata": {},
   "outputs": [
    {
     "name": "stdout",
     "output_type": "stream",
     "text": [
      "342/342 [==============================] - 11s 33ms/step\n",
      "Number of predictions over 0.5: 226\n",
      "Number of total images:  10941\n"
     ]
    }
   ],
   "source": [
    "# Assuming 'model' contains the loaded model and 'images_patient_1' contains the preprocessed images\n",
    "import numpy as np\n",
    "\n",
    "# Convert the list of images to a numpy array\n",
    "images_array = np.array(images_healthy_14)\n",
    "\n",
    "# Make predictions on the images\n",
    "predictions = model.predict(images_array)\n",
    "\n",
    "# Filter predictions with values over 0.5\n",
    "threshold = 0.5\n",
    "predicted_labels_over_threshold = np.where(predictions > threshold)[0]\n",
    "\n",
    "# Count the number of predictions over the threshold\n",
    "num_predictions_over_threshold = len(predicted_labels_over_threshold)\n",
    "\n",
    "# Print the length of predicted labels over 0.5\n",
    "print(\"Number of predictions over 0.5:\", num_predictions_over_threshold)\n",
    "print(\"Number of total images: \",len(images_healthy_14))"
   ]
  },
  {
   "cell_type": "markdown",
   "id": "de959ace",
   "metadata": {},
   "source": [
    "### Healthy 15"
   ]
  },
  {
   "cell_type": "code",
   "execution_count": 68,
   "id": "05208c8f",
   "metadata": {},
   "outputs": [
    {
     "name": "stdout",
     "output_type": "stream",
     "text": [
      "336/336 [==============================] - 12s 35ms/step\n",
      "Number of predictions over 0.5: 191\n",
      "Number of total images:  10741\n"
     ]
    }
   ],
   "source": [
    "# Assuming 'model' contains the loaded model and 'images_patient_1' contains the preprocessed images\n",
    "import numpy as np\n",
    "\n",
    "# Convert the list of images to a numpy array\n",
    "images_array = np.array(images_healthy_15)\n",
    "\n",
    "# Make predictions on the images\n",
    "predictions = model.predict(images_array)\n",
    "\n",
    "# Filter predictions with values over 0.5\n",
    "threshold = 0.5\n",
    "predicted_labels_over_threshold = np.where(predictions > threshold)[0]\n",
    "\n",
    "# Count the number of predictions over the threshold\n",
    "num_predictions_over_threshold = len(predicted_labels_over_threshold)\n",
    "\n",
    "# Print the length of predicted labels over 0.5\n",
    "print(\"Number of predictions over 0.5:\", num_predictions_over_threshold)\n",
    "print(\"Number of total images: \",len(images_healthy_15))"
   ]
  },
  {
   "cell_type": "markdown",
   "id": "c8274042",
   "metadata": {},
   "source": [
    "### Healthy 16"
   ]
  },
  {
   "cell_type": "code",
   "execution_count": 69,
   "id": "8474066a",
   "metadata": {},
   "outputs": [
    {
     "name": "stdout",
     "output_type": "stream",
     "text": [
      "156/156 [==============================] - 5s 34ms/step\n",
      "Number of predictions over 0.5: 247\n",
      "Number of total images:  4965\n"
     ]
    }
   ],
   "source": [
    "# Assuming 'model' contains the loaded model and 'images_patient_1' contains the preprocessed images\n",
    "import numpy as np\n",
    "\n",
    "# Convert the list of images to a numpy array\n",
    "images_array = np.array(images_healthy_16)\n",
    "\n",
    "# Make predictions on the images\n",
    "predictions = model.predict(images_array)\n",
    "\n",
    "# Filter predictions with values over 0.5\n",
    "threshold = 0.5\n",
    "predicted_labels_over_threshold = np.where(predictions > threshold)[0]\n",
    "\n",
    "# Count the number of predictions over the threshold\n",
    "num_predictions_over_threshold = len(predicted_labels_over_threshold)\n",
    "\n",
    "# Print the length of predicted labels over 0.5\n",
    "print(\"Number of predictions over 0.5:\", num_predictions_over_threshold)\n",
    "print(\"Number of total images: \",len(images_healthy_16))"
   ]
  },
  {
   "cell_type": "markdown",
   "id": "29680c00",
   "metadata": {},
   "source": [
    "### Healthy 17"
   ]
  },
  {
   "cell_type": "code",
   "execution_count": 70,
   "id": "0cec2637",
   "metadata": {},
   "outputs": [
    {
     "name": "stdout",
     "output_type": "stream",
     "text": [
      "209/209 [==============================] - 7s 35ms/step\n",
      "Number of predictions over 0.5: 459\n",
      "Number of total images:  6671\n"
     ]
    }
   ],
   "source": [
    "# Assuming 'model' contains the loaded model and 'images_patient_1' contains the preprocessed images\n",
    "import numpy as np\n",
    "\n",
    "# Convert the list of images to a numpy array\n",
    "images_array = np.array(images_healthy_17)\n",
    "\n",
    "# Make predictions on the images\n",
    "predictions = model.predict(images_array)\n",
    "\n",
    "# Filter predictions with values over 0.5\n",
    "threshold = 0.5\n",
    "predicted_labels_over_threshold = np.where(predictions > threshold)[0]\n",
    "\n",
    "# Count the number of predictions over the threshold\n",
    "num_predictions_over_threshold = len(predicted_labels_over_threshold)\n",
    "\n",
    "# Print the length of predicted labels over 0.5\n",
    "print(\"Number of predictions over 0.5:\", num_predictions_over_threshold)\n",
    "print(\"Number of total images: \",len(images_healthy_17))"
   ]
  },
  {
   "cell_type": "markdown",
   "id": "464529a3",
   "metadata": {},
   "source": [
    "### Healthy 18"
   ]
  },
  {
   "cell_type": "code",
   "execution_count": 71,
   "id": "64e4d07c",
   "metadata": {},
   "outputs": [
    {
     "name": "stdout",
     "output_type": "stream",
     "text": [
      "288/288 [==============================] - 12s 40ms/step\n",
      "Number of predictions over 0.5: 617\n",
      "Number of total images:  9216\n"
     ]
    }
   ],
   "source": [
    "# Assuming 'model' contains the loaded model and 'images_patient_1' contains the preprocessed images\n",
    "import numpy as np\n",
    "\n",
    "# Convert the list of images to a numpy array\n",
    "images_array = np.array(images_healthy_18)\n",
    "\n",
    "# Make predictions on the images\n",
    "predictions = model.predict(images_array)\n",
    "\n",
    "# Filter predictions with values over 0.5\n",
    "threshold = 0.5\n",
    "predicted_labels_over_threshold = np.where(predictions > threshold)[0]\n",
    "\n",
    "# Count the number of predictions over the threshold\n",
    "num_predictions_over_threshold = len(predicted_labels_over_threshold)\n",
    "\n",
    "# Print the length of predicted labels over 0.5\n",
    "print(\"Number of predictions over 0.5:\", num_predictions_over_threshold)\n",
    "print(\"Number of total images: \",len(images_healthy_18))"
   ]
  },
  {
   "cell_type": "markdown",
   "id": "12c6d457",
   "metadata": {},
   "source": [
    "### Healthy 19"
   ]
  },
  {
   "cell_type": "code",
   "execution_count": 72,
   "id": "43e79d53",
   "metadata": {
    "scrolled": true
   },
   "outputs": [
    {
     "name": "stdout",
     "output_type": "stream",
     "text": [
      "452/452 [==============================] - 17s 37ms/step\n",
      "Number of predictions over 0.5: 2165\n",
      "Number of total images:  14460\n"
     ]
    }
   ],
   "source": [
    "# Assuming 'model' contains the loaded model and 'images_patient_1' contains the preprocessed images\n",
    "import numpy as np\n",
    "\n",
    "# Convert the list of images to a numpy array\n",
    "images_array = np.array(images_healthy_19)\n",
    "\n",
    "# Make predictions on the images\n",
    "predictions = model.predict(images_array)\n",
    "\n",
    "# Filter predictions with values over 0.5\n",
    "threshold = 0.5\n",
    "predicted_labels_over_threshold = np.where(predictions > threshold)[0]\n",
    "\n",
    "# Count the number of predictions over the threshold\n",
    "num_predictions_over_threshold = len(predicted_labels_over_threshold)\n",
    "\n",
    "# Print the length of predicted labels over 0.5\n",
    "print(\"Number of predictions over 0.5:\", num_predictions_over_threshold)\n",
    "print(\"Number of total images: \",len(images_healthy_19))"
   ]
  },
  {
   "cell_type": "markdown",
   "id": "494368d0",
   "metadata": {},
   "source": [
    "### Healthy 20"
   ]
  },
  {
   "cell_type": "code",
   "execution_count": 73,
   "id": "5fba0346",
   "metadata": {
    "scrolled": false
   },
   "outputs": [
    {
     "name": "stdout",
     "output_type": "stream",
     "text": [
      "466/466 [==============================] - 17s 37ms/step\n",
      "Number of predictions over 0.5: 2148\n",
      "Number of total images:  14893\n"
     ]
    }
   ],
   "source": [
    "# Assuming 'model' contains the loaded model and 'images_patient_1' contains the preprocessed images\n",
    "import numpy as np\n",
    "\n",
    "# Convert the list of images to a numpy array\n",
    "images_array = np.array(images_healthy_20)\n",
    "\n",
    "# Make predictions on the images\n",
    "predictions = model.predict(images_array)\n",
    "\n",
    "# Filter predictions with values over 0.5\n",
    "threshold = 0.5\n",
    "predicted_labels_over_threshold = np.where(predictions > threshold)[0]\n",
    "\n",
    "# Count the number of predictions over the threshold\n",
    "num_predictions_over_threshold = len(predicted_labels_over_threshold)\n",
    "\n",
    "# Print the length of predicted labels over 0.5\n",
    "print(\"Number of predictions over 0.5:\", num_predictions_over_threshold)\n",
    "print(\"Number of total images: \",len(images_healthy_20))"
   ]
  },
  {
   "cell_type": "code",
   "execution_count": null,
   "id": "71ead6cf",
   "metadata": {},
   "outputs": [],
   "source": []
  },
  {
   "cell_type": "markdown",
   "id": "00979d07",
   "metadata": {},
   "source": [
    "#  Model Generic PATIENTS 2"
   ]
  },
  {
   "cell_type": "code",
   "execution_count": 74,
   "id": "9f88f8bd",
   "metadata": {},
   "outputs": [],
   "source": [
    "from tensorflow.keras.models import load_model\n",
    "\n",
    "# Load the saved model\n",
    "model = load_model('generic_model_ARGvshealthy_and_patient_synthetic_2.h5')\n",
    "\n",
    "# Now you can use this 'model' object for predictions or further training.\n"
   ]
  },
  {
   "cell_type": "markdown",
   "id": "f81e8a69",
   "metadata": {},
   "source": [
    "## PATIENTS"
   ]
  },
  {
   "cell_type": "markdown",
   "id": "e290a193",
   "metadata": {},
   "source": [
    "### Patient 1"
   ]
  },
  {
   "cell_type": "code",
   "execution_count": 75,
   "id": "a6431fe5",
   "metadata": {},
   "outputs": [
    {
     "name": "stdout",
     "output_type": "stream",
     "text": [
      "344/344 [==============================] - 12s 34ms/step\n",
      "Number of predictions over 0.5: 1417\n",
      "Number of total images:  10981\n"
     ]
    }
   ],
   "source": [
    "# Assuming 'model' contains the loaded model and 'images_patient_1' contains the preprocessed images\n",
    "import numpy as np\n",
    "\n",
    "# Convert the list of images to a numpy array\n",
    "images_array = np.array(images_patient_1)\n",
    "\n",
    "# Make predictions on the images\n",
    "predictions = model.predict(images_array)\n",
    "\n",
    "# Filter predictions with values over 0.5\n",
    "threshold = 0.5\n",
    "predicted_labels_over_threshold = np.where(predictions > threshold)[0]\n",
    "\n",
    "# Count the number of predictions over the threshold\n",
    "num_predictions_over_threshold = len(predicted_labels_over_threshold)\n",
    "\n",
    "# Print the length of predicted labels over 0.5\n",
    "print(\"Number of predictions over 0.5:\", num_predictions_over_threshold)\n",
    "print(\"Number of total images: \",len(images_patient_1))\n"
   ]
  },
  {
   "cell_type": "markdown",
   "id": "eda9232e",
   "metadata": {},
   "source": [
    "### Patient 2"
   ]
  },
  {
   "cell_type": "code",
   "execution_count": 76,
   "id": "13aa29b0",
   "metadata": {},
   "outputs": [
    {
     "name": "stdout",
     "output_type": "stream",
     "text": [
      "469/469 [==============================] - 16s 34ms/step\n",
      "Number of predictions over 0.5: 5341\n",
      "Number of total images:  15000\n"
     ]
    }
   ],
   "source": [
    "# Assuming 'model' contains the loaded model and 'images_patient_1' contains the preprocessed images\n",
    "import numpy as np\n",
    "\n",
    "# Convert the list of images to a numpy array\n",
    "images_array = np.array(images_patient_2)\n",
    "\n",
    "# Make predictions on the images\n",
    "predictions = model.predict(images_array)\n",
    "\n",
    "# Filter predictions with values over 0.5\n",
    "threshold = 0.5\n",
    "predicted_labels_over_threshold = np.where(predictions > threshold)[0]\n",
    "\n",
    "# Count the number of predictions over the threshold\n",
    "num_predictions_over_threshold = len(predicted_labels_over_threshold)\n",
    "\n",
    "# Print the length of predicted labels over 0.5\n",
    "print(\"Number of predictions over 0.5:\", num_predictions_over_threshold)\n",
    "print(\"Number of total images: \",len(images_patient_2))\n"
   ]
  },
  {
   "cell_type": "markdown",
   "id": "bee10c3f",
   "metadata": {},
   "source": [
    "### Patient 4"
   ]
  },
  {
   "cell_type": "code",
   "execution_count": 77,
   "id": "cf2b77bb",
   "metadata": {},
   "outputs": [
    {
     "name": "stdout",
     "output_type": "stream",
     "text": [
      "287/287 [==============================] - 9s 32ms/step\n",
      "Number of predictions over 0.5: 2150\n",
      "Number of total images:  9172\n"
     ]
    }
   ],
   "source": [
    "# Assuming 'model' contains the loaded model and 'images_patient_1' contains the preprocessed images\n",
    "import numpy as np\n",
    "\n",
    "# Convert the list of images to a numpy array\n",
    "images_array = np.array(images_patient_4)\n",
    "\n",
    "# Make predictions on the images\n",
    "predictions = model.predict(images_array)\n",
    "\n",
    "# Filter predictions with values over 0.5\n",
    "threshold = 0.5\n",
    "predicted_labels_over_threshold = np.where(predictions > threshold)[0]\n",
    "\n",
    "# Count the number of predictions over the threshold\n",
    "num_predictions_over_threshold = len(predicted_labels_over_threshold)\n",
    "\n",
    "# Print the length of predicted labels over 0.5\n",
    "print(\"Number of predictions over 0.5:\", num_predictions_over_threshold)\n",
    "print(\"Number of total images: \",len(images_patient_4))\n"
   ]
  },
  {
   "cell_type": "markdown",
   "id": "2ec6a0b1",
   "metadata": {},
   "source": [
    "### Patient 5"
   ]
  },
  {
   "cell_type": "code",
   "execution_count": 78,
   "id": "f2bcd2b4",
   "metadata": {},
   "outputs": [
    {
     "name": "stdout",
     "output_type": "stream",
     "text": [
      "469/469 [==============================] - 17s 35ms/step\n",
      "Number of predictions over 0.5: 3839\n",
      "Number of total images:  15000\n"
     ]
    }
   ],
   "source": [
    "# Assuming 'model' contains the loaded model and 'images_patient_1' contains the preprocessed images\n",
    "import numpy as np\n",
    "\n",
    "# Convert the list of images to a numpy array\n",
    "images_array = np.array(images_patient_5)\n",
    "\n",
    "# Make predictions on the images\n",
    "predictions = model.predict(images_array)\n",
    "\n",
    "# Filter predictions with values over 0.5\n",
    "threshold = 0.5\n",
    "predicted_labels_over_threshold = np.where(predictions > threshold)[0]\n",
    "\n",
    "# Count the number of predictions over the threshold\n",
    "num_predictions_over_threshold = len(predicted_labels_over_threshold)\n",
    "\n",
    "# Print the length of predicted labels over 0.5\n",
    "print(\"Number of predictions over 0.5:\", num_predictions_over_threshold)\n",
    "print(\"Number of total images: \",len(images_patient_5))\n"
   ]
  },
  {
   "cell_type": "markdown",
   "id": "1af1b706",
   "metadata": {},
   "source": [
    "### Patient 6"
   ]
  },
  {
   "cell_type": "code",
   "execution_count": 79,
   "id": "230e1ff1",
   "metadata": {},
   "outputs": [
    {
     "name": "stdout",
     "output_type": "stream",
     "text": [
      "321/321 [==============================] - 11s 33ms/step\n",
      "Number of predictions over 0.5: 1030\n",
      "Number of total images:  10267\n"
     ]
    }
   ],
   "source": [
    "# Assuming 'model' contains the loaded model and 'images_patient_1' contains the preprocessed images\n",
    "import numpy as np\n",
    "\n",
    "# Convert the list of images to a numpy array\n",
    "images_array = np.array(images_patient_6)\n",
    "\n",
    "# Make predictions on the images\n",
    "predictions = model.predict(images_array)\n",
    "\n",
    "# Filter predictions with values over 0.5\n",
    "threshold = 0.5\n",
    "predicted_labels_over_threshold = np.where(predictions > threshold)[0]\n",
    "\n",
    "# Count the number of predictions over the threshold\n",
    "num_predictions_over_threshold = len(predicted_labels_over_threshold)\n",
    "\n",
    "# Print the length of predicted labels over 0.5\n",
    "print(\"Number of predictions over 0.5:\", num_predictions_over_threshold)\n",
    "print(\"Number of total images: \",len(images_patient_6))\n"
   ]
  },
  {
   "cell_type": "markdown",
   "id": "f2608096",
   "metadata": {},
   "source": [
    "### Patient 11"
   ]
  },
  {
   "cell_type": "code",
   "execution_count": 80,
   "id": "59c6919a",
   "metadata": {},
   "outputs": [
    {
     "name": "stdout",
     "output_type": "stream",
     "text": [
      "314/314 [==============================] - 10s 33ms/step\n",
      "Number of predictions over 0.5: 2462\n",
      "Number of total images:  10022\n"
     ]
    }
   ],
   "source": [
    "# Assuming 'model' contains the loaded model and 'images_patient_1' contains the preprocessed images\n",
    "import numpy as np\n",
    "\n",
    "# Convert the list of images to a numpy array\n",
    "images_array = np.array(images_patient_11)\n",
    "\n",
    "# Make predictions on the images\n",
    "predictions = model.predict(images_array)\n",
    "\n",
    "# Filter predictions with values over 0.5\n",
    "threshold = 0.5\n",
    "predicted_labels_over_threshold = np.where(predictions > threshold)[0]\n",
    "\n",
    "# Count the number of predictions over the threshold\n",
    "num_predictions_over_threshold = len(predicted_labels_over_threshold)\n",
    "\n",
    "# Print the length of predicted labels over 0.5\n",
    "print(\"Number of predictions over 0.5:\", num_predictions_over_threshold)\n",
    "print(\"Number of total images: \",len(images_patient_11))\n"
   ]
  },
  {
   "cell_type": "markdown",
   "id": "704b82cb",
   "metadata": {},
   "source": [
    "### Patient 12"
   ]
  },
  {
   "cell_type": "code",
   "execution_count": 81,
   "id": "eb9d38f4",
   "metadata": {},
   "outputs": [
    {
     "name": "stdout",
     "output_type": "stream",
     "text": [
      "264/264 [==============================] - 9s 36ms/step\n",
      "Number of predictions over 0.5: 2395\n",
      "Number of total images:  8445\n"
     ]
    }
   ],
   "source": [
    "# Assuming 'model' contains the loaded model and 'images_patient_1' contains the preprocessed images\n",
    "import numpy as np\n",
    "\n",
    "# Convert the list of images to a numpy array\n",
    "images_array = np.array(images_patient_12)\n",
    "\n",
    "# Make predictions on the images\n",
    "predictions = model.predict(images_array)\n",
    "\n",
    "# Filter predictions with values over 0.5\n",
    "threshold = 0.5\n",
    "predicted_labels_over_threshold = np.where(predictions > threshold)[0]\n",
    "\n",
    "# Count the number of predictions over the threshold\n",
    "num_predictions_over_threshold = len(predicted_labels_over_threshold)\n",
    "\n",
    "# Print the length of predicted labels over 0.5\n",
    "print(\"Number of predictions over 0.5:\", num_predictions_over_threshold)\n",
    "print(\"Number of total images: \",len(images_patient_12))\n"
   ]
  },
  {
   "cell_type": "markdown",
   "id": "7ea580a7",
   "metadata": {},
   "source": [
    "### Patient 13"
   ]
  },
  {
   "cell_type": "code",
   "execution_count": 82,
   "id": "5f029d4d",
   "metadata": {},
   "outputs": [
    {
     "name": "stdout",
     "output_type": "stream",
     "text": [
      "377/377 [==============================] - 14s 38ms/step\n",
      "Number of predictions over 0.5: 2897\n",
      "Number of total images:  12053\n"
     ]
    }
   ],
   "source": [
    "# Assuming 'model' contains the loaded model and 'images_patient_1' contains the preprocessed images\n",
    "import numpy as np\n",
    "\n",
    "# Convert the list of images to a numpy array\n",
    "images_array = np.array(images_patient_13)\n",
    "\n",
    "# Make predictions on the images\n",
    "predictions = model.predict(images_array)\n",
    "\n",
    "# Filter predictions with values over 0.5\n",
    "threshold = 0.5\n",
    "predicted_labels_over_threshold = np.where(predictions > threshold)[0]\n",
    "\n",
    "# Count the number of predictions over the threshold\n",
    "num_predictions_over_threshold = len(predicted_labels_over_threshold)\n",
    "\n",
    "# Print the length of predicted labels over 0.5\n",
    "print(\"Number of predictions over 0.5:\", num_predictions_over_threshold)\n",
    "print(\"Number of total images: \",len(images_patient_13))\n"
   ]
  },
  {
   "cell_type": "markdown",
   "id": "be539dd8",
   "metadata": {},
   "source": [
    "### Patient 14"
   ]
  },
  {
   "cell_type": "code",
   "execution_count": 83,
   "id": "2568bd08",
   "metadata": {},
   "outputs": [
    {
     "name": "stdout",
     "output_type": "stream",
     "text": [
      "511/511 [==============================] - 19s 38ms/step\n",
      "Number of predictions over 0.5: 4123\n",
      "Number of total images:  16327\n"
     ]
    }
   ],
   "source": [
    "# Assuming 'model' contains the loaded model and 'images_patient_1' contains the preprocessed images\n",
    "import numpy as np\n",
    "\n",
    "# Convert the list of images to a numpy array\n",
    "images_array = np.array(images_patient_14)\n",
    "\n",
    "# Make predictions on the images\n",
    "predictions = model.predict(images_array)\n",
    "\n",
    "# Filter predictions with values over 0.5\n",
    "threshold = 0.5\n",
    "predicted_labels_over_threshold = np.where(predictions > threshold)[0]\n",
    "\n",
    "# Count the number of predictions over the threshold\n",
    "num_predictions_over_threshold = len(predicted_labels_over_threshold)\n",
    "\n",
    "# Print the length of predicted labels over 0.5\n",
    "print(\"Number of predictions over 0.5:\", num_predictions_over_threshold)\n",
    "print(\"Number of total images: \",len(images_patient_14))\n"
   ]
  },
  {
   "cell_type": "code",
   "execution_count": null,
   "id": "b14a44cb",
   "metadata": {},
   "outputs": [],
   "source": []
  },
  {
   "cell_type": "markdown",
   "id": "23ab8141",
   "metadata": {},
   "source": [
    "### Patient 15"
   ]
  },
  {
   "cell_type": "code",
   "execution_count": 84,
   "id": "40cd493a",
   "metadata": {},
   "outputs": [
    {
     "name": "stdout",
     "output_type": "stream",
     "text": [
      "422/422 [==============================] - 15s 34ms/step\n",
      "Number of predictions over 0.5: 3965\n",
      "Number of total images:  13487\n"
     ]
    }
   ],
   "source": [
    "# Assuming 'model' contains the loaded model and 'images_patient_1' contains the preprocessed images\n",
    "import numpy as np\n",
    "\n",
    "# Convert the list of images to a numpy array\n",
    "images_array = np.array(images_patient_15)\n",
    "\n",
    "# Make predictions on the images\n",
    "predictions = model.predict(images_array)\n",
    "\n",
    "# Filter predictions with values over 0.5\n",
    "threshold = 0.5\n",
    "predicted_labels_over_threshold = np.where(predictions > threshold)[0]\n",
    "\n",
    "# Count the number of predictions over the threshold\n",
    "num_predictions_over_threshold = len(predicted_labels_over_threshold)\n",
    "\n",
    "# Print the length of predicted labels over 0.5\n",
    "print(\"Number of predictions over 0.5:\", num_predictions_over_threshold)\n",
    "print(\"Number of total images: \",len(images_patient_15))\n"
   ]
  },
  {
   "cell_type": "markdown",
   "id": "e413c143",
   "metadata": {},
   "source": [
    "## HEALTHIES"
   ]
  },
  {
   "cell_type": "markdown",
   "id": "56a63276",
   "metadata": {},
   "source": [
    "### Healthy 11"
   ]
  },
  {
   "cell_type": "code",
   "execution_count": 85,
   "id": "7eaae6aa",
   "metadata": {},
   "outputs": [
    {
     "name": "stdout",
     "output_type": "stream",
     "text": [
      "454/454 [==============================] - 18s 40ms/step\n",
      "Number of predictions over 0.5: 4692\n",
      "Number of total images:  14512\n"
     ]
    }
   ],
   "source": [
    "# Assuming 'model' contains the loaded model and 'images_patient_1' contains the preprocessed images\n",
    "import numpy as np\n",
    "\n",
    "# Convert the list of images to a numpy array\n",
    "images_array = np.array(images_healthy_11)\n",
    "\n",
    "# Make predictions on the images\n",
    "predictions = model.predict(images_array)\n",
    "\n",
    "# Filter predictions with values over 0.5\n",
    "threshold = 0.5\n",
    "predicted_labels_over_threshold = np.where(predictions > threshold)[0]\n",
    "\n",
    "# Count the number of predictions over the threshold\n",
    "num_predictions_over_threshold = len(predicted_labels_over_threshold)\n",
    "\n",
    "# Print the length of predicted labels over 0.5\n",
    "print(\"Number of predictions over 0.5:\", num_predictions_over_threshold)\n",
    "print(\"Number of total images: \",len(images_healthy_11))"
   ]
  },
  {
   "cell_type": "markdown",
   "id": "5eb31715",
   "metadata": {},
   "source": [
    "### Healthy 12"
   ]
  },
  {
   "cell_type": "code",
   "execution_count": 86,
   "id": "17709fc0",
   "metadata": {},
   "outputs": [
    {
     "name": "stdout",
     "output_type": "stream",
     "text": [
      "224/224 [==============================] - 8s 34ms/step\n",
      "Number of predictions over 0.5: 1083\n",
      "Number of total images:  7162\n"
     ]
    }
   ],
   "source": [
    "# Assuming 'model' contains the loaded model and 'images_patient_1' contains the preprocessed images\n",
    "import numpy as np\n",
    "\n",
    "# Convert the list of images to a numpy array\n",
    "images_array = np.array(images_healthy_12)\n",
    "\n",
    "# Make predictions on the images\n",
    "predictions = model.predict(images_array)\n",
    "\n",
    "# Filter predictions with values over 0.5\n",
    "threshold = 0.5\n",
    "predicted_labels_over_threshold = np.where(predictions > threshold)[0]\n",
    "\n",
    "# Count the number of predictions over the threshold\n",
    "num_predictions_over_threshold = len(predicted_labels_over_threshold)\n",
    "\n",
    "# Print the length of predicted labels over 0.5\n",
    "print(\"Number of predictions over 0.5:\", num_predictions_over_threshold)\n",
    "print(\"Number of total images: \",len(images_healthy_12))"
   ]
  },
  {
   "cell_type": "markdown",
   "id": "3279e59c",
   "metadata": {},
   "source": [
    "### Healthy 13"
   ]
  },
  {
   "cell_type": "code",
   "execution_count": 87,
   "id": "34d682e9",
   "metadata": {},
   "outputs": [
    {
     "name": "stdout",
     "output_type": "stream",
     "text": [
      "384/384 [==============================] - 15s 39ms/step\n",
      "Number of predictions over 0.5: 3639\n",
      "Number of total images:  12271\n"
     ]
    }
   ],
   "source": [
    "# Assuming 'model' contains the loaded model and 'images_patient_1' contains the preprocessed images\n",
    "import numpy as np\n",
    "\n",
    "# Convert the list of images to a numpy array\n",
    "images_array = np.array(images_healthy_13)\n",
    "\n",
    "# Make predictions on the images\n",
    "predictions = model.predict(images_array)\n",
    "\n",
    "# Filter predictions with values over 0.5\n",
    "threshold = 0.5\n",
    "predicted_labels_over_threshold = np.where(predictions > threshold)[0]\n",
    "\n",
    "# Count the number of predictions over the threshold\n",
    "num_predictions_over_threshold = len(predicted_labels_over_threshold)\n",
    "\n",
    "# Print the length of predicted labels over 0.5\n",
    "print(\"Number of predictions over 0.5:\", num_predictions_over_threshold)\n",
    "print(\"Number of total images: \",len(images_healthy_13))"
   ]
  },
  {
   "cell_type": "markdown",
   "id": "bd9ad081",
   "metadata": {},
   "source": [
    "### Healthy 14"
   ]
  },
  {
   "cell_type": "code",
   "execution_count": 88,
   "id": "bbdcd4bb",
   "metadata": {},
   "outputs": [
    {
     "name": "stdout",
     "output_type": "stream",
     "text": [
      "342/342 [==============================] - 12s 35ms/step\n",
      "Number of predictions over 0.5: 2200\n",
      "Number of total images:  10941\n"
     ]
    }
   ],
   "source": [
    "# Assuming 'model' contains the loaded model and 'images_patient_1' contains the preprocessed images\n",
    "import numpy as np\n",
    "\n",
    "# Convert the list of images to a numpy array\n",
    "images_array = np.array(images_healthy_14)\n",
    "\n",
    "# Make predictions on the images\n",
    "predictions = model.predict(images_array)\n",
    "\n",
    "# Filter predictions with values over 0.5\n",
    "threshold = 0.5\n",
    "predicted_labels_over_threshold = np.where(predictions > threshold)[0]\n",
    "\n",
    "# Count the number of predictions over the threshold\n",
    "num_predictions_over_threshold = len(predicted_labels_over_threshold)\n",
    "\n",
    "# Print the length of predicted labels over 0.5\n",
    "print(\"Number of predictions over 0.5:\", num_predictions_over_threshold)\n",
    "print(\"Number of total images: \",len(images_healthy_14))"
   ]
  },
  {
   "cell_type": "markdown",
   "id": "684d3dc4",
   "metadata": {},
   "source": [
    "### Healthy 15"
   ]
  },
  {
   "cell_type": "code",
   "execution_count": 89,
   "id": "a1e3f16f",
   "metadata": {},
   "outputs": [
    {
     "name": "stdout",
     "output_type": "stream",
     "text": [
      "336/336 [==============================] - 13s 39ms/step\n",
      "Number of predictions over 0.5: 2781\n",
      "Number of total images:  10741\n"
     ]
    }
   ],
   "source": [
    "# Assuming 'model' contains the loaded model and 'images_patient_1' contains the preprocessed images\n",
    "import numpy as np\n",
    "\n",
    "# Convert the list of images to a numpy array\n",
    "images_array = np.array(images_healthy_15)\n",
    "\n",
    "# Make predictions on the images\n",
    "predictions = model.predict(images_array)\n",
    "\n",
    "# Filter predictions with values over 0.5\n",
    "threshold = 0.5\n",
    "predicted_labels_over_threshold = np.where(predictions > threshold)[0]\n",
    "\n",
    "# Count the number of predictions over the threshold\n",
    "num_predictions_over_threshold = len(predicted_labels_over_threshold)\n",
    "\n",
    "# Print the length of predicted labels over 0.5\n",
    "print(\"Number of predictions over 0.5:\", num_predictions_over_threshold)\n",
    "print(\"Number of total images: \",len(images_healthy_15))"
   ]
  },
  {
   "cell_type": "markdown",
   "id": "24f05359",
   "metadata": {},
   "source": [
    "### Healthy 16"
   ]
  },
  {
   "cell_type": "code",
   "execution_count": 90,
   "id": "af083096",
   "metadata": {},
   "outputs": [
    {
     "name": "stdout",
     "output_type": "stream",
     "text": [
      "156/156 [==============================] - 6s 37ms/step\n",
      "Number of predictions over 0.5: 619\n",
      "Number of total images:  4965\n"
     ]
    }
   ],
   "source": [
    "# Assuming 'model' contains the loaded model and 'images_patient_1' contains the preprocessed images\n",
    "import numpy as np\n",
    "\n",
    "# Convert the list of images to a numpy array\n",
    "images_array = np.array(images_healthy_16)\n",
    "\n",
    "# Make predictions on the images\n",
    "predictions = model.predict(images_array)\n",
    "\n",
    "# Filter predictions with values over 0.5\n",
    "threshold = 0.5\n",
    "predicted_labels_over_threshold = np.where(predictions > threshold)[0]\n",
    "\n",
    "# Count the number of predictions over the threshold\n",
    "num_predictions_over_threshold = len(predicted_labels_over_threshold)\n",
    "\n",
    "# Print the length of predicted labels over 0.5\n",
    "print(\"Number of predictions over 0.5:\", num_predictions_over_threshold)\n",
    "print(\"Number of total images: \",len(images_healthy_16))"
   ]
  },
  {
   "cell_type": "markdown",
   "id": "26619d58",
   "metadata": {},
   "source": [
    "### Healthy 17"
   ]
  },
  {
   "cell_type": "code",
   "execution_count": 91,
   "id": "d597be3e",
   "metadata": {},
   "outputs": [
    {
     "name": "stdout",
     "output_type": "stream",
     "text": [
      "209/209 [==============================] - 7s 32ms/step\n",
      "Number of predictions over 0.5: 573\n",
      "Number of total images:  6671\n"
     ]
    }
   ],
   "source": [
    "# Assuming 'model' contains the loaded model and 'images_patient_1' contains the preprocessed images\n",
    "import numpy as np\n",
    "\n",
    "# Convert the list of images to a numpy array\n",
    "images_array = np.array(images_healthy_17)\n",
    "\n",
    "# Make predictions on the images\n",
    "predictions = model.predict(images_array)\n",
    "\n",
    "# Filter predictions with values over 0.5\n",
    "threshold = 0.5\n",
    "predicted_labels_over_threshold = np.where(predictions > threshold)[0]\n",
    "\n",
    "# Count the number of predictions over the threshold\n",
    "num_predictions_over_threshold = len(predicted_labels_over_threshold)\n",
    "\n",
    "# Print the length of predicted labels over 0.5\n",
    "print(\"Number of predictions over 0.5:\", num_predictions_over_threshold)\n",
    "print(\"Number of total images: \",len(images_healthy_17))"
   ]
  },
  {
   "cell_type": "markdown",
   "id": "e4e2c1bf",
   "metadata": {},
   "source": [
    "### Healthy 18"
   ]
  },
  {
   "cell_type": "code",
   "execution_count": 92,
   "id": "3a5d852c",
   "metadata": {},
   "outputs": [
    {
     "name": "stdout",
     "output_type": "stream",
     "text": [
      "288/288 [==============================] - 10s 34ms/step\n",
      "Number of predictions over 0.5: 2055\n",
      "Number of total images:  9216\n"
     ]
    }
   ],
   "source": [
    "# Assuming 'model' contains the loaded model and 'images_patient_1' contains the preprocessed images\n",
    "import numpy as np\n",
    "\n",
    "# Convert the list of images to a numpy array\n",
    "images_array = np.array(images_healthy_18)\n",
    "\n",
    "# Make predictions on the images\n",
    "predictions = model.predict(images_array)\n",
    "\n",
    "# Filter predictions with values over 0.5\n",
    "threshold = 0.5\n",
    "predicted_labels_over_threshold = np.where(predictions > threshold)[0]\n",
    "\n",
    "# Count the number of predictions over the threshold\n",
    "num_predictions_over_threshold = len(predicted_labels_over_threshold)\n",
    "\n",
    "# Print the length of predicted labels over 0.5\n",
    "print(\"Number of predictions over 0.5:\", num_predictions_over_threshold)\n",
    "print(\"Number of total images: \",len(images_healthy_18))"
   ]
  },
  {
   "cell_type": "markdown",
   "id": "31b780f7",
   "metadata": {},
   "source": [
    "### Healthy 19"
   ]
  },
  {
   "cell_type": "code",
   "execution_count": 93,
   "id": "d207096e",
   "metadata": {
    "scrolled": true
   },
   "outputs": [
    {
     "name": "stdout",
     "output_type": "stream",
     "text": [
      "452/452 [==============================] - 18s 39ms/step\n",
      "Number of predictions over 0.5: 4752\n",
      "Number of total images:  14460\n"
     ]
    }
   ],
   "source": [
    "# Assuming 'model' contains the loaded model and 'images_patient_1' contains the preprocessed images\n",
    "import numpy as np\n",
    "\n",
    "# Convert the list of images to a numpy array\n",
    "images_array = np.array(images_healthy_19)\n",
    "\n",
    "# Make predictions on the images\n",
    "predictions = model.predict(images_array)\n",
    "\n",
    "# Filter predictions with values over 0.5\n",
    "threshold = 0.5\n",
    "predicted_labels_over_threshold = np.where(predictions > threshold)[0]\n",
    "\n",
    "# Count the number of predictions over the threshold\n",
    "num_predictions_over_threshold = len(predicted_labels_over_threshold)\n",
    "\n",
    "# Print the length of predicted labels over 0.5\n",
    "print(\"Number of predictions over 0.5:\", num_predictions_over_threshold)\n",
    "print(\"Number of total images: \",len(images_healthy_19))"
   ]
  },
  {
   "cell_type": "markdown",
   "id": "5069cf8d",
   "metadata": {},
   "source": [
    "### Healthy 20"
   ]
  },
  {
   "cell_type": "code",
   "execution_count": 94,
   "id": "ba60442a",
   "metadata": {
    "scrolled": false
   },
   "outputs": [
    {
     "name": "stdout",
     "output_type": "stream",
     "text": [
      "466/466 [==============================] - 17s 35ms/step\n",
      "Number of predictions over 0.5: 4852\n",
      "Number of total images:  14893\n"
     ]
    }
   ],
   "source": [
    "# Assuming 'model' contains the loaded model and 'images_patient_1' contains the preprocessed images\n",
    "import numpy as np\n",
    "\n",
    "# Convert the list of images to a numpy array\n",
    "images_array = np.array(images_healthy_20)\n",
    "\n",
    "# Make predictions on the images\n",
    "predictions = model.predict(images_array)\n",
    "\n",
    "# Filter predictions with values over 0.5\n",
    "threshold = 0.5\n",
    "predicted_labels_over_threshold = np.where(predictions > threshold)[0]\n",
    "\n",
    "# Count the number of predictions over the threshold\n",
    "num_predictions_over_threshold = len(predicted_labels_over_threshold)\n",
    "\n",
    "# Print the length of predicted labels over 0.5\n",
    "print(\"Number of predictions over 0.5:\", num_predictions_over_threshold)\n",
    "print(\"Number of total images: \",len(images_healthy_20))"
   ]
  },
  {
   "cell_type": "code",
   "execution_count": null,
   "id": "388f2ab8",
   "metadata": {},
   "outputs": [],
   "source": []
  },
  {
   "cell_type": "markdown",
   "id": "dd2448e6",
   "metadata": {},
   "source": [
    "#  Model Generic PATIENT 3"
   ]
  },
  {
   "cell_type": "code",
   "execution_count": 95,
   "id": "51c72ab3",
   "metadata": {},
   "outputs": [],
   "source": [
    "from tensorflow.keras.models import load_model\n",
    "\n",
    "# Load the saved model\n",
    "model = load_model('generic_model_ARGvshealthy_and_patient_synthetic_3.h5')\n",
    "\n",
    "# Now you can use this 'model' object for predictions or further training.\n"
   ]
  },
  {
   "cell_type": "markdown",
   "id": "12f74b39",
   "metadata": {},
   "source": [
    "## PATIENTS"
   ]
  },
  {
   "cell_type": "markdown",
   "id": "c5bb1543",
   "metadata": {},
   "source": [
    "### Patient 1"
   ]
  },
  {
   "cell_type": "code",
   "execution_count": 96,
   "id": "0a7800df",
   "metadata": {},
   "outputs": [
    {
     "name": "stdout",
     "output_type": "stream",
     "text": [
      "344/344 [==============================] - 12s 33ms/step\n",
      "Number of predictions over 0.5: 1988\n",
      "Number of total images:  10981\n"
     ]
    }
   ],
   "source": [
    "# Assuming 'model' contains the loaded model and 'images_patient_1' contains the preprocessed images\n",
    "import numpy as np\n",
    "\n",
    "# Convert the list of images to a numpy array\n",
    "images_array = np.array(images_patient_1)\n",
    "\n",
    "# Make predictions on the images\n",
    "predictions = model.predict(images_array)\n",
    "\n",
    "# Filter predictions with values over 0.5\n",
    "threshold = 0.5\n",
    "predicted_labels_over_threshold = np.where(predictions > threshold)[0]\n",
    "\n",
    "# Count the number of predictions over the threshold\n",
    "num_predictions_over_threshold = len(predicted_labels_over_threshold)\n",
    "\n",
    "# Print the length of predicted labels over 0.5\n",
    "print(\"Number of predictions over 0.5:\", num_predictions_over_threshold)\n",
    "print(\"Number of total images: \",len(images_patient_1))\n"
   ]
  },
  {
   "cell_type": "markdown",
   "id": "01c77b6a",
   "metadata": {},
   "source": [
    "### Patient 2"
   ]
  },
  {
   "cell_type": "code",
   "execution_count": 97,
   "id": "e073fc86",
   "metadata": {},
   "outputs": [
    {
     "name": "stdout",
     "output_type": "stream",
     "text": [
      "469/469 [==============================] - 16s 34ms/step\n",
      "Number of predictions over 0.5: 1520\n",
      "Number of total images:  15000\n"
     ]
    }
   ],
   "source": [
    "# Assuming 'model' contains the loaded model and 'images_patient_1' contains the preprocessed images\n",
    "import numpy as np\n",
    "\n",
    "# Convert the list of images to a numpy array\n",
    "images_array = np.array(images_patient_2)\n",
    "\n",
    "# Make predictions on the images\n",
    "predictions = model.predict(images_array)\n",
    "\n",
    "# Filter predictions with values over 0.5\n",
    "threshold = 0.5\n",
    "predicted_labels_over_threshold = np.where(predictions > threshold)[0]\n",
    "\n",
    "# Count the number of predictions over the threshold\n",
    "num_predictions_over_threshold = len(predicted_labels_over_threshold)\n",
    "\n",
    "# Print the length of predicted labels over 0.5\n",
    "print(\"Number of predictions over 0.5:\", num_predictions_over_threshold)\n",
    "print(\"Number of total images: \",len(images_patient_2))\n"
   ]
  },
  {
   "cell_type": "markdown",
   "id": "c10ff68c",
   "metadata": {},
   "source": [
    "### Patient 4"
   ]
  },
  {
   "cell_type": "code",
   "execution_count": 98,
   "id": "f907fa7a",
   "metadata": {},
   "outputs": [
    {
     "name": "stdout",
     "output_type": "stream",
     "text": [
      "287/287 [==============================] - 10s 34ms/step\n",
      "Number of predictions over 0.5: 1849\n",
      "Number of total images:  9172\n"
     ]
    }
   ],
   "source": [
    "# Assuming 'model' contains the loaded model and 'images_patient_1' contains the preprocessed images\n",
    "import numpy as np\n",
    "\n",
    "# Convert the list of images to a numpy array\n",
    "images_array = np.array(images_patient_4)\n",
    "\n",
    "# Make predictions on the images\n",
    "predictions = model.predict(images_array)\n",
    "\n",
    "# Filter predictions with values over 0.5\n",
    "threshold = 0.5\n",
    "predicted_labels_over_threshold = np.where(predictions > threshold)[0]\n",
    "\n",
    "# Count the number of predictions over the threshold\n",
    "num_predictions_over_threshold = len(predicted_labels_over_threshold)\n",
    "\n",
    "# Print the length of predicted labels over 0.5\n",
    "print(\"Number of predictions over 0.5:\", num_predictions_over_threshold)\n",
    "print(\"Number of total images: \",len(images_patient_4))\n"
   ]
  },
  {
   "cell_type": "markdown",
   "id": "8bfa8ef4",
   "metadata": {},
   "source": [
    "### Patient 5"
   ]
  },
  {
   "cell_type": "code",
   "execution_count": 99,
   "id": "750b7efd",
   "metadata": {},
   "outputs": [
    {
     "name": "stdout",
     "output_type": "stream",
     "text": [
      "469/469 [==============================] - 17s 37ms/step\n",
      "Number of predictions over 0.5: 2504\n",
      "Number of total images:  15000\n"
     ]
    }
   ],
   "source": [
    "# Assuming 'model' contains the loaded model and 'images_patient_1' contains the preprocessed images\n",
    "import numpy as np\n",
    "\n",
    "# Convert the list of images to a numpy array\n",
    "images_array = np.array(images_patient_5)\n",
    "\n",
    "# Make predictions on the images\n",
    "predictions = model.predict(images_array)\n",
    "\n",
    "# Filter predictions with values over 0.5\n",
    "threshold = 0.5\n",
    "predicted_labels_over_threshold = np.where(predictions > threshold)[0]\n",
    "\n",
    "# Count the number of predictions over the threshold\n",
    "num_predictions_over_threshold = len(predicted_labels_over_threshold)\n",
    "\n",
    "# Print the length of predicted labels over 0.5\n",
    "print(\"Number of predictions over 0.5:\", num_predictions_over_threshold)\n",
    "print(\"Number of total images: \",len(images_patient_5))\n"
   ]
  },
  {
   "cell_type": "markdown",
   "id": "27f53c74",
   "metadata": {},
   "source": [
    "### Patient 6"
   ]
  },
  {
   "cell_type": "code",
   "execution_count": 100,
   "id": "cc5025dd",
   "metadata": {},
   "outputs": [
    {
     "name": "stdout",
     "output_type": "stream",
     "text": [
      "321/321 [==============================] - 11s 34ms/step\n",
      "Number of predictions over 0.5: 610\n",
      "Number of total images:  10267\n"
     ]
    }
   ],
   "source": [
    "# Assuming 'model' contains the loaded model and 'images_patient_1' contains the preprocessed images\n",
    "import numpy as np\n",
    "\n",
    "# Convert the list of images to a numpy array\n",
    "images_array = np.array(images_patient_6)\n",
    "\n",
    "# Make predictions on the images\n",
    "predictions = model.predict(images_array)\n",
    "\n",
    "# Filter predictions with values over 0.5\n",
    "threshold = 0.5\n",
    "predicted_labels_over_threshold = np.where(predictions > threshold)[0]\n",
    "\n",
    "# Count the number of predictions over the threshold\n",
    "num_predictions_over_threshold = len(predicted_labels_over_threshold)\n",
    "\n",
    "# Print the length of predicted labels over 0.5\n",
    "print(\"Number of predictions over 0.5:\", num_predictions_over_threshold)\n",
    "print(\"Number of total images: \",len(images_patient_6))\n"
   ]
  },
  {
   "cell_type": "markdown",
   "id": "4dd93b98",
   "metadata": {},
   "source": [
    "### Patient 11"
   ]
  },
  {
   "cell_type": "code",
   "execution_count": 101,
   "id": "9e2e191b",
   "metadata": {},
   "outputs": [
    {
     "name": "stdout",
     "output_type": "stream",
     "text": [
      "314/314 [==============================] - 11s 36ms/step\n",
      "Number of predictions over 0.5: 1891\n",
      "Number of total images:  10022\n"
     ]
    }
   ],
   "source": [
    "# Assuming 'model' contains the loaded model and 'images_patient_1' contains the preprocessed images\n",
    "import numpy as np\n",
    "\n",
    "# Convert the list of images to a numpy array\n",
    "images_array = np.array(images_patient_11)\n",
    "\n",
    "# Make predictions on the images\n",
    "predictions = model.predict(images_array)\n",
    "\n",
    "# Filter predictions with values over 0.5\n",
    "threshold = 0.5\n",
    "predicted_labels_over_threshold = np.where(predictions > threshold)[0]\n",
    "\n",
    "# Count the number of predictions over the threshold\n",
    "num_predictions_over_threshold = len(predicted_labels_over_threshold)\n",
    "\n",
    "# Print the length of predicted labels over 0.5\n",
    "print(\"Number of predictions over 0.5:\", num_predictions_over_threshold)\n",
    "print(\"Number of total images: \",len(images_patient_11))\n"
   ]
  },
  {
   "cell_type": "markdown",
   "id": "5885ef3b",
   "metadata": {},
   "source": [
    "### Patient 12"
   ]
  },
  {
   "cell_type": "code",
   "execution_count": 102,
   "id": "93bdcb56",
   "metadata": {},
   "outputs": [
    {
     "name": "stdout",
     "output_type": "stream",
     "text": [
      "264/264 [==============================] - 9s 35ms/step\n",
      "Number of predictions over 0.5: 1450\n",
      "Number of total images:  8445\n"
     ]
    }
   ],
   "source": [
    "# Assuming 'model' contains the loaded model and 'images_patient_1' contains the preprocessed images\n",
    "import numpy as np\n",
    "\n",
    "# Convert the list of images to a numpy array\n",
    "images_array = np.array(images_patient_12)\n",
    "\n",
    "# Make predictions on the images\n",
    "predictions = model.predict(images_array)\n",
    "\n",
    "# Filter predictions with values over 0.5\n",
    "threshold = 0.5\n",
    "predicted_labels_over_threshold = np.where(predictions > threshold)[0]\n",
    "\n",
    "# Count the number of predictions over the threshold\n",
    "num_predictions_over_threshold = len(predicted_labels_over_threshold)\n",
    "\n",
    "# Print the length of predicted labels over 0.5\n",
    "print(\"Number of predictions over 0.5:\", num_predictions_over_threshold)\n",
    "print(\"Number of total images: \",len(images_patient_12))\n"
   ]
  },
  {
   "cell_type": "markdown",
   "id": "f71cf9b8",
   "metadata": {},
   "source": [
    "### Patient 13"
   ]
  },
  {
   "cell_type": "code",
   "execution_count": 103,
   "id": "be56be39",
   "metadata": {},
   "outputs": [
    {
     "name": "stdout",
     "output_type": "stream",
     "text": [
      "377/377 [==============================] - 14s 37ms/step\n",
      "Number of predictions over 0.5: 2222\n",
      "Number of total images:  12053\n"
     ]
    }
   ],
   "source": [
    "# Assuming 'model' contains the loaded model and 'images_patient_1' contains the preprocessed images\n",
    "import numpy as np\n",
    "\n",
    "# Convert the list of images to a numpy array\n",
    "images_array = np.array(images_patient_13)\n",
    "\n",
    "# Make predictions on the images\n",
    "predictions = model.predict(images_array)\n",
    "\n",
    "# Filter predictions with values over 0.5\n",
    "threshold = 0.5\n",
    "predicted_labels_over_threshold = np.where(predictions > threshold)[0]\n",
    "\n",
    "# Count the number of predictions over the threshold\n",
    "num_predictions_over_threshold = len(predicted_labels_over_threshold)\n",
    "\n",
    "# Print the length of predicted labels over 0.5\n",
    "print(\"Number of predictions over 0.5:\", num_predictions_over_threshold)\n",
    "print(\"Number of total images: \",len(images_patient_13))\n"
   ]
  },
  {
   "cell_type": "markdown",
   "id": "892ae864",
   "metadata": {},
   "source": [
    "### Patient 14"
   ]
  },
  {
   "cell_type": "code",
   "execution_count": 104,
   "id": "da2f1f1e",
   "metadata": {},
   "outputs": [
    {
     "name": "stdout",
     "output_type": "stream",
     "text": [
      "511/511 [==============================] - 19s 37ms/step\n",
      "Number of predictions over 0.5: 3914\n",
      "Number of total images:  16327\n"
     ]
    }
   ],
   "source": [
    "# Assuming 'model' contains the loaded model and 'images_patient_1' contains the preprocessed images\n",
    "import numpy as np\n",
    "\n",
    "# Convert the list of images to a numpy array\n",
    "images_array = np.array(images_patient_14)\n",
    "\n",
    "# Make predictions on the images\n",
    "predictions = model.predict(images_array)\n",
    "\n",
    "# Filter predictions with values over 0.5\n",
    "threshold = 0.5\n",
    "predicted_labels_over_threshold = np.where(predictions > threshold)[0]\n",
    "\n",
    "# Count the number of predictions over the threshold\n",
    "num_predictions_over_threshold = len(predicted_labels_over_threshold)\n",
    "\n",
    "# Print the length of predicted labels over 0.5\n",
    "print(\"Number of predictions over 0.5:\", num_predictions_over_threshold)\n",
    "print(\"Number of total images: \",len(images_patient_14))\n"
   ]
  },
  {
   "cell_type": "code",
   "execution_count": null,
   "id": "db9ffec1",
   "metadata": {},
   "outputs": [],
   "source": []
  },
  {
   "cell_type": "markdown",
   "id": "f5ef4317",
   "metadata": {},
   "source": [
    "### Patient 15"
   ]
  },
  {
   "cell_type": "code",
   "execution_count": 105,
   "id": "393d2994",
   "metadata": {
    "scrolled": true
   },
   "outputs": [
    {
     "name": "stdout",
     "output_type": "stream",
     "text": [
      "422/422 [==============================] - 14s 34ms/step\n",
      "Number of predictions over 0.5: 2711\n",
      "Number of total images:  13487\n"
     ]
    }
   ],
   "source": [
    "# Assuming 'model' contains the loaded model and 'images_patient_1' contains the preprocessed images\n",
    "import numpy as np\n",
    "\n",
    "# Convert the list of images to a numpy array\n",
    "images_array = np.array(images_patient_15)\n",
    "\n",
    "# Make predictions on the images\n",
    "predictions = model.predict(images_array)\n",
    "\n",
    "# Filter predictions with values over 0.5\n",
    "threshold = 0.5\n",
    "predicted_labels_over_threshold = np.where(predictions > threshold)[0]\n",
    "\n",
    "# Count the number of predictions over the threshold\n",
    "num_predictions_over_threshold = len(predicted_labels_over_threshold)\n",
    "\n",
    "# Print the length of predicted labels over 0.5\n",
    "print(\"Number of predictions over 0.5:\", num_predictions_over_threshold)\n",
    "print(\"Number of total images: \",len(images_patient_15))\n"
   ]
  },
  {
   "cell_type": "markdown",
   "id": "804d2a02",
   "metadata": {},
   "source": [
    "## HEALTHIES"
   ]
  },
  {
   "cell_type": "markdown",
   "id": "f81dbde6",
   "metadata": {},
   "source": [
    "### Healthy 11"
   ]
  },
  {
   "cell_type": "code",
   "execution_count": 106,
   "id": "8928b325",
   "metadata": {},
   "outputs": [
    {
     "name": "stdout",
     "output_type": "stream",
     "text": [
      "454/454 [==============================] - 16s 36ms/step\n",
      "Number of predictions over 0.5: 2382\n",
      "Number of total images:  14512\n"
     ]
    }
   ],
   "source": [
    "# Assuming 'model' contains the loaded model and 'images_patient_1' contains the preprocessed images\n",
    "import numpy as np\n",
    "\n",
    "# Convert the list of images to a numpy array\n",
    "images_array = np.array(images_healthy_11)\n",
    "\n",
    "# Make predictions on the images\n",
    "predictions = model.predict(images_array)\n",
    "\n",
    "# Filter predictions with values over 0.5\n",
    "threshold = 0.5\n",
    "predicted_labels_over_threshold = np.where(predictions > threshold)[0]\n",
    "\n",
    "# Count the number of predictions over the threshold\n",
    "num_predictions_over_threshold = len(predicted_labels_over_threshold)\n",
    "\n",
    "# Print the length of predicted labels over 0.5\n",
    "print(\"Number of predictions over 0.5:\", num_predictions_over_threshold)\n",
    "print(\"Number of total images: \",len(images_healthy_11))"
   ]
  },
  {
   "cell_type": "markdown",
   "id": "314380e0",
   "metadata": {},
   "source": [
    "### Healthy 12"
   ]
  },
  {
   "cell_type": "code",
   "execution_count": 107,
   "id": "f32235fe",
   "metadata": {},
   "outputs": [
    {
     "name": "stdout",
     "output_type": "stream",
     "text": [
      "224/224 [==============================] - 7s 33ms/step\n",
      "Number of predictions over 0.5: 889\n",
      "Number of total images:  7162\n"
     ]
    }
   ],
   "source": [
    "# Assuming 'model' contains the loaded model and 'images_patient_1' contains the preprocessed images\n",
    "import numpy as np\n",
    "\n",
    "# Convert the list of images to a numpy array\n",
    "images_array = np.array(images_healthy_12)\n",
    "\n",
    "# Make predictions on the images\n",
    "predictions = model.predict(images_array)\n",
    "\n",
    "# Filter predictions with values over 0.5\n",
    "threshold = 0.5\n",
    "predicted_labels_over_threshold = np.where(predictions > threshold)[0]\n",
    "\n",
    "# Count the number of predictions over the threshold\n",
    "num_predictions_over_threshold = len(predicted_labels_over_threshold)\n",
    "\n",
    "# Print the length of predicted labels over 0.5\n",
    "print(\"Number of predictions over 0.5:\", num_predictions_over_threshold)\n",
    "print(\"Number of total images: \",len(images_healthy_12))"
   ]
  },
  {
   "cell_type": "markdown",
   "id": "ece2fff2",
   "metadata": {},
   "source": [
    "### Healthy 13"
   ]
  },
  {
   "cell_type": "code",
   "execution_count": 108,
   "id": "51c59560",
   "metadata": {},
   "outputs": [
    {
     "name": "stdout",
     "output_type": "stream",
     "text": [
      "384/384 [==============================] - 15s 38ms/step\n",
      "Number of predictions over 0.5: 1713\n",
      "Number of total images:  12271\n"
     ]
    }
   ],
   "source": [
    "# Assuming 'model' contains the loaded model and 'images_patient_1' contains the preprocessed images\n",
    "import numpy as np\n",
    "\n",
    "# Convert the list of images to a numpy array\n",
    "images_array = np.array(images_healthy_13)\n",
    "\n",
    "# Make predictions on the images\n",
    "predictions = model.predict(images_array)\n",
    "\n",
    "# Filter predictions with values over 0.5\n",
    "threshold = 0.5\n",
    "predicted_labels_over_threshold = np.where(predictions > threshold)[0]\n",
    "\n",
    "# Count the number of predictions over the threshold\n",
    "num_predictions_over_threshold = len(predicted_labels_over_threshold)\n",
    "\n",
    "# Print the length of predicted labels over 0.5\n",
    "print(\"Number of predictions over 0.5:\", num_predictions_over_threshold)\n",
    "print(\"Number of total images: \",len(images_healthy_13))"
   ]
  },
  {
   "cell_type": "markdown",
   "id": "abb9f9ee",
   "metadata": {},
   "source": [
    "### Healthy 14"
   ]
  },
  {
   "cell_type": "code",
   "execution_count": 109,
   "id": "7300c91c",
   "metadata": {},
   "outputs": [
    {
     "name": "stdout",
     "output_type": "stream",
     "text": [
      "342/342 [==============================] - 12s 36ms/step\n",
      "Number of predictions over 0.5: 1684\n",
      "Number of total images:  10941\n"
     ]
    }
   ],
   "source": [
    "# Assuming 'model' contains the loaded model and 'images_patient_1' contains the preprocessed images\n",
    "import numpy as np\n",
    "\n",
    "# Convert the list of images to a numpy array\n",
    "images_array = np.array(images_healthy_14)\n",
    "\n",
    "# Make predictions on the images\n",
    "predictions = model.predict(images_array)\n",
    "\n",
    "# Filter predictions with values over 0.5\n",
    "threshold = 0.5\n",
    "predicted_labels_over_threshold = np.where(predictions > threshold)[0]\n",
    "\n",
    "# Count the number of predictions over the threshold\n",
    "num_predictions_over_threshold = len(predicted_labels_over_threshold)\n",
    "\n",
    "# Print the length of predicted labels over 0.5\n",
    "print(\"Number of predictions over 0.5:\", num_predictions_over_threshold)\n",
    "print(\"Number of total images: \",len(images_healthy_14))"
   ]
  },
  {
   "cell_type": "markdown",
   "id": "4078f9c7",
   "metadata": {},
   "source": [
    "### Healthy 15"
   ]
  },
  {
   "cell_type": "code",
   "execution_count": 110,
   "id": "9eee8051",
   "metadata": {},
   "outputs": [
    {
     "name": "stdout",
     "output_type": "stream",
     "text": [
      "336/336 [==============================] - 12s 35ms/step\n",
      "Number of predictions over 0.5: 1481\n",
      "Number of total images:  10741\n"
     ]
    }
   ],
   "source": [
    "# Assuming 'model' contains the loaded model and 'images_patient_1' contains the preprocessed images\n",
    "import numpy as np\n",
    "\n",
    "# Convert the list of images to a numpy array\n",
    "images_array = np.array(images_healthy_15)\n",
    "\n",
    "# Make predictions on the images\n",
    "predictions = model.predict(images_array)\n",
    "\n",
    "# Filter predictions with values over 0.5\n",
    "threshold = 0.5\n",
    "predicted_labels_over_threshold = np.where(predictions > threshold)[0]\n",
    "\n",
    "# Count the number of predictions over the threshold\n",
    "num_predictions_over_threshold = len(predicted_labels_over_threshold)\n",
    "\n",
    "# Print the length of predicted labels over 0.5\n",
    "print(\"Number of predictions over 0.5:\", num_predictions_over_threshold)\n",
    "print(\"Number of total images: \",len(images_healthy_15))"
   ]
  },
  {
   "cell_type": "markdown",
   "id": "f6f25ee2",
   "metadata": {},
   "source": [
    "### Healthy 16"
   ]
  },
  {
   "cell_type": "code",
   "execution_count": 111,
   "id": "ae9943df",
   "metadata": {},
   "outputs": [
    {
     "name": "stdout",
     "output_type": "stream",
     "text": [
      "156/156 [==============================] - 5s 33ms/step\n",
      "Number of predictions over 0.5: 321\n",
      "Number of total images:  4965\n"
     ]
    }
   ],
   "source": [
    "# Assuming 'model' contains the loaded model and 'images_patient_1' contains the preprocessed images\n",
    "import numpy as np\n",
    "\n",
    "# Convert the list of images to a numpy array\n",
    "images_array = np.array(images_healthy_16)\n",
    "\n",
    "# Make predictions on the images\n",
    "predictions = model.predict(images_array)\n",
    "\n",
    "# Filter predictions with values over 0.5\n",
    "threshold = 0.5\n",
    "predicted_labels_over_threshold = np.where(predictions > threshold)[0]\n",
    "\n",
    "# Count the number of predictions over the threshold\n",
    "num_predictions_over_threshold = len(predicted_labels_over_threshold)\n",
    "\n",
    "# Print the length of predicted labels over 0.5\n",
    "print(\"Number of predictions over 0.5:\", num_predictions_over_threshold)\n",
    "print(\"Number of total images: \",len(images_healthy_16))"
   ]
  },
  {
   "cell_type": "markdown",
   "id": "29cdcc85",
   "metadata": {},
   "source": [
    "### Healthy 17"
   ]
  },
  {
   "cell_type": "code",
   "execution_count": 112,
   "id": "c55411a4",
   "metadata": {},
   "outputs": [
    {
     "name": "stdout",
     "output_type": "stream",
     "text": [
      "209/209 [==============================] - 8s 37ms/step\n",
      "Number of predictions over 0.5: 904\n",
      "Number of total images:  6671\n"
     ]
    }
   ],
   "source": [
    "# Assuming 'model' contains the loaded model and 'images_patient_1' contains the preprocessed images\n",
    "import numpy as np\n",
    "\n",
    "# Convert the list of images to a numpy array\n",
    "images_array = np.array(images_healthy_17)\n",
    "\n",
    "# Make predictions on the images\n",
    "predictions = model.predict(images_array)\n",
    "\n",
    "# Filter predictions with values over 0.5\n",
    "threshold = 0.5\n",
    "predicted_labels_over_threshold = np.where(predictions > threshold)[0]\n",
    "\n",
    "# Count the number of predictions over the threshold\n",
    "num_predictions_over_threshold = len(predicted_labels_over_threshold)\n",
    "\n",
    "# Print the length of predicted labels over 0.5\n",
    "print(\"Number of predictions over 0.5:\", num_predictions_over_threshold)\n",
    "print(\"Number of total images: \",len(images_healthy_17))"
   ]
  },
  {
   "cell_type": "markdown",
   "id": "f118571f",
   "metadata": {},
   "source": [
    "### Healthy 18"
   ]
  },
  {
   "cell_type": "code",
   "execution_count": 113,
   "id": "8b60b3c6",
   "metadata": {},
   "outputs": [
    {
     "name": "stdout",
     "output_type": "stream",
     "text": [
      "288/288 [==============================] - 9s 33ms/step\n",
      "Number of predictions over 0.5: 319\n",
      "Number of total images:  9216\n"
     ]
    }
   ],
   "source": [
    "# Assuming 'model' contains the loaded model and 'images_patient_1' contains the preprocessed images\n",
    "import numpy as np\n",
    "\n",
    "# Convert the list of images to a numpy array\n",
    "images_array = np.array(images_healthy_18)\n",
    "\n",
    "# Make predictions on the images\n",
    "predictions = model.predict(images_array)\n",
    "\n",
    "# Filter predictions with values over 0.5\n",
    "threshold = 0.5\n",
    "predicted_labels_over_threshold = np.where(predictions > threshold)[0]\n",
    "\n",
    "# Count the number of predictions over the threshold\n",
    "num_predictions_over_threshold = len(predicted_labels_over_threshold)\n",
    "\n",
    "# Print the length of predicted labels over 0.5\n",
    "print(\"Number of predictions over 0.5:\", num_predictions_over_threshold)\n",
    "print(\"Number of total images: \",len(images_healthy_18))"
   ]
  },
  {
   "cell_type": "markdown",
   "id": "0da326e0",
   "metadata": {},
   "source": [
    "### Healthy 19"
   ]
  },
  {
   "cell_type": "code",
   "execution_count": 114,
   "id": "bff23c45",
   "metadata": {
    "scrolled": true
   },
   "outputs": [
    {
     "name": "stdout",
     "output_type": "stream",
     "text": [
      "452/452 [==============================] - 17s 38ms/step\n",
      "Number of predictions over 0.5: 2300\n",
      "Number of total images:  14460\n"
     ]
    }
   ],
   "source": [
    "# Assuming 'model' contains the loaded model and 'images_patient_1' contains the preprocessed images\n",
    "import numpy as np\n",
    "\n",
    "# Convert the list of images to a numpy array\n",
    "images_array = np.array(images_healthy_19)\n",
    "\n",
    "# Make predictions on the images\n",
    "predictions = model.predict(images_array)\n",
    "\n",
    "# Filter predictions with values over 0.5\n",
    "threshold = 0.5\n",
    "predicted_labels_over_threshold = np.where(predictions > threshold)[0]\n",
    "\n",
    "# Count the number of predictions over the threshold\n",
    "num_predictions_over_threshold = len(predicted_labels_over_threshold)\n",
    "\n",
    "# Print the length of predicted labels over 0.5\n",
    "print(\"Number of predictions over 0.5:\", num_predictions_over_threshold)\n",
    "print(\"Number of total images: \",len(images_healthy_19))"
   ]
  },
  {
   "cell_type": "markdown",
   "id": "4b78c118",
   "metadata": {},
   "source": [
    "### Healthy 20"
   ]
  },
  {
   "cell_type": "code",
   "execution_count": 115,
   "id": "136690e1",
   "metadata": {
    "scrolled": false
   },
   "outputs": [
    {
     "name": "stdout",
     "output_type": "stream",
     "text": [
      "466/466 [==============================] - 17s 37ms/step\n",
      "Number of predictions over 0.5: 3565\n",
      "Number of total images:  14893\n"
     ]
    }
   ],
   "source": [
    "# Assuming 'model' contains the loaded model and 'images_patient_1' contains the preprocessed images\n",
    "import numpy as np\n",
    "\n",
    "# Convert the list of images to a numpy array\n",
    "images_array = np.array(images_healthy_20)\n",
    "\n",
    "# Make predictions on the images\n",
    "predictions = model.predict(images_array)\n",
    "\n",
    "# Filter predictions with values over 0.5\n",
    "threshold = 0.5\n",
    "predicted_labels_over_threshold = np.where(predictions > threshold)[0]\n",
    "\n",
    "# Count the number of predictions over the threshold\n",
    "num_predictions_over_threshold = len(predicted_labels_over_threshold)\n",
    "\n",
    "# Print the length of predicted labels over 0.5\n",
    "print(\"Number of predictions over 0.5:\", num_predictions_over_threshold)\n",
    "print(\"Number of total images: \",len(images_healthy_20))"
   ]
  },
  {
   "cell_type": "code",
   "execution_count": null,
   "id": "778431fb",
   "metadata": {},
   "outputs": [],
   "source": []
  }
 ],
 "metadata": {
  "kernelspec": {
   "display_name": "Python 3 (ipykernel)",
   "language": "python",
   "name": "python3"
  },
  "language_info": {
   "codemirror_mode": {
    "name": "ipython",
    "version": 3
   },
   "file_extension": ".py",
   "mimetype": "text/x-python",
   "name": "python",
   "nbconvert_exporter": "python",
   "pygments_lexer": "ipython3",
   "version": "3.9.13"
  }
 },
 "nbformat": 4,
 "nbformat_minor": 5
}
