{
 "cells": [
  {
   "cell_type": "code",
   "execution_count": 1,
   "id": "ef99570f",
   "metadata": {
    "scrolled": true
   },
   "outputs": [
    {
     "name": "stderr",
     "output_type": "stream",
     "text": [
      "C:\\Users\\Javi\\anaconda3\\lib\\site-packages\\scipy\\__init__.py:155: UserWarning: A NumPy version >=1.18.5 and <1.25.0 is required for this version of SciPy (detected version 1.26.1\n",
      "  warnings.warn(f\"A NumPy version >={np_minversion} and <{np_maxversion}\"\n"
     ]
    }
   ],
   "source": [
    "from scipy import stats\n",
    "import numpy as np\n",
    "from scipy.stats import mannwhitneyu\n"
   ]
  },
  {
   "cell_type": "markdown",
   "id": "825f3d14",
   "metadata": {},
   "source": [
    "# DATA"
   ]
  },
  {
   "cell_type": "code",
   "execution_count": 2,
   "id": "4dbc2237",
   "metadata": {},
   "outputs": [],
   "source": [
    "import numpy as np\n",
    "\n",
    "\n",
    "\n",
    "# Data for each model\n",
    "patients_1 = [13.60531828, 19.29333333, 2.006105539, 2.873333333, 5.619947404,\n",
    "              11.46477749, 9.816459443, 9.126358583, 7.478409996, 10.78075184]\n",
    "\n",
    "patients_2 = [12.90410709, 35.60666667, 23.44090711, 25.59333333, 10.03214181,\n",
    "              24.5659549, 28.35997632, 24.03550983, 25.25264899, 29.39868021]\n",
    "\n",
    "patients_3 = [18.10399781, 10.13333333, 20.15918011, 16.69333333, 5.94136554,\n",
    "              18.86848932, 17.16992303, 18.43524434, 23.97256079, 20.10083784]\n",
    "\n"
   ]
  },
  {
   "cell_type": "code",
   "execution_count": 3,
   "id": "f96036ab",
   "metadata": {},
   "outputs": [
    {
     "name": "stdout",
     "output_type": "stream",
     "text": [
      "Mean of all patients: 16.69443289793334\n",
      "Median of all patients: 17.63696042\n"
     ]
    }
   ],
   "source": [
    "\n",
    "\n",
    "# Combine all patient data into a single list\n",
    "all_patients = patients_1 + patients_2 + patients_3\n",
    "\n",
    "# Calculate the mean\n",
    "mean = sum(all_patients) / len(all_patients)\n",
    "\n",
    "# Calculate the median\n",
    "sorted_all_patients = sorted(all_patients)\n",
    "n = len(sorted_all_patients)\n",
    "if n % 2 == 0:\n",
    "    median = (sorted_all_patients[n//2 - 1] + sorted_all_patients[n//2]) / 2\n",
    "else:\n",
    "    median = sorted_all_patients[n//2]\n",
    "\n",
    "print(\"Mean of all patients:\", mean)\n",
    "print(\"Median of all patients:\", median)\n"
   ]
  },
  {
   "cell_type": "code",
   "execution_count": 5,
   "id": "7c226ef6",
   "metadata": {},
   "outputs": [],
   "source": [
    "\n",
    "\n",
    "# Data for each model\n",
    "healthies_1 = [12.54134509, 10.9047752, 11.70238774, 2.065624714, 1.778232939,\n",
    "               4.974823766, 6.880527657, 6.694878472, 14.97233748, 14.42288323]\n",
    "\n",
    "healthies_2 = [32.33186329, 15.12147445, 29.65528482, 20.1078512, 25.891444,\n",
    "               12.4672709, 8.589416879, 22.29817708, 32.86307054, 32.57906399]\n",
    "\n",
    "\n",
    "healthies_3 = [16.41400221, 12.41273387, 13.95974248, 15.3916461, 13.78828787,\n",
    "               6.465256798, 13.55119173, 3.461371528, 15.90594744, 23.93742026]\n",
    "\n"
   ]
  },
  {
   "cell_type": "code",
   "execution_count": 7,
   "id": "8e0bbe03",
   "metadata": {},
   "outputs": [
    {
     "name": "stdout",
     "output_type": "stream",
     "text": [
      "Mean of all healthies: 15.137677790766663\n",
      "Median of all healthies: 13.874015175\n"
     ]
    }
   ],
   "source": [
    "\n",
    "\n",
    "# Combine all patient data into a single list\n",
    "all_healthies = healthies_1 + healthies_2 + healthies_3\n",
    "\n",
    "# Calculate the mean\n",
    "mean = sum(all_healthies) / len(all_healthies)\n",
    "\n",
    "# Calculate the median\n",
    "sorted_all_healthies = sorted(all_healthies)\n",
    "n = len(all_healthies)\n",
    "if n % 2 == 0:\n",
    "    median = (sorted_all_healthies[n//2 - 1] + sorted_all_healthies[n//2]) / 2\n",
    "else:\n",
    "    median = sorted_all_healthies[n//2]\n",
    "\n",
    "print(\"Mean of all healthies:\", mean)\n",
    "print(\"Median of all healthies:\", median)\n"
   ]
  },
  {
   "cell_type": "markdown",
   "id": "b381e3a2",
   "metadata": {},
   "source": [
    "# ALL TOGETHER"
   ]
  },
  {
   "cell_type": "markdown",
   "id": "1a647170",
   "metadata": {},
   "source": [
    "## CHECK NORMALITIES"
   ]
  },
  {
   "cell_type": "markdown",
   "id": "c4a11cbf",
   "metadata": {},
   "source": [
    "### PATIENTS"
   ]
  },
  {
   "cell_type": "code",
   "execution_count": 31,
   "id": "4471202f",
   "metadata": {},
   "outputs": [
    {
     "name": "stdout",
     "output_type": "stream",
     "text": [
      "Shapiro-Wilk Test:\n",
      "Test Statistic: 0.9764502048492432\n",
      "p-value: 0.7253833413124084\n",
      "Sample looks Gaussian (fail to reject H0)\n",
      "\n",
      "Kolmogorov-Smirnov Test:\n",
      "Test Statistic: 0.9775775054874091\n",
      "p-value: 6.630523028617642e-50\n",
      "Sample does not look Gaussian (reject H0)\n",
      "\n",
      "D'Agostino and Pearson Test:\n",
      "Test Statistic: 0.7351563968744118\n",
      "p-value: 0.6924091793758146\n",
      "Sample looks Gaussian (fail to reject H0)\n"
     ]
    }
   ],
   "source": [
    "# Generate some sample data\n",
    "data = patients_1+patients_2+patients_3\n",
    "\n",
    "# Shapiro-Wilk Test\n",
    "shapiro_stat, shapiro_p = stats.shapiro(data)\n",
    "print(\"Shapiro-Wilk Test:\")\n",
    "print(\"Test Statistic:\", shapiro_stat)\n",
    "print(\"p-value:\", shapiro_p)\n",
    "if shapiro_p > 0.05:\n",
    "    print(\"Sample looks Gaussian (fail to reject H0)\")\n",
    "else:\n",
    "    print(\"Sample does not look Gaussian (reject H0)\")\n",
    "\n",
    "# Kolmogorov-Smirnov Test\n",
    "kstest_stat, kstest_p = stats.kstest(data, 'norm')\n",
    "print(\"\\nKolmogorov-Smirnov Test:\")\n",
    "print(\"Test Statistic:\", kstest_stat)\n",
    "print(\"p-value:\", kstest_p)\n",
    "if kstest_p > 0.05:\n",
    "    print(\"Sample looks Gaussian (fail to reject H0)\")\n",
    "else:\n",
    "    print(\"Sample does not look Gaussian (reject H0)\")\n",
    "\n",
    "# D'Agostino and Pearson Test\n",
    "dagostino_stat, dagostino_p = stats.normaltest(data)\n",
    "print(\"\\nD'Agostino and Pearson Test:\")\n",
    "print(\"Test Statistic:\", dagostino_stat)\n",
    "print(\"p-value:\", dagostino_p)\n",
    "if dagostino_p > 0.05:\n",
    "    print(\"Sample looks Gaussian (fail to reject H0)\")\n",
    "else:\n",
    "    print(\"Sample does not look Gaussian (reject H0)\")\n"
   ]
  },
  {
   "cell_type": "code",
   "execution_count": 32,
   "id": "78a5bf8f",
   "metadata": {},
   "outputs": [
    {
     "name": "stdout",
     "output_type": "stream",
     "text": [
      "Shapiro-Wilk Test:\n",
      "Test Statistic: 0.9287817478179932\n",
      "p-value: 0.0455818846821785\n",
      "Sample does not look Gaussian (reject H0)\n",
      "\n",
      "Kolmogorov-Smirnov Test:\n",
      "Test Statistic: 0.9623171974148611\n",
      "p-value: 3.848804481151698e-43\n",
      "Sample does not look Gaussian (reject H0)\n",
      "\n",
      "D'Agostino and Pearson Test:\n",
      "Test Statistic: 2.224901404436359\n",
      "p-value: 0.32875229904620334\n",
      "Sample looks Gaussian (fail to reject H0)\n"
     ]
    }
   ],
   "source": [
    "# Generate some sample data\n",
    "data = healthies_1+healthies_2+healthies_3\n",
    "\n",
    "# Shapiro-Wilk Test\n",
    "shapiro_stat, shapiro_p = stats.shapiro(data)\n",
    "print(\"Shapiro-Wilk Test:\")\n",
    "print(\"Test Statistic:\", shapiro_stat)\n",
    "print(\"p-value:\", shapiro_p)\n",
    "if shapiro_p > 0.05:\n",
    "    print(\"Sample looks Gaussian (fail to reject H0)\")\n",
    "else:\n",
    "    print(\"Sample does not look Gaussian (reject H0)\")\n",
    "\n",
    "# Kolmogorov-Smirnov Test\n",
    "kstest_stat, kstest_p = stats.kstest(data, 'norm')\n",
    "print(\"\\nKolmogorov-Smirnov Test:\")\n",
    "print(\"Test Statistic:\", kstest_stat)\n",
    "print(\"p-value:\", kstest_p)\n",
    "if kstest_p > 0.05:\n",
    "    print(\"Sample looks Gaussian (fail to reject H0)\")\n",
    "else:\n",
    "    print(\"Sample does not look Gaussian (reject H0)\")\n",
    "\n",
    "# D'Agostino and Pearson Test\n",
    "dagostino_stat, dagostino_p = stats.normaltest(data)\n",
    "print(\"\\nD'Agostino and Pearson Test:\")\n",
    "print(\"Test Statistic:\", dagostino_stat)\n",
    "print(\"p-value:\", dagostino_p)\n",
    "if dagostino_p > 0.05:\n",
    "    print(\"Sample looks Gaussian (fail to reject H0)\")\n",
    "else:\n",
    "    print(\"Sample does not look Gaussian (reject H0)\")\n"
   ]
  },
  {
   "cell_type": "markdown",
   "id": "402d907b",
   "metadata": {},
   "source": [
    "THEY ARE NOT GAUSSIAN BUT WE HAVE MORE THAN 10 SAMPLES IN EACH CASE SO WE CAN AVOID THIS ASSUMTION"
   ]
  },
  {
   "cell_type": "markdown",
   "id": "b57e5cdb",
   "metadata": {},
   "source": [
    "## VARIANCE CHECK"
   ]
  },
  {
   "cell_type": "code",
   "execution_count": 33,
   "id": "3a8faf80",
   "metadata": {},
   "outputs": [],
   "source": [
    "patients = patients_1+patients_2+patients_3\n",
    "healthy = healthies_1+healthies_2+healthies_3"
   ]
  },
  {
   "cell_type": "code",
   "execution_count": 34,
   "id": "ee719e87",
   "metadata": {},
   "outputs": [
    {
     "name": "stdout",
     "output_type": "stream",
     "text": [
      "Levene's Test:\n",
      "Test Statistic: 0.08240007212673124\n",
      "p-value: 0.7750939189846451\n",
      "The variances are equal (fail to reject H0)\n"
     ]
    }
   ],
   "source": [
    "# Perform Levene's test\n",
    "levene_stat, levene_p = stats.levene(patients, healthy)\n",
    "\n",
    "print(\"Levene's Test:\")\n",
    "print(\"Test Statistic:\", levene_stat)\n",
    "print(\"p-value:\", levene_p)\n",
    "\n",
    "if levene_p > 0.05:\n",
    "    print(\"The variances are equal (fail to reject H0)\")\n",
    "else:\n",
    "    print(\"The variances are not equal (reject H0)\")\n"
   ]
  },
  {
   "cell_type": "markdown",
   "id": "83d44c5c",
   "metadata": {},
   "source": [
    "SINCE VARIANCES ARE NOT THE SAME, WE HAVE TO USE THE WELTCH'S T-TEST"
   ]
  },
  {
   "cell_type": "markdown",
   "id": "a8a52733",
   "metadata": {},
   "source": [
    "## T-TEST"
   ]
  },
  {
   "cell_type": "code",
   "execution_count": 35,
   "id": "d4d7a284",
   "metadata": {},
   "outputs": [
    {
     "name": "stdout",
     "output_type": "stream",
     "text": [
      "Two-Sample T-Test:\n",
      "Test Statistic: 0.6945737875951257\n",
      "p-value: 0.49010313000974237\n",
      "There is no significant difference between the means (fail to reject H0)\n"
     ]
    }
   ],
   "source": [
    "\n",
    "\n",
    "# Perform two-sample t-test assuming equal variances\n",
    "t_stat, t_p = stats.ttest_ind(patients, healthy, equal_var=False)\n",
    "\n",
    "print(\"Two-Sample T-Test:\")\n",
    "print(\"Test Statistic:\", t_stat)\n",
    "print(\"p-value:\", t_p)\n",
    "\n",
    "if t_p > 0.05:\n",
    "    print(\"There is no significant difference between the means (fail to reject H0)\")\n",
    "else:\n",
    "    print(\"There is a significant difference between the means (reject H0)\")\n"
   ]
  },
  {
   "cell_type": "code",
   "execution_count": null,
   "id": "1db4f0a7",
   "metadata": {},
   "outputs": [],
   "source": []
  },
  {
   "cell_type": "markdown",
   "id": "7c983b6a",
   "metadata": {},
   "source": [
    "# MODEL 1"
   ]
  },
  {
   "cell_type": "markdown",
   "id": "99e6eaf2",
   "metadata": {},
   "source": [
    "## CHECK NORMALITIES"
   ]
  },
  {
   "cell_type": "markdown",
   "id": "22656e8a",
   "metadata": {},
   "source": [
    "### PATIENTS"
   ]
  },
  {
   "cell_type": "code",
   "execution_count": 36,
   "id": "9f8dc2f7",
   "metadata": {},
   "outputs": [
    {
     "name": "stdout",
     "output_type": "stream",
     "text": [
      "Shapiro-Wilk Test:\n",
      "Test Statistic: 0.9670530557632446\n",
      "p-value: 0.862259030342102\n",
      "Sample looks Gaussian (fail to reject H0)\n",
      "\n",
      "Kolmogorov-Smirnov Test:\n",
      "Test Statistic: 0.9775775054874091\n",
      "p-value: 6.424942712886484e-17\n",
      "Sample does not look Gaussian (reject H0)\n",
      "\n",
      "D'Agostino and Pearson Test:\n",
      "Test Statistic: 0.773104503209038\n",
      "p-value: 0.6793952249565611\n",
      "Sample looks Gaussian (fail to reject H0)\n"
     ]
    }
   ],
   "source": [
    "# Generate some sample data\n",
    "data = patients_1\n",
    "\n",
    "# Shapiro-Wilk Test\n",
    "shapiro_stat, shapiro_p = stats.shapiro(data)\n",
    "print(\"Shapiro-Wilk Test:\")\n",
    "print(\"Test Statistic:\", shapiro_stat)\n",
    "print(\"p-value:\", shapiro_p)\n",
    "if shapiro_p > 0.05:\n",
    "    print(\"Sample looks Gaussian (fail to reject H0)\")\n",
    "else:\n",
    "    print(\"Sample does not look Gaussian (reject H0)\")\n",
    "\n",
    "# Kolmogorov-Smirnov Test\n",
    "kstest_stat, kstest_p = stats.kstest(data, 'norm')\n",
    "print(\"\\nKolmogorov-Smirnov Test:\")\n",
    "print(\"Test Statistic:\", kstest_stat)\n",
    "print(\"p-value:\", kstest_p)\n",
    "if kstest_p > 0.05:\n",
    "    print(\"Sample looks Gaussian (fail to reject H0)\")\n",
    "else:\n",
    "    print(\"Sample does not look Gaussian (reject H0)\")\n",
    "\n",
    "# D'Agostino and Pearson Test\n",
    "dagostino_stat, dagostino_p = stats.normaltest(data)\n",
    "print(\"\\nD'Agostino and Pearson Test:\")\n",
    "print(\"Test Statistic:\", dagostino_stat)\n",
    "print(\"p-value:\", dagostino_p)\n",
    "if dagostino_p > 0.05:\n",
    "    print(\"Sample looks Gaussian (fail to reject H0)\")\n",
    "else:\n",
    "    print(\"Sample does not look Gaussian (reject H0)\")\n"
   ]
  },
  {
   "cell_type": "code",
   "execution_count": 37,
   "id": "a13e0e8c",
   "metadata": {
    "scrolled": true
   },
   "outputs": [
    {
     "name": "stdout",
     "output_type": "stream",
     "text": [
      "Shapiro-Wilk Test:\n",
      "Test Statistic: 0.9208075404167175\n",
      "p-value: 0.3637397885322571\n",
      "Sample looks Gaussian (fail to reject H0)\n",
      "\n",
      "Kolmogorov-Smirnov Test:\n",
      "Test Statistic: 0.9623171974148611\n",
      "p-value: 1.1546808066974951e-14\n",
      "Sample does not look Gaussian (reject H0)\n",
      "\n",
      "D'Agostino and Pearson Test:\n",
      "Test Statistic: 1.9374255288755533\n",
      "p-value: 0.37957132147151634\n",
      "Sample looks Gaussian (fail to reject H0)\n"
     ]
    }
   ],
   "source": [
    "# Generate some sample data\n",
    "data = healthies_1\n",
    "\n",
    "# Shapiro-Wilk Test\n",
    "shapiro_stat, shapiro_p = stats.shapiro(data)\n",
    "print(\"Shapiro-Wilk Test:\")\n",
    "print(\"Test Statistic:\", shapiro_stat)\n",
    "print(\"p-value:\", shapiro_p)\n",
    "if shapiro_p > 0.05:\n",
    "    print(\"Sample looks Gaussian (fail to reject H0)\")\n",
    "else:\n",
    "    print(\"Sample does not look Gaussian (reject H0)\")\n",
    "\n",
    "# Kolmogorov-Smirnov Test\n",
    "kstest_stat, kstest_p = stats.kstest(data, 'norm')\n",
    "print(\"\\nKolmogorov-Smirnov Test:\")\n",
    "print(\"Test Statistic:\", kstest_stat)\n",
    "print(\"p-value:\", kstest_p)\n",
    "if kstest_p > 0.05:\n",
    "    print(\"Sample looks Gaussian (fail to reject H0)\")\n",
    "else:\n",
    "    print(\"Sample does not look Gaussian (reject H0)\")\n",
    "\n",
    "# D'Agostino and Pearson Test\n",
    "dagostino_stat, dagostino_p = stats.normaltest(data)\n",
    "print(\"\\nD'Agostino and Pearson Test:\")\n",
    "print(\"Test Statistic:\", dagostino_stat)\n",
    "print(\"p-value:\", dagostino_p)\n",
    "if dagostino_p > 0.05:\n",
    "    print(\"Sample looks Gaussian (fail to reject H0)\")\n",
    "else:\n",
    "    print(\"Sample does not look Gaussian (reject H0)\")\n"
   ]
  },
  {
   "cell_type": "markdown",
   "id": "47cfc3d3",
   "metadata": {},
   "source": [
    "### NON PARAMETRIC TEST"
   ]
  },
  {
   "cell_type": "code",
   "execution_count": 38,
   "id": "0ebf13fd",
   "metadata": {},
   "outputs": [],
   "source": [
    "patients = patients_1\n",
    "healthy = healthies_1"
   ]
  },
  {
   "cell_type": "code",
   "execution_count": 39,
   "id": "e8395426",
   "metadata": {},
   "outputs": [
    {
     "name": "stdout",
     "output_type": "stream",
     "text": [
      "Mann-Whitney U statistic: 50.0\n",
      "p-value: 1.0\n",
      "Fail to reject the null hypothesis: the samples may come from the same distribution.\n"
     ]
    }
   ],
   "source": [
    "\n",
    "\n",
    "# Perform the Mann-Whitney U test\n",
    "statistic, p_value = mannwhitneyu(patients, healthy)\n",
    "\n",
    "# Print the test statistic and p-value\n",
    "print(\"Mann-Whitney U statistic:\", statistic)\n",
    "print(\"p-value:\", p_value)\n",
    "\n",
    "# Interpret the results\n",
    "alpha = 0.05\n",
    "if p_value < alpha:\n",
    "    print(\"Reject the null hypothesis: the samples do not come from the same distribution.\")\n",
    "else:\n",
    "    print(\"Fail to reject the null hypothesis: the samples may come from the same distribution.\")\n"
   ]
  },
  {
   "cell_type": "markdown",
   "id": "0e8b6355",
   "metadata": {},
   "source": [
    "THEY ARE NOT GAUSSIAN BUT WE HAVE MORE THAN 10 SAMPLES IN EACH CASE SO WE CAN AVOID THIS ASSUMTION"
   ]
  },
  {
   "cell_type": "markdown",
   "id": "51c9a205",
   "metadata": {},
   "source": [
    "## VARIANCE CHECK"
   ]
  },
  {
   "cell_type": "code",
   "execution_count": 40,
   "id": "eabe7f9c",
   "metadata": {},
   "outputs": [],
   "source": [
    "patients = patients_1\n",
    "healthy = healthies_1"
   ]
  },
  {
   "cell_type": "code",
   "execution_count": 41,
   "id": "80b2852a",
   "metadata": {},
   "outputs": [
    {
     "name": "stdout",
     "output_type": "stream",
     "text": [
      "Levene's Test:\n",
      "Test Statistic: 0.12678156274213234\n",
      "p-value: 0.7259317691327032\n",
      "The variances are equal (fail to reject H0)\n"
     ]
    }
   ],
   "source": [
    "# Perform Levene's test\n",
    "levene_stat, levene_p = stats.levene(patients, healthy)\n",
    "\n",
    "print(\"Levene's Test:\")\n",
    "print(\"Test Statistic:\", levene_stat)\n",
    "print(\"p-value:\", levene_p)\n",
    "\n",
    "if levene_p > 0.05:\n",
    "    print(\"The variances are equal (fail to reject H0)\")\n",
    "else:\n",
    "    print(\"The variances are not equal (reject H0)\")\n"
   ]
  },
  {
   "cell_type": "markdown",
   "id": "21f38ce5",
   "metadata": {},
   "source": [
    "SINCE VARIANCES ARE THE SAME, WE CAN USE REGULAR T-TEST"
   ]
  },
  {
   "cell_type": "markdown",
   "id": "e2b1103d",
   "metadata": {},
   "source": [
    "## T-TEST"
   ]
  },
  {
   "cell_type": "code",
   "execution_count": 42,
   "id": "a75ed11a",
   "metadata": {},
   "outputs": [
    {
     "name": "stdout",
     "output_type": "stream",
     "text": [
      "Two-Sample T-Test:\n",
      "Test Statistic: 0.22910405253768373\n",
      "p-value: 0.8213709932179709\n",
      "There is no significant difference between the means (fail to reject H0)\n"
     ]
    }
   ],
   "source": [
    "\n",
    "\n",
    "# Perform two-sample t-test assuming equal variances\n",
    "t_stat, t_p = stats.ttest_ind(patients, healthy, equal_var=True)\n",
    "\n",
    "print(\"Two-Sample T-Test:\")\n",
    "print(\"Test Statistic:\", t_stat)\n",
    "print(\"p-value:\", t_p)\n",
    "\n",
    "if t_p > 0.05:\n",
    "    print(\"There is no significant difference between the means (fail to reject H0)\")\n",
    "else:\n",
    "    print(\"There is a significant difference between the means (reject H0)\")\n"
   ]
  },
  {
   "cell_type": "code",
   "execution_count": null,
   "id": "564b6e5a",
   "metadata": {},
   "outputs": [],
   "source": []
  },
  {
   "cell_type": "code",
   "execution_count": null,
   "id": "9a95c940",
   "metadata": {},
   "outputs": [],
   "source": []
  },
  {
   "cell_type": "markdown",
   "id": "ba506922",
   "metadata": {},
   "source": [
    "# MODEL 2"
   ]
  },
  {
   "cell_type": "markdown",
   "id": "c15ab3a9",
   "metadata": {},
   "source": [
    "## CHECK NORMALITIES"
   ]
  },
  {
   "cell_type": "markdown",
   "id": "f6019eca",
   "metadata": {},
   "source": [
    "### PATIENTS"
   ]
  },
  {
   "cell_type": "code",
   "execution_count": 43,
   "id": "3cf3e003",
   "metadata": {},
   "outputs": [
    {
     "name": "stdout",
     "output_type": "stream",
     "text": [
      "Shapiro-Wilk Test:\n",
      "Test Statistic: 0.9031027555465698\n",
      "p-value: 0.23688940703868866\n",
      "Sample looks Gaussian (fail to reject H0)\n",
      "\n",
      "Kolmogorov-Smirnov Test:\n",
      "Test Statistic: 1.0\n",
      "p-value: 0.0\n",
      "Sample does not look Gaussian (reject H0)\n",
      "\n",
      "D'Agostino and Pearson Test:\n",
      "Test Statistic: 1.5534700649629438\n",
      "p-value: 0.4599051380107074\n",
      "Sample looks Gaussian (fail to reject H0)\n"
     ]
    }
   ],
   "source": [
    "# Generate some sample data\n",
    "data = patients_2\n",
    "\n",
    "# Shapiro-Wilk Test\n",
    "shapiro_stat, shapiro_p = stats.shapiro(data)\n",
    "print(\"Shapiro-Wilk Test:\")\n",
    "print(\"Test Statistic:\", shapiro_stat)\n",
    "print(\"p-value:\", shapiro_p)\n",
    "if shapiro_p > 0.05:\n",
    "    print(\"Sample looks Gaussian (fail to reject H0)\")\n",
    "else:\n",
    "    print(\"Sample does not look Gaussian (reject H0)\")\n",
    "\n",
    "# Kolmogorov-Smirnov Test\n",
    "kstest_stat, kstest_p = stats.kstest(data, 'norm')\n",
    "print(\"\\nKolmogorov-Smirnov Test:\")\n",
    "print(\"Test Statistic:\", kstest_stat)\n",
    "print(\"p-value:\", kstest_p)\n",
    "if kstest_p > 0.05:\n",
    "    print(\"Sample looks Gaussian (fail to reject H0)\")\n",
    "else:\n",
    "    print(\"Sample does not look Gaussian (reject H0)\")\n",
    "\n",
    "# D'Agostino and Pearson Test\n",
    "dagostino_stat, dagostino_p = stats.normaltest(data)\n",
    "print(\"\\nD'Agostino and Pearson Test:\")\n",
    "print(\"Test Statistic:\", dagostino_stat)\n",
    "print(\"p-value:\", dagostino_p)\n",
    "if dagostino_p > 0.05:\n",
    "    print(\"Sample looks Gaussian (fail to reject H0)\")\n",
    "else:\n",
    "    print(\"Sample does not look Gaussian (reject H0)\")\n"
   ]
  },
  {
   "cell_type": "code",
   "execution_count": 44,
   "id": "6e0e317f",
   "metadata": {},
   "outputs": [
    {
     "name": "stdout",
     "output_type": "stream",
     "text": [
      "Shapiro-Wilk Test:\n",
      "Test Statistic: 0.9091058969497681\n",
      "p-value: 0.2749059200286865\n",
      "Sample looks Gaussian (fail to reject H0)\n",
      "\n",
      "Kolmogorov-Smirnov Test:\n",
      "Test Statistic: 1.0\n",
      "p-value: 0.0\n",
      "Sample does not look Gaussian (reject H0)\n",
      "\n",
      "D'Agostino and Pearson Test:\n",
      "Test Statistic: 1.6598772324467004\n",
      "p-value: 0.43607605349506207\n",
      "Sample looks Gaussian (fail to reject H0)\n"
     ]
    }
   ],
   "source": [
    "# Generate some sample data\n",
    "data = healthies_2\n",
    "\n",
    "# Shapiro-Wilk Test\n",
    "shapiro_stat, shapiro_p = stats.shapiro(data)\n",
    "print(\"Shapiro-Wilk Test:\")\n",
    "print(\"Test Statistic:\", shapiro_stat)\n",
    "print(\"p-value:\", shapiro_p)\n",
    "if shapiro_p > 0.05:\n",
    "    print(\"Sample looks Gaussian (fail to reject H0)\")\n",
    "else:\n",
    "    print(\"Sample does not look Gaussian (reject H0)\")\n",
    "\n",
    "# Kolmogorov-Smirnov Test\n",
    "kstest_stat, kstest_p = stats.kstest(data, 'norm')\n",
    "print(\"\\nKolmogorov-Smirnov Test:\")\n",
    "print(\"Test Statistic:\", kstest_stat)\n",
    "print(\"p-value:\", kstest_p)\n",
    "if kstest_p > 0.05:\n",
    "    print(\"Sample looks Gaussian (fail to reject H0)\")\n",
    "else:\n",
    "    print(\"Sample does not look Gaussian (reject H0)\")\n",
    "\n",
    "# D'Agostino and Pearson Test\n",
    "dagostino_stat, dagostino_p = stats.normaltest(data)\n",
    "print(\"\\nD'Agostino and Pearson Test:\")\n",
    "print(\"Test Statistic:\", dagostino_stat)\n",
    "print(\"p-value:\", dagostino_p)\n",
    "if dagostino_p > 0.05:\n",
    "    print(\"Sample looks Gaussian (fail to reject H0)\")\n",
    "else:\n",
    "    print(\"Sample does not look Gaussian (reject H0)\")\n"
   ]
  },
  {
   "cell_type": "markdown",
   "id": "08d5bb1f",
   "metadata": {},
   "source": [
    "THEY ARE NOT GAUSSIAN BUT WE HAVE MORE THAN 10 SAMPLES IN EACH CASE SO WE CAN AVOID THIS ASSUMTION"
   ]
  },
  {
   "cell_type": "markdown",
   "id": "e9b8cac4",
   "metadata": {},
   "source": [
    "### NON PARAMETRIC TEST"
   ]
  },
  {
   "cell_type": "code",
   "execution_count": 45,
   "id": "5bfa66bd",
   "metadata": {},
   "outputs": [],
   "source": [
    "patients = patients_2\n",
    "healthy = healthies_2"
   ]
  },
  {
   "cell_type": "code",
   "execution_count": 46,
   "id": "d8f02e51",
   "metadata": {},
   "outputs": [
    {
     "name": "stdout",
     "output_type": "stream",
     "text": [
      "Mann-Whitney U statistic: 50.0\n",
      "p-value: 1.0\n",
      "Fail to reject the null hypothesis: the samples may come from the same distribution.\n"
     ]
    }
   ],
   "source": [
    "\n",
    "\n",
    "# Perform the Mann-Whitney U test\n",
    "statistic, p_value = mannwhitneyu(patients, healthy)\n",
    "\n",
    "# Print the test statistic and p-value\n",
    "print(\"Mann-Whitney U statistic:\", statistic)\n",
    "print(\"p-value:\", p_value)\n",
    "\n",
    "# Interpret the results\n",
    "alpha = 0.05\n",
    "if p_value < alpha:\n",
    "    print(\"Reject the null hypothesis: the samples do not come from the same distribution.\")\n",
    "else:\n",
    "    print(\"Fail to reject the null hypothesis: the samples may come from the same distribution.\")\n"
   ]
  },
  {
   "cell_type": "markdown",
   "id": "b9b0f9ec",
   "metadata": {},
   "source": [
    "## VARIANCE CHECK"
   ]
  },
  {
   "cell_type": "code",
   "execution_count": 47,
   "id": "762b7745",
   "metadata": {},
   "outputs": [],
   "source": [
    "patients = patients_2\n",
    "healthy = healthies_2"
   ]
  },
  {
   "cell_type": "code",
   "execution_count": 48,
   "id": "67bb6a55",
   "metadata": {},
   "outputs": [
    {
     "name": "stdout",
     "output_type": "stream",
     "text": [
      "Levene's Test:\n",
      "Test Statistic: 1.328180504218875\n",
      "p-value: 0.26420563888131954\n",
      "The variances are equal (fail to reject H0)\n"
     ]
    }
   ],
   "source": [
    "# Perform Levene's test\n",
    "levene_stat, levene_p = stats.levene(patients, healthy)\n",
    "\n",
    "print(\"Levene's Test:\")\n",
    "print(\"Test Statistic:\", levene_stat)\n",
    "print(\"p-value:\", levene_p)\n",
    "\n",
    "if levene_p > 0.05:\n",
    "    print(\"The variances are equal (fail to reject H0)\")\n",
    "else:\n",
    "    print(\"The variances are not equal (reject H0)\")\n"
   ]
  },
  {
   "cell_type": "markdown",
   "id": "a08845b0",
   "metadata": {},
   "source": [
    "SINCE VARIANCES ARE THE SAME, WE CAN USE REGULAR T-TEST"
   ]
  },
  {
   "cell_type": "markdown",
   "id": "ec03f39d",
   "metadata": {},
   "source": [
    "## T-TEST"
   ]
  },
  {
   "cell_type": "code",
   "execution_count": 49,
   "id": "2e7f83f5",
   "metadata": {},
   "outputs": [
    {
     "name": "stdout",
     "output_type": "stream",
     "text": [
      "Two-Sample T-Test:\n",
      "Test Statistic: 0.19756592276483564\n",
      "p-value: 0.8455986064517983\n",
      "There is no significant difference between the means (fail to reject H0)\n"
     ]
    }
   ],
   "source": [
    "\n",
    "\n",
    "# Perform two-sample t-test assuming equal variances\n",
    "t_stat, t_p = stats.ttest_ind(patients, healthy, equal_var=True)\n",
    "\n",
    "print(\"Two-Sample T-Test:\")\n",
    "print(\"Test Statistic:\", t_stat)\n",
    "print(\"p-value:\", t_p)\n",
    "\n",
    "if t_p > 0.05:\n",
    "    print(\"There is no significant difference between the means (fail to reject H0)\")\n",
    "else:\n",
    "    print(\"There is a significant difference between the means (reject H0)\")\n"
   ]
  },
  {
   "cell_type": "code",
   "execution_count": null,
   "id": "10c5e87a",
   "metadata": {},
   "outputs": [],
   "source": []
  },
  {
   "cell_type": "code",
   "execution_count": null,
   "id": "1d67ff28",
   "metadata": {},
   "outputs": [],
   "source": []
  },
  {
   "cell_type": "markdown",
   "id": "eecf0131",
   "metadata": {},
   "source": [
    "# MODEL 3"
   ]
  },
  {
   "cell_type": "markdown",
   "id": "7d1465a1",
   "metadata": {},
   "source": [
    "## CHECK NORMALITIES"
   ]
  },
  {
   "cell_type": "markdown",
   "id": "d3f7eb86",
   "metadata": {},
   "source": [
    "## PATIENTS"
   ]
  },
  {
   "cell_type": "code",
   "execution_count": 50,
   "id": "fdaf27c7",
   "metadata": {},
   "outputs": [
    {
     "name": "stdout",
     "output_type": "stream",
     "text": [
      "Shapiro-Wilk Test:\n",
      "Test Statistic: 0.8711345195770264\n",
      "p-value: 0.10305417329072952\n",
      "Sample looks Gaussian (fail to reject H0)\n",
      "\n",
      "Kolmogorov-Smirnov Test:\n",
      "Test Statistic: 0.9999999985867124\n",
      "p-value: 6.358218890519469e-89\n",
      "Sample does not look Gaussian (reject H0)\n",
      "\n",
      "D'Agostino and Pearson Test:\n",
      "Test Statistic: 4.400683760543164\n",
      "p-value: 0.11076528342317694\n",
      "Sample looks Gaussian (fail to reject H0)\n"
     ]
    }
   ],
   "source": [
    "# Generate some sample data\n",
    "data = patients_3\n",
    "\n",
    "# Shapiro-Wilk Test\n",
    "shapiro_stat, shapiro_p = stats.shapiro(data)\n",
    "print(\"Shapiro-Wilk Test:\")\n",
    "print(\"Test Statistic:\", shapiro_stat)\n",
    "print(\"p-value:\", shapiro_p)\n",
    "if shapiro_p > 0.05:\n",
    "    print(\"Sample looks Gaussian (fail to reject H0)\")\n",
    "else:\n",
    "    print(\"Sample does not look Gaussian (reject H0)\")\n",
    "\n",
    "# Kolmogorov-Smirnov Test\n",
    "kstest_stat, kstest_p = stats.kstest(data, 'norm')\n",
    "print(\"\\nKolmogorov-Smirnov Test:\")\n",
    "print(\"Test Statistic:\", kstest_stat)\n",
    "print(\"p-value:\", kstest_p)\n",
    "if kstest_p > 0.05:\n",
    "    print(\"Sample looks Gaussian (fail to reject H0)\")\n",
    "else:\n",
    "    print(\"Sample does not look Gaussian (reject H0)\")\n",
    "\n",
    "# D'Agostino and Pearson Test\n",
    "dagostino_stat, dagostino_p = stats.normaltest(data)\n",
    "print(\"\\nD'Agostino and Pearson Test:\")\n",
    "print(\"Test Statistic:\", dagostino_stat)\n",
    "print(\"p-value:\", dagostino_p)\n",
    "if dagostino_p > 0.05:\n",
    "    print(\"Sample looks Gaussian (fail to reject H0)\")\n",
    "else:\n",
    "    print(\"Sample does not look Gaussian (reject H0)\")\n"
   ]
  },
  {
   "cell_type": "code",
   "execution_count": 51,
   "id": "4d6abac4",
   "metadata": {},
   "outputs": [
    {
     "name": "stdout",
     "output_type": "stream",
     "text": [
      "Shapiro-Wilk Test:\n",
      "Test Statistic: 0.9193248748779297\n",
      "p-value: 0.3513590097427368\n",
      "Sample looks Gaussian (fail to reject H0)\n",
      "\n",
      "Kolmogorov-Smirnov Test:\n",
      "Test Statistic: 0.9997312847184462\n",
      "p-value: 3.926030287855795e-36\n",
      "Sample does not look Gaussian (reject H0)\n",
      "\n",
      "D'Agostino and Pearson Test:\n",
      "Test Statistic: 1.1582589536589494\n",
      "p-value: 0.5603859832766658\n",
      "Sample looks Gaussian (fail to reject H0)\n"
     ]
    }
   ],
   "source": [
    "# Generate some sample data\n",
    "data = healthies_3\n",
    "\n",
    "# Shapiro-Wilk Test\n",
    "shapiro_stat, shapiro_p = stats.shapiro(data)\n",
    "print(\"Shapiro-Wilk Test:\")\n",
    "print(\"Test Statistic:\", shapiro_stat)\n",
    "print(\"p-value:\", shapiro_p)\n",
    "if shapiro_p > 0.05:\n",
    "    print(\"Sample looks Gaussian (fail to reject H0)\")\n",
    "else:\n",
    "    print(\"Sample does not look Gaussian (reject H0)\")\n",
    "\n",
    "# Kolmogorov-Smirnov Test\n",
    "kstest_stat, kstest_p = stats.kstest(data, 'norm')\n",
    "print(\"\\nKolmogorov-Smirnov Test:\")\n",
    "print(\"Test Statistic:\", kstest_stat)\n",
    "print(\"p-value:\", kstest_p)\n",
    "if kstest_p > 0.05:\n",
    "    print(\"Sample looks Gaussian (fail to reject H0)\")\n",
    "else:\n",
    "    print(\"Sample does not look Gaussian (reject H0)\")\n",
    "\n",
    "# D'Agostino and Pearson Test\n",
    "dagostino_stat, dagostino_p = stats.normaltest(data)\n",
    "print(\"\\nD'Agostino and Pearson Test:\")\n",
    "print(\"Test Statistic:\", dagostino_stat)\n",
    "print(\"p-value:\", dagostino_p)\n",
    "if dagostino_p > 0.05:\n",
    "    print(\"Sample looks Gaussian (fail to reject H0)\")\n",
    "else:\n",
    "    print(\"Sample does not look Gaussian (reject H0)\")\n"
   ]
  },
  {
   "cell_type": "markdown",
   "id": "a1742c21",
   "metadata": {},
   "source": [
    "THEY ARE NOT GAUSSIAN BUT WE HAVE MORE THAN 10 SAMPLES IN EACH CASE SO WE CAN AVOID THIS ASSUMTION"
   ]
  },
  {
   "cell_type": "markdown",
   "id": "ad04db11",
   "metadata": {},
   "source": [
    "### NON PARAMETRIC TEST"
   ]
  },
  {
   "cell_type": "code",
   "execution_count": 52,
   "id": "cb826a50",
   "metadata": {},
   "outputs": [],
   "source": [
    "patients = patients_3\n",
    "healthy = healthies_3"
   ]
  },
  {
   "cell_type": "code",
   "execution_count": 53,
   "id": "c52c3395",
   "metadata": {},
   "outputs": [
    {
     "name": "stdout",
     "output_type": "stream",
     "text": [
      "Mann-Whitney U statistic: 76.0\n",
      "p-value: 0.053902557169387175\n",
      "Fail to reject the null hypothesis: the samples may come from the same distribution.\n"
     ]
    }
   ],
   "source": [
    "\n",
    "\n",
    "# Perform the Mann-Whitney U test\n",
    "statistic, p_value = mannwhitneyu(patients, healthy)\n",
    "\n",
    "# Print the test statistic and p-value\n",
    "print(\"Mann-Whitney U statistic:\", statistic)\n",
    "print(\"p-value:\", p_value)\n",
    "\n",
    "# Interpret the results\n",
    "alpha = 0.05\n",
    "if p_value < alpha:\n",
    "    print(\"Reject the null hypothesis: the samples do not come from the same distribution.\")\n",
    "else:\n",
    "    print(\"Fail to reject the null hypothesis: the samples may come from the same distribution.\")\n"
   ]
  },
  {
   "cell_type": "markdown",
   "id": "3f83d7a9",
   "metadata": {},
   "source": [
    "## VARIANCE CHECK"
   ]
  },
  {
   "cell_type": "code",
   "execution_count": 54,
   "id": "f0560096",
   "metadata": {},
   "outputs": [
    {
     "name": "stdout",
     "output_type": "stream",
     "text": [
      "Levene's Test:\n",
      "Test Statistic: 0.017785176675545994\n",
      "p-value: 0.8953874893115159\n",
      "The variances are equal (fail to reject H0)\n"
     ]
    }
   ],
   "source": [
    "# Perform Levene's test\n",
    "levene_stat, levene_p = stats.levene(patients, healthy)\n",
    "\n",
    "print(\"Levene's Test:\")\n",
    "print(\"Test Statistic:\", levene_stat)\n",
    "print(\"p-value:\", levene_p)\n",
    "\n",
    "if levene_p > 0.05:\n",
    "    print(\"The variances are equal (fail to reject H0)\")\n",
    "else:\n",
    "    print(\"The variances are not equal (reject H0)\")\n"
   ]
  },
  {
   "cell_type": "markdown",
   "id": "2a1a4304",
   "metadata": {},
   "source": [
    "SINCE VARIANCES ARE THE SAME, WE CAN USE REGULAR T-TEST"
   ]
  },
  {
   "cell_type": "markdown",
   "id": "3fc0cb9b",
   "metadata": {},
   "source": [
    "## T-TEST"
   ]
  },
  {
   "cell_type": "code",
   "execution_count": 55,
   "id": "b2ce8be7",
   "metadata": {},
   "outputs": [
    {
     "name": "stdout",
     "output_type": "stream",
     "text": [
      "Two-Sample T-Test:\n",
      "Test Statistic: 1.4223954387061635\n",
      "p-value: 0.17201017596470602\n",
      "There is no significant difference between the means (fail to reject H0)\n"
     ]
    }
   ],
   "source": [
    "\n",
    "\n",
    "# Perform two-sample t-test assuming equal variances\n",
    "t_stat, t_p = stats.ttest_ind(patients, healthy, equal_var=True)\n",
    "\n",
    "print(\"Two-Sample T-Test:\")\n",
    "print(\"Test Statistic:\", t_stat)\n",
    "print(\"p-value:\", t_p)\n",
    "\n",
    "if t_p > 0.05:\n",
    "    print(\"There is no significant difference between the means (fail to reject H0)\")\n",
    "else:\n",
    "    print(\"There is a significant difference between the means (reject H0)\")\n"
   ]
  },
  {
   "cell_type": "code",
   "execution_count": null,
   "id": "a0bd219e",
   "metadata": {},
   "outputs": [],
   "source": []
  },
  {
   "cell_type": "code",
   "execution_count": null,
   "id": "3c8a7b13",
   "metadata": {},
   "outputs": [],
   "source": []
  }
 ],
 "metadata": {
  "kernelspec": {
   "display_name": "Python 3 (ipykernel)",
   "language": "python",
   "name": "python3"
  },
  "language_info": {
   "codemirror_mode": {
    "name": "ipython",
    "version": 3
   },
   "file_extension": ".py",
   "mimetype": "text/x-python",
   "name": "python",
   "nbconvert_exporter": "python",
   "pygments_lexer": "ipython3",
   "version": "3.9.13"
  }
 },
 "nbformat": 4,
 "nbformat_minor": 5
}
